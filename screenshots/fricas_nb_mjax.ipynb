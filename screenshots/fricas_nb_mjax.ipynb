{
 "metadata": {
  "kernelspec": {
   "codemirror_mode": "shell",
   "display_name": "FriCAS",
   "language": "fricas",
   "name": "fricas"
  },
  "name": "",
  "signature": "sha256:fe0f2d58253b829a0ac8ee17eb12410a46fc48c583a669b4446b3b42e73a79ea"
 },
 "nbformat": 3,
 "nbformat_minor": 0,
 "worksheets": [
  {
   "cells": [
    {
     "cell_type": "code",
     "collapsed": false,
     "input": [
      ")version"
     ],
     "language": "python",
     "metadata": {},
     "outputs": [
      {
       "metadata": {},
       "output_type": "display_data",
       "text": [
        " \r\n",
        "Value = \"FriCAS 1.2.3 compiled at Wed, May 07, 2014  3:39:04 PM\"\r\n"
       ]
      }
     ],
     "prompt_number": 1
    },
    {
     "cell_type": "code",
     "collapsed": false,
     "input": [
      "x^n"
     ],
     "language": "python",
     "metadata": {},
     "outputs": [
      {
       "metadata": {},
       "output_type": "display_data",
       "text": [
        " \r\n",
        "         n\r\n",
        "   (3)  x\r\n",
        "                                                    Type: Expression(Integer)\r\n"
       ]
      }
     ],
     "prompt_number": 2
    },
    {
     "cell_type": "code",
     "collapsed": false,
     "input": [
      ")set output tex on"
     ],
     "language": "python",
     "metadata": {},
     "outputs": [
      {
       "metadata": {},
       "output_type": "display_data",
       "text": [
        " "
       ]
      }
     ],
     "prompt_number": 3
    },
    {
     "cell_type": "code",
     "collapsed": false,
     "input": [
      "x^n"
     ],
     "language": "python",
     "metadata": {},
     "outputs": [
      {
       "latex": [
        "$\\def\\sp{^}\\def\\sb{_}\\def\\leqno(#1){}$$$\r\n",
        "{x} \\sp {n} \r\n",
        "\\leqno(4)\r\n",
        "$$"
       ],
       "metadata": {},
       "output_type": "display_data",
       "text": [
        " \r\n",
        "         n\r\n",
        "   (4)  x\r\n",
        "$$\r\n",
        "{x} \\sp {n} \r\n",
        "\\leqno(4)\r\n",
        "$$\r\n",
        "\r\n",
        "                                                    Type: Expression(Integer)\r\n"
       ]
      }
     ],
     "prompt_number": 4
    },
    {
     "cell_type": "code",
     "collapsed": false,
     "input": [
      "integrate(1/(x * (a+b*x)^(1/3)),x)"
     ],
     "language": "python",
     "metadata": {},
     "outputs": [
      {
       "latex": [
        "$\\def\\sp{^}\\def\\sb{_}\\def\\leqno(#1){}$$$\r\n",
        "{-{\\log \r\n",
        "\\left(\r\n",
        "{{{{\\root {3} \\of {a}} \\  {{{\\root {3} \\of {{{b \\  x}+a}}}} \\sp \r\n",
        "{2}}}+{{{{\\root {3} \\of {a}}} \\sp {2}} \\  {\\root {3} \\of {{{b \\  x}+a}}}}+a}} \r\n",
        "\\right)}+{2\r\n",
        "\\  {\\log \r\n",
        "\\left(\r\n",
        "{{{{{{\\root {3} \\of {a}}} \\sp {2}} \\  {\\root {3} \\of {{{b \\  x}+a}}}} -a}} \r\n",
        "\\right)}}+{2\r\n",
        "\\  {\\sqrt {3}} \\  {\\arctan \r\n",
        "\\left(\r\n",
        "{{{{2 \\  {\\sqrt {3}} \\  {{{\\root {3} \\of {a}}} \\sp {2}} \\  {\\root {3} \\of \r\n",
        "{{{b \\  x}+a}}}}+{a \\  {\\sqrt {3}}}} \\over {3 \\  a}}} \r\n",
        "\\right)}}}\r\n",
        "\\over {2 \\  {\\root {3} \\of {a}}} \r\n",
        "\\leqno(7)\r\n",
        "$$"
       ],
       "metadata": {},
       "output_type": "display_data",
       "text": [
        " \r\n",
        "   (7)\r\n",
        "             3+-+3+-------+2   3+-+2 3+-------+            3+-+2 3+-------+\r\n",
        "       - log(\\|a \\|b x + a   + \\|a   \\|b x + a + a) + 2log(\\|a   \\|b x + a - a)\r\n",
        "     + \r\n",
        "                   +-+3+-+2 3+-------+    +-+\r\n",
        "         +-+     2\\|3 \\|a   \\|b x + a + a\\|3\r\n",
        "       2\\|3 atan(----------------------------)\r\n",
        "                              3a\r\n",
        "  /\r\n",
        "      3+-+\r\n",
        "     2\\|a\r\n",
        "$$\r\n",
        "{-{\\log \r\n",
        "\\left(\r\n",
        "{{{{\\root {3} \\of {a}} \\  {{{\\root {3} \\of {{{b \\  x}+a}}}} \\sp \r\n",
        "{2}}}+{{{{\\root {3} \\of {a}}} \\sp {2}} \\  {\\root {3} \\of {{{b \\  x}+a}}}}+a}} \r\n",
        "\\right)}+{2\r\n",
        "\\  {\\log \r\n",
        "\\left(\r\n",
        "{{{{{{\\root {3} \\of {a}}} \\sp {2}} \\  {\\root {3} \\of {{{b \\  x}+a}}}} -a}} \r\n",
        "\\right)}}+{2\r\n",
        "\\  {\\sqrt {3}} \\  {\\arctan \r\n",
        "\\left(\r\n",
        "{{{{2 \\  {\\sqrt {3}} \\  {{{\\root {3} \\of {a}}} \\sp {2}} \\  {\\root {3} \\of \r\n",
        "{{{b \\  x}+a}}}}+{a \\  {\\sqrt {3}}}} \\over {3 \\  a}}} \r\n",
        "\\right)}}}\r\n",
        "\\over {2 \\  {\\root {3} \\of {a}}} \r\n",
        "\\leqno(7)\r\n",
        "$$\r\n",
        "\r\n",
        "                                         Type: Union(Expression(Integer),...)\r\n"
       ]
      }
     ],
     "prompt_number": 8
    },
    {
     "cell_type": "code",
     "collapsed": false,
     "input": [
      "series(log(cot(x)),x = %pi/2)"
     ],
     "language": "python",
     "metadata": {},
     "outputs": [
      {
       "latex": [
        "$\\def\\sp{^}\\def\\sb{_}\\def\\leqno(#1){}$$$\r\n",
        "{\\log \r\n",
        "\\left(\r\n",
        "{{{-{2 \\  x}+\\pi} \\over 2}} \r\n",
        "\\right)}+{{1\r\n",
        "\\over 3} \\  {{{\\left( x -{\\pi \\over 2} \r\n",
        "\\right)}}\r\n",
        "\\sp {2}}}+{{7 \\over {90}} \\  {{{\\left( x -{\\pi \\over 2} \r\n",
        "\\right)}}\r\n",
        "\\sp {4}}}+{{{62} \\over {2835}} \\  {{{\\left( x -{\\pi \\over 2} \r\n",
        "\\right)}}\r\n",
        "\\sp {6}}}+{{{127} \\over {18900}} \\  {{{\\left( x -{\\pi \\over 2} \r\n",
        "\\right)}}\r\n",
        "\\sp {8}}}+{{{146} \\over {66825}} \\  {{{\\left( x -{\\pi \\over 2} \r\n",
        "\\right)}}\r\n",
        "\\sp {{10}}}}+{O \r\n",
        "\\left(\r\n",
        "{{{{\\left( x -{\\pi \\over 2} \r\n",
        "\\right)}}\r\n",
        "\\sp {{11}}}} \r\n",
        "\\right)}\r\n",
        "\\leqno(8)\r\n",
        "$$"
       ],
       "metadata": {},
       "output_type": "display_data",
       "text": [
        " \r\n",
        "   (8)\r\n",
        "         - 2x + %pi    1      %pi 2    7      %pi 4    62       %pi 6\r\n",
        "     log(----------) + - (x - ---)  + -- (x - ---)  + ---- (x - ---)\r\n",
        "              2        3       2      90       2      2835       2\r\n",
        "   + \r\n",
        "      127       %pi 8    146       %pi 10          %pi 11\r\n",
        "     ----- (x - ---)  + ----- (x - ---)   + O((x - ---)  )\r\n",
        "     18900       2      66825       2               2\r\n",
        "$$\r\n",
        "{\\log \r\n",
        "\\left(\r\n",
        "{{{-{2 \\  x}+\\pi} \\over 2}} \r\n",
        "\\right)}+{{1\r\n",
        "\\over 3} \\  {{{\\left( x -{\\pi \\over 2} \r\n",
        "\\right)}}\r\n",
        "\\sp {2}}}+{{7 \\over {90}} \\  {{{\\left( x -{\\pi \\over 2} \r\n",
        "\\right)}}\r\n",
        "\\sp {4}}}+{{{62} \\over {2835}} \\  {{{\\left( x -{\\pi \\over 2} \r\n",
        "\\right)}}\r\n",
        "\\sp {6}}}+{{{127} \\over {18900}} \\  {{{\\left( x -{\\pi \\over 2} \r\n",
        "\\right)}}\r\n",
        "\\sp {8}}}+{{{146} \\over {66825}} \\  {{{\\left( x -{\\pi \\over 2} \r\n",
        "\\right)}}\r\n",
        "\\sp {{10}}}}+{O \r\n",
        "\\left(\r\n",
        "{{{{\\left( x -{\\pi \\over 2} \r\n",
        "\\right)}}\r\n",
        "\\sp {{11}}}} \r\n",
        "\\right)}\r\n",
        "\\leqno(8)\r\n",
        "$$\r\n",
        "\r\n",
        "              Type: GeneralUnivariatePowerSeries(Expression(Integer),x,%pi/2)\r\n"
       ]
      }
     ],
     "prompt_number": 9
    },
    {
     "cell_type": "code",
     "collapsed": false,
     "input": [
      "M:=matrix [ [x + %i,0], [1,-2] ]"
     ],
     "language": "python",
     "metadata": {},
     "outputs": [
      {
       "latex": [
        "$\\def\\sp{^}\\def\\sb{_}\\def\\leqno(#1){}$$$\r\n",
        "\\left[\r\n",
        "\\begin{array}{cc}\r\n",
        "{x+i} & 0 \\\\ \r\n",
        "1 & -2 \r\n",
        "\\end{array}\r\n",
        "\\right]\r\n",
        "\\leqno(9)\r\n",
        "$$"
       ],
       "metadata": {},
       "output_type": "display_data",
       "text": [
        " \r\n",
        "        +x + %i   0 +\r\n",
        "   (9)  |           |\r\n",
        "        +  1     - 2+\r\n",
        "$$\r\n",
        "\\left[\r\n",
        "\\begin{array}{cc}\r\n",
        "{x+i} & 0 \\\\ \r\n",
        "1 & -2 \r\n",
        "\\end{array}\r\n",
        "\\right]\r\n",
        "\\leqno(9)\r\n",
        "$$\r\n",
        "\r\n",
        "                                   Type: Matrix(Polynomial(Complex(Integer)))\r\n"
       ]
      }
     ],
     "prompt_number": 10
    },
    {
     "cell_type": "code",
     "collapsed": false,
     "input": [
      "inverse(M)"
     ],
     "language": "python",
     "metadata": {},
     "outputs": [
      {
       "latex": [
        "$\\def\\sp{^}\\def\\sb{_}\\def\\leqno(#1){}$$$\r\n",
        "\\left[\r\n",
        "\\begin{array}{cc}\r\n",
        "{1 \\over {x+i}} & 0 \\\\ \r\n",
        "{1 \\over {{2 \\  x}+{2 \\  i}}} & -{1 \\over 2} \r\n",
        "\\end{array}\r\n",
        "\\right]\r\n",
        "\\leqno(10)\r\n",
        "$$"
       ],
       "metadata": {},
       "output_type": "display_data",
       "text": [
        " \r\n",
        "         +    1        +\r\n",
        "         | ------    0 |\r\n",
        "         | x + %i      |\r\n",
        "   (10)  |             |\r\n",
        "         |    1       1|\r\n",
        "         |--------  - -|\r\n",
        "         +2x + 2%i    2+\r\n",
        "$$\r\n",
        "\\left[\r\n",
        "\\begin{array}{cc}\r\n",
        "{1 \\over {x+i}} & 0 \\\\ \r\n",
        "{1 \\over {{2 \\  x}+{2 \\  i}}} & -{1 \\over 2} \r\n",
        "\\end{array}\r\n",
        "\\right]\r\n",
        "\\leqno(10)\r\n",
        "$$\r\n",
        "\r\n",
        "              Type: Union(Matrix(Fraction(Polynomial(Complex(Integer)))),...)\r\n"
       ]
      }
     ],
     "prompt_number": 11
    },
    {
     "cell_type": "code",
     "collapsed": false,
     "input": [
      "S := [3*x^3 + y + 1 = 0,y^2 = 4]"
     ],
     "language": "python",
     "metadata": {},
     "outputs": [
      {
       "latex": [
        "$\\def\\sp{^}\\def\\sb{_}\\def\\leqno(#1){}$$$\r\n",
        "\\left[\r\n",
        "{{y+{3 \\  {{x} \\sp {3}}}+1}=0}, \\: {{{y} \\sp {2}}=4} \r\n",
        "\\right]\r\n",
        "\\leqno(11)\r\n",
        "$$"
       ],
       "metadata": {},
       "output_type": "display_data",
       "text": [
        " \r\n",
        "                3         2\r\n",
        "   (11)  [y + 3x  + 1= 0,y = 4]\r\n",
        "$$\r\n",
        "\\left[\r\n",
        "{{y+{3 \\  {{x} \\sp {3}}}+1}=0}, \\: {{{y} \\sp {2}}=4} \r\n",
        "\\right]\r\n",
        "\\leqno(11)\r\n",
        "$$\r\n",
        "\r\n",
        "                                    Type: List(Equation(Polynomial(Integer)))\r\n"
       ]
      }
     ],
     "prompt_number": 13
    },
    {
     "cell_type": "code",
     "collapsed": false,
     "input": [
      "radicalSolve(S)"
     ],
     "language": "python",
     "metadata": {},
     "outputs": [
      {
       "latex": [
        "$\\def\\sp{^}\\def\\sb{_}\\def\\leqno(#1){}$$$\r\n",
        "\\left[\r\n",
        "{\\left[ {y=2}, \\: {x=-1} \r\n",
        "\\right]},\r\n",
        "\\: {\\left[ {y=2}, \\: {x={{-{\\sqrt {-3}}+1} \\over 2}} \r\n",
        "\\right]},\r\n",
        "\\: {\\left[ {y=2}, \\: {x={{{\\sqrt {-3}}+1} \\over 2}} \r\n",
        "\\right]},\r\n",
        "\\: {\\left[ {y=-2}, \\: {x={1 \\over {\\root {3} \\of {3}}}} \r\n",
        "\\right]},\r\n",
        "\\: {\\left[ {y=-2}, \\: {x={{{{\\sqrt {-1}} \\  {\\sqrt {3}}} -1} \\over {2 \\  \r\n",
        "{\\root {3} \\of {3}}}}} \r\n",
        "\\right]},\r\n",
        "\\: {\\left[ {y=-2}, \\: {x={{-{{\\sqrt {-1}} \\  {\\sqrt {3}}} -1} \\over {2 \\  \r\n",
        "{\\root {3} \\of {3}}}}} \r\n",
        "\\right]}\r\n",
        "\\right]\r\n",
        "\\leqno(12)\r\n",
        "$$"
       ],
       "metadata": {},
       "output_type": "display_data",
       "text": [
        " \r\n",
        "   (12)\r\n",
        "                               +---+                 +---+\r\n",
        "                            - \\|- 3  + 1            \\|- 3  + 1\r\n",
        "   [[y= 2,x= - 1], [y= 2,x= ------------], [y= 2,x= ----------],\r\n",
        "                                  2                      2\r\n",
        "                                  +---+ +-+                     +---+ +-+\r\n",
        "                 1               \\|- 1 \\|3  - 1              - \\|- 1 \\|3  - 1\r\n",
        "    [y= - 2,x= ----], [y= - 2,x= --------------], [y= - 2,x= ----------------]]\r\n",
        "               3+-+                    3+-+                         3+-+\r\n",
        "               \\|3                    2\\|3                         2\\|3\r\n",
        "$$\r\n",
        "\\left[\r\n",
        "{\\left[ {y=2}, \\: {x=-1} \r\n",
        "\\right]},\r\n",
        "\\: {\\left[ {y=2}, \\: {x={{-{\\sqrt {-3}}+1} \\over 2}} \r\n",
        "\\right]},\r\n",
        "\\: {\\left[ {y=2}, \\: {x={{{\\sqrt {-3}}+1} \\over 2}} \r\n",
        "\\right]},\r\n",
        "\\: {\\left[ {y=-2}, \\: {x={1 \\over {\\root {3} \\of {3}}}} \r\n",
        "\\right]},\r\n",
        "\\: {\\left[ {y=-2}, \\: {x={{{{\\sqrt {-1}} \\  {\\sqrt {3}}} -1} \\over {2 \\  \r\n",
        "{\\root {3} \\of {3}}}}} \r\n",
        "\\right]},\r\n",
        "\\: {\\left[ {y=-2}, \\: {x={{-{{\\sqrt {-1}} \\  {\\sqrt {3}}} -1} \\over {2 \\  \r\n",
        "{\\root {3} \\of {3}}}}} \r\n",
        "\\right]}\r\n",
        "\\right]\r\n",
        "\\leqno(12)\r\n",
        "$$\r\n",
        "\r\n",
        "                              Type: List(List(Equation(Expression(Integer))))\r\n"
       ]
      }
     ],
     "prompt_number": 14
    },
    {
     "cell_type": "code",
     "collapsed": false,
     "input": [
      "continuedFraction(6543/210)"
     ],
     "language": "python",
     "metadata": {},
     "outputs": [
      {
       "latex": [
        "$\\def\\sp{^}\\def\\sb{_}\\def\\leqno(#1){}$$$\r\n",
        "{31}+ \\zag{1}{6}+ \\zag{1}{2}+ \\zag{1}{1}+ \\zag{1}{3} \r\n",
        "\\leqno(13)\r\n",
        "$$"
       ],
       "metadata": {},
       "output_type": "display_data",
       "text": [
        " \r\n",
        "                1 |     1 |     1 |     1 |\r\n",
        "   (13)  31 + +---+ + +---+ + +---+ + +---+\r\n",
        "              | 6     | 2     | 1     | 3\r\n",
        "$$\r\n",
        "{31}+ \\zag{1}{6}+ \\zag{1}{2}+ \\zag{1}{1}+ \\zag{1}{3} \r\n",
        "\\leqno(13)\r\n",
        "$$\r\n",
        "\r\n",
        "                                             Type: ContinuedFraction(Integer)\r\n"
       ]
      }
     ],
     "prompt_number": 15
    },
    {
     "cell_type": "code",
     "collapsed": false,
     "input": [
      "(3*a^4 + 27*a - 36)::Polynomial PrimeField 7"
     ],
     "language": "python",
     "metadata": {},
     "outputs": [
      {
       "latex": [
        "$\\def\\sp{^}\\def\\sb{_}\\def\\leqno(#1){}$$$\r\n",
        "{3 \\  {{a} \\sp {4}}}+{6 \\  a}+6 \r\n",
        "\\leqno(14)\r\n",
        "$$"
       ],
       "metadata": {},
       "output_type": "display_data",
       "text": [
        " \r\n",
        "           4\r\n",
        "   (14)  3a  + 6a + 6\r\n",
        "$$\r\n",
        "{3 \\  {{a} \\sp {4}}}+{6 \\  a}+6 \r\n",
        "\\leqno(14)\r\n",
        "$$\r\n",
        "\r\n",
        "                                              Type: Polynomial(PrimeField(7))\r\n"
       ]
      }
     ],
     "prompt_number": 17
    },
    {
     "cell_type": "code",
     "collapsed": false,
     "input": [
      "[i^2 for i in 1..10]"
     ],
     "language": "python",
     "metadata": {},
     "outputs": [
      {
       "latex": [
        "$\\def\\sp{^}\\def\\sb{_}\\def\\leqno(#1){}$$$\r\n",
        "\\left[\r\n",
        "1, \\: 4, \\: 9, \\: {16}, \\: {25}, \\: {36}, \\: {49}, \\: {64}, \\: {81}, \\: {100} \r\n",
        "\\right]\r\n",
        "\\leqno(15)\r\n",
        "$$"
       ],
       "metadata": {},
       "output_type": "display_data",
       "text": [
        " \r\n",
        "   (15)  [1,4,9,16,25,36,49,64,81,100]\r\n",
        "$$\r\n",
        "\\left[\r\n",
        "1, \\: 4, \\: 9, \\: {16}, \\: {25}, \\: {36}, \\: {49}, \\: {64}, \\: {81}, \\: {100} \r\n",
        "\\right]\r\n",
        "\\leqno(15)\r\n",
        "$$\r\n",
        "\r\n",
        "                                                  Type: List(PositiveInteger)\r\n"
       ]
      }
     ],
     "prompt_number": 19
    },
    {
     "cell_type": "code",
     "collapsed": false,
     "input": [
      "[i for i in 1..10 | even?(i)]"
     ],
     "language": "python",
     "metadata": {},
     "outputs": [
      {
       "latex": [
        "$\\def\\sp{^}\\def\\sb{_}\\def\\leqno(#1){}$$$\r\n",
        "\\left[\r\n",
        "2, \\: 4, \\: 6, \\: 8, \\: {10} \r\n",
        "\\right]\r\n",
        "\\leqno(16)\r\n",
        "$$"
       ],
       "metadata": {},
       "output_type": "display_data",
       "text": [
        " \r\n",
        "   (16)  [2,4,6,8,10]\r\n",
        "$$\r\n",
        "\\left[\r\n",
        "2, \\: 4, \\: 6, \\: 8, \\: {10} \r\n",
        "\\right]\r\n",
        "\\leqno(16)\r\n",
        "$$\r\n",
        "\r\n",
        "                                                  Type: List(PositiveInteger)\r\n"
       ]
      }
     ],
     "prompt_number": 20
    },
    {
     "cell_type": "code",
     "collapsed": false,
     "input": [
      "[1..3,5,6,8..10]"
     ],
     "language": "python",
     "metadata": {},
     "outputs": [
      {
       "latex": [
        "$\\def\\sp{^}\\def\\sb{_}\\def\\leqno(#1){}$$$\r\n",
        "\\left[\r\n",
        "{1..3}, \\: {5..5}, \\: {6..6}, \\: {8..{10}} \r\n",
        "\\right]\r\n",
        "\\leqno(17)\r\n",
        "$$"
       ],
       "metadata": {},
       "output_type": "display_data",
       "text": [
        " \r\n",
        "   (17)  [1..3,5..5,6..6,8..10]\r\n",
        "$$\r\n",
        "\\left[\r\n",
        "{1..3}, \\: {5..5}, \\: {6..6}, \\: {8..{10}} \r\n",
        "\\right]\r\n",
        "\\leqno(17)\r\n",
        "$$\r\n",
        "\r\n",
        "                                         Type: List(Segment(PositiveInteger))\r\n"
       ]
      }
     ],
     "prompt_number": 21
    },
    {
     "cell_type": "code",
     "collapsed": false,
     "input": [
      "factor 643238070748569023720594412551704344145570763243"
     ],
     "language": "python",
     "metadata": {},
     "outputs": [
      {
       "latex": [
        "$\\def\\sp{^}\\def\\sb{_}\\def\\leqno(#1){}$$$\r\n",
        "{{{11}} \\sp {{13}}} \\  {{{13}} \\sp {{11}}} \\  {{{17}} \\sp {7}} \\  {{{19}} \\sp \r\n",
        "{5}} \\  {{{23}} \\sp {3}} \\  {{{29}} \\sp {2}} \r\n",
        "\\leqno(18)\r\n",
        "$$"
       ],
       "metadata": {},
       "output_type": "display_data",
       "text": [
        " \r\n",
        "           13  11  7  5  3  2\r\n",
        "   (18)  11  13  17 19 23 29\r\n",
        "$$\r\n",
        "{{{11}} \\sp {{13}}} \\  {{{13}} \\sp {{11}}} \\  {{{17}} \\sp {7}} \\  {{{19}} \\sp \r\n",
        "{5}} \\  {{{23}} \\sp {3}} \\  {{{29}} \\sp {2}} \r\n",
        "\\leqno(18)\r\n",
        "$$\r\n",
        "\r\n",
        "                                                      Type: Factored(Integer)\r\n"
       ]
      }
     ],
     "prompt_number": 22
    },
    {
     "cell_type": "code",
     "collapsed": false,
     "input": [
      "roman(1992)"
     ],
     "language": "python",
     "metadata": {},
     "outputs": [
      {
       "latex": [
        "$\\def\\sp{^}\\def\\sb{_}\\def\\leqno(#1){}$$$\r\n",
        "MCMXCII \r\n",
        "\\leqno(19)\r\n",
        "$$"
       ],
       "metadata": {},
       "output_type": "display_data",
       "text": [
        " \r\n",
        "   (19)  MCMXCII\r\n",
        "$$\r\n",
        "MCMXCII \r\n",
        "\\leqno(19)\r\n",
        "$$\r\n",
        "\r\n",
        "                                                           Type: RomanNumeral\r\n"
       ]
      }
     ],
     "prompt_number": 23
    },
    {
     "cell_type": "code",
     "collapsed": false,
     "input": [
      "(2/3 + %i)^3"
     ],
     "language": "python",
     "metadata": {},
     "outputs": [
      {
       "latex": [
        "$\\def\\sp{^}\\def\\sb{_}\\def\\leqno(#1){}$$$\r\n",
        "-{{46} \\over {27}}+{{1 \\over 3} \\  i} \r\n",
        "\\leqno(20)\r\n",
        "$$"
       ],
       "metadata": {},
       "output_type": "display_data",
       "text": [
        " \r\n",
        "           46   1\r\n",
        "   (20)  - -- + - %i\r\n",
        "           27   3\r\n",
        "$$\r\n",
        "-{{46} \\over {27}}+{{1 \\over 3} \\  i} \r\n",
        "\\leqno(20)\r\n",
        "$$\r\n",
        "\r\n",
        "                                             Type: Complex(Fraction(Integer))\r\n"
       ]
      }
     ],
     "prompt_number": 24
    },
    {
     "cell_type": "code",
     "collapsed": false,
     "input": [
      "q:=quatern(1,2,3,4)*quatern(5,6,7,8) - quatern(5,6,7,8)*quatern(1,2,3,4)"
     ],
     "language": "python",
     "metadata": {},
     "outputs": [
      {
       "latex": [
        "$\\def\\sp{^}\\def\\sb{_}\\def\\leqno(#1){}$$$\r\n",
        "-{8 \\  i}+{{16} \\  j} -{8 \\  k} \r\n",
        "\\leqno(21)\r\n",
        "$$"
       ],
       "metadata": {},
       "output_type": "display_data",
       "text": [
        " \r\n",
        "   (21)  - 8i + 16j - 8k\r\n",
        "$$\r\n",
        "-{8 \\  i}+{{16} \\  j} -{8 \\  k} \r\n",
        "\\leqno(21)\r\n",
        "$$\r\n",
        "\r\n",
        "                                                    Type: Quaternion(Integer)\r\n"
       ]
      }
     ],
     "prompt_number": 25
    },
    {
     "cell_type": "code",
     "collapsed": false,
     "input": [
      "matrix([ [1/(i + j - x) for i in 1..4] for j in 1..4])"
     ],
     "language": "python",
     "metadata": {},
     "outputs": [
      {
       "latex": [
        "$\\def\\sp{^}\\def\\sb{_}\\def\\leqno(#1){}$$$\r\n",
        "\\left[\r\n",
        "\\begin{array}{cccc}\r\n",
        "-{1 \\over {x -2}} & -{1 \\over {x -3}} & -{1 \\over {x -4}} & -{1 \\over {x -5}} \\\\ \r\n",
        "-{1 \\over {x -3}} & -{1 \\over {x -4}} & -{1 \\over {x -5}} & -{1 \\over {x -6}} \\\\ \r\n",
        "-{1 \\over {x -4}} & -{1 \\over {x -5}} & -{1 \\over {x -6}} & -{1 \\over {x -7}} \\\\ \r\n",
        "-{1 \\over {x -5}} & -{1 \\over {x -6}} & -{1 \\over {x -7}} & -{1 \\over {x -8}} \r\n",
        "\\end{array}\r\n",
        "\\right]\r\n",
        "\\leqno(22)\r\n",
        "$$"
       ],
       "metadata": {},
       "output_type": "display_data",
       "text": [
        " \r\n",
        "         +    1        1        1        1  +\r\n",
        "         |- -----  - -----  - -----  - -----|\r\n",
        "         |  x - 2    x - 3    x - 4    x - 5|\r\n",
        "         |                                  |\r\n",
        "         |    1        1        1        1  |\r\n",
        "         |- -----  - -----  - -----  - -----|\r\n",
        "         |  x - 3    x - 4    x - 5    x - 6|\r\n",
        "   (22)  |                                  |\r\n",
        "         |    1        1        1        1  |\r\n",
        "         |- -----  - -----  - -----  - -----|\r\n",
        "         |  x - 4    x - 5    x - 6    x - 7|\r\n",
        "         |                                  |\r\n",
        "         |    1        1        1        1  |\r\n",
        "         |- -----  - -----  - -----  - -----|\r\n",
        "         +  x - 5    x - 6    x - 7    x - 8+\r\n",
        "$$\r\n",
        "\\left[\r\n",
        "\\begin{array}{cccc}\r\n",
        "-{1 \\over {x -2}} & -{1 \\over {x -3}} & -{1 \\over {x -4}} & -{1 \\over {x -5}} \\\\ \r\n",
        "-{1 \\over {x -3}} & -{1 \\over {x -4}} & -{1 \\over {x -5}} & -{1 \\over {x -6}} \\\\ \r\n",
        "-{1 \\over {x -4}} & -{1 \\over {x -5}} & -{1 \\over {x -6}} & -{1 \\over {x -7}} \\\\ \r\n",
        "-{1 \\over {x -5}} & -{1 \\over {x -6}} & -{1 \\over {x -7}} & -{1 \\over {x -8}} \r\n",
        "\\end{array}\r\n",
        "\\right]\r\n",
        "\\leqno(22)\r\n",
        "$$\r\n",
        "\r\n",
        "                                  Type: Matrix(Fraction(Polynomial(Integer)))\r\n"
       ]
      }
     ],
     "prompt_number": 26
    },
    {
     "cell_type": "code",
     "collapsed": false,
     "input": [
      "p: UP(x,INT) := (3*x-1)^2 * (2*x + 8)"
     ],
     "language": "python",
     "metadata": {},
     "outputs": [
      {
       "latex": [
        "$\\def\\sp{^}\\def\\sb{_}\\def\\leqno(#1){}$$$\r\n",
        "{{18} \\  {{x} \\sp {3}}}+{{60} \\  {{x} \\sp {2}}} -{{46} \\  x}+8 \r\n",
        "\\leqno(23)\r\n",
        "$$"
       ],
       "metadata": {},
       "output_type": "display_data",
       "text": [
        " \r\n",
        "            3      2\r\n",
        "   (23)  18x  + 60x  - 46x + 8\r\n",
        "$$\r\n",
        "{{18} \\  {{x} \\sp {3}}}+{{60} \\  {{x} \\sp {2}}} -{{46} \\  x}+8 \r\n",
        "\\leqno(23)\r\n",
        "$$\r\n",
        "\r\n",
        "                                        Type: UnivariatePolynomial(x,Integer)\r\n"
       ]
      }
     ],
     "prompt_number": 28
    },
    {
     "cell_type": "code",
     "collapsed": false,
     "input": [
      "g := csc(a*x) / csch(b*x)"
     ],
     "language": "python",
     "metadata": {},
     "outputs": [
      {
       "latex": [
        "$\\def\\sp{^}\\def\\sb{_}\\def\\leqno(#1){}$$$\r\n",
        "{\\csc \r\n",
        "\\left(\r\n",
        "{{a \\  x}} \r\n",
        "\\right)}\r\n",
        "\\over {\\csch \r\n",
        "\\left(\r\n",
        "{{b \\  x}} \r\n",
        "\\right)}\r\n",
        "\\leqno(24)\r\n",
        "$$"
       ],
       "metadata": {},
       "output_type": "display_data",
       "text": [
        " \r\n",
        "          csc(a x)\r\n",
        "   (24)  ---------\r\n",
        "         csch(b x)\r\n",
        "$$\r\n",
        "{\\csc \r\n",
        "\\left(\r\n",
        "{{a \\  x}} \r\n",
        "\\right)}\r\n",
        "\\over {\\csch \r\n",
        "\\left(\r\n",
        "{{b \\  x}} \r\n",
        "\\right)}\r\n",
        "\\leqno(24)\r\n",
        "$$\r\n",
        "\r\n",
        "                                                    Type: Expression(Integer)\r\n"
       ]
      }
     ],
     "prompt_number": 29
    },
    {
     "cell_type": "code",
     "collapsed": false,
     "input": [
      "limit(g,x=0)"
     ],
     "language": "python",
     "metadata": {},
     "outputs": [
      {
       "latex": [
        "$\\def\\sp{^}\\def\\sb{_}\\def\\leqno(#1){}$$$\r\n",
        "b \\over a \r\n",
        "\\leqno(25)\r\n",
        "$$"
       ],
       "metadata": {},
       "output_type": "display_data",
       "text": [
        " \r\n",
        "         b\r\n",
        "   (25)  -\r\n",
        "         a\r\n",
        "$$\r\n",
        "b \\over a \r\n",
        "\\leqno(25)\r\n",
        "$$\r\n",
        "\r\n",
        "                      Type: Union(OrderedCompletion(Expression(Integer)),...)\r\n"
       ]
      }
     ],
     "prompt_number": 30
    },
    {
     "cell_type": "code",
     "collapsed": false,
     "input": [
      "h := (1 + k/x)^x"
     ],
     "language": "python",
     "metadata": {},
     "outputs": [
      {
       "latex": [
        "$\\def\\sp{^}\\def\\sb{_}\\def\\leqno(#1){}$$$\r\n",
        "{{{x+k} \\over x}} \\sp {x} \r\n",
        "\\leqno(26)\r\n",
        "$$"
       ],
       "metadata": {},
       "output_type": "display_data",
       "text": [
        " \r\n",
        "          x + k x\r\n",
        "   (26)  (-----)\r\n",
        "            x\r\n",
        "$$\r\n",
        "{{{x+k} \\over x}} \\sp {x} \r\n",
        "\\leqno(26)\r\n",
        "$$\r\n",
        "\r\n",
        "                                                    Type: Expression(Integer)\r\n"
       ]
      }
     ],
     "prompt_number": 32
    },
    {
     "cell_type": "code",
     "collapsed": false,
     "input": [
      "limit(h,x=%plusInfinity)"
     ],
     "language": "python",
     "metadata": {},
     "outputs": [
      {
       "latex": [
        "$\\def\\sp{^}\\def\\sb{_}\\def\\leqno(#1){}$$$\r\n",
        "{e} \\sp {k} \r\n",
        "\\leqno(27)\r\n",
        "$$"
       ],
       "metadata": {},
       "output_type": "display_data",
       "text": [
        " \r\n",
        "           k\r\n",
        "   (27)  %e\r\n",
        "$$\r\n",
        "{e} \\sp {k} \r\n",
        "\\leqno(27)\r\n",
        "$$\r\n",
        "\r\n",
        "                      Type: Union(OrderedCompletion(Expression(Integer)),...)\r\n"
       ]
      }
     ],
     "prompt_number": 33
    },
    {
     "cell_type": "code",
     "collapsed": false,
     "input": [
      "series(sin(a*x),x = 0)"
     ],
     "language": "python",
     "metadata": {},
     "outputs": [
      {
       "latex": [
        "$\\def\\sp{^}\\def\\sb{_}\\def\\leqno(#1){}$$$\r\n",
        "{a \\  x} -{{{{a} \\sp {3}} \\over 6} \\  {{x} \\sp {3}}}+{{{{a} \\sp {5}} \\over \r\n",
        "{120}} \\  {{x} \\sp {5}}} -{{{{a} \\sp {7}} \\over {5040}} \\  {{x} \\sp \r\n",
        "{7}}}+{{{{a} \\sp {9}} \\over {362880}} \\  {{x} \\sp {9}}} -{{{{a} \\sp {{11}}} \r\n",
        "\\over {39916800}} \\  {{x} \\sp {{11}}}}+{O \r\n",
        "\\left(\r\n",
        "{{{x} \\sp {{12}}}} \r\n",
        "\\right)}\r\n",
        "\\leqno(28)\r\n",
        "$$"
       ],
       "metadata": {},
       "output_type": "display_data",
       "text": [
        " \r\n",
        "                3        5        7          9            11\r\n",
        "               a   3    a   5    a    7     a     9      a      11      12\r\n",
        "   (28)  a x - -- x  + --- x  - ---- x  + ------ x  - -------- x   + O(x  )\r\n",
        "                6      120      5040      362880      39916800\r\n",
        "$$\r\n",
        "{a \\  x} -{{{{a} \\sp {3}} \\over 6} \\  {{x} \\sp {3}}}+{{{{a} \\sp {5}} \\over \r\n",
        "{120}} \\  {{x} \\sp {5}}} -{{{{a} \\sp {7}} \\over {5040}} \\  {{x} \\sp \r\n",
        "{7}}}+{{{{a} \\sp {9}} \\over {362880}} \\  {{x} \\sp {9}}} -{{{{a} \\sp {{11}}} \r\n",
        "\\over {39916800}} \\  {{x} \\sp {{11}}}}+{O \r\n",
        "\\left(\r\n",
        "{{{x} \\sp {{12}}}} \r\n",
        "\\right)}\r\n",
        "\\leqno(28)\r\n",
        "$$\r\n",
        "\r\n",
        "                       Type: UnivariatePuiseuxSeries(Expression(Integer),x,0)\r\n"
       ]
      }
     ],
     "prompt_number": 34
    },
    {
     "cell_type": "code",
     "collapsed": false,
     "input": [
      "series(sin(a*x),x = %pi/4)"
     ],
     "language": "python",
     "metadata": {},
     "outputs": [
      {
       "latex": [
        "$\\def\\sp{^}\\def\\sb{_}\\def\\leqno(#1){}$$$\r\n",
        "{\\sin \r\n",
        "\\left(\r\n",
        "{{{a \\  \\pi} \\over 4}} \r\n",
        "\\right)}+{a\r\n",
        "\\  {\\cos \r\n",
        "\\left(\r\n",
        "{{{a \\  \\pi} \\over 4}} \r\n",
        "\\right)}\r\n",
        "\\  {\\left( x -{\\pi \\over 4} \r\n",
        "\\right)}}\r\n",
        "-{{{{{a} \\sp {2}} \\  {\\sin \r\n",
        "\\left(\r\n",
        "{{{a \\  \\pi} \\over 4}} \r\n",
        "\\right)}}\r\n",
        "\\over 2} \\  {{{\\left( x -{\\pi \\over 4} \r\n",
        "\\right)}}\r\n",
        "\\sp {2}}} -{{{{{a} \\sp {3}} \\  {\\cos \r\n",
        "\\left(\r\n",
        "{{{a \\  \\pi} \\over 4}} \r\n",
        "\\right)}}\r\n",
        "\\over 6} \\  {{{\\left( x -{\\pi \\over 4} \r\n",
        "\\right)}}\r\n",
        "\\sp {3}}}+{{{{{a} \\sp {4}} \\  {\\sin \r\n",
        "\\left(\r\n",
        "{{{a \\  \\pi} \\over 4}} \r\n",
        "\\right)}}\r\n",
        "\\over {24}} \\  {{{\\left( x -{\\pi \\over 4} \r\n",
        "\\right)}}\r\n",
        "\\sp {4}}}+{{{{{a} \\sp {5}} \\  {\\cos \r\n",
        "\\left(\r\n",
        "{{{a \\  \\pi} \\over 4}} \r\n",
        "\\right)}}\r\n",
        "\\over {120}} \\  {{{\\left( x -{\\pi \\over 4} \r\n",
        "\\right)}}\r\n",
        "\\sp {5}}} -{{{{{a} \\sp {6}} \\  {\\sin \r\n",
        "\\left(\r\n",
        "{{{a \\  \\pi} \\over 4}} \r\n",
        "\\right)}}\r\n",
        "\\over {720}} \\  {{{\\left( x -{\\pi \\over 4} \r\n",
        "\\right)}}\r\n",
        "\\sp {6}}} -{{{{{a} \\sp {7}} \\  {\\cos \r\n",
        "\\left(\r\n",
        "{{{a \\  \\pi} \\over 4}} \r\n",
        "\\right)}}\r\n",
        "\\over {5040}} \\  {{{\\left( x -{\\pi \\over 4} \r\n",
        "\\right)}}\r\n",
        "\\sp {7}}}+{{{{{a} \\sp {8}} \\  {\\sin \r\n",
        "\\left(\r\n",
        "{{{a \\  \\pi} \\over 4}} \r\n",
        "\\right)}}\r\n",
        "\\over {40320}} \\  {{{\\left( x -{\\pi \\over 4} \r\n",
        "\\right)}}\r\n",
        "\\sp {8}}}+{{{{{a} \\sp {9}} \\  {\\cos \r\n",
        "\\left(\r\n",
        "{{{a \\  \\pi} \\over 4}} \r\n",
        "\\right)}}\r\n",
        "\\over {362880}} \\  {{{\\left( x -{\\pi \\over 4} \r\n",
        "\\right)}}\r\n",
        "\\sp {9}}} -{{{{{a} \\sp {{10}}} \\  {\\sin \r\n",
        "\\left(\r\n",
        "{{{a \\  \\pi} \\over 4}} \r\n",
        "\\right)}}\r\n",
        "\\over {3628800}} \\  {{{\\left( x -{\\pi \\over 4} \r\n",
        "\\right)}}\r\n",
        "\\sp {{10}}}}+{O \r\n",
        "\\left(\r\n",
        "{{{{\\left( x -{\\pi \\over 4} \r\n",
        "\\right)}}\r\n",
        "\\sp {{11}}}} \r\n",
        "\\right)}\r\n",
        "\\leqno(29)\r\n",
        "$$"
       ],
       "metadata": {},
       "output_type": "display_data",
       "text": [
        " \r\n",
        "   (29)\r\n",
        "                                           2    a %pi\r\n",
        "                                          a sin(-----)\r\n",
        "         a %pi          a %pi      %pi            4         %pi 2\r\n",
        "     sin(-----) + a cos(-----)(x - ---) - ------------ (x - ---)\r\n",
        "           4              4         4           2            4\r\n",
        "   + \r\n",
        "        3    a %pi                4    a %pi\r\n",
        "       a cos(-----)              a sin(-----)\r\n",
        "               4         %pi 3           4         %pi 4\r\n",
        "     - ------------ (x - ---)  + ------------ (x - ---)\r\n",
        "             6            4           24            4\r\n",
        "   + \r\n",
        "      5    a %pi                6    a %pi                7    a %pi\r\n",
        "     a cos(-----)              a sin(-----)              a cos(-----)\r\n",
        "             4         %pi 5           4         %pi 6           4         %pi 7\r\n",
        "     ------------ (x - ---)  - ------------ (x - ---)  - ------------ (x - ---)\r\n",
        "          120           4           720           4          5040           4\r\n",
        "   + \r\n",
        "      8    a %pi                9    a %pi\r\n",
        "     a sin(-----)              a cos(-----)\r\n",
        "             4         %pi 8           4         %pi 9\r\n",
        "     ------------ (x - ---)  + ------------ (x - ---)\r\n",
        "         40320          4         362880          4\r\n",
        "   + \r\n",
        "        10    a %pi\r\n",
        "       a  sin(-----)\r\n",
        "                4         %pi 10          %pi 11\r\n",
        "     - ------------- (x - ---)   + O((x - ---)  )\r\n",
        "          3628800          4               4\r\n",
        "$$\r\n",
        "{\\sin \r\n",
        "\\left(\r\n",
        "{{{a \\  \\pi} \\over 4}} \r\n",
        "\\right)}+{a\r\n",
        "\\  {\\cos \r\n",
        "\\left(\r\n",
        "{{{a \\  \\pi} \\over 4}} \r\n",
        "\\right)}\r\n",
        "\\  {\\left( x -{\\pi \\over 4} \r\n",
        "\\right)}}\r\n",
        "-{{{{{a} \\sp {2}} \\  {\\sin \r\n",
        "\\left(\r\n",
        "{{{a \\  \\pi} \\over 4}} \r\n",
        "\\right)}}\r\n",
        "\\over 2} \\  {{{\\left( x -{\\pi \\over 4} \r\n",
        "\\right)}}\r\n",
        "\\sp {2}}} -{{{{{a} \\sp {3}} \\  {\\cos \r\n",
        "\\left(\r\n",
        "{{{a \\  \\pi} \\over 4}} \r\n",
        "\\right)}}\r\n",
        "\\over 6} \\  {{{\\left( x -{\\pi \\over 4} \r\n",
        "\\right)}}\r\n",
        "\\sp {3}}}+{{{{{a} \\sp {4}} \\  {\\sin \r\n",
        "\\left(\r\n",
        "{{{a \\  \\pi} \\over 4}} \r\n",
        "\\right)}}\r\n",
        "\\over {24}} \\  {{{\\left( x -{\\pi \\over 4} \r\n",
        "\\right)}}\r\n",
        "\\sp {4}}}+{{{{{a} \\sp {5}} \\  {\\cos \r\n",
        "\\left(\r\n",
        "{{{a \\  \\pi} \\over 4}} \r\n",
        "\\right)}}\r\n",
        "\\over {120}} \\  {{{\\left( x -{\\pi \\over 4} \r\n",
        "\\right)}}\r\n",
        "\\sp {5}}} -{{{{{a} \\sp {6}} \\  {\\sin \r\n",
        "\\left(\r\n",
        "{{{a \\  \\pi} \\over 4}} \r\n",
        "\\right)}}\r\n",
        "\\over {720}} \\  {{{\\left( x -{\\pi \\over 4} \r\n",
        "\\right)}}\r\n",
        "\\sp {6}}} -{{{{{a} \\sp {7}} \\  {\\cos \r\n",
        "\\left(\r\n",
        "{{{a \\  \\pi} \\over 4}} \r\n",
        "\\right)}}\r\n",
        "\\over {5040}} \\  {{{\\left( x -{\\pi \\over 4} \r\n",
        "\\right)}}\r\n",
        "\\sp {7}}}+{{{{{a} \\sp {8}} \\  {\\sin \r\n",
        "\\left(\r\n",
        "{{{a \\  \\pi} \\over 4}} \r\n",
        "\\right)}}\r\n",
        "\\over {40320}} \\  {{{\\left( x -{\\pi \\over 4} \r\n",
        "\\right)}}\r\n",
        "\\sp {8}}}+{{{{{a} \\sp {9}} \\  {\\cos \r\n",
        "\\left(\r\n",
        "{{{a \\  \\pi} \\over 4}} \r\n",
        "\\right)}}\r\n",
        "\\over {362880}} \\  {{{\\left( x -{\\pi \\over 4} \r\n",
        "\\right)}}\r\n",
        "\\sp {9}}} -{{{{{a} \\sp {{10}}} \\  {\\sin \r\n",
        "\\left(\r\n",
        "{{{a \\  \\pi} \\over 4}} \r\n",
        "\\right)}}\r\n",
        "\\over {3628800}} \\  {{{\\left( x -{\\pi \\over 4} \r\n",
        "\\right)}}\r\n",
        "\\sp {{10}}}}+{O \r\n",
        "\\left(\r\n",
        "{{{{\\left( x -{\\pi \\over 4} \r\n",
        "\\right)}}\r\n",
        "\\sp {{11}}}} \r\n",
        "\\right)}\r\n",
        "\\leqno(29)\r\n",
        "$$\r\n",
        "\r\n",
        "                   Type: UnivariatePuiseuxSeries(Expression(Integer),x,%pi/4)\r\n"
       ]
      }
     ],
     "prompt_number": 35
    },
    {
     "cell_type": "code",
     "collapsed": false,
     "input": [
      "series(n +-> (-1)^((3*n - 4)/6)/factorial(n - 1/3),x=0,4/3..,2)"
     ],
     "language": "python",
     "metadata": {},
     "outputs": [
      {
       "latex": [
        "$\\def\\sp{^}\\def\\sb{_}\\def\\leqno(#1){}$$$\r\n",
        "{{x} \\sp {{4 \\over 3}}} -{{1 \\over 6} \\  {{x} \\sp {{{10} \\over 3}}}}+{O \r\n",
        "\\left(\r\n",
        "{{{x} \\sp {5}}} \r\n",
        "\\right)}\r\n",
        "\\leqno(30)\r\n",
        "$$"
       ],
       "metadata": {},
       "output_type": "display_data",
       "text": [
        " \r\n",
        "          4      10\r\n",
        "          -      --\r\n",
        "          3   1   3      5\r\n",
        "   (30)  x  - - x   + O(x )\r\n",
        "              6\r\n",
        "$$\r\n",
        "{{x} \\sp {{4 \\over 3}}} -{{1 \\over 6} \\  {{x} \\sp {{{10} \\over 3}}}}+{O \r\n",
        "\\left(\r\n",
        "{{{x} \\sp {5}}} \r\n",
        "\\right)}\r\n",
        "\\leqno(30)\r\n",
        "$$\r\n",
        "\r\n",
        "                       Type: UnivariatePuiseuxSeries(Expression(Integer),x,0)\r\n"
       ]
      }
     ],
     "prompt_number": 36
    },
    {
     "cell_type": "code",
     "collapsed": false,
     "input": [
      "f := taylor(exp(x))"
     ],
     "language": "python",
     "metadata": {},
     "outputs": [
      {
       "latex": [
        "$\\def\\sp{^}\\def\\sb{_}\\def\\leqno(#1){}$$$\r\n",
        "1+x+{{1 \\over 2} \\  {{x} \\sp {2}}}+{{1 \\over 6} \\  {{x} \\sp {3}}}+{{1 \\over \r\n",
        "{24}} \\  {{x} \\sp {4}}}+{{1 \\over {120}} \\  {{x} \\sp {5}}}+{{1 \\over {720}} \\  \r\n",
        "{{x} \\sp {6}}}+{{1 \\over {5040}} \\  {{x} \\sp {7}}}+{{1 \\over {40320}} \\  {{x} \r\n",
        "\\sp {8}}}+{{1 \\over {362880}} \\  {{x} \\sp {9}}}+{{1 \\over {3628800}} \\  {{x} \r\n",
        "\\sp {{10}}}}+{O \r\n",
        "\\left(\r\n",
        "{{{x} \\sp {{11}}}} \r\n",
        "\\right)}\r\n",
        "\\leqno(31)\r\n",
        "$$"
       ],
       "metadata": {},
       "output_type": "display_data",
       "text": [
        " \r\n",
        "   (31)\r\n",
        "             1  2   1  3    1  4    1   5    1   6     1   7     1    8\r\n",
        "     1 + x + - x  + - x  + -- x  + --- x  + --- x  + ---- x  + ----- x\r\n",
        "             2      6      24      120      720      5040      40320\r\n",
        "   + \r\n",
        "        1    9      1     10      11\r\n",
        "     ------ x  + ------- x   + O(x  )\r\n",
        "     362880      3628800\r\n",
        "$$\r\n",
        "1+x+{{1 \\over 2} \\  {{x} \\sp {2}}}+{{1 \\over 6} \\  {{x} \\sp {3}}}+{{1 \\over \r\n",
        "{24}} \\  {{x} \\sp {4}}}+{{1 \\over {120}} \\  {{x} \\sp {5}}}+{{1 \\over {720}} \\  \r\n",
        "{{x} \\sp {6}}}+{{1 \\over {5040}} \\  {{x} \\sp {7}}}+{{1 \\over {40320}} \\  {{x} \r\n",
        "\\sp {8}}}+{{1 \\over {362880}} \\  {{x} \\sp {9}}}+{{1 \\over {3628800}} \\  {{x} \r\n",
        "\\sp {{10}}}}+{O \r\n",
        "\\left(\r\n",
        "{{{x} \\sp {{11}}}} \r\n",
        "\\right)}\r\n",
        "\\leqno(31)\r\n",
        "$$\r\n",
        "\r\n",
        "                        Type: UnivariateTaylorSeries(Expression(Integer),x,0)\r\n"
       ]
      }
     ],
     "prompt_number": 37
    },
    {
     "cell_type": "code",
     "collapsed": false,
     "input": [
      "F := operator 'F; x := operator 'x; y := operator 'y"
     ],
     "language": "python",
     "metadata": {},
     "outputs": [
      {
       "latex": [
        "$\\def\\sp{^}\\def\\sb{_}\\def\\leqno(#1){}$$$\r\n",
        "y \r\n",
        "\\leqno(32)\r\n",
        "$$"
       ],
       "metadata": {},
       "output_type": "display_data",
       "text": [
        " \r\n",
        "   (32)  y\r\n",
        "$$\r\n",
        "y \r\n",
        "\\leqno(32)\r\n",
        "$$\r\n",
        "\r\n",
        "                                                          Type: BasicOperator\r\n"
       ]
      }
     ],
     "prompt_number": 38
    },
    {
     "cell_type": "code",
     "collapsed": false,
     "input": [
      "a := F(x z, y z, z^2) + x y(z+1)"
     ],
     "language": "python",
     "metadata": {},
     "outputs": [
      {
       "latex": [
        "$\\def\\sp{^}\\def\\sb{_}\\def\\leqno(#1){}$$$\r\n",
        "{x \r\n",
        "\\left(\r\n",
        "{{y \r\n",
        "\\left(\r\n",
        "{{z+1}} \r\n",
        "\\right)}}\r\n",
        "\\right)}+{F\r\n",
        "\\left(\r\n",
        "{{x \r\n",
        "\\left(\r\n",
        "{z} \r\n",
        "\\right)},\r\n",
        "\\: {y \r\n",
        "\\left(\r\n",
        "{z} \r\n",
        "\\right)},\r\n",
        "\\: {{z} \\sp {2}}} \r\n",
        "\\right)}\r\n",
        "\\leqno(33)\r\n",
        "$$"
       ],
       "metadata": {},
       "output_type": "display_data",
       "text": [
        " \r\n",
        "                                    2\r\n",
        "   (33)  x(y(z + 1)) + F(x(z),y(z),z )\r\n",
        "$$\r\n",
        "{x \r\n",
        "\\left(\r\n",
        "{{y \r\n",
        "\\left(\r\n",
        "{{z+1}} \r\n",
        "\\right)}}\r\n",
        "\\right)}+{F\r\n",
        "\\left(\r\n",
        "{{x \r\n",
        "\\left(\r\n",
        "{z} \r\n",
        "\\right)},\r\n",
        "\\: {y \r\n",
        "\\left(\r\n",
        "{z} \r\n",
        "\\right)},\r\n",
        "\\: {{z} \\sp {2}}} \r\n",
        "\\right)}\r\n",
        "\\leqno(33)\r\n",
        "$$\r\n",
        "\r\n",
        "                                                    Type: Expression(Integer)\r\n"
       ]
      }
     ],
     "prompt_number": 40
    },
    {
     "cell_type": "code",
     "collapsed": false,
     "input": [
      "dadz := D(a, z)"
     ],
     "language": "python",
     "metadata": {},
     "outputs": [
      {
       "latex": [
        "$\\def\\sp{^}\\def\\sb{_}\\def\\leqno(#1){}$$$\r\n",
        "{2 \\  z \\  {{F \\sb {{,3}}} \r\n",
        "\\left(\r\n",
        "{{x \r\n",
        "\\left(\r\n",
        "{z} \r\n",
        "\\right)},\r\n",
        "\\: {y \r\n",
        "\\left(\r\n",
        "{z} \r\n",
        "\\right)},\r\n",
        "\\: {{z} \\sp {2}}} \r\n",
        "\\right)}}+{{{y\r\n",
        "\\sb {{\\ }} \\sp {,}} \r\n",
        "\\left(\r\n",
        "{z} \r\n",
        "\\right)}\r\n",
        "\\  {{F \\sb {{,2}}} \r\n",
        "\\left(\r\n",
        "{{x \r\n",
        "\\left(\r\n",
        "{z} \r\n",
        "\\right)},\r\n",
        "\\: {y \r\n",
        "\\left(\r\n",
        "{z} \r\n",
        "\\right)},\r\n",
        "\\: {{z} \\sp {2}}} \r\n",
        "\\right)}}+{{{x\r\n",
        "\\sb {{\\ }} \\sp {,}} \r\n",
        "\\left(\r\n",
        "{z} \r\n",
        "\\right)}\r\n",
        "\\  {{F \\sb {{,1}}} \r\n",
        "\\left(\r\n",
        "{{x \r\n",
        "\\left(\r\n",
        "{z} \r\n",
        "\\right)},\r\n",
        "\\: {y \r\n",
        "\\left(\r\n",
        "{z} \r\n",
        "\\right)},\r\n",
        "\\: {{z} \\sp {2}}} \r\n",
        "\\right)}}+{{{x\r\n",
        "\\sb {{\\ }} \\sp {,}} \r\n",
        "\\left(\r\n",
        "{{y \r\n",
        "\\left(\r\n",
        "{{z+1}} \r\n",
        "\\right)}}\r\n",
        "\\right)}\r\n",
        "\\  {{y \\sb {{\\ }} \\sp {,}} \r\n",
        "\\left(\r\n",
        "{{z+1}} \r\n",
        "\\right)}}\r\n",
        "\\leqno(34)\r\n",
        "$$"
       ],
       "metadata": {},
       "output_type": "display_data",
       "text": [
        " \r\n",
        "   (34)\r\n",
        "                      2     ,                  2     ,                  2\r\n",
        "     2zF  (x(z),y(z),z ) + y (z)F  (x(z),y(z),z ) + x (z)F  (x(z),y(z),z )\r\n",
        "        ,3                       ,2                       ,1\r\n",
        "   + \r\n",
        "      ,           ,\r\n",
        "     x (y(z + 1))y (z + 1)\r\n",
        "\r\n",
        "$$\r\n",
        "{2 \\  z \\  {{F \\sb {{,3}}} \r\n",
        "\\left(\r\n",
        "{{x \r\n",
        "\\left(\r\n",
        "{z} \r\n",
        "\\right)},\r\n",
        "\\: {y \r\n",
        "\\left(\r\n",
        "{z} \r\n",
        "\\right)},\r\n",
        "\\: {{z} \\sp {2}}} \r\n",
        "\\right)}}+{{{y\r\n",
        "\\sb {{\\ }} \\sp {,}} \r\n",
        "\\left(\r\n",
        "{z} \r\n",
        "\\right)}\r\n",
        "\\  {{F \\sb {{,2}}} \r\n",
        "\\left(\r\n",
        "{{x \r\n",
        "\\left(\r\n",
        "{z} \r\n",
        "\\right)},\r\n",
        "\\: {y \r\n",
        "\\left(\r\n",
        "{z} \r\n",
        "\\right)},\r\n",
        "\\: {{z} \\sp {2}}} \r\n",
        "\\right)}}+{{{x\r\n",
        "\\sb {{\\ }} \\sp {,}} \r\n",
        "\\left(\r\n",
        "{z} \r\n",
        "\\right)}\r\n",
        "\\  {{F \\sb {{,1}}} \r\n",
        "\\left(\r\n",
        "{{x \r\n",
        "\\left(\r\n",
        "{z} \r\n",
        "\\right)},\r\n",
        "\\: {y \r\n",
        "\\left(\r\n",
        "{z} \r\n",
        "\\right)},\r\n",
        "\\: {{z} \\sp {2}}} \r\n",
        "\\right)}}+{{{x\r\n",
        "\\sb {{\\ }} \\sp {,}} \r\n",
        "\\left(\r\n",
        "{{y \r\n",
        "\\left(\r\n",
        "{{z+1}} \r\n",
        "\\right)}}\r\n",
        "\\right)}\r\n",
        "\\  {{y \\sb {{\\ }} \\sp {,}} \r\n",
        "\\left(\r\n",
        "{{z+1}} \r\n",
        "\\right)}}\r\n",
        "\\leqno(34)\r\n",
        "$$\r\n",
        "\r\n",
        "                                                    Type: Expression(Integer)\r\n"
       ]
      }
     ],
     "prompt_number": 41
    },
    {
     "cell_type": "code",
     "collapsed": false,
     "input": [
      "eval(eval(dadz, 'x, z +-> exp z), 'y, z +-> log(z+1))"
     ],
     "language": "python",
     "metadata": {},
     "outputs": [
      {
       "latex": [
        "$\\def\\sp{^}\\def\\sb{_}\\def\\leqno(#1){}$$$\r\n",
        "{{{\\left( {2 \\  {{z} \\sp {2}}}+{2 \\  z} \r\n",
        "\\right)}\r\n",
        "\\  {{F \\sb {{,3}}} \r\n",
        "\\left(\r\n",
        "{{{e} \\sp {z}}, \\: {\\log \r\n",
        "\\left(\r\n",
        "{{z+1}} \r\n",
        "\\right)},\r\n",
        "\\: {{z} \\sp {2}}} \r\n",
        "\\right)}}+{{F\r\n",
        "\\sb {{,2}}} \r\n",
        "\\left(\r\n",
        "{{{e} \\sp {z}}, \\: {\\log \r\n",
        "\\left(\r\n",
        "{{z+1}} \r\n",
        "\\right)},\r\n",
        "\\: {{z} \\sp {2}}} \r\n",
        "\\right)}+{{\\left(\r\n",
        "z+1 \r\n",
        "\\right)}\r\n",
        "\\  {{e} \\sp {z}} \\  {{F \\sb {{,1}}} \r\n",
        "\\left(\r\n",
        "{{{e} \\sp {z}}, \\: {\\log \r\n",
        "\\left(\r\n",
        "{{z+1}} \r\n",
        "\\right)},\r\n",
        "\\: {{z} \\sp {2}}} \r\n",
        "\\right)}}+z+1}\r\n",
        "\\over {z+1} \r\n",
        "\\leqno(35)\r\n",
        "$$"
       ],
       "metadata": {},
       "output_type": "display_data",
       "text": [
        " \r\n",
        "   (35)\r\n",
        "          2            z             2          z             2\r\n",
        "       (2z  + 2z)F  (%e ,log(z + 1),z ) + F  (%e ,log(z + 1),z )\r\n",
        "                  ,3                       ,2\r\n",
        "     + \r\n",
        "                z      z             2\r\n",
        "       (z + 1)%e F  (%e ,log(z + 1),z ) + z + 1\r\n",
        "                  ,1\r\n",
        "  /\r\n",
        "     z + 1\r\n",
        "$$\r\n",
        "{{{\\left( {2 \\  {{z} \\sp {2}}}+{2 \\  z} \r\n",
        "\\right)}\r\n",
        "\\  {{F \\sb {{,3}}} \r\n",
        "\\left(\r\n",
        "{{{e} \\sp {z}}, \\: {\\log \r\n",
        "\\left(\r\n",
        "{{z+1}} \r\n",
        "\\right)},\r\n",
        "\\: {{z} \\sp {2}}} \r\n",
        "\\right)}}+{{F\r\n",
        "\\sb {{,2}}} \r\n",
        "\\left(\r\n",
        "{{{e} \\sp {z}}, \\: {\\log \r\n",
        "\\left(\r\n",
        "{{z+1}} \r\n",
        "\\right)},\r\n",
        "\\: {{z} \\sp {2}}} \r\n",
        "\\right)}+{{\\left(\r\n",
        "z+1 \r\n",
        "\\right)}\r\n",
        "\\  {{e} \\sp {z}} \\  {{F \\sb {{,1}}} \r\n",
        "\\left(\r\n",
        "{{{e} \\sp {z}}, \\: {\\log \r\n",
        "\\left(\r\n",
        "{{z+1}} \r\n",
        "\\right)},\r\n",
        "\\: {{z} \\sp {2}}} \r\n",
        "\\right)}}+z+1}\r\n",
        "\\over {z+1} \r\n",
        "\\leqno(35)\r\n",
        "$$\r\n",
        "\r\n",
        "                                                    Type: Expression(Integer)\r\n"
       ]
      }
     ],
     "prompt_number": 42
    },
    {
     "cell_type": "code",
     "collapsed": false,
     "input": [
      "eval(eval(a, 'x, z +-> exp z), 'y, z +-> log(z+1))"
     ],
     "language": "python",
     "metadata": {},
     "outputs": [
      {
       "latex": [
        "$\\def\\sp{^}\\def\\sb{_}\\def\\leqno(#1){}$$$\r\n",
        "{F \r\n",
        "\\left(\r\n",
        "{{{e} \\sp {z}}, \\: {\\log \r\n",
        "\\left(\r\n",
        "{{z+1}} \r\n",
        "\\right)},\r\n",
        "\\: {{z} \\sp {2}}} \r\n",
        "\\right)}+z+2\r\n",
        "\\leqno(36)\r\n",
        "$$"
       ],
       "metadata": {},
       "output_type": "display_data",
       "text": [
        " \r\n",
        "             z             2\r\n",
        "   (36)  F(%e ,log(z + 1),z ) + z + 2\r\n",
        "$$\r\n",
        "{F \r\n",
        "\\left(\r\n",
        "{{{e} \\sp {z}}, \\: {\\log \r\n",
        "\\left(\r\n",
        "{{z+1}} \r\n",
        "\\right)},\r\n",
        "\\: {{z} \\sp {2}}} \r\n",
        "\\right)}+z+2\r\n",
        "\\leqno(36)\r\n",
        "$$\r\n",
        "\r\n",
        "                                                    Type: Expression(Integer)\r\n"
       ]
      }
     ],
     "prompt_number": 43
    },
    {
     "cell_type": "code",
     "collapsed": false,
     "input": [
      "D(%, z)"
     ],
     "language": "python",
     "metadata": {},
     "outputs": [
      {
       "latex": [
        "$\\def\\sp{^}\\def\\sb{_}\\def\\leqno(#1){}$$$\r\n",
        "{{{\\left( {2 \\  {{z} \\sp {2}}}+{2 \\  z} \r\n",
        "\\right)}\r\n",
        "\\  {{F \\sb {{,3}}} \r\n",
        "\\left(\r\n",
        "{{{e} \\sp {z}}, \\: {\\log \r\n",
        "\\left(\r\n",
        "{{z+1}} \r\n",
        "\\right)},\r\n",
        "\\: {{z} \\sp {2}}} \r\n",
        "\\right)}}+{{F\r\n",
        "\\sb {{,2}}} \r\n",
        "\\left(\r\n",
        "{{{e} \\sp {z}}, \\: {\\log \r\n",
        "\\left(\r\n",
        "{{z+1}} \r\n",
        "\\right)},\r\n",
        "\\: {{z} \\sp {2}}} \r\n",
        "\\right)}+{{\\left(\r\n",
        "z+1 \r\n",
        "\\right)}\r\n",
        "\\  {{e} \\sp {z}} \\  {{F \\sb {{,1}}} \r\n",
        "\\left(\r\n",
        "{{{e} \\sp {z}}, \\: {\\log \r\n",
        "\\left(\r\n",
        "{{z+1}} \r\n",
        "\\right)},\r\n",
        "\\: {{z} \\sp {2}}} \r\n",
        "\\right)}}+z+1}\r\n",
        "\\over {z+1} \r\n",
        "\\leqno(37)\r\n",
        "$$"
       ],
       "metadata": {},
       "output_type": "display_data",
       "text": [
        " \r\n",
        "   (37)\r\n",
        "          2            z             2          z             2\r\n",
        "       (2z  + 2z)F  (%e ,log(z + 1),z ) + F  (%e ,log(z + 1),z )\r\n",
        "                  ,3                       ,2\r\n",
        "     + \r\n",
        "                z      z             2\r\n",
        "       (z + 1)%e F  (%e ,log(z + 1),z ) + z + 1\r\n",
        "                  ,1\r\n",
        "  /\r\n",
        "     z + 1\r\n",
        "$$\r\n",
        "{{{\\left( {2 \\  {{z} \\sp {2}}}+{2 \\  z} \r\n",
        "\\right)}\r\n",
        "\\  {{F \\sb {{,3}}} \r\n",
        "\\left(\r\n",
        "{{{e} \\sp {z}}, \\: {\\log \r\n",
        "\\left(\r\n",
        "{{z+1}} \r\n",
        "\\right)},\r\n",
        "\\: {{z} \\sp {2}}} \r\n",
        "\\right)}}+{{F\r\n",
        "\\sb {{,2}}} \r\n",
        "\\left(\r\n",
        "{{{e} \\sp {z}}, \\: {\\log \r\n",
        "\\left(\r\n",
        "{{z+1}} \r\n",
        "\\right)},\r\n",
        "\\: {{z} \\sp {2}}} \r\n",
        "\\right)}+{{\\left(\r\n",
        "z+1 \r\n",
        "\\right)}\r\n",
        "\\  {{e} \\sp {z}} \\  {{F \\sb {{,1}}} \r\n",
        "\\left(\r\n",
        "{{{e} \\sp {z}}, \\: {\\log \r\n",
        "\\left(\r\n",
        "{{z+1}} \r\n",
        "\\right)},\r\n",
        "\\: {{z} \\sp {2}}} \r\n",
        "\\right)}}+z+1}\r\n",
        "\\over {z+1} \r\n",
        "\\leqno(37)\r\n",
        "$$\r\n",
        "\r\n",
        "                                                    Type: Expression(Integer)\r\n"
       ]
      }
     ],
     "prompt_number": 44
    },
    {
     "cell_type": "code",
     "collapsed": false,
     "input": [
      "integrate(1/(u^2 + a),u)"
     ],
     "language": "python",
     "metadata": {},
     "outputs": [
      {
       "latex": [
        "$\\def\\sp{^}\\def\\sb{_}\\def\\leqno(#1){}$$$\r\n",
        "\\left[\r\n",
        "{{\\log \r\n",
        "\\left(\r\n",
        "{{{{{\\left( -{x \r\n",
        "\\left(\r\n",
        "{{y \r\n",
        "\\left(\r\n",
        "{{z+1}} \r\n",
        "\\right)}}\r\n",
        "\\right)}\r\n",
        "-{F \r\n",
        "\\left(\r\n",
        "{{x \r\n",
        "\\left(\r\n",
        "{z} \r\n",
        "\\right)},\r\n",
        "\\: {y \r\n",
        "\\left(\r\n",
        "{z} \r\n",
        "\\right)},\r\n",
        "\\: {{z} \\sp {2}}} \r\n",
        "\\right)}+{{u}\r\n",
        "\\sp {2}} \r\n",
        "\\right)}\r\n",
        "\\  {\\sqrt {{-{x \r\n",
        "\\left(\r\n",
        "{{y \r\n",
        "\\left(\r\n",
        "{{z+1}} \r\n",
        "\\right)}}\r\n",
        "\\right)}\r\n",
        "-{F \r\n",
        "\\left(\r\n",
        "{{x \r\n",
        "\\left(\r\n",
        "{z} \r\n",
        "\\right)},\r\n",
        "\\: {y \r\n",
        "\\left(\r\n",
        "{z} \r\n",
        "\\right)},\r\n",
        "\\: {{z} \\sp {2}}} \r\n",
        "\\right)}}}}}+{2\r\n",
        "\\  u \\  {x \r\n",
        "\\left(\r\n",
        "{{y \r\n",
        "\\left(\r\n",
        "{{z+1}} \r\n",
        "\\right)}}\r\n",
        "\\right)}}+{2\r\n",
        "\\  u \\  {F \r\n",
        "\\left(\r\n",
        "{{x \r\n",
        "\\left(\r\n",
        "{z} \r\n",
        "\\right)},\r\n",
        "\\: {y \r\n",
        "\\left(\r\n",
        "{z} \r\n",
        "\\right)},\r\n",
        "\\: {{z} \\sp {2}}} \r\n",
        "\\right)}}}\r\n",
        "\\over {{x \r\n",
        "\\left(\r\n",
        "{{y \r\n",
        "\\left(\r\n",
        "{{z+1}} \r\n",
        "\\right)}}\r\n",
        "\\right)}+{F\r\n",
        "\\left(\r\n",
        "{{x \r\n",
        "\\left(\r\n",
        "{z} \r\n",
        "\\right)},\r\n",
        "\\: {y \r\n",
        "\\left(\r\n",
        "{z} \r\n",
        "\\right)},\r\n",
        "\\: {{z} \\sp {2}}} \r\n",
        "\\right)}+{{u}\r\n",
        "\\sp {2}}}}} \r\n",
        "\\right)}\r\n",
        "\\over {2 \\  {\\sqrt {{-{x \r\n",
        "\\left(\r\n",
        "{{y \r\n",
        "\\left(\r\n",
        "{{z+1}} \r\n",
        "\\right)}}\r\n",
        "\\right)}\r\n",
        "-{F \r\n",
        "\\left(\r\n",
        "{{x \r\n",
        "\\left(\r\n",
        "{z} \r\n",
        "\\right)},\r\n",
        "\\: {y \r\n",
        "\\left(\r\n",
        "{z} \r\n",
        "\\right)},\r\n",
        "\\: {{z} \\sp {2}}} \r\n",
        "\\right)}}}}}},\r\n",
        "\\: {{\\arctan \r\n",
        "\\left(\r\n",
        "{{{u \\  {\\sqrt {{{x \r\n",
        "\\left(\r\n",
        "{{y \r\n",
        "\\left(\r\n",
        "{{z+1}} \r\n",
        "\\right)}}\r\n",
        "\\right)}+{F\r\n",
        "\\left(\r\n",
        "{{x \r\n",
        "\\left(\r\n",
        "{z} \r\n",
        "\\right)},\r\n",
        "\\: {y \r\n",
        "\\left(\r\n",
        "{z} \r\n",
        "\\right)},\r\n",
        "\\: {{z} \\sp {2}}} \r\n",
        "\\right)}}}}}\r\n",
        "\\over {{x \r\n",
        "\\left(\r\n",
        "{{y \r\n",
        "\\left(\r\n",
        "{{z+1}} \r\n",
        "\\right)}}\r\n",
        "\\right)}+{F\r\n",
        "\\left(\r\n",
        "{{x \r\n",
        "\\left(\r\n",
        "{z} \r\n",
        "\\right)},\r\n",
        "\\: {y \r\n",
        "\\left(\r\n",
        "{z} \r\n",
        "\\right)},\r\n",
        "\\: {{z} \\sp {2}}} \r\n",
        "\\right)}}}}\r\n",
        "\\right)}\r\n",
        "\\over {\\sqrt {{{x \r\n",
        "\\left(\r\n",
        "{{y \r\n",
        "\\left(\r\n",
        "{{z+1}} \r\n",
        "\\right)}}\r\n",
        "\\right)}+{F\r\n",
        "\\left(\r\n",
        "{{x \r\n",
        "\\left(\r\n",
        "{z} \r\n",
        "\\right)},\r\n",
        "\\: {y \r\n",
        "\\left(\r\n",
        "{z} \r\n",
        "\\right)},\r\n",
        "\\: {{z} \\sp {2}}} \r\n",
        "\\right)}}}}}\r\n",
        "\\right]\r\n",
        "\\leqno(38)\r\n",
        "$$"
       ],
       "metadata": {},
       "output_type": "display_data",
       "text": [
        " \r\n",
        "   (38)\r\n",
        "   [\r\n",
        "       log\r\n",
        "                                              2     2\r\n",
        "                (- x(y(z + 1)) - F(x(z),y(z),z ) + u )\r\n",
        "             *\r\n",
        "                 +-------------------------------+\r\n",
        "                 |                             2\r\n",
        "                \\|- x(y(z + 1)) - F(x(z),y(z),z )\r\n",
        "            + \r\n",
        "                                               2\r\n",
        "              2u x(y(z + 1)) + 2u F(x(z),y(z),z )\r\n",
        "         /\r\n",
        "                                       2     2\r\n",
        "            x(y(z + 1)) + F(x(z),y(z),z ) + u\r\n",
        "    /\r\n",
        "         +-------------------------------+\r\n",
        "         |                             2\r\n",
        "       2\\|- x(y(z + 1)) - F(x(z),y(z),z )\r\n",
        "     ,\r\n",
        "           +-----------------------------+\r\n",
        "           |                           2\r\n",
        "         u\\|x(y(z + 1)) + F(x(z),y(z),z )\r\n",
        "    atan(---------------------------------)\r\n",
        "                                      2\r\n",
        "           x(y(z + 1)) + F(x(z),y(z),z )\r\n",
        "    ---------------------------------------]\r\n",
        "         +-----------------------------+\r\n",
        "         |                           2\r\n",
        "        \\|x(y(z + 1)) + F(x(z),y(z),z )\r\n",
        "$$\r\n",
        "\\left[\r\n",
        "{{\\log \r\n",
        "\\left(\r\n",
        "{{{{{\\left( -{x \r\n",
        "\\left(\r\n",
        "{{y \r\n",
        "\\left(\r\n",
        "{{z+1}} \r\n",
        "\\right)}}\r\n",
        "\\right)}\r\n",
        "-{F \r\n",
        "\\left(\r\n",
        "{{x \r\n",
        "\\left(\r\n",
        "{z} \r\n",
        "\\right)},\r\n",
        "\\: {y \r\n",
        "\\left(\r\n",
        "{z} \r\n",
        "\\right)},\r\n",
        "\\: {{z} \\sp {2}}} \r\n",
        "\\right)}+{{u}\r\n",
        "\\sp {2}} \r\n",
        "\\right)}\r\n",
        "\\  {\\sqrt {{-{x \r\n",
        "\\left(\r\n",
        "{{y \r\n",
        "\\left(\r\n",
        "{{z+1}} \r\n",
        "\\right)}}\r\n",
        "\\right)}\r\n",
        "-{F \r\n",
        "\\left(\r\n",
        "{{x \r\n",
        "\\left(\r\n",
        "{z} \r\n",
        "\\right)},\r\n",
        "\\: {y \r\n",
        "\\left(\r\n",
        "{z} \r\n",
        "\\right)},\r\n",
        "\\: {{z} \\sp {2}}} \r\n",
        "\\right)}}}}}+{2\r\n",
        "\\  u \\  {x \r\n",
        "\\left(\r\n",
        "{{y \r\n",
        "\\left(\r\n",
        "{{z+1}} \r\n",
        "\\right)}}\r\n",
        "\\right)}}+{2\r\n",
        "\\  u \\  {F \r\n",
        "\\left(\r\n",
        "{{x \r\n",
        "\\left(\r\n",
        "{z} \r\n",
        "\\right)},\r\n",
        "\\: {y \r\n",
        "\\left(\r\n",
        "{z} \r\n",
        "\\right)},\r\n",
        "\\: {{z} \\sp {2}}} \r\n",
        "\\right)}}}\r\n",
        "\\over {{x \r\n",
        "\\left(\r\n",
        "{{y \r\n",
        "\\left(\r\n",
        "{{z+1}} \r\n",
        "\\right)}}\r\n",
        "\\right)}+{F\r\n",
        "\\left(\r\n",
        "{{x \r\n",
        "\\left(\r\n",
        "{z} \r\n",
        "\\right)},\r\n",
        "\\: {y \r\n",
        "\\left(\r\n",
        "{z} \r\n",
        "\\right)},\r\n",
        "\\: {{z} \\sp {2}}} \r\n",
        "\\right)}+{{u}\r\n",
        "\\sp {2}}}}} \r\n",
        "\\right)}\r\n",
        "\\over {2 \\  {\\sqrt {{-{x \r\n",
        "\\left(\r\n",
        "{{y \r\n",
        "\\left(\r\n",
        "{{z+1}} \r\n",
        "\\right)}}\r\n",
        "\\right)}\r\n",
        "-{F \r\n",
        "\\left(\r\n",
        "{{x \r\n",
        "\\left(\r\n",
        "{z} \r\n",
        "\\right)},\r\n",
        "\\: {y \r\n",
        "\\left(\r\n",
        "{z} \r\n",
        "\\right)},\r\n",
        "\\: {{z} \\sp {2}}} \r\n",
        "\\right)}}}}}},\r\n",
        "\\: {{\\arctan \r\n",
        "\\left(\r\n",
        "{{{u \\  {\\sqrt {{{x \r\n",
        "\\left(\r\n",
        "{{y \r\n",
        "\\left(\r\n",
        "{{z+1}} \r\n",
        "\\right)}}\r\n",
        "\\right)}+{F\r\n",
        "\\left(\r\n",
        "{{x \r\n",
        "\\left(\r\n",
        "{z} \r\n",
        "\\right)},\r\n",
        "\\: {y \r\n",
        "\\left(\r\n",
        "{z} \r\n",
        "\\right)},\r\n",
        "\\: {{z} \\sp {2}}} \r\n",
        "\\right)}}}}}\r\n",
        "\\over {{x \r\n",
        "\\left(\r\n",
        "{{y \r\n",
        "\\left(\r\n",
        "{{z+1}} \r\n",
        "\\right)}}\r\n",
        "\\right)}+{F\r\n",
        "\\left(\r\n",
        "{{x \r\n",
        "\\left(\r\n",
        "{z} \r\n",
        "\\right)},\r\n",
        "\\: {y \r\n",
        "\\left(\r\n",
        "{z} \r\n",
        "\\right)},\r\n",
        "\\: {{z} \\sp {2}}} \r\n",
        "\\right)}}}}\r\n",
        "\\right)}\r\n",
        "\\over {\\sqrt {{{x \r\n",
        "\\left(\r\n",
        "{{y \r\n",
        "\\left(\r\n",
        "{{z+1}} \r\n",
        "\\right)}}\r\n",
        "\\right)}+{F\r\n",
        "\\left(\r\n",
        "{{x \r\n",
        "\\left(\r\n",
        "{z} \r\n",
        "\\right)},\r\n",
        "\\: {y \r\n",
        "\\left(\r\n",
        "{z} \r\n",
        "\\right)},\r\n",
        "\\: {{z} \\sp {2}}} \r\n",
        "\\right)}}}}}\r\n",
        "\\right]\r\n",
        "\\leqno(38)\r\n",
        "$$\r\n",
        "\r\n",
        "                                   Type: Union(List(Expression(Integer)),...)\r\n"
       ]
      }
     ],
     "prompt_number": 50
    },
    {
     "cell_type": "code",
     "collapsed": false,
     "input": [
      "integrate(log(1 + sqrt(a*u + b)) / u,u)"
     ],
     "language": "python",
     "metadata": {},
     "outputs": [
      {
       "latex": [
        "$\\def\\sp{^}\\def\\sb{_}\\def\\leqno(#1){}$$$\r\n",
        "\\int \\sp{\\displaystyle u} {{{\\log \r\n",
        "\\left(\r\n",
        "{{{\\sqrt {{{ \\%A \\  {x \r\n",
        "\\left(\r\n",
        "{{y \r\n",
        "\\left(\r\n",
        "{{z+1}} \r\n",
        "\\right)}}\r\n",
        "\\right)}}+{\r\n",
        " \\%A \\  {F \r\n",
        "\\left(\r\n",
        "{{x \r\n",
        "\\left(\r\n",
        "{z} \r\n",
        "\\right)},\r\n",
        "\\: {y \r\n",
        "\\left(\r\n",
        "{z} \r\n",
        "\\right)},\r\n",
        "\\: {{z} \\sp {2}}} \r\n",
        "\\right)}}+b}}}+1}}\r\n",
        "\\right)}\r\n",
        "\\over \\%A} \\  {d \\%A}} \r\n",
        "\\leqno(39)\r\n",
        "$$"
       ],
       "metadata": {},
       "output_type": "display_data",
       "text": [
        " \r\n",
        "                   +---------------------------------------+\r\n",
        "            u      |                                 2\r\n",
        "          ++  log(\\|%A x(y(z + 1)) + %A F(x(z),y(z),z ) + b  + 1)\r\n",
        "   (39)   |   --------------------------------------------------- d%A\r\n",
        "         ++                            %A\r\n",
        "$$\r\n",
        "\\int \\sp{\\displaystyle u} {{{\\log \r\n",
        "\\left(\r\n",
        "{{{\\sqrt {{{ \\%A \\  {x \r\n",
        "\\left(\r\n",
        "{{y \r\n",
        "\\left(\r\n",
        "{{z+1}} \r\n",
        "\\right)}}\r\n",
        "\\right)}}+{\r\n",
        " \\%A \\  {F \r\n",
        "\\left(\r\n",
        "{{x \r\n",
        "\\left(\r\n",
        "{z} \r\n",
        "\\right)},\r\n",
        "\\: {y \r\n",
        "\\left(\r\n",
        "{z} \r\n",
        "\\right)},\r\n",
        "\\: {{z} \\sp {2}}} \r\n",
        "\\right)}}+b}}}+1}}\r\n",
        "\\right)}\r\n",
        "\\over \\%A} \\  {d \\%A}} \r\n",
        "\\leqno(39)\r\n",
        "$$\r\n",
        "\r\n",
        "                                         Type: Union(Expression(Integer),...)\r\n"
       ]
      }
     ],
     "prompt_number": 52
    },
    {
     "cell_type": "code",
     "collapsed": false,
     "input": [
      "y := operator 'y"
     ],
     "language": "python",
     "metadata": {},
     "outputs": [
      {
       "latex": [
        "$\\def\\sp{^}\\def\\sb{_}\\def\\leqno(#1){}$$$\r\n",
        "y \r\n",
        "\\leqno(40)\r\n",
        "$$"
       ],
       "metadata": {},
       "output_type": "display_data",
       "text": [
        " \r\n",
        "   (40)  y\r\n",
        "$$\r\n",
        "y \r\n",
        "\\leqno(40)\r\n",
        "$$\r\n",
        "\r\n",
        "                                                          Type: BasicOperator\r\n"
       ]
      }
     ],
     "prompt_number": 53
    },
    {
     "cell_type": "code",
     "collapsed": false,
     "input": [
      ")quit\n"
     ],
     "language": "python",
     "metadata": {},
     "outputs": [
      {
       "output_type": "stream",
       "stream": "stdout",
       "text": [
        "-- Bye. Kernel shutdown [lib.site-packages.ipython-3**.egg]"
       ]
      }
     ]
    },
    {
     "cell_type": "code",
     "collapsed": false,
     "input": [],
     "language": "python",
     "metadata": {},
     "outputs": []
    }
   ],
   "metadata": {}
  }
 ]
}