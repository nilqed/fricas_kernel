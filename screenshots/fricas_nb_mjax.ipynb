{
 "metadata": {
  "kernelspec": {
   "codemirror_mode": "shell",
   "display_name": "FriCAS",
   "language": "fricas",
   "name": "fricas"
  },
  "name": "",
  "signature": "sha256:1b23d64062dadf253d960d076a980ed12b05533cc5617b8d8f664532ef44884b"
 },
 "nbformat": 3,
 "nbformat_minor": 0,
 "worksheets": [
  {
   "cells": [
    {
     "cell_type": "code",
     "collapsed": false,
     "input": [
      "x"
     ],
     "language": "python",
     "metadata": {},
     "outputs": [
      {
       "metadata": {},
       "output_type": "display_data",
       "text": [
        " \r\n",
        "   (3)  x\r\n",
        "                                                            Type: Variable(x)\r\n"
       ]
      }
     ],
     "prompt_number": 1
    },
    {
     "cell_type": "code",
     "collapsed": false,
     "input": [
      ")set output tex on"
     ],
     "language": "python",
     "metadata": {},
     "outputs": [
      {
       "metadata": {},
       "output_type": "display_data",
       "text": [
        " "
       ]
      }
     ],
     "prompt_number": 2
    },
    {
     "cell_type": "code",
     "collapsed": false,
     "input": [
      "x"
     ],
     "language": "python",
     "metadata": {},
     "outputs": [
      {
       "latex": [
        "$\\def\\sp{^}\\def\\sb{_}\\def\\leqno(#1){}$$$\r\n",
        "x \r\n",
        "\\leqno(4)\r\n",
        "$$"
       ],
       "metadata": {},
       "output_type": "display_data",
       "text": [
        " \r\n",
        "   (4)  x\r\n",
        "$$\r\n",
        "x \r\n",
        "\\leqno(4)\r\n",
        "$$\r\n",
        "\r\n",
        "                                                            Type: Variable(x)\r\n"
       ]
      }
     ],
     "prompt_number": 3
    },
    {
     "cell_type": "code",
     "collapsed": false,
     "input": [
      "x^n"
     ],
     "language": "python",
     "metadata": {},
     "outputs": [
      {
       "latex": [
        "$\\def\\sp{^}\\def\\sb{_}\\def\\leqno(#1){}$$$\r\n",
        "{x} \\sp {n} \r\n",
        "\\leqno(5)\r\n",
        "$$"
       ],
       "metadata": {},
       "output_type": "display_data",
       "text": [
        " \r\n",
        "         n\r\n",
        "   (5)  x\r\n",
        "$$\r\n",
        "{x} \\sp {n} \r\n",
        "\\leqno(5)\r\n",
        "$$\r\n",
        "\r\n",
        "                                                    Type: Expression(Integer)\r\n"
       ]
      }
     ],
     "prompt_number": 4
    },
    {
     "cell_type": "code",
     "collapsed": false,
     "input": [
      "f(x) == x^n*sin(x)"
     ],
     "language": "python",
     "metadata": {},
     "outputs": [
      {
       "metadata": {},
       "output_type": "display_data",
       "text": [
        "                                                                    Type: Void\r\n"
       ]
      }
     ],
     "prompt_number": 5
    },
    {
     "cell_type": "code",
     "collapsed": false,
     "input": [
      "D(f(x),x)"
     ],
     "language": "python",
     "metadata": {},
     "outputs": [
      {
       "latex": [
        "$\\def\\sp{^}\\def\\sb{_}\\def\\leqno(#1){}$$$\r\n",
        "{{\\cos \r\n",
        "\\left(\r\n",
        "{x} \r\n",
        "\\right)}\r\n",
        "\\  {{x} \\sp {n}}}+{n \\  {\\sin \r\n",
        "\\left(\r\n",
        "{x} \r\n",
        "\\right)}\r\n",
        "\\  {{x} \\sp {{n -1}}}} \r\n",
        "\\leqno(7)\r\n",
        "$$"
       ],
       "metadata": {},
       "output_type": "display_data",
       "text": [
        "    Compiling function f with type Variable(x) -> Expression(Integer) \r\n",
        "\r\n",
        "               n            n - 1\r\n",
        "   (7)  cos(x)x  + n sin(x)x\r\n",
        "$$\r\n",
        "{{\\cos \r\n",
        "\\left(\r\n",
        "{x} \r\n",
        "\\right)}\r\n",
        "\\  {{x} \\sp {n}}}+{n \\  {\\sin \r\n",
        "\\left(\r\n",
        "{x} \r\n",
        "\\right)}\r\n",
        "\\  {{x} \\sp {{n -1}}}} \r\n",
        "\\leqno(7)\r\n",
        "$$\r\n",
        "\r\n",
        "                                                    Type: Expression(Integer)\r\n"
       ]
      }
     ],
     "prompt_number": 6
    },
    {
     "cell_type": "code",
     "collapsed": false,
     "input": [
      "M := matrix([[%i,-1],[1,%i]])"
     ],
     "language": "python",
     "metadata": {},
     "outputs": [
      {
       "latex": [
        "$\\def\\sp{^}\\def\\sb{_}\\def\\leqno(#1){}$$$\r\n",
        "\\left[\r\n",
        "\\begin{array}{cc}\r\n",
        "i & -1 \\\\ \r\n",
        "1 & i \r\n",
        "\\end{array}\r\n",
        "\\right]\r\n",
        "\\leqno(8)\r\n",
        "$$"
       ],
       "metadata": {},
       "output_type": "display_data",
       "text": [
        " \r\n",
        "        +%i  - 1+\r\n",
        "   (8)  |       |\r\n",
        "        +1   %i +\r\n",
        "$$\r\n",
        "\\left[\r\n",
        "\\begin{array}{cc}\r\n",
        "i & -1 \\\\ \r\n",
        "1 & i \r\n",
        "\\end{array}\r\n",
        "\\right]\r\n",
        "\\leqno(8)\r\n",
        "$$\r\n",
        "\r\n",
        "                                               Type: Matrix(Complex(Integer))\r\n"
       ]
      }
     ],
     "prompt_number": 7
    },
    {
     "cell_type": "code",
     "collapsed": false,
     "input": [
      "M^2"
     ],
     "language": "python",
     "metadata": {},
     "outputs": [
      {
       "latex": [
        "$\\def\\sp{^}\\def\\sb{_}\\def\\leqno(#1){}$$$\r\n",
        "\\left[\r\n",
        "\\begin{array}{cc}\r\n",
        "-2 & -{2 \\  i} \\\\ \r\n",
        "{2 \\  i} & -2 \r\n",
        "\\end{array}\r\n",
        "\\right]\r\n",
        "\\leqno(9)\r\n",
        "$$"
       ],
       "metadata": {},
       "output_type": "display_data",
       "text": [
        " \r\n",
        "        +- 2  - 2%i+\r\n",
        "   (9)  |          |\r\n",
        "        +2%i   - 2 +\r\n",
        "$$\r\n",
        "\\left[\r\n",
        "\\begin{array}{cc}\r\n",
        "-2 & -{2 \\  i} \\\\ \r\n",
        "{2 \\  i} & -2 \r\n",
        "\\end{array}\r\n",
        "\\right]\r\n",
        "\\leqno(9)\r\n",
        "$$\r\n",
        "\r\n",
        "                                               Type: Matrix(Complex(Integer))\r\n"
       ]
      }
     ],
     "prompt_number": 8
    },
    {
     "cell_type": "code",
     "collapsed": false,
     "input": [
      ")help"
     ],
     "language": "python",
     "metadata": {},
     "outputs": [
      {
       "metadata": {},
       "output_type": "display_data",
       "text": [
        " ====================================================================\r\n",
        "A.12.  )help\r\n",
        "====================================================================\r\n",
        " \r\n",
        "User Level Required:  interpreter\r\n",
        " \r\n",
        "Command Syntax: \r\n",
        " \r\n",
        "  - )help\r\n",
        "  - )help commandName\r\n",
        "  - )help syntax\r\n",
        " \r\n",
        "Command Description: \r\n",
        " \r\n",
        "This command displays help information about system commands. If you issue\r\n",
        " \r\n",
        ")help\r\n",
        " \r\n",
        "then this very text will be shown. You can also give the name or abbreviation\r\n",
        "of a system command to display information about it. For example,\r\n",
        " \r\n",
        ")help clear\r\n",
        " \r\n",
        "will display the description of the )clear system command.\r\n",
        " \r\n",
        "The command\r\n",
        " \r\n",
        ")help syntax\r\n",
        " \r\n",
        "will give further information about the FriCAS language syntax.\r\n",
        " \r\n",
        "All this material is available in the FriCAS User Guide and in HyperDoc. In\r\n",
        "HyperDoc, choose the Commands item from the Reference menu.\r\n",
        " \r\n",
        "====================================================================\r\n",
        "A.1.  Introduction\r\n",
        "====================================================================\r\n",
        " \r\n",
        " \r\n",
        "System commands are used to perform FriCAS environment management. Among the\r\n",
        "commands are those that display what has been defined or computed, set up\r\n",
        "multiple logical FriCAS environments (frames), clear definitions, read files\r\n",
        "of expressions and commands, show what functions are available, and terminate\r\n",
        "FriCAS.\r\n",
        " \r\n",
        "Some commands are restricted: the commands\r\n",
        " \r\n",
        ")set userlevel interpreter\r\n",
        ")set userlevel compiler\r\n",
        ")set userlevel development\r\n",
        " \r\n",
        "set the user-access level to the three possible choices. All commands are\r\n",
        "available at development level and the fewest are available at interpreter\r\n",
        "level. The default user-level is interpreter. In addition to the )set command\r\n",
        "(discussed in description of command )set ) you can use the HyperDoc settings\r\n",
        "facility to change the user-level. Click on [Settings] to immediately go to\r\n",
        "the settings facility. \r\n",
        " \r\n",
        "Each command listing begins with one or more syntax pattern descriptions plus\r\n",
        "examples of related commands. The syntax descriptions are intended to be easy\r\n",
        "to read and do not necessarily represent the most compact way of specifying\r\n",
        "all possible arguments and options; the descriptions may occasionally be\r\n",
        "redundant.\r\n",
        " \r\n",
        "All system commands begin with a right parenthesis which should be in the\r\n",
        "first available column of the input line (that is, immediately after the\r\n",
        "input prompt, if any). System commands may be issued directly to FriCAS or be\r\n",
        "included in .input files.\r\n",
        " \r\n",
        "A system command argument is a word that directly follows the command name\r\n",
        "and is not followed or preceded by a right parenthesis. A system command\r\n",
        "option follows the system command and is directly preceded by a right\r\n",
        "parenthesis. Options may have arguments: they directly follow the option.\r\n",
        "This example may make it easier to remember what is an option and what is an\r\n",
        "argument:\r\n",
        " \r\n",
        "         )syscmd arg1 arg2 )opt1 opt1arg1 opt1arg2 )opt2 opt2arg1 ...\r\n",
        " \r\n",
        "In the system command descriptions, optional arguments and options are\r\n",
        "enclosed in brackets (``['' and ``]''). If an argument or option name is in\r\n",
        "italics, it is meant to be a variable and must have some actual value\r\n",
        "substituted for it when the system command call is made. For example, the\r\n",
        "syntax pattern description\r\n",
        " \r\n",
        ")read fileName [)quietly]\r\n",
        " \r\n",
        "would imply that you must provide an actual file name for fileName but need\r\n",
        "not use the )quietly option. Thus\r\n",
        " \r\n",
        ")read matrix.input\r\n",
        " \r\n",
        "is a valid instance of the above pattern.\r\n",
        " \r\n",
        "System command names and options may be abbreviated and may be in upper or\r\n",
        "lower case. The case of actual arguments may be significant, depending on the\r\n",
        "particular situation (such as in file names). System command names and\r\n",
        "options may be abbreviated to the minimum number of starting letters so that\r\n",
        "the name or option is unique. Thus\r\n",
        " \r\n",
        ")s Integer\r\n",
        " \r\n",
        "is not a valid abbreviation for the )set command, because both )set and )show\r\n",
        "begin with the letter ``s''. Typically, two or three letters are sufficient\r\n",
        "for disambiguating names. In our descriptions of the commands, we have used\r\n",
        "no abbreviations for either command names or options.\r\n",
        " \r\n",
        "In some syntax descriptions we use a vertical line ``|'' to indicate that you\r\n",
        "must specify one of the listed choices. For example, in\r\n",
        " \r\n",
        ")set output fortran on | off\r\n",
        " \r\n",
        "only on and off are acceptable words for following boot. We also sometimes\r\n",
        "use ``...'' to indicate that additional arguments or options of the listed\r\n",
        "form are allowed. Finally, in the syntax descriptions we may also list the\r\n",
        "syntax of related commands.\r\n",
        " \r\n"
       ]
      }
     ],
     "prompt_number": 10
    },
    {
     "cell_type": "code",
     "collapsed": false,
     "input": [
      "rank M"
     ],
     "language": "python",
     "metadata": {},
     "outputs": [
      {
       "latex": [
        "$\\def\\sp{^}\\def\\sb{_}\\def\\leqno(#1){}$$$\r\n",
        "1 \r\n",
        "\\leqno(10)\r\n",
        "$$"
       ],
       "metadata": {},
       "output_type": "display_data",
       "text": [
        " \r\n",
        "   (10)  1\r\n",
        "$$\r\n",
        "1 \r\n",
        "\\leqno(10)\r\n",
        "$$\r\n",
        "\r\n",
        "                                                        Type: PositiveInteger\r\n"
       ]
      }
     ],
     "prompt_number": 11
    },
    {
     "cell_type": "code",
     "collapsed": false,
     "input": [
      "M+M^2+M^3+M^4"
     ],
     "language": "python",
     "metadata": {},
     "outputs": [
      {
       "latex": [
        "$\\def\\sp{^}\\def\\sb{_}\\def\\leqno(#1){}$$$\r\n",
        "\\left[\r\n",
        "\\begin{array}{cc}\r\n",
        "{6 -{3 \\  i}} & {3+{6 \\  i}} \\\\ \r\n",
        "{-3 -{6 \\  i}} & {6 -{3 \\  i}} \r\n",
        "\\end{array}\r\n",
        "\\right]\r\n",
        "\\leqno(11)\r\n",
        "$$"
       ],
       "metadata": {},
       "output_type": "display_data",
       "text": [
        " \r\n",
        "         + 6 - 3%i   3 + 6%i+\r\n",
        "   (11)  |                  |\r\n",
        "         +- 3 - 6%i  6 - 3%i+\r\n",
        "$$\r\n",
        "\\left[\r\n",
        "\\begin{array}{cc}\r\n",
        "{6 -{3 \\  i}} & {3+{6 \\  i}} \\\\ \r\n",
        "{-3 -{6 \\  i}} & {6 -{3 \\  i}} \r\n",
        "\\end{array}\r\n",
        "\\right]\r\n",
        "\\leqno(11)\r\n",
        "$$\r\n",
        "\r\n",
        "                                               Type: Matrix(Complex(Integer))\r\n"
       ]
      }
     ],
     "prompt_number": 12
    },
    {
     "cell_type": "code",
     "collapsed": false,
     "input": [
      "D(f(z),z,4)"
     ],
     "language": "python",
     "metadata": {},
     "outputs": [
      {
       "latex": [
        "$\\def\\sp{^}\\def\\sb{_}\\def\\leqno(#1){}$$$\r\n",
        "{{\\sin \r\n",
        "\\left(\r\n",
        "{z} \r\n",
        "\\right)}\r\n",
        "\\  {{z} \\sp {n}}} -{4 \\  n \\  {\\cos \r\n",
        "\\left(\r\n",
        "{z} \r\n",
        "\\right)}\r\n",
        "\\  {{z} \\sp {{n -1}}}}+{{\\left( -{6 \\  {{n} \\sp {2}}}+{6 \\  n} \r\n",
        "\\right)}\r\n",
        "\\  {\\sin \r\n",
        "\\left(\r\n",
        "{z} \r\n",
        "\\right)}\r\n",
        "\\  {{z} \\sp {{n -2}}}}+{{\\left( {4 \\  {{n} \\sp {3}}} -{{12} \\  {{n} \\sp \r\n",
        "{2}}}+{8 \\  n} \r\n",
        "\\right)}\r\n",
        "\\  {\\cos \r\n",
        "\\left(\r\n",
        "{z} \r\n",
        "\\right)}\r\n",
        "\\  {{z} \\sp {{n -3}}}}+{{\\left( {{n} \\sp {4}} -{6 \\  {{n} \\sp {3}}}+{{11} \\  \r\n",
        "{{n} \\sp {2}}} -{6 \\  n} \r\n",
        "\\right)}\r\n",
        "\\  {\\sin \r\n",
        "\\left(\r\n",
        "{z} \r\n",
        "\\right)}\r\n",
        "\\  {{z} \\sp {{n -4}}}} \r\n",
        "\\leqno(12)\r\n",
        "$$"
       ],
       "metadata": {},
       "output_type": "display_data",
       "text": [
        "    Compiling function f with type Variable(z) -> Expression(Integer) \r\n",
        "\r\n",
        "   (12)\r\n",
        "            n             n - 1        2             n - 2\r\n",
        "     sin(z)z  - 4n cos(z)z      + (- 6n  + 6n)sin(z)z\r\n",
        "   + \r\n",
        "        3      2             n - 3     4     3      2             n - 4\r\n",
        "     (4n  - 12n  + 8n)cos(z)z      + (n  - 6n  + 11n  - 6n)sin(z)z\r\n",
        "$$\r\n",
        "{{\\sin \r\n",
        "\\left(\r\n",
        "{z} \r\n",
        "\\right)}\r\n",
        "\\  {{z} \\sp {n}}} -{4 \\  n \\  {\\cos \r\n",
        "\\left(\r\n",
        "{z} \r\n",
        "\\right)}\r\n",
        "\\  {{z} \\sp {{n -1}}}}+{{\\left( -{6 \\  {{n} \\sp {2}}}+{6 \\  n} \r\n",
        "\\right)}\r\n",
        "\\  {\\sin \r\n",
        "\\left(\r\n",
        "{z} \r\n",
        "\\right)}\r\n",
        "\\  {{z} \\sp {{n -2}}}}+{{\\left( {4 \\  {{n} \\sp {3}}} -{{12} \\  {{n} \\sp \r\n",
        "{2}}}+{8 \\  n} \r\n",
        "\\right)}\r\n",
        "\\  {\\cos \r\n",
        "\\left(\r\n",
        "{z} \r\n",
        "\\right)}\r\n",
        "\\  {{z} \\sp {{n -3}}}}+{{\\left( {{n} \\sp {4}} -{6 \\  {{n} \\sp {3}}}+{{11} \\  \r\n",
        "{{n} \\sp {2}}} -{6 \\  n} \r\n",
        "\\right)}\r\n",
        "\\  {\\sin \r\n",
        "\\left(\r\n",
        "{z} \r\n",
        "\\right)}\r\n",
        "\\  {{z} \\sp {{n -4}}}} \r\n",
        "\\leqno(12)\r\n",
        "$$\r\n",
        "\r\n",
        "                                                    Type: Expression(Integer)\r\n"
       ]
      }
     ],
     "prompt_number": 13
    },
    {
     "cell_type": "code",
     "collapsed": false,
     "input": [
      ")set output tex off"
     ],
     "language": "python",
     "metadata": {},
     "outputs": [
      {
       "metadata": {},
       "output_type": "display_data",
       "text": [
        " "
       ]
      }
     ],
     "prompt_number": 14
    },
    {
     "cell_type": "code",
     "collapsed": false,
     "input": [
      "M"
     ],
     "language": "python",
     "metadata": {},
     "outputs": [
      {
       "metadata": {},
       "output_type": "display_data",
       "text": [
        " \r\n",
        "         +%i  - 1+\r\n",
        "   (13)  |       |\r\n",
        "         +1   %i +\r\n",
        "                                               Type: Matrix(Complex(Integer))\r\n"
       ]
      }
     ],
     "prompt_number": 15
    },
    {
     "cell_type": "code",
     "collapsed": false,
     "input": [
      ")quit"
     ],
     "language": "python",
     "metadata": {},
     "outputs": [
      {
       "output_type": "stream",
       "stream": "stdout",
       "text": [
        "-- Bye. Kernel shutdown [lib.site-packages.ipython-3**.egg]"
       ]
      }
     ]
    },
    {
     "cell_type": "code",
     "collapsed": false,
     "input": [],
     "language": "python",
     "metadata": {},
     "outputs": []
    }
   ],
   "metadata": {}
  }
 ]
}