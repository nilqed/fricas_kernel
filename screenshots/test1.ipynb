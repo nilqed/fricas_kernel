{
 "cells": [
  {
   "cell_type": "code",
   "execution_count": 1,
   "metadata": {
    "collapsed": false
   },
   "outputs": [
    {
     "data": {
      "text/plain": [
       " \n",
       "Value = \"Wednesday August 5, 2009 at 19:05:50 \"\n"
      ]
     },
     "metadata": {},
     "output_type": "display_data"
    }
   ],
   "source": [
    ")version"
   ]
  },
  {
   "cell_type": "code",
   "execution_count": 2,
   "metadata": {
    "collapsed": false
   },
   "outputs": [
    {
     "data": {
      "text/plain": [
       " \n",
       "         8     6     4     2\n",
       "   (1)  x  + 4x  + 6x  + 4x  + 1\n",
       "                                                     Type: Polynomial Integer\n"
      ]
     },
     "metadata": {},
     "output_type": "display_data"
    }
   ],
   "source": [
    "(1+x^2)^4"
   ]
  },
  {
   "cell_type": "code",
   "execution_count": 3,
   "metadata": {
    "collapsed": false
   },
   "outputs": [
    {
     "data": {
      "text/plain": [
       " \n"
      ]
     },
     "metadata": {},
     "output_type": "display_data"
    }
   ],
   "source": [
    ")set output tex on"
   ]
  },
  {
   "cell_type": "code",
   "execution_count": 4,
   "metadata": {
    "collapsed": false
   },
   "outputs": [
    {
     "data": {
      "text/latex": [
       "$$\\def\\sp{^}\\def\\sb{_}\\def\\leqno(#1){}$$$$\\require{color}$$$$\n",
       "{\\color{black} \\normalsize \n",
       "{x \\sp 8}+{4 \\  {x \\sp 6}}+{6 \\  {x \\sp 4}}+{4 \\  {x \\sp 2}}+1 \n",
       "\\leqno(2)\n",
       "} \\\\[0.5ex] {\\color{blue} \\scriptsize \\text{Polynomial Integer}} \\\\\n",
       "$$"
      ],
      "text/plain": [
       " \n",
       "         8     6     4     2\n",
       "   (2)  x  + 4x  + 6x  + 4x  + 1\n",
       "$$\n",
       "{x \\sp 8}+{4 \\  {x \\sp 6}}+{6 \\  {x \\sp 4}}+{4 \\  {x \\sp 2}}+1 \n",
       "\\leqno(2)\n",
       "$$\n",
       "\n",
       "                                                     Type: Polynomial Integer\n"
      ]
     },
     "metadata": {},
     "output_type": "display_data"
    }
   ],
   "source": [
    "%"
   ]
  },
  {
   "cell_type": "code",
   "execution_count": 5,
   "metadata": {
    "collapsed": false
   },
   "outputs": [
    {
     "data": {
      "text/latex": [
       "$$\\def\\sp{^}\\def\\sb{_}\\def\\leqno(#1){}$$$$\\require{color}$$$$\n",
       "{\\color{black} \\normalsize \n",
       "\\left[\n",
       "\\begin{array}{cc}\n",
       "a & b \\\\ \n",
       "x & z \n",
       "\\end{array}\n",
       "\\right]\n",
       "\\leqno(3)\n",
       "} \\\\[0.5ex] {\\color{blue} \\scriptsize \\text{Matrix Polynomial Integer}} \\\\\n",
       "$$"
      ],
      "text/plain": [
       " \n",
       "        +a  b+\n",
       "   (3)  |    |\n",
       "        +x  z+\n",
       "$$\n",
       "\\left[\n",
       "\\begin{array}{cc}\n",
       "a & b \\\\ \n",
       "x & z \n",
       "\\end{array}\n",
       "\\right]\n",
       "\\leqno(3)\n",
       "$$\n",
       "\n",
       "                                              Type: Matrix Polynomial Integer\n"
      ]
     },
     "metadata": {},
     "output_type": "display_data"
    }
   ],
   "source": [
    "matrix [[a,b],[x,z]]"
   ]
  },
  {
   "cell_type": "code",
   "execution_count": 6,
   "metadata": {
    "collapsed": false
   },
   "outputs": [
    {
     "data": {
      "text/latex": [
       "$$\\def\\sp{^}\\def\\sb{_}\\def\\leqno(#1){}$$$$\\require{color}$$$$\n",
       "{\\color{black} \\normalsize \n",
       "{x \\sp 2}+2 \n",
       "\\leqno(4)\n",
       "} \\\\[0.5ex] {\\color{blue} \\scriptsize \\text{Polynomial Integer}} \\\\\n",
       "$$"
      ],
      "text/plain": [
       " \n",
       "         2\n",
       "   (4)  x  + 2\n",
       "$$\n",
       "{x \\sp 2}+2 \n",
       "\\leqno(4)\n",
       "$$\n",
       "\n",
       "                                                     Type: Polynomial Integer\n"
      ]
     },
     "metadata": {},
     "output_type": "display_data"
    }
   ],
   "source": [
    "x^2+2"
   ]
  },
  {
   "cell_type": "code",
   "execution_count": 7,
   "metadata": {
    "collapsed": false
   },
   "outputs": [
    {
     "data": {
      "text/latex": [
       "$$\\def\\sp{^}\\def\\sb{_}\\def\\leqno(#1){}$$$$\\require{color}$$$$\n",
       "{\\color{black} \\normalsize \n",
       "{5 \\  {y \\sp 4} \\  {\\sin \n",
       "\\left(\n",
       "{y} \n",
       "\\right)}}+{{y\n",
       "\\sp 5} \\  {\\cos \n",
       "\\left(\n",
       "{y} \n",
       "\\right)}}\n",
       "\\leqno(5)\n",
       "} \\\\[0.5ex] {\\color{blue} \\scriptsize \\text{Expression Integer}} \\\\\n",
       "$$"
      ],
      "text/plain": [
       " \n",
       "          4          5\n",
       "   (5)  5y sin(y) + y cos(y)\n",
       "$$\n",
       "{5 \\  {y \\sp 4} \\  {\\sin \n",
       "\\left(\n",
       "{y} \n",
       "\\right)}}+{{y\n",
       "\\sp 5} \\  {\\cos \n",
       "\\left(\n",
       "{y} \n",
       "\\right)}}\n",
       "\\leqno(5)\n",
       "$$\n",
       "\n",
       "                                                     Type: Expression Integer\n"
      ]
     },
     "metadata": {},
     "output_type": "display_data"
    }
   ],
   "source": [
    "D(y^5*sin(y),y)"
   ]
  },
  {
   "cell_type": "code",
   "execution_count": 8,
   "metadata": {
    "collapsed": false
   },
   "outputs": [
    {
     "data": {
      "text/latex": [
       "$$\\def\\sp{^}\\def\\sb{_}\\def\\leqno(#1){}$$$$\\require{color}$$$$\n",
       "{\\color{black} \\normalsize \n",
       "x \\sp n \n",
       "\\leqno(6)\n",
       "} \\\\[0.5ex] {\\color{blue} \\scriptsize \\text{Expression Integer}} \\\\\n",
       "\n",
       "{\\color{black} \\normalsize \n",
       "y \\sp 5 \n",
       "\\leqno(7)\n",
       "} \\\\[0.5ex] {\\color{blue} \\scriptsize \\text{Polynomial Integer}} \\\\\n",
       "\n",
       "{\\color{black} \\normalsize \n",
       "a \\sp 4 \n",
       "\\leqno(8)\n",
       "} \\\\[0.5ex] {\\color{blue} \\scriptsize \\text{Polynomial Integer}} \\\\\n",
       "\n",
       "{\\color{black} \\normalsize \n",
       "f+2 \n",
       "\\leqno(9)\n",
       "} \\\\[0.5ex] {\\color{blue} \\scriptsize \\text{Polynomial Integer}} \\\\\n",
       "$$"
      ],
      "text/plain": [
       " \n",
       "         n\n",
       "   (6)  x\n",
       "$$\n",
       "x \\sp n \n",
       "\\leqno(6)\n",
       "$$\n",
       "\n",
       "                                                     Type: Expression Integer\n",
       "\n",
       "         5\n",
       "   (7)  y\n",
       "$$\n",
       "y \\sp 5 \n",
       "\\leqno(7)\n",
       "$$\n",
       "\n",
       "                                                     Type: Polynomial Integer\n",
       "\n",
       "         4\n",
       "   (8)  a\n",
       "$$\n",
       "a \\sp 4 \n",
       "\\leqno(8)\n",
       "$$\n",
       "\n",
       "                                                     Type: Polynomial Integer\n",
       "\n",
       "   (9)  f + 2\n",
       "$$\n",
       "f+2 \n",
       "\\leqno(9)\n",
       "$$\n",
       "\n",
       "                                                     Type: Polynomial Integer\n"
      ]
     },
     "metadata": {},
     "output_type": "display_data"
    }
   ],
   "source": [
    "x^n\n",
    "y^5\n",
    "a^4\n",
    "f+2"
   ]
  },
  {
   "cell_type": "code",
   "execution_count": 9,
   "metadata": {
    "collapsed": false
   },
   "outputs": [
    {
     "data": {
      "text/latex": [
       "$$\\def\\sp{^}\\def\\sb{_}\\def\\leqno(#1){}$$$$\\require{color}$$$$\n",
       "{\\color{black} \\normalsize \n",
       "{\\sin \n",
       "\\left(\n",
       "{{12}} \n",
       "\\right)}+1\n",
       "\\leqno(10)\n",
       "} \\\\[0.5ex] {\\color{blue} \\scriptsize \\text{Expression Integer}} \\\\\n",
       "\n",
       "{\\color{black} \\normalsize \n",
       "{x \\  {\\sin \n",
       "\\left(\n",
       "{{12}} \n",
       "\\right)}}+x\n",
       "\\leqno(11)\n",
       "} \\\\[0.5ex] {\\color{blue} \\scriptsize \\text{Expression Integer}} \\\\\n",
       "\n",
       "{\\color{black} \\normalsize \n",
       "{\\left( {x \\  {\\sin \n",
       "\\left(\n",
       "{{12}} \n",
       "\\right)}}+x\n",
       "\\right)}\n",
       "\\sp {\\left( {\\sin \n",
       "\\left(\n",
       "{{12}} \n",
       "\\right)}+1\n",
       "\\right)}\n",
       "\\leqno(12)\n",
       "} \\\\[0.5ex] {\\color{blue} \\scriptsize \\text{Expression Integer}} \\\\\n",
       "\n",
       "{\\color{black} \\normalsize \n",
       "\\left[\n",
       "1, \\: 2, \\: 3, \\: 4 \n",
       "\\right]\n",
       "\\leqno(13)\n",
       "} \\\\[0.5ex] {\\color{blue} \\scriptsize \\text{Vector PositiveInteger}} \\\\\n",
       "\n",
       "{\\color{black} \\normalsize \n",
       "vecotr \\sb {{{\\sin \n",
       "\\left(\n",
       "{{12}} \n",
       "\\right)}+1},\n",
       "\\: {{x \\  {\\sin \n",
       "\\left(\n",
       "{{12}} \n",
       "\\right)}}+x},\n",
       "\\: {{\\left( {x \\  {\\sin \n",
       "\\left(\n",
       "{{12}} \n",
       "\\right)}}+x\n",
       "\\right)}\n",
       "\\sp {\\left( {\\sin \n",
       "\\left(\n",
       "{{12}} \n",
       "\\right)}+1\n",
       "\\right)}},\n",
       "\\: {\\left[ 1, \\: 2, \\: 3, \\: 4 \n",
       "\\right]}}\n",
       "\\leqno(14)\n",
       "} \\\\[0.5ex] {\\color{blue} \\scriptsize \\text{Symbol}} \\\\\n",
       "$$"
      ],
      "text/plain": [
       " \n",
       "   (10)  sin(12) + 1\n",
       "$$\n",
       "{\\sin \n",
       "\\left(\n",
       "{{12}} \n",
       "\\right)}+1\n",
       "\\leqno(10)\n",
       "$$\n",
       "\n",
       "                                                     Type: Expression Integer\n",
       "\n",
       "   (11)  x sin(12) + x\n",
       "$$\n",
       "{x \\  {\\sin \n",
       "\\left(\n",
       "{{12}} \n",
       "\\right)}}+x\n",
       "\\leqno(11)\n",
       "$$\n",
       "\n",
       "                                                     Type: Expression Integer\n",
       "\n",
       "                        sin(12) + 1\n",
       "   (12)  (x sin(12) + x)\n",
       "$$\n",
       "{\\left( {x \\  {\\sin \n",
       "\\left(\n",
       "{{12}} \n",
       "\\right)}}+x\n",
       "\\right)}\n",
       "\\sp {\\left( {\\sin \n",
       "\\left(\n",
       "{{12}} \n",
       "\\right)}+1\n",
       "\\right)}\n",
       "\\leqno(12)\n",
       "$$\n",
       "\n",
       "                                                     Type: Expression Integer\n",
       "\n",
       "   (13)  [1,2,3,4]\n",
       "$$\n",
       "\\left[\n",
       "1, \\: 2, \\: 3, \\: 4 \n",
       "\\right]\n",
       "\\leqno(13)\n",
       "$$\n",
       "\n",
       "                                                 Type: Vector PositiveInteger\n",
       "\n",
       "   (14)  vecotr\n",
       "                                                        sin(12) + 1\n",
       "               sin(12) + 1,x sin(12) + x,(x sin(12) + x)           ,[1,2,3,4]\n",
       "$$\n",
       "vecotr \\sb {{{\\sin \n",
       "\\left(\n",
       "{{12}} \n",
       "\\right)}+1},\n",
       "\\: {{x \\  {\\sin \n",
       "\\left(\n",
       "{{12}} \n",
       "\\right)}}+x},\n",
       "\\: {{\\left( {x \\  {\\sin \n",
       "\\left(\n",
       "{{12}} \n",
       "\\right)}}+x\n",
       "\\right)}\n",
       "\\sp {\\left( {\\sin \n",
       "\\left(\n",
       "{{12}} \n",
       "\\right)}+1\n",
       "\\right)}},\n",
       "\\: {\\left[ 1, \\: 2, \\: 3, \\: 4 \n",
       "\\right]}}\n",
       "\\leqno(14)\n",
       "$$\n",
       "\n",
       "                                                                 Type: Symbol\n"
      ]
     },
     "metadata": {},
     "output_type": "display_data"
    }
   ],
   "source": [
    "A:=sin(12)+1\n",
    "B:=x*A\n",
    "C:=B^A\n",
    "D:=vector [1,2,3,4]\n",
    "E:=vecotr [A,B,C,D]"
   ]
  },
  {
   "cell_type": "code",
   "execution_count": 10,
   "metadata": {
    "collapsed": false
   },
   "outputs": [
    {
     "data": {
      "text/plain": [
       "    There are no library operations named winss \n",
       "      Use HyperDoc Browse or issue\n",
       "                               )what op winss\n",
       "      to learn if there is any operation containing \" winss \" in its \n",
       "      name.\n",
       " \n",
       "   Cannot find a definition or applicable library operation named winss\n",
       "      with argument type(s) \n",
       "                                 Variable ss\n",
       "      \n",
       "      Perhaps you should use \"@\" to indicate the required return type, \n",
       "      or \"$\" to specify which version of the function you need.\n"
      ]
     },
     "metadata": {},
     "output_type": "display_data"
    }
   ],
   "source": [
    "so winss ss"
   ]
  },
  {
   "cell_type": "code",
   "execution_count": 11,
   "metadata": {
    "collapsed": false
   },
   "outputs": [
    {
     "data": {
      "text/latex": [
       "$$\\def\\sp{^}\\def\\sb{_}\\def\\leqno(#1){}$$$$\\require{color}$$$$\n",
       "{\\color{black} \\normalsize \n",
       "vecotr \\sb {{{\\sin \n",
       "\\left(\n",
       "{{12}} \n",
       "\\right)}+1},\n",
       "\\: {{x \\  {\\sin \n",
       "\\left(\n",
       "{{12}} \n",
       "\\right)}}+x},\n",
       "\\: {{\\left( {x \\  {\\sin \n",
       "\\left(\n",
       "{{12}} \n",
       "\\right)}}+x\n",
       "\\right)}\n",
       "\\sp {\\left( {\\sin \n",
       "\\left(\n",
       "{{12}} \n",
       "\\right)}+1\n",
       "\\right)}},\n",
       "\\: {\\left[ 1, \\: 2, \\: 3, \\: 4 \n",
       "\\right]}}\n",
       "\\leqno(15)\n",
       "} \\\\[0.5ex] {\\color{blue} \\scriptsize \\text{Symbol}} \\\\\n",
       "$$"
      ],
      "text/plain": [
       " \n",
       "   (15)  vecotr\n",
       "                                                        sin(12) + 1\n",
       "               sin(12) + 1,x sin(12) + x,(x sin(12) + x)           ,[1,2,3,4]\n",
       "$$\n",
       "vecotr \\sb {{{\\sin \n",
       "\\left(\n",
       "{{12}} \n",
       "\\right)}+1},\n",
       "\\: {{x \\  {\\sin \n",
       "\\left(\n",
       "{{12}} \n",
       "\\right)}}+x},\n",
       "\\: {{\\left( {x \\  {\\sin \n",
       "\\left(\n",
       "{{12}} \n",
       "\\right)}}+x\n",
       "\\right)}\n",
       "\\sp {\\left( {\\sin \n",
       "\\left(\n",
       "{{12}} \n",
       "\\right)}+1\n",
       "\\right)}},\n",
       "\\: {\\left[ 1, \\: 2, \\: 3, \\: 4 \n",
       "\\right]}}\n",
       "\\leqno(15)\n",
       "$$\n",
       "\n",
       "                                                                 Type: Symbol\n"
      ]
     },
     "metadata": {},
     "output_type": "display_data"
    }
   ],
   "source": [
    "%"
   ]
  },
  {
   "cell_type": "code",
   "execution_count": 12,
   "metadata": {
    "collapsed": false
   },
   "outputs": [
    {
     "data": {
      "text/latex": [
       "$$\\def\\sp{^}\\def\\sb{_}\\def\\leqno(#1){}$$$$\\require{color}$$$$\n",
       "{\\color{black} \\normalsize \n",
       "\\left[\n",
       "what, \\: a, \\: mess \n",
       "\\right]\n",
       "\\leqno(16)\n",
       "} \\\\[0.5ex] {\\color{blue} \\scriptsize \\text{List OrderedVariableList}} \\\\\n",
       "$$"
      ],
      "text/plain": [
       " \n",
       "   (16)  [what,a,mess]\n",
       "$$\n",
       "\\left[\n",
       "what, \\: a, \\: mess \n",
       "\\right]\n",
       "\\leqno(16)\n",
       "$$\n",
       "\n",
       "                                 Type: List OrderedVariableList [what,a,mess]\n"
      ]
     },
     "metadata": {},
     "output_type": "display_data"
    }
   ],
   "source": [
    "[what, a, mess]"
   ]
  },
  {
   "cell_type": "code",
   "execution_count": 13,
   "metadata": {
    "collapsed": false
   },
   "outputs": [
    {
     "data": {
      "text/latex": [
       "$$\\def\\sp{^}\\def\\sb{_}\\def\\leqno(#1){}$$$$\\require{color}$$$$\n",
       "{\\color{black} \\normalsize \n",
       "\\left[\n",
       "what, \\: a, \\: mess \n",
       "\\right]\n",
       "\\leqno(17)\n",
       "} \\\\[0.5ex] {\\color{blue} \\scriptsize \\text{List OrderedVariableList}} \\\\\n",
       "$$"
      ],
      "text/plain": [
       " \n",
       "   (17)  [what,a,mess]\n",
       "$$\n",
       "\\left[\n",
       "what, \\: a, \\: mess \n",
       "\\right]\n",
       "\\leqno(17)\n",
       "$$\n",
       "\n",
       "                                 Type: List OrderedVariableList [what,a,mess]\n"
      ]
     },
     "metadata": {},
     "output_type": "display_data"
    }
   ],
   "source": [
    "%"
   ]
  },
  {
   "cell_type": "code",
   "execution_count": 14,
   "metadata": {
    "collapsed": false
   },
   "outputs": [
    {
     "data": {
      "text/latex": [
       "$$\\def\\sp{^}\\def\\sb{_}\\def\\leqno(#1){}$$$$\\require{color}$$$$\n",
       "{\\color{black} \\normalsize \n",
       "\\left[\n",
       "0 \n",
       "\\right]\n",
       "\\leqno(18)\n",
       "} \\\\[0.5ex] {\\color{blue} \\scriptsize \\text{Vector NonNegativeInteger}} \\\\\n",
       "$$"
      ],
      "text/plain": [
       " \n",
       "   (18)  [0]\n",
       "$$\n",
       "\\left[\n",
       "0 \n",
       "\\right]\n",
       "\\leqno(18)\n",
       "$$\n",
       "\n",
       "                                              Type: Vector NonNegativeInteger\n"
      ]
     },
     "metadata": {},
     "output_type": "display_data"
    }
   ],
   "source": [
    "vector [0]"
   ]
  },
  {
   "cell_type": "code",
   "execution_count": 15,
   "metadata": {
    "collapsed": false
   },
   "outputs": [
    {
     "data": {
      "text/latex": [
       "$$\\def\\sp{^}\\def\\sb{_}\\def\\leqno(#1){}$$$$\\require{color}$$$$\n",
       "{\\color{black} \\normalsize \n",
       "\\pi \\over 2 \n",
       "\\leqno(19)\n",
       "} \\\\[0.5ex] {\\color{blue} \\scriptsize \\text{PartialFraction Pi}} \\\\\n",
       "$$"
      ],
      "text/plain": [
       " \n",
       "         %pi\n",
       "   (19)  ---\n",
       "          2\n",
       "$$\n",
       "\\pi \\over 2 \n",
       "\\leqno(19)\n",
       "$$\n",
       "\n",
       "                                                     Type: PartialFraction Pi\n"
      ]
     },
     "metadata": {},
     "output_type": "display_data"
    }
   ],
   "source": [
    "partialFraction(%pi,2)"
   ]
  },
  {
   "cell_type": "code",
   "execution_count": 16,
   "metadata": {
    "collapsed": false
   },
   "outputs": [
    {
     "data": {
      "text/latex": [
       "$$\\def\\sp{^}\\def\\sb{_}\\def\\leqno(#1){}$$$$\\require{color}$$$$\n",
       "{\\color{black} \\normalsize \n",
       "3+ \\zag{1}{7}+ \\zag{1}{{15}}+ \\zag{1}{1}+ \\zag{1}{{292}}+ \\zag{1}{1}+ \n",
       "\\zag{1}{1}+ \\zag{1}{1}+ \\zag{1}{2}+ \\zag{1}{1}+ \\zag{1}{3}+\\ldots \n",
       "\\leqno(20)\n",
       "} \\\\[0.5ex] {\\color{blue} \\scriptsize \\text{ContinuedFraction Integer}} \\\\\n",
       "$$"
      ],
      "text/plain": [
       " \n",
       "   (20)\n",
       "           1 |     1  |     1 |      1  |     1 |     1 |     1 |     1 |\n",
       "     3 + +---+ + +----+ + +---+ + +-----+ + +---+ + +---+ + +---+ + +---+\n",
       "         | 7     | 15     | 1     | 292     | 1     | 1     | 1     | 2\n",
       "   + \n",
       "       1 |     1 |\n",
       "     +---+ + +---+ + ...\n",
       "     | 1     | 3\n",
       "$$\n",
       "3+ \\zag{1}{7}+ \\zag{1}{{15}}+ \\zag{1}{1}+ \\zag{1}{{292}}+ \\zag{1}{1}+ \n",
       "\\zag{1}{1}+ \\zag{1}{1}+ \\zag{1}{2}+ \\zag{1}{1}+ \\zag{1}{3}+\\ldots \n",
       "\\leqno(20)\n",
       "$$\n",
       "\n",
       "                                              Type: ContinuedFraction Integer\n"
      ]
     },
     "metadata": {},
     "output_type": "display_data"
    }
   ],
   "source": [
    "continuedFraction %pi"
   ]
  },
  {
   "cell_type": "code",
   "execution_count": 17,
   "metadata": {
    "collapsed": false
   },
   "outputs": [
    {
     "data": {
      "text/latex": [
       "$$\\def\\sp{^}\\def\\sb{_}\\def\\leqno(#1){}$$$$\\require{color}$$$$\n",
       "{\\color{black} \\normalsize \n",
       "{x \\sp {25}}+{{25} \\  {x \\sp {24}}}+{{300} \\  {x \\sp {23}}}+{{2300} \\  {x \\sp \n",
       "{22}}}+{{12650} \\  {x \\sp {21}}}+{{53130} \\  {x \\sp {20}}}+{{177100} \\  {x \n",
       "\\sp {19}}}+{{480700} \\  {x \\sp {18}}}+{{1081575} \\  {x \\sp {17}}}+{{2042975} \n",
       "\\  {x \\sp {16}}}+{{3268760} \\  {x \\sp {15}}}+{{4457400} \\  {x \\sp \n",
       "{14}}}+{{5200300} \\  {x \\sp {13}}}+{{5200300} \\  {x \\sp {12}}}+{{4457400} \\  \n",
       "{x \\sp {11}}}+{{3268760} \\  {x \\sp {10}}}+{{2042975} \\  {x \\sp 9}}+{{1081575} \n",
       "\\  {x \\sp 8}}+{{480700} \\  {x \\sp 7}}+{{177100} \\  {x \\sp 6}}+{{53130} \\  {x \n",
       "\\sp 5}}+{{12650} \\  {x \\sp 4}}+{{2300} \\  {x \\sp 3}}+{{300} \\  {x \\sp \n",
       "2}}+{{25} \\  x}+1 \n",
       "\\leqno(21)\n",
       "} \\\\[0.5ex] {\\color{blue} \\scriptsize \\text{Polynomial Integer}} \\\\\n",
       "$$"
      ],
      "text/plain": [
       " \n",
       "   (21)\n",
       "      25      24       23        22         21         20          19\n",
       "     x   + 25x   + 300x   + 2300x   + 12650x   + 53130x   + 177100x\n",
       "   + \n",
       "            18           17           16           15           14           13\n",
       "     480700x   + 1081575x   + 2042975x   + 3268760x   + 4457400x   + 5200300x\n",
       "   + \n",
       "             12           11           10           9           8          7\n",
       "     5200300x   + 4457400x   + 3268760x   + 2042975x  + 1081575x  + 480700x\n",
       "   + \n",
       "            6         5         4        3       2\n",
       "     177100x  + 53130x  + 12650x  + 2300x  + 300x  + 25x + 1\n",
       "$$\n",
       "{x \\sp {25}}+{{25} \\  {x \\sp {24}}}+{{300} \\  {x \\sp {23}}}+{{2300} \\  {x \\sp \n",
       "{22}}}+{{12650} \\  {x \\sp {21}}}+{{53130} \\  {x \\sp {20}}}+{{177100} \\  {x \n",
       "\\sp {19}}}+{{480700} \\  {x \\sp {18}}}+{{1081575} \\  {x \\sp {17}}}+{{2042975} \n",
       "\\  {x \\sp {16}}}+{{3268760} \\  {x \\sp {15}}}+{{4457400} \\  {x \\sp \n",
       "{14}}}+{{5200300} \\  {x \\sp {13}}}+{{5200300} \\  {x \\sp {12}}}+{{4457400} \\  \n",
       "{x \\sp {11}}}+{{3268760} \\  {x \\sp {10}}}+{{2042975} \\  {x \\sp 9}}+{{1081575} \n",
       "\\  {x \\sp 8}}+{{480700} \\  {x \\sp 7}}+{{177100} \\  {x \\sp 6}}+{{53130} \\  {x \n",
       "\\sp 5}}+{{12650} \\  {x \\sp 4}}+{{2300} \\  {x \\sp 3}}+{{300} \\  {x \\sp \n",
       "2}}+{{25} \\  x}+1 \n",
       "\\leqno(21)\n",
       "$$\n",
       "\n",
       "                                                     Type: Polynomial Integer\n"
      ]
     },
     "metadata": {},
     "output_type": "display_data"
    }
   ],
   "source": [
    "(1+x)^25"
   ]
  },
  {
   "cell_type": "code",
   "execution_count": 18,
   "metadata": {
    "collapsed": false
   },
   "outputs": [
    {
     "data": {
      "text/latex": [
       "$$\\def\\sp{^}\\def\\sb{_}\\def\\leqno(#1){}$$$$\\require{color}$$$$\n",
       "{\\color{black} \\normalsize \n",
       "\\left\\{\n",
       "{{\\sin \n",
       "\\left(\n",
       "{{y+x}} \n",
       "\\right)}\n",
       "\\mbox{\\rm == } {{{\\cos \n",
       "\\left(\n",
       "{x} \n",
       "\\right)}\n",
       "\\  {\\sin \n",
       "\\left(\n",
       "{y} \n",
       "\\right)}}+{{\\cos\n",
       "\\left(\n",
       "{y} \n",
       "\\right)}\n",
       "\\  {\\sin \n",
       "\\left(\n",
       "{x} \n",
       "\\right)}}}},\n",
       "\\: {{\\cos \n",
       "\\left(\n",
       "{{y+x}} \n",
       "\\right)}\n",
       "\\mbox{\\rm == } {-{{\\sin \n",
       "\\left(\n",
       "{x} \n",
       "\\right)}\n",
       "\\  {\\sin \n",
       "\\left(\n",
       "{y} \n",
       "\\right)}}+{{\\cos\n",
       "\\left(\n",
       "{x} \n",
       "\\right)}\n",
       "\\  {\\cos \n",
       "\\left(\n",
       "{y} \n",
       "\\right)}}}},\n",
       "\\: {{\\sin \n",
       "\\left(\n",
       "{{2 \\  x}} \n",
       "\\right)}\n",
       "\\mbox{\\rm == } {2 \\  {\\cos \n",
       "\\left(\n",
       "{x} \n",
       "\\right)}\n",
       "\\  {\\sin \n",
       "\\left(\n",
       "{x} \n",
       "\\right)}}},\n",
       "\\: {{\\cos \n",
       "\\left(\n",
       "{{2 \\  x}} \n",
       "\\right)}\n",
       "\\mbox{\\rm == } {-{{\\sin \n",
       "\\left(\n",
       "{x} \n",
       "\\right)}\n",
       "\\sp 2}+{{\\cos \n",
       "\\left(\n",
       "{x} \n",
       "\\right)}\n",
       "\\sp 2}}} \n",
       "\\right\\}\n",
       "\\leqno(22)\n",
       "} \\\\[0.5ex] {\\color{blue} \\scriptsize \\text{Ruleset(Integer}} \\\\\n",
       "$$"
      ],
      "text/plain": [
       " \n",
       "   (22)\n",
       "   {sin(y + x) == cos(x)sin(y) + cos(y)sin(x),\n",
       "    cos(y + x) == - sin(x)sin(y) + cos(x)cos(y), sin(2x) == 2cos(x)sin(x),\n",
       "                       2         2\n",
       "    cos(2x) == - sin(x)  + cos(x) }\n",
       "$$\n",
       "\\left\\{\n",
       "{{\\sin \n",
       "\\left(\n",
       "{{y+x}} \n",
       "\\right)}\n",
       "\\mbox{\\rm == } {{{\\cos \n",
       "\\left(\n",
       "{x} \n",
       "\\right)}\n",
       "\\  {\\sin \n",
       "\\left(\n",
       "{y} \n",
       "\\right)}}+{{\\cos\n",
       "\\left(\n",
       "{y} \n",
       "\\right)}\n",
       "\\  {\\sin \n",
       "\\left(\n",
       "{x} \n",
       "\\right)}}}},\n",
       "\\: {{\\cos \n",
       "\\left(\n",
       "{{y+x}} \n",
       "\\right)}\n",
       "\\mbox{\\rm == } {-{{\\sin \n",
       "\\left(\n",
       "{x} \n",
       "\\right)}\n",
       "\\  {\\sin \n",
       "\\left(\n",
       "{y} \n",
       "\\right)}}+{{\\cos\n",
       "\\left(\n",
       "{x} \n",
       "\\right)}\n",
       "\\  {\\cos \n",
       "\\left(\n",
       "{y} \n",
       "\\right)}}}},\n",
       "\\: {{\\sin \n",
       "\\left(\n",
       "{{2 \\  x}} \n",
       "\\right)}\n",
       "\\mbox{\\rm == } {2 \\  {\\cos \n",
       "\\left(\n",
       "{x} \n",
       "\\right)}\n",
       "\\  {\\sin \n",
       "\\left(\n",
       "{x} \n",
       "\\right)}}},\n",
       "\\: {{\\cos \n",
       "\\left(\n",
       "{{2 \\  x}} \n",
       "\\right)}\n",
       "\\mbox{\\rm == } {-{{\\sin \n",
       "\\left(\n",
       "{x} \n",
       "\\right)}\n",
       "\\sp 2}+{{\\cos \n",
       "\\left(\n",
       "{x} \n",
       "\\right)}\n",
       "\\sp 2}}} \n",
       "\\right\\}\n",
       "\\leqno(22)\n",
       "$$\n",
       "\n",
       "                            Type: Ruleset(Integer,Integer,Expression Integer)\n"
      ]
     },
     "metadata": {},
     "output_type": "display_data"
    }
   ],
   "source": [
    "sinCosExpandRules := rule\n",
    "    sin (x+y) == sin (x)*cos (y) + sin (y)*cos (x)\n",
    "    cos (x+y) == cos (x)*cos (y) - sin (x)*sin (y)\n",
    "    sin (2* x) == 2* sin (x)*cos (x)\n",
    "    cos (2* x) == cos (x)^2 - sin (x)^2"
   ]
  },
  {
   "cell_type": "code",
   "execution_count": 19,
   "metadata": {
    "collapsed": false
   },
   "outputs": [
    {
     "data": {
      "text/latex": [
       "$$\\def\\sp{^}\\def\\sb{_}\\def\\leqno(#1){}$$$$\\require{color}$$$$\n",
       "{\\color{black} \\normalsize \n",
       "{{\\left( -{{\\cos \n",
       "\\left(\n",
       "{a} \n",
       "\\right)}\n",
       "\\  {{\\sin \n",
       "\\left(\n",
       "{b} \n",
       "\\right)}\n",
       "\\sp 2}} -{2 \\  {\\cos \n",
       "\\left(\n",
       "{b} \n",
       "\\right)}\n",
       "\\  {\\sin \n",
       "\\left(\n",
       "{a} \n",
       "\\right)}\n",
       "\\  {\\sin \n",
       "\\left(\n",
       "{b} \n",
       "\\right)}}+{{\\cos\n",
       "\\left(\n",
       "{a} \n",
       "\\right)}\n",
       "\\  {{\\cos \n",
       "\\left(\n",
       "{b} \n",
       "\\right)}\n",
       "\\sp 2}} \n",
       "\\right)}\n",
       "\\  {\\sin \n",
       "\\left(\n",
       "{c} \n",
       "\\right)}}\n",
       "-{{\\cos \n",
       "\\left(\n",
       "{c} \n",
       "\\right)}\n",
       "\\  {\\sin \n",
       "\\left(\n",
       "{a} \n",
       "\\right)}\n",
       "\\  {{\\sin \n",
       "\\left(\n",
       "{b} \n",
       "\\right)}\n",
       "\\sp 2}}+{2 \\  {\\cos \n",
       "\\left(\n",
       "{a} \n",
       "\\right)}\n",
       "\\  {\\cos \n",
       "\\left(\n",
       "{b} \n",
       "\\right)}\n",
       "\\  {\\cos \n",
       "\\left(\n",
       "{c} \n",
       "\\right)}\n",
       "\\  {\\sin \n",
       "\\left(\n",
       "{b} \n",
       "\\right)}}+{{{\\cos\n",
       "\\left(\n",
       "{b} \n",
       "\\right)}\n",
       "\\sp 2} \\  {\\cos \n",
       "\\left(\n",
       "{c} \n",
       "\\right)}\n",
       "\\  {\\sin \n",
       "\\left(\n",
       "{a} \n",
       "\\right)}}\n",
       "\\leqno(23)\n",
       "} \\\\[0.5ex] {\\color{blue} \\scriptsize \\text{Expression Integer}} \\\\\n",
       "$$"
      ],
      "text/plain": [
       " \n",
       "   (23)\n",
       "                    2                                     2\n",
       "     (- cos(a)sin(b)  - 2cos(b)sin(a)sin(b) + cos(a)cos(b) )sin(c)\n",
       "   + \n",
       "                         2                                     2\n",
       "     - cos(c)sin(a)sin(b)  + 2cos(a)cos(b)cos(c)sin(b) + cos(b) cos(c)sin(a)\n",
       "$$\n",
       "{{\\left( -{{\\cos \n",
       "\\left(\n",
       "{a} \n",
       "\\right)}\n",
       "\\  {{\\sin \n",
       "\\left(\n",
       "{b} \n",
       "\\right)}\n",
       "\\sp 2}} -{2 \\  {\\cos \n",
       "\\left(\n",
       "{b} \n",
       "\\right)}\n",
       "\\  {\\sin \n",
       "\\left(\n",
       "{a} \n",
       "\\right)}\n",
       "\\  {\\sin \n",
       "\\left(\n",
       "{b} \n",
       "\\right)}}+{{\\cos\n",
       "\\left(\n",
       "{a} \n",
       "\\right)}\n",
       "\\  {{\\cos \n",
       "\\left(\n",
       "{b} \n",
       "\\right)}\n",
       "\\sp 2}} \n",
       "\\right)}\n",
       "\\  {\\sin \n",
       "\\left(\n",
       "{c} \n",
       "\\right)}}\n",
       "-{{\\cos \n",
       "\\left(\n",
       "{c} \n",
       "\\right)}\n",
       "\\  {\\sin \n",
       "\\left(\n",
       "{a} \n",
       "\\right)}\n",
       "\\  {{\\sin \n",
       "\\left(\n",
       "{b} \n",
       "\\right)}\n",
       "\\sp 2}}+{2 \\  {\\cos \n",
       "\\left(\n",
       "{a} \n",
       "\\right)}\n",
       "\\  {\\cos \n",
       "\\left(\n",
       "{b} \n",
       "\\right)}\n",
       "\\  {\\cos \n",
       "\\left(\n",
       "{c} \n",
       "\\right)}\n",
       "\\  {\\sin \n",
       "\\left(\n",
       "{b} \n",
       "\\right)}}+{{{\\cos\n",
       "\\left(\n",
       "{b} \n",
       "\\right)}\n",
       "\\sp 2} \\  {\\cos \n",
       "\\left(\n",
       "{c} \n",
       "\\right)}\n",
       "\\  {\\sin \n",
       "\\left(\n",
       "{a} \n",
       "\\right)}}\n",
       "\\leqno(23)\n",
       "$$\n",
       "\n",
       "                                                     Type: Expression Integer\n"
      ]
     },
     "metadata": {},
     "output_type": "display_data"
    }
   ],
   "source": [
    "sinCosExpandRules(sin (a+2* b+c))"
   ]
  },
  {
   "cell_type": "code",
   "execution_count": 20,
   "metadata": {
    "collapsed": false
   },
   "outputs": [
    {
     "data": {
      "text/plain": [
       "36"
      ]
     },
     "metadata": {},
     "output_type": "display_data"
    }
   ],
   "source": [
    ")python 12*3"
   ]
  },
  {
   "cell_type": "code",
   "execution_count": 21,
   "metadata": {
    "collapsed": true
   },
   "outputs": [],
   "source": [
    ")python \n",
    "def f(x): return 2*x"
   ]
  },
  {
   "cell_type": "code",
   "execution_count": 22,
   "metadata": {
    "collapsed": false
   },
   "outputs": [
    {
     "data": {
      "text/plain": [
       "[1, 2, 3, 4]"
      ]
     },
     "metadata": {},
     "output_type": "display_data"
    }
   ],
   "source": [
    ")python [1,2,3,4]"
   ]
  },
  {
   "cell_type": "code",
   "execution_count": 23,
   "metadata": {
    "collapsed": false
   },
   "outputs": [
    {
     "data": {
      "text/plain": [
       "<built-in function dir>"
      ]
     },
     "metadata": {},
     "output_type": "display_data"
    }
   ],
   "source": [
    ")python dir"
   ]
  },
  {
   "cell_type": "code",
   "execution_count": 24,
   "metadata": {
    "collapsed": false
   },
   "outputs": [
    {
     "data": {
      "text/plain": [
       "True"
      ]
     },
     "metadata": {},
     "output_type": "display_data"
    }
   ],
   "source": [
    ")python 'abcd'.startswith('a')"
   ]
  },
  {
   "cell_type": "code",
   "execution_count": 25,
   "metadata": {
    "collapsed": false
   },
   "outputs": [
    {
     "data": {
      "text/plain": [
       "                    Current Values of  output  Variables                    \n",
       "\n",
       "Variable     Description                                Current Value\n",
       "-----------------------------------------------------------------------------\n",
       "abbreviate   abbreviate type names                      off \n",
       "algebra      display output in algebraic form           On:CONSOLE \n",
       "characters   choose special output character set        plain \n",
       "fortran      create output in FORTRAN format            Off:CONSOLE \n",
       "fraction     how fractions are formatted                vertical \n",
       "length       line length of output displays             77 \n",
       "openmath     create output in OpenMath style            Off:CONSOLE \n",
       "script       display output in SCRIPT formula format    Off:CONSOLE \n",
       "scripts      show subscripts,... linearly               off \n",
       "showeditor   view output of )show in editor             off \n",
       "tex          create output in TeX style                 On:CONSOLE \n",
       "mathml       create output in MathML style              Off:CONSOLE \n",
       "\n"
      ]
     },
     "metadata": {},
     "output_type": "display_data"
    }
   ],
   "source": [
    ")set output"
   ]
  },
  {
   "cell_type": "code",
   "execution_count": 26,
   "metadata": {
    "collapsed": false
   },
   "outputs": [
    {
     "data": {
      "text/plain": [
       "3"
      ]
     },
     "metadata": {},
     "output_type": "display_data"
    }
   ],
   "source": [
    ")python \n",
    "[1,2,3,4,5][2]"
   ]
  },
  {
   "cell_type": "code",
   "execution_count": 27,
   "metadata": {
    "collapsed": false
   },
   "outputs": [
    {
     "data": {
      "text/plain": [
       "0"
      ]
     },
     "metadata": {},
     "output_type": "display_data"
    }
   ],
   "source": [
    ")python 5/7"
   ]
  },
  {
   "cell_type": "code",
   "execution_count": 28,
   "metadata": {
    "collapsed": false
   },
   "outputs": [
    {
     "data": {
      "text/plain": [
       "abcdef9"
      ]
     },
     "metadata": {},
     "output_type": "display_data"
    }
   ],
   "source": [
    ")python \"abc\"+\"def\"+str(9)"
   ]
  },
  {
   "cell_type": "code",
   "execution_count": 29,
   "metadata": {
    "collapsed": false
   },
   "outputs": [
    {
     "data": {
      "text/plain": [
       "openaxiom -nosman"
      ]
     },
     "metadata": {},
     "output_type": "display_data"
    }
   ],
   "source": [
    ")python executable"
   ]
  },
  {
   "cell_type": "code",
   "execution_count": 30,
   "metadata": {
    "collapsed": false
   },
   "outputs": [
    {
     "data": {
      "text/plain": [
       "['allow_stdin', 'code', 'self', 'silent', 'store_history', 'user_expressions']"
      ]
     },
     "metadata": {},
     "output_type": "display_data"
    }
   ],
   "source": [
    ")python dir()"
   ]
  },
  {
   "cell_type": "code",
   "execution_count": 31,
   "metadata": {
    "collapsed": false
   },
   "outputs": [
    {
     "data": {
      "text/plain": [
       "{'spawn': <class 'winpexpect.winspawn'>, '_banner_': 'FriCAS Kernel', 'type_color': 'blue', 'readq': ')read \"{}\" )quiet', 'texout': '\\n{{\\\\color{{{0}}} {1} {2}}}\\n', '_language_info_': {'mimetype': 'text/plain', 'name': 'spad'}, 'xp': <module 'winpexpect' from 'C:\\Python27\\lib\\site-packages\\winpexpect-1.5-py2.7.egg\\winpexpect.pyc'>, '__loader__': <pkgutil.ImpLoader instance at 0x01FB25A8>, 'theApp': <class __main__.theApp at 0x033F4F48>, '_implementation_': 'fricas_kernel', 'executable': 'openaxiom -nosman', '_help_links_': {'url': 'http://fricas.github.io/', 'text': 'FriCAS API'}, 'tempfile': <module 'tempfile' from 'C:\\Python27\\lib\\tempfile.pyc'>, 'tmpfile_kw': {'prefix': 'ax$', 'suffix': '.input', 'delete': False}, 'pretex': '$$\\\\def\\\\sp{^}\\\\def\\\\sb{_}\\\\def\\\\leqno(#1){}$$$$\\\\require{color}$$', '__package__': '', 're': <module 're' from 'C:\\Python27\\lib\\re.pyc'>, '__svn_id__': '$Id: theKernel.py 2 2015-08-17 00:25:11Z pagani $', '__version__': '0.1', '__doc__': None, 'rjax': '$$', '_language_': 'spad', 'tex_size': '\\\\normalsize', '__builtins__': <module '__builtin__' (built-in)>, '__file__': 'C:\\\\Users\\\\scios\\\\Desktop\\\\fricas_kernel\\\\fricas_kernel.py', 'prompt_pat': '\\\\([0-9]+\\\\) ->', '__author__': 'Kurt Pagani <nilqed@gmail.com>', '__name__': '__main__', 'pretex1': '$$\\\\def\\\\sp{^}\\\\def\\\\sb{_}\\\\def\\\\leqno(#1){}$$', 'type_size': '\\\\scriptsize', 'pretex2': '$$\\\\require{color}$$', 'Kernel': <class 'IPython.kernel.zmq.kernelbase.Kernel'>, '_language_version_': '0.1', 'tex_color': 'black', 'theKernel': <class '__main__.theKernel'>, 'quit_cmd': ')quit', 'texout_types': '\\n{{\\\\color{{{0}}} {1} {2}}} \\\\\\\\[0.5ex] {{\\\\color{{{3}}} {4} \\\\text{{{5}}}}} \\\\\\\\\\n', 'IPKernelApp': <class 'IPython.kernel.zmq.kernelapp.IPKernelApp'>, '_protocol_version_': '5.0', 'os': <module 'os' from 'C:\\Python27\\lib\\os.pyc'>, 'ljax': '$$', 'cont_char': '_'}"
      ]
     },
     "metadata": {},
     "output_type": "display_data"
    }
   ],
   "source": [
    ")python globals()"
   ]
  },
  {
   "cell_type": "code",
   "execution_count": 32,
   "metadata": {
    "collapsed": false
   },
   "outputs": [
    {
     "data": {
      "text/plain": [
       ")quit"
      ]
     },
     "metadata": {},
     "output_type": "display_data"
    }
   ],
   "source": [
    ")python quit_cmd"
   ]
  },
  {
   "cell_type": "code",
   "execution_count": 33,
   "metadata": {
    "collapsed": false
   },
   "outputs": [
    {
     "data": {
      "text/latex": [
       "$$\\def\\sp{^}\\def\\sb{_}\\def\\leqno(#1){}$$$$\\require{color}$$$$\n",
       "{\\color{black} \\normalsize \n",
       "a \\sp {b \\sp c} \n",
       "\\leqno(24)\n",
       "} \\\\[0.5ex] {\\color{blue} \\scriptsize \\text{Expression Integer}} \\\\\n",
       "$$"
      ],
      "text/plain": [
       " \n",
       "           c\n",
       "          b\n",
       "   (24)  a\n",
       "$$\n",
       "a \\sp {b \\sp c} \n",
       "\\leqno(24)\n",
       "$$\n",
       "\n",
       "                                                     Type: Expression Integer\n"
      ]
     },
     "metadata": {},
     "output_type": "display_data"
    }
   ],
   "source": [
    "a^b^c"
   ]
  },
  {
   "cell_type": "code",
   "execution_count": 34,
   "metadata": {
    "collapsed": false
   },
   "outputs": [
    {
     "data": {
      "text/plain": [
       " \n"
      ]
     },
     "metadata": {},
     "output_type": "display_data"
    }
   ],
   "source": [
    ")set output tex on"
   ]
  },
  {
   "cell_type": "code",
   "execution_count": 35,
   "metadata": {
    "collapsed": false
   },
   "outputs": [
    {
     "data": {
      "text/latex": [
       "$$\\def\\sp{^}\\def\\sb{_}\\def\\leqno(#1){}$$$$\\require{color}$$$$\n",
       "{\\color{black} \\normalsize \n",
       "a \\sp {b \\sp c} \n",
       "\\leqno(25)\n",
       "} \\\\[0.5ex] {\\color{blue} \\scriptsize \\text{Expression Integer}} \\\\\n",
       "$$"
      ],
      "text/plain": [
       " \n",
       "           c\n",
       "          b\n",
       "   (25)  a\n",
       "$$\n",
       "a \\sp {b \\sp c} \n",
       "\\leqno(25)\n",
       "$$\n",
       "\n",
       "                                                     Type: Expression Integer\n"
      ]
     },
     "metadata": {},
     "output_type": "display_data"
    }
   ],
   "source": [
    "a^b^c"
   ]
  },
  {
   "cell_type": "code",
   "execution_count": 36,
   "metadata": {
    "collapsed": false
   },
   "outputs": [
    {
     "data": {
      "text/latex": [
       "$$\\def\\sp{^}\\def\\sb{_}\\def\\leqno(#1){}$$$$\\require{color}$$$$\n",
       "{\\color{black} \\normalsize \n",
       "x \n",
       "\\leqno(26)\n",
       "} \\\\[0.5ex] {\\color{blue} \\scriptsize \\text{Variable x}} \\\\\n",
       "$$"
      ],
      "text/plain": [
       " \n",
       "   (26)  x\n",
       "$$\n",
       "x \n",
       "\\leqno(26)\n",
       "$$\n",
       "\n",
       "                                                             Type: Variable x\n"
      ]
     },
     "metadata": {},
     "output_type": "display_data"
    }
   ],
   "source": [
    "x"
   ]
  },
  {
   "cell_type": "code",
   "execution_count": 37,
   "metadata": {
    "collapsed": false
   },
   "outputs": [
    {
     "data": {
      "text/plain": [
       "blue"
      ]
     },
     "metadata": {},
     "output_type": "display_data"
    }
   ],
   "source": [
    ")python type_color"
   ]
  },
  {
   "cell_type": "code",
   "execution_count": 38,
   "metadata": {
    "collapsed": false
   },
   "outputs": [
    {
     "data": {
      "text/plain": [
       "blue"
      ]
     },
     "metadata": {},
     "output_type": "display_data"
    }
   ],
   "source": [
    ")python type_color"
   ]
  },
  {
   "cell_type": "code",
   "execution_count": 39,
   "metadata": {
    "collapsed": false
   },
   "outputs": [
    {
     "data": {
      "text/latex": [
       "$$\\def\\sp{^}\\def\\sb{_}\\def\\leqno(#1){}$$$$\\require{color}$$$$\n",
       "{\\color{black} \\normalsize \n",
       "x \n",
       "\\leqno(27)\n",
       "} \\\\[0.5ex] {\\color{blue} \\scriptsize \\text{Variable x}} \\\\\n",
       "$$"
      ],
      "text/plain": [
       " \n",
       "   (27)  x\n",
       "$$\n",
       "x \n",
       "\\leqno(27)\n",
       "$$\n",
       "\n",
       "                                                             Type: Variable x\n"
      ]
     },
     "metadata": {},
     "output_type": "display_data"
    }
   ],
   "source": [
    "x"
   ]
  },
  {
   "cell_type": "code",
   "execution_count": 40,
   "metadata": {
    "collapsed": false
   },
   "outputs": [
    {
     "data": {
      "text/latex": [
       "$$\\def\\sp{^}\\def\\sb{_}\\def\\leqno(#1){}$$$$\\require{color}$$$$\n",
       "{\\color{black} \\normalsize \n",
       "x \n",
       "\\leqno(28)\n",
       "} \\\\[0.5ex] {\\color{blue} \\scriptsize \\text{Variable x}} \\\\\n",
       "$$"
      ],
      "text/plain": [
       " \n",
       "   (28)  x\n",
       "$$\n",
       "x \n",
       "\\leqno(28)\n",
       "$$\n",
       "\n",
       "                                                             Type: Variable x\n"
      ]
     },
     "metadata": {},
     "output_type": "display_data"
    }
   ],
   "source": [
    "x"
   ]
  },
  {
   "cell_type": "code",
   "execution_count": 41,
   "metadata": {
    "collapsed": false
   },
   "outputs": [
    {
     "data": {
      "text/plain": [
       "black"
      ]
     },
     "metadata": {},
     "output_type": "display_data"
    }
   ],
   "source": [
    ")python tex_color"
   ]
  },
  {
   "cell_type": "code",
   "execution_count": 42,
   "metadata": {
    "collapsed": false
   },
   "outputs": [
    {
     "data": {
      "text/plain": [
       " \n"
      ]
     },
     "metadata": {},
     "output_type": "display_data"
    }
   ],
   "source": [
    "-- some problems yet with tex_color: $$ ... $$\n",
    "++ easy to fix with 'format'"
   ]
  },
  {
   "cell_type": "code",
   "execution_count": 43,
   "metadata": {
    "collapsed": false
   },
   "outputs": [
    {
     "data": {
      "text/latex": [
       "$$\\def\\sp{^}\\def\\sb{_}\\def\\leqno(#1){}$$$$\\require{color}$$$$\n",
       "{\\color{black} \\normalsize \n",
       "{{\\erf \n",
       "\\left(\n",
       "{x} \n",
       "\\right)}\n",
       "\\  {\\sqrt {\\pi}}} \\over 2 \n",
       "\\leqno(29)\n",
       "} \\\\[0.5ex] {\\color{blue} \\scriptsize \\text{Union(Expression Integer}} \\\\\n",
       "$$"
      ],
      "text/plain": [
       " \n",
       "                +---+\n",
       "         erf(x)\\|%pi\n",
       "   (29)  ------------\n",
       "               2\n",
       "$$\n",
       "{{\\erf \n",
       "\\left(\n",
       "{x} \n",
       "\\right)}\n",
       "\\  {\\sqrt {\\pi}}} \\over 2 \n",
       "\\leqno(29)\n",
       "$$\n",
       "\n",
       "                                          Type: Union(Expression Integer,...)\n"
      ]
     },
     "metadata": {},
     "output_type": "display_data"
    }
   ],
   "source": [
    "integrate(exp(-x^2),x)"
   ]
  },
  {
   "cell_type": "code",
   "execution_count": 44,
   "metadata": {
    "collapsed": false
   },
   "outputs": [
    {
     "data": {
      "text/latex": [
       "$$\\def\\sp{^}\\def\\sb{_}\\def\\leqno(#1){}$$$$\\require{color}$$$$\n",
       "{\\color{black} \\normalsize \n",
       "-{i \\  {\\sin \n",
       "\\left(\n",
       "{z} \n",
       "\\right)}}+{e\n",
       "\\sp {\\left( i \\  z \n",
       "\\right)}}\n",
       "-{\\cos \n",
       "\\left(\n",
       "{z} \n",
       "\\right)}\n",
       "\\leqno(30)\n",
       "} \\\\[0.5ex] {\\color{blue} \\scriptsize \\text{Expression Complex Integer}} \\\\\n",
       "$$"
      ],
      "text/plain": [
       " \n",
       "                         %i z\n",
       "   (30)  - %i sin(z) + %e     - cos(z)\n",
       "$$\n",
       "-{i \\  {\\sin \n",
       "\\left(\n",
       "{z} \n",
       "\\right)}}+{e\n",
       "\\sp {\\left( i \\  z \n",
       "\\right)}}\n",
       "-{\\cos \n",
       "\\left(\n",
       "{z} \n",
       "\\right)}\n",
       "\\leqno(30)\n",
       "$$\n",
       "\n",
       "                                             Type: Expression Complex Integer\n"
      ]
     },
     "metadata": {},
     "output_type": "display_data"
    }
   ],
   "source": [
    "%e^(%i*z)- cos(z)-%i*sin(z)"
   ]
  },
  {
   "cell_type": "code",
   "execution_count": 45,
   "metadata": {
    "collapsed": false
   },
   "outputs": [
    {
     "data": {
      "text/plain": [
       "                                                                    Type: Void\n"
      ]
     },
     "metadata": {},
     "output_type": "display_data"
    }
   ],
   "source": [
    "H(z) ==  exp(%i*z)- cos(z)-%i*sin(z)"
   ]
  },
  {
   "cell_type": "code",
   "execution_count": 46,
   "metadata": {
    "collapsed": false
   },
   "outputs": [
    {
     "data": {
      "text/plain": [
       " C:/Users/scios/AppData/Local/Temp/gazonk_6460_0.c:268:20: stdarg.h: No such file or directory\r\n",
       "In file included from C:/Users/scios/AppData/Local/Temp/gazonk_6460_0.c:272:\r\n",
       "/mingw/lib/gcc/mingw32/../../../include/stdio.h:26:20: stddef.h: No such file or directory\r\n",
       "In file included from C:/Users/scios/AppData/Local/Temp/gazonk_6460_0.c:272:\r\n",
       "/mingw/lib/gcc/mingw32/../../../include/stdio.h:191: error: syntax error before \"size_t\"\r\n",
       "/mingw/lib/gcc/mingw32/../../../include/stdio.h:207: error: syntax error before \"size_t\"\r\n",
       "/mingw/lib/gcc/mingw32/../../../include/stdio.h:208: error: syntax error before \"__gnuc_va_list\"\r\n",
       "/mingw/lib/gcc/mingw32/../../../include/stdio.h:209: error: syntax error before \"__gnuc_va_list\"\r\n",
       "/mingw/lib/gcc/mingw32/../../../include/stdio.h:210: error: syntax error before \"__gnuc_va_list\"\r\n",
       "/mingw/lib/gcc/mingw32/../../../include/stdio.h:211: error: syntax error before \"size_t\"\r\n",
       "/mingw/lib/gcc/mingw32/../../../include/stdio.h:296: error: syntax error before \"__gnuc_va_list\"\r\n",
       "/mingw/lib/gcc/mingw32/../../../include/stdio.h:297: error: syntax error before \"__gnuc_va_list\"\r\n",
       "/mingw/lib/gcc/mingw32/../../../include/stdio.h:298: error: syntax error before \"__gnuc_va_list\"\r\n",
       "/mingw/lib/gcc/mingw32/../../../include/stdio.h:311: error: syntax error before \"__gnuc_va_list\"\r\n",
       "/mingw/lib/gcc/mingw32/../../../include/stdio.h:312: error: syntax error before \"__gnuc_va_list\"\r\n",
       "/mingw/lib/gcc/mingw32/../../../include/stdio.h:313: error: syntax error before \"__gnuc_va_list\"\r\n",
       "/mingw/lib/gcc/mingw32/../../../include/stdio.h:319: error: syntax error before \"size_t\"\r\n",
       "/mingw/lib/gcc/mingw32/../../../include/stdio.h:320: error: syntax error before \"size_t\"\r\n",
       "/mingw/lib/gcc/mingw32/../../../include/stdio.h:321: error: syntax error before \"__gnuc_va_list\"\r\n",
       "/mingw/lib/gcc/mingw32/../../../include/stdio.h:331: error: syntax error before \"size_t\"\r\n",
       "/mingw/lib/gcc/mingw32/../../../include/stdio.h:332: error: syntax error before \"size_t\"\r\n",
       "/mingw/lib/gcc/mingw32/../../../include/stdio.h:334: error: syntax error before \"__gnuc_va_list\"\r\n",
       "/mingw/lib/gcc/mingw32/../../../include/stdio.h:336: error: syntax error before \"__gnuc_va_list\"\r\n",
       "/mingw/lib/gcc/mingw32/../../../include/stdio.h:338: error: syntax error before \"__gnuc_va_list\"\r\n",
       "/mingw/lib/gcc/mingw32/../../../include/stdio.h:412: error: syntax error before \"fread\"\r\n",
       "/mingw/lib/gcc/mingw32/../../../include/stdio.h:413: error: syntax error before \"fwrite\"\r\n",
       "In file included from C:/Users/scios/AppData/Local/Temp/gazonk_6460_0.c:272:\r\n",
       "/mingw/lib/gcc/mingw32/../../../include/stdio.h:563: error: syntax error before '*' token\r\n",
       "/mingw/lib/gcc/mingw32/../../../include/stdio.h:564: error: syntax error before '*' token\r\n",
       "/mingw/lib/gcc/mingw32/../../../include/stdio.h:565: error: syntax error before '*' token\r\n",
       "/mingw/lib/gcc/mingw32/../../../include/stdio.h:566: error: syntax error before '*' token\r\n",
       "/mingw/lib/gcc/mingw32/../../../include/stdio.h:567: error: syntax error before '*' token\r\n",
       "/mingw/lib/gcc/mingw32/../../../include/stdio.h:568: error: syntax error before '*' token\r\n",
       "/mingw/lib/gcc/mingw32/../../../include/stdio.h:569: error: syntax error before '*' token\r\n",
       "/mingw/lib/gcc/mingw32/../../../include/stdio.h:570: error: syntax error before '*' token\r\n",
       "/mingw/lib/gcc/mingw32/../../../include/stdio.h:571: error: syntax error before '*' token\r\n",
       "/mingw/lib/gcc/mingw32/../../../include/stdio.h:572: error: syntax error before '*' token\r\n",
       "/mingw/lib/gcc/mingw32/../../../include/stdio.h:573: error: syntax error before \"fgetwc\"\r\n",
       "/mingw/lib/gcc/mingw32/../../../include/stdio.h:574: error: syntax error before \"fputwc\"\r\n",
       "/mingw/lib/gcc/mingw32/../../../include/stdio.h:575: error: syntax error before \"ungetwc\"\r\n",
       "/mingw/lib/gcc/mingw32/../../../include/stdio.h:579: error: syntax error before '*' token\r\n",
       "/mingw/lib/gcc/mingw32/../../../include/stdio.h:580: error: syntax error before '*' token\r\n",
       "/mingw/lib/gcc/mingw32/../../../include/stdio.h:584: error: syntax error before '*' token\r\n",
       "/mingw/lib/gcc/mingw32/../../../include/stdio.h:584: error: syntax error before '*' token\r\n",
       "/mingw/lib/gcc/mingw32/../../../include/stdio.h:585: error: syntax error before '*' token\r\n",
       "/mingw/lib/gcc/mingw32/../../../include/stdio.h:586: error: syntax error before \"getwc\"\r\n",
       "/mingw/lib/gcc/mingw32/../../../include/stdio.h:587: error: syntax error before \"getwchar\"\r\n",
       "/mingw/lib/gcc/mingw32/../../../include/stdio.h:588: error: syntax error before '*' token\r\n",
       "/mingw/lib/gcc/mingw32/../../../include/stdio.h:589: error: syntax error before \"putwc\"\r\n",
       "/mingw/lib/gcc/mingw32/../../../include/stdio.h:590: error: syntax error before '*' token\r\n",
       "/mingw/lib/gcc/mingw32/../../../include/stdio.h:591: error: syntax error before \"putwchar\"\r\n",
       "/mingw/lib/gcc/mingw32/../../../include/stdio.h:592: error: syntax error before '*' token\r\n",
       "/mingw/lib/gcc/mingw32/../../../include/stdio.h:593: error: syntax error before '*' token\r\n",
       "/mingw/lib/gcc/mingw32/../../../include/stdio.h:594: error: syntax error before '*' token\r\n",
       "/mingw/lib/gcc/mingw32/../../../include/stdio.h:595: error: syntax error before '*' token\r\n",
       "/mingw/lib/gcc/mingw32/../../../include/stdio.h:596: error: syntax error before '*' token\r\n",
       "/mingw/lib/gcc/mingw32/../../../include/stdio.h:596: error: syntax error before '*' token\r\n",
       "/mingw/lib/gcc/mingw32/../../../include/stdio.h:597: error: syntax error before '*' token\r\n",
       "/mingw/lib/gcc/mingw32/../../../include/stdio.h:597: error: syntax error before '*' token\r\n",
       "/mingw/lib/gcc/mingw32/../../../include/stdio.h:598: error: syntax error before '*' token\r\n",
       "/mingw/lib/gcc/mingw32/../../../include/stdio.h:599: error: syntax error before '*' token\r\n",
       "/mingw/lib/gcc/mingw32/../../../include/stdio.h:600: error: syntax error before '*' token\r\n",
       "/mingw/lib/gcc/mingw32/../../../include/stdio.h:601: error: syntax error before '*' token\r\n",
       "/mingw/lib/gcc/mingw32/../../../include/stdio.h:605: error: syntax error before '*' token\r\n",
       "/mingw/lib/gcc/mingw32/../../../include/stdio.h:606: error: syntax error before '*' token\r\n",
       "/mingw/lib/gcc/mingw32/../../../include/stdio.h:609: error: syntax error before '*' token\r\n",
       "/mingw/lib/gcc/mingw32/../../../include/stdio.h: In function `vsnwprintf':\r\n",
       "/mingw/lib/gcc/mingw32/../../../include/stdio.h:610: error: `s' undeclared (first use in this function)\r\n",
       "/mingw/lib/gcc/mingw32/../../../include/stdio.h:610: error: (Each undeclared identifier is reported only once\r\n",
       "/mingw/lib/gcc/mingw32/../../../include/stdio.h:610: error: for each function it appears in.)\r\n",
       "/mingw/lib/gcc/mingw32/../../../include/stdio.h:610: error: `n' undeclared (first use in this function)\r\n",
       "/mingw/lib/gcc/mingw32/../../../include/stdio.h:610: error: `format' undeclared (first use in this function)\r\n",
       "/mingw/lib/gcc/mingw32/../../../include/stdio.h:610: error: `arg' undeclared (first use in this function)\r\n",
       "/mingw/lib/gcc/mingw32/../../../include/stdio.h: At top level:\r\n",
       "/mingw/lib/gcc/mingw32/../../../include/stdio.h:612: error: syntax error before '*' token\r\n",
       "/mingw/lib/gcc/mingw32/../../../include/stdio.h:614: error: syntax error before '*' token\r\n",
       "/mingw/lib/gcc/mingw32/../../../include/stdio.h:615: error: syntax error before '*' token\r\n",
       "/mingw/lib/gcc/mingw32/../../../include/stdio.h:625: error: syntax error before '*' token\r\n",
       "/mingw/lib/gcc/mingw32/../../../include/stdio.h:632: error: syntax error before \"_fgetwchar\"\r\n",
       "/mingw/lib/gcc/mingw32/../../../include/stdio.h:633: error: syntax error before \"_fputwchar\"\r\n",
       "/mingw/lib/gcc/mingw32/../../../include/stdio.h:638: error: syntax error before \"fgetwchar\"\r\n",
       "/mingw/lib/gcc/mingw32/../../../include/stdio.h:639: error: syntax error before \"fputwchar\"\r\n",
       "C:/Users/scios/AppData/Local/Temp/gazonk_6460_0.c:1984: error: syntax error before \"size_t\"\r\n",
       "In file included from C:/Users/scios/AppData/Local/Temp/gazonk_6460_0.c:3193:\r\n",
       "/mingw/lib/gcc/mingw32/../../../include/stdlib.h:79: error: syntax error before '*' token\r\n",
       "/mingw/lib/gcc/mingw32/../../../include/stdlib.h:150: error: syntax error before '*' token\r\n",
       "/mingw/lib/gcc/mingw32/../../../include/stdlib.h:262: error: syntax error before '*' token\r\n",
       "/mingw/lib/gcc/mingw32/../../../include/stdlib.h:307: error: syntax error before '*' token\r\n",
       "/mingw/lib/gcc/mingw32/../../../include/stdlib.h:308: error: syntax error before '*' token\r\n",
       "/mingw/lib/gcc/mingw32/../../../include/stdlib.h:309: error: syntax error before '*' token\r\n",
       "/mingw/lib/gcc/mingw32/../../../include/stdlib.h:326: error: syntax error before '*' token\r\n",
       "/mingw/lib/gcc/mingw32/../../../include/stdlib.h:327: error: syntax error before '*' token\r\n",
       "/mingw/lib/gcc/mingw32/../../../include/stdlib.h:328: error: syntax error before '*' token\r\n",
       "/mingw/lib/gcc/mingw32/../../../include/stdlib.h:330: error: syntax error before '*' token\r\n",
       "/mingw/lib/gcc/mingw32/../../../include/stdlib.h:331: error: syntax error before '*' token\r\n",
       "/mingw/lib/gcc/mingw32/../../../include/stdlib.h:334: error: syntax error before '*' token\r\n",
       "/mingw/lib/gcc/mingw32/../../../include/stdlib.h:334: error: syntax error before '*' token\r\n",
       "/mingw/lib/gcc/mingw32/../../../include/stdlib.h:335: error: syntax error before '*' token\r\n",
       "/mingw/lib/gcc/mingw32/../../../include/stdlib.h:336: error: syntax error before '*' token\r\n",
       "/mingw/lib/gcc/mingw32/../../../include/stdlib.h:337: error: syntax error before '*' token\r\n",
       "/mingw/lib/gcc/mingw32/../../../include/stdlib.h:338: error: syntax error before '*' token\r\n",
       "/mingw/lib/gcc/mingw32/../../../include/stdlib.h:339: error: syntax error before '*' token\r\n",
       "/mingw/lib/gcc/mingw32/../../../include/stdlib.h:340: error: syntax error before '*' token\r\n",
       "/mingw/lib/gcc/mingw32/../../../include/stdlib.h:340: error: syntax error before '*' token\r\n",
       "/mingw/lib/gcc/mingw32/../../../include/stdlib.h:345: error: syntax error before \"wcstombs\"\r\n",
       "/mingw/lib/gcc/mingw32/../../../include/stdlib.h:346: error: syntax error before \"wchar_t\"\r\n",
       "/mingw/lib/gcc/mingw32/../../../include/stdlib.h:348: error: syntax error before \"size_t\"\r\n",
       "/mingw/lib/gcc/mingw32/../../../include/stdlib.h:349: error: syntax error before \"mbstowcs\"\r\n",
       "/mingw/lib/gcc/mingw32/../../../include/stdlib.h:350: error: syntax error before '*' token\r\n",
       "/mingw/lib/gcc/mingw32/../../../include/stdlib.h:357: error: syntax error before \"size_t\"\r\n",
       "/mingw/lib/gcc/mingw32/../../../include/stdlib.h:369: error: syntax error before \"size_t\"\r\n",
       "/mingw/lib/gcc/mingw32/../../../include/stdlib.h:370: error: syntax error before ')' token\r\n",
       "/mingw/lib/gcc/mingw32/../../../include/stdlib.h:371: error: syntax error before \"size_t\"\r\n",
       "/mingw/lib/gcc/mingw32/../../../include/stdlib.h:372: error: syntax error before ')' token\r\n",
       "/mingw/lib/gcc/mingw32/../../../include/stdlib.h:418: error: syntax error before \"size_t\"\r\n",
       "/mingw/lib/gcc/mingw32/../../../include/stdlib.h:423: error: syntax error before '*' token\r\n",
       "/mingw/lib/gcc/mingw32/../../../include/stdlib.h:423: error: syntax error before \"wchar_t\"\r\n",
       "/mingw/lib/gcc/mingw32/../../../include/stdlib.h:424: error: syntax error before '*' token\r\n",
       "/mingw/lib/gcc/mingw32/../../../include/stdlib.h:424: error: syntax error before \"wchar_t\"\r\n",
       "/mingw/lib/gcc/mingw32/../../../include/stdlib.h:425: error: syntax error before '*' token\r\n",
       "/mingw/lib/gcc/mingw32/../../../include/stdlib.h:425: error: syntax error before \"wchar_t\"\r\n",
       "/mingw/lib/gcc/mingw32/../../../include/stdlib.h:431: error: syntax error before '*' token\r\n",
       "/mingw/lib/gcc/mingw32/../../../include/stdlib.h:432: error: syntax error before '*' token\r\n",
       "/mingw/lib/gcc/mingw32/../../../include/stdlib.h:432: error: syntax error before \"wchar_t\"\r\n",
       "/mingw/lib/gcc/mingw32/../../../include/stdlib.h:433: error: syntax error before '*' token\r\n",
       "/mingw/lib/gcc/mingw32/../../../include/stdlib.h:433: error: syntax error before \"wchar_t\"\r\n",
       "/mingw/lib/gcc/mingw32/../../../include/stdlib.h:520: error: syntax error before '*' token\r\n",
       "/mingw/lib/gcc/mingw32/../../../include/stdlib.h:523: error: syntax error before '*' token\r\n",
       "/mingw/lib/gcc/mingw32/../../../include/stdlib.h:523: error: syntax error before \"wchar_t\"\r\n",
       "/mingw/lib/gcc/mingw32/../../../include/stdlib.h:524: error: syntax error before '*' token\r\n",
       "/mingw/lib/gcc/mingw32/../../../include/stdlib.h:524: error: syntax error before \"wchar_t\"\r\n",
       "/mingw/lib/gcc/mingw32/../../../include/stdlib.h:534: error: syntax error before '*' token\r\n",
       "/mingw/lib/gcc/mingw32/../../../include/stdlib.h: In function `wtoll':\r\n",
       "/mingw/lib/gcc/mingw32/../../../include/stdlib.h:535: error: `_w' undeclared (first use in this function)\r\n",
       "/mingw/lib/gcc/mingw32/../../../include/stdlib.h: At top level:\r\n",
       "/mingw/lib/gcc/mingw32/../../../include/stdlib.h:536: error: syntax error before '*' token\r\n",
       "/mingw/lib/gcc/mingw32/../../../include/stdlib.h:536: error: syntax error before \"wchar_t\"\r\n",
       "/mingw/lib/gcc/mingw32/../../../include/stdlib.h: In function `lltow':\r\n",
       "/mingw/lib/gcc/mingw32/../../../include/stdlib.h:537: error: `_n' undeclared (first use in this function)\r\n",
       "/mingw/lib/gcc/mingw32/../../../include/stdlib.h:537: error: `_w' undeclared (first use in this function)\r\n",
       "/mingw/lib/gcc/mingw32/../../../include/stdlib.h:537: error: `_i' undeclared (first use in this function)\r\n",
       "/mingw/lib/gcc/mingw32/../../../include/stdlib.h: At top level:\r\n",
       "/mingw/lib/gcc/mingw32/../../../include/stdlib.h:538: error: syntax error before '*' token\r\n",
       "/mingw/lib/gcc/mingw32/../../../include/stdlib.h:538: error: syntax error before \"wchar_t\"\r\n",
       "/mingw/lib/gcc/mingw32/../../../include/stdlib.h: In function `ulltow':\r\n",
       "/mingw/lib/gcc/mingw32/../../../include/stdlib.h:539: error: `_n' undeclared (first use in this function)\r\n",
       "/mingw/lib/gcc/mingw32/../../../include/stdlib.h:539: error: `_w' undeclared (first use in this function)\r\n",
       "/mingw/lib/gcc/mingw32/../../../include/stdlib.h:539: error: `_i' undeclared (first use in this function)\r\n",
       "C:/Users/scios/AppData/Local/Temp/gazonk_6460_0.c: At top level:\r\n",
       "C:/Users/scios/AppData/Local/Temp/gazonk_6460_0.c:3207: error: syntax error before \"va_list\"\r\n",
       "C:/Users/scios/AppData/Local/Temp/gazonk_6460_0.c:3446: error: syntax error before \"va_list\"\r\n",
       "C:/Users/scios/AppData/Local/Temp/gazonk_6460_0.c:3447: error: syntax error before \"va_list\"\r\n",
       "C:/Users/scios/AppData/Local/Temp/gazonk_6460_0.c:3451: error: syntax error before \"size_t\"\r\n",
       "C:/Users/scios/AppData/Local/Temp/gazonk_6460_0.c:3451: error: syntax error before ')' token\r\n",
       "In file included from /mingw/lib/gcc/mingw32/../../../include/unistd.h:12,\r\n",
       "                 from C:/Users/scios/AppData/Local/Temp/gazonk_6460_0.c:3809:\r\n",
       "/mingw/lib/gcc/mingw32/../../../include/io.h:131: error: syntax error before \"wchar_t\"\r\n",
       "/mingw/lib/gcc/mingw32/../../../include/io.h:140: error: syntax error before \"wchar_t\"\r\n",
       "/mingw/lib/gcc/mingw32/../../../include/io.h:390: error: syntax error before '*' token\r\n",
       "/mingw/lib/gcc/mingw32/../../../include/io.h:391: error: syntax error before '*' token\r\n",
       "/mingw/lib/gcc/mingw32/../../../include/io.h:392: error: syntax error before '*' token\r\n",
       "/mingw/lib/gcc/mingw32/../../../include/io.h:394: error: syntax error before '*' token\r\n",
       "/mingw/lib/gcc/mingw32/../../../include/io.h:400: error: syntax error before '*' token\r\n",
       "/mingw/lib/gcc/mingw32/../../../include/io.h:401: error: syntax error before '*' token\r\n",
       "/mingw/lib/gcc/mingw32/../../../include/io.h:402: error: syntax error before '*' token\r\n",
       "/mingw/lib/gcc/mingw32/../../../include/io.h:403: error: syntax error before '*' token\r\n",
       "/mingw/lib/gcc/mingw32/../../../include/io.h:403: error: syntax error before '*' token\r\n",
       "/mingw/lib/gcc/mingw32/../../../include/io.h:405: error: syntax error before '*' token\r\n",
       "C:/Users/scios/AppData/Local/Temp/gazonk_6460_0.c:3888: error: syntax error before \"va_list\"\r\n",
       "C:/Users/scios/AppData/Local/Temp/gazonk_6460_0.c:4646: error: syntax error before \"va_list\"\r\n",
       "C:/Users/scios/AppData/Local/Temp/gazonk_6460_0.c:4649: error: syntax error before \"va_list\"\r\n",
       "C:/Users/scios/AppData/Local/Temp/gazonk_6460_0.c:5125: error: syntax error before \"size_t\"\r\n",
       "C:/Users/scios/AppData/Local/Temp/gazonk_6460_0.c:5126: error: syntax error before \"size_t\"\r\n",
       "C:/Users/scios/AppData/Local/Temp/gazonk_6460_0.c:5127: error: syntax error before \"size_t\"\r\n",
       "C:/Users/scios/AppData/Local/Temp/gazonk_6460_0.c: In function `LnkTLI16':\r\n",
       "C:/Users/scios/AppData/Local/Temp/gazonk_6460_0.c:5317: error: `va_list' undeclared (first use in this function)\r\n",
       "C:/Users/scios/AppData/Local/Temp/gazonk_6460_0.c:5317: error: syntax error before \"ap\"\r\n",
       "C:/Users/scios/AppData/Local/Temp/gazonk_6460_0.c:5317: error: `ap' undeclared (first use in this function)\r\n",
       "\n"
      ]
     },
     "metadata": {},
     "output_type": "display_data"
    }
   ],
   "source": [
    "H(x)"
   ]
  },
  {
   "cell_type": "code",
   "execution_count": 47,
   "metadata": {
    "collapsed": false
   },
   "outputs": [
    {
     "data": {
      "text/plain": [
       "    There are 2 exposed and 0 unexposed library operations named \n",
       "      normalize having 1 argument(s) but none was determined to be \n",
       "      applicable. Use HyperDoc Browse, or issue\n",
       "                            )display op normalize\n",
       "      to learn more about the available operations. Perhaps \n",
       "      package-calling the operation or using coercions on the arguments\n",
       "      will allow you to apply the operation.\n",
       " \n",
       "   Cannot find a definition or applicable library operation named \n",
       "      normalize with argument type(s) \n",
       "                                    Void\n",
       "      \n",
       "      Perhaps you should use \"@\" to indicate the required return type, \n",
       "      or \"$\" to specify which version of the function you need.\n"
      ]
     },
     "metadata": {},
     "output_type": "display_data"
    }
   ],
   "source": [
    "normalize(%)"
   ]
  },
  {
   "cell_type": "code",
   "execution_count": 48,
   "metadata": {
    "collapsed": false
   },
   "outputs": [
    {
     "data": {
      "text/plain": [
       " C:/Users/scios/AppData/Local/Temp/gazonk_6460_1.c:268:20: stdarg.h: No such file or directory\r\n",
       "In file included from C:/Users/scios/AppData/Local/Temp/gazonk_6460_1.c:272:\r\n",
       "/mingw/lib/gcc/mingw32/../../../include/stdio.h:26:20: stddef.h: No such file or directory\r\n",
       "In file included from C:/Users/scios/AppData/Local/Temp/gazonk_6460_1.c:272:\r\n",
       "/mingw/lib/gcc/mingw32/../../../include/stdio.h:191: error: syntax error before \"size_t\"\r\n",
       "/mingw/lib/gcc/mingw32/../../../include/stdio.h:207: error: syntax error before \"size_t\"\r\n",
       "/mingw/lib/gcc/mingw32/../../../include/stdio.h:208: error: syntax error before \"__gnuc_va_list\"\r\n",
       "/mingw/lib/gcc/mingw32/../../../include/stdio.h:209: error: syntax error before \"__gnuc_va_list\"\r\n",
       "/mingw/lib/gcc/mingw32/../../../include/stdio.h:210: error: syntax error before \"__gnuc_va_list\"\r\n",
       "/mingw/lib/gcc/mingw32/../../../include/stdio.h:211: error: syntax error before \"size_t\"\r\n",
       "/mingw/lib/gcc/mingw32/../../../include/stdio.h:296: error: syntax error before \"__gnuc_va_list\"\r\n",
       "/mingw/lib/gcc/mingw32/../../../include/stdio.h:297: error: syntax error before \"__gnuc_va_list\"\r\n",
       "/mingw/lib/gcc/mingw32/../../../include/stdio.h:298: error: syntax error before \"__gnuc_va_list\"\r\n",
       "/mingw/lib/gcc/mingw32/../../../include/stdio.h:311: error: syntax error before \"__gnuc_va_list\"\r\n",
       "/mingw/lib/gcc/mingw32/../../../include/stdio.h:312: error: syntax error before \"__gnuc_va_list\"\r\n",
       "/mingw/lib/gcc/mingw32/../../../include/stdio.h:313: error: syntax error before \"__gnuc_va_list\"\r\n",
       "/mingw/lib/gcc/mingw32/../../../include/stdio.h:319: error: syntax error before \"size_t\"\r\n",
       "/mingw/lib/gcc/mingw32/../../../include/stdio.h:320: error: syntax error before \"size_t\"\r\n",
       "/mingw/lib/gcc/mingw32/../../../include/stdio.h:321: error: syntax error before \"__gnuc_va_list\"\r\n",
       "/mingw/lib/gcc/mingw32/../../../include/stdio.h:331: error: syntax error before \"size_t\"\r\n",
       "/mingw/lib/gcc/mingw32/../../../include/stdio.h:332: error: syntax error before \"size_t\"\r\n",
       "/mingw/lib/gcc/mingw32/../../../include/stdio.h:334: error: syntax error before \"__gnuc_va_list\"\r\n",
       "/mingw/lib/gcc/mingw32/../../../include/stdio.h:336: error: syntax error before \"__gnuc_va_list\"\r\n",
       "/mingw/lib/gcc/mingw32/../../../include/stdio.h:338: error: syntax error before \"__gnuc_va_list\"\r\n",
       "/mingw/lib/gcc/mingw32/../../../include/stdio.h:412: error: syntax error before \"fread\"\r\n",
       "/mingw/lib/gcc/mingw32/../../../include/stdio.h:413: error: syntax error before \"fwrite\"\r\n",
       "In file included from C:/Users/scios/AppData/Local/Temp/gazonk_6460_1.c:272:\r\n",
       "/mingw/lib/gcc/mingw32/../../../include/stdio.h:563: error: syntax error before '*' token\r\n",
       "/mingw/lib/gcc/mingw32/../../../include/stdio.h:564: error: syntax error before '*' token\r\n",
       "/mingw/lib/gcc/mingw32/../../../include/stdio.h:565: error: syntax error before '*' token\r\n",
       "/mingw/lib/gcc/mingw32/../../../include/stdio.h:566: error: syntax error before '*' token\r\n",
       "/mingw/lib/gcc/mingw32/../../../include/stdio.h:567: error: syntax error before '*' token\r\n",
       "/mingw/lib/gcc/mingw32/../../../include/stdio.h:568: error: syntax error before '*' token\r\n",
       "/mingw/lib/gcc/mingw32/../../../include/stdio.h:569: error: syntax error before '*' token\r\n",
       "/mingw/lib/gcc/mingw32/../../../include/stdio.h:570: error: syntax error before '*' token\r\n",
       "/mingw/lib/gcc/mingw32/../../../include/stdio.h:571: error: syntax error before '*' token\r\n",
       "/mingw/lib/gcc/mingw32/../../../include/stdio.h:572: error: syntax error before '*' token\r\n",
       "/mingw/lib/gcc/mingw32/../../../include/stdio.h:573: error: syntax error before \"fgetwc\"\r\n",
       "/mingw/lib/gcc/mingw32/../../../include/stdio.h:574: error: syntax error before \"fputwc\"\r\n",
       "/mingw/lib/gcc/mingw32/../../../include/stdio.h:575: error: syntax error before \"ungetwc\"\r\n",
       "/mingw/lib/gcc/mingw32/../../../include/stdio.h:579: error: syntax error before '*' token\r\n",
       "/mingw/lib/gcc/mingw32/../../../include/stdio.h:580: error: syntax error before '*' token\r\n",
       "/mingw/lib/gcc/mingw32/../../../include/stdio.h:584: error: syntax error before '*' token\r\n",
       "/mingw/lib/gcc/mingw32/../../../include/stdio.h:584: error: syntax error before '*' token\r\n",
       "/mingw/lib/gcc/mingw32/../../../include/stdio.h:585: error: syntax error before '*' token\r\n",
       "/mingw/lib/gcc/mingw32/../../../include/stdio.h:586: error: syntax error before \"getwc\"\r\n",
       "/mingw/lib/gcc/mingw32/../../../include/stdio.h:587: error: syntax error before \"getwchar\"\r\n",
       "/mingw/lib/gcc/mingw32/../../../include/stdio.h:588: error: syntax error before '*' token\r\n",
       "/mingw/lib/gcc/mingw32/../../../include/stdio.h:589: error: syntax error before \"putwc\"\r\n",
       "/mingw/lib/gcc/mingw32/../../../include/stdio.h:590: error: syntax error before '*' token\r\n",
       "/mingw/lib/gcc/mingw32/../../../include/stdio.h:591: error: syntax error before \"putwchar\"\r\n",
       "/mingw/lib/gcc/mingw32/../../../include/stdio.h:592: error: syntax error before '*' token\r\n",
       "/mingw/lib/gcc/mingw32/../../../include/stdio.h:593: error: syntax error before '*' token\r\n",
       "/mingw/lib/gcc/mingw32/../../../include/stdio.h:594: error: syntax error before '*' token\r\n",
       "/mingw/lib/gcc/mingw32/../../../include/stdio.h:595: error: syntax error before '*' token\r\n",
       "/mingw/lib/gcc/mingw32/../../../include/stdio.h:596: error: syntax error before '*' token\r\n",
       "/mingw/lib/gcc/mingw32/../../../include/stdio.h:596: error: syntax error before '*' token\r\n",
       "/mingw/lib/gcc/mingw32/../../../include/stdio.h:597: error: syntax error before '*' token\r\n",
       "/mingw/lib/gcc/mingw32/../../../include/stdio.h:597: error: syntax error before '*' token\r\n",
       "/mingw/lib/gcc/mingw32/../../../include/stdio.h:598: error: syntax error before '*' token\r\n",
       "/mingw/lib/gcc/mingw32/../../../include/stdio.h:599: error: syntax error before '*' token\r\n",
       "/mingw/lib/gcc/mingw32/../../../include/stdio.h:600: error: syntax error before '*' token\r\n",
       "/mingw/lib/gcc/mingw32/../../../include/stdio.h:601: error: syntax error before '*' token\r\n",
       "/mingw/lib/gcc/mingw32/../../../include/stdio.h:605: error: syntax error before '*' token\r\n",
       "/mingw/lib/gcc/mingw32/../../../include/stdio.h:606: error: syntax error before '*' token\r\n",
       "/mingw/lib/gcc/mingw32/../../../include/stdio.h:609: error: syntax error before '*' token\r\n",
       "/mingw/lib/gcc/mingw32/../../../include/stdio.h: In function `vsnwprintf':\r\n",
       "/mingw/lib/gcc/mingw32/../../../include/stdio.h:610: error: `s' undeclared (first use in this function)\r\n",
       "/mingw/lib/gcc/mingw32/../../../include/stdio.h:610: error: (Each undeclared identifier is reported only once\r\n",
       "/mingw/lib/gcc/mingw32/../../../include/stdio.h:610: error: for each function it appears in.)\r\n",
       "/mingw/lib/gcc/mingw32/../../../include/stdio.h:610: error: `n' undeclared (first use in this function)\r\n",
       "/mingw/lib/gcc/mingw32/../../../include/stdio.h:610: error: `format' undeclared (first use in this function)\r\n",
       "/mingw/lib/gcc/mingw32/../../../include/stdio.h:610: error: `arg' undeclared (first use in this function)\r\n",
       "/mingw/lib/gcc/mingw32/../../../include/stdio.h: At top level:\r\n",
       "/mingw/lib/gcc/mingw32/../../../include/stdio.h:612: error: syntax error before '*' token\r\n",
       "/mingw/lib/gcc/mingw32/../../../include/stdio.h:614: error: syntax error before '*' token\r\n",
       "/mingw/lib/gcc/mingw32/../../../include/stdio.h:615: error: syntax error before '*' token\r\n",
       "/mingw/lib/gcc/mingw32/../../../include/stdio.h:625: error: syntax error before '*' token\r\n",
       "/mingw/lib/gcc/mingw32/../../../include/stdio.h:632: error: syntax error before \"_fgetwchar\"\r\n",
       "/mingw/lib/gcc/mingw32/../../../include/stdio.h:633: error: syntax error before \"_fputwchar\"\r\n",
       "/mingw/lib/gcc/mingw32/../../../include/stdio.h:638: error: syntax error before \"fgetwchar\"\r\n",
       "/mingw/lib/gcc/mingw32/../../../include/stdio.h:639: error: syntax error before \"fputwchar\"\r\n",
       "C:/Users/scios/AppData/Local/Temp/gazonk_6460_1.c:1984: error: syntax error before \"size_t\"\r\n",
       "In file included from C:/Users/scios/AppData/Local/Temp/gazonk_6460_1.c:3193:\r\n",
       "/mingw/lib/gcc/mingw32/../../../include/stdlib.h:79: error: syntax error before '*' token\r\n",
       "/mingw/lib/gcc/mingw32/../../../include/stdlib.h:150: error: syntax error before '*' token\r\n",
       "/mingw/lib/gcc/mingw32/../../../include/stdlib.h:262: error: syntax error before '*' token\r\n",
       "/mingw/lib/gcc/mingw32/../../../include/stdlib.h:307: error: syntax error before '*' token\r\n",
       "/mingw/lib/gcc/mingw32/../../../include/stdlib.h:308: error: syntax error before '*' token\r\n",
       "/mingw/lib/gcc/mingw32/../../../include/stdlib.h:309: error: syntax error before '*' token\r\n",
       "/mingw/lib/gcc/mingw32/../../../include/stdlib.h:326: error: syntax error before '*' token\r\n",
       "/mingw/lib/gcc/mingw32/../../../include/stdlib.h:327: error: syntax error before '*' token\r\n",
       "/mingw/lib/gcc/mingw32/../../../include/stdlib.h:328: error: syntax error before '*' token\r\n",
       "/mingw/lib/gcc/mingw32/../../../include/stdlib.h:330: error: syntax error before '*' token\r\n",
       "/mingw/lib/gcc/mingw32/../../../include/stdlib.h:331: error: syntax error before '*' token\r\n",
       "/mingw/lib/gcc/mingw32/../../../include/stdlib.h:334: error: syntax error before '*' token\r\n",
       "/mingw/lib/gcc/mingw32/../../../include/stdlib.h:334: error: syntax error before '*' token\r\n",
       "/mingw/lib/gcc/mingw32/../../../include/stdlib.h:335: error: syntax error before '*' token\r\n",
       "/mingw/lib/gcc/mingw32/../../../include/stdlib.h:336: error: syntax error before '*' token\r\n",
       "/mingw/lib/gcc/mingw32/../../../include/stdlib.h:337: error: syntax error before '*' token\r\n",
       "/mingw/lib/gcc/mingw32/../../../include/stdlib.h:338: error: syntax error before '*' token\r\n",
       "/mingw/lib/gcc/mingw32/../../../include/stdlib.h:339: error: syntax error before '*' token\r\n",
       "/mingw/lib/gcc/mingw32/../../../include/stdlib.h:340: error: syntax error before '*' token\r\n",
       "/mingw/lib/gcc/mingw32/../../../include/stdlib.h:340: error: syntax error before '*' token\r\n",
       "/mingw/lib/gcc/mingw32/../../../include/stdlib.h:345: error: syntax error before \"wcstombs\"\r\n",
       "/mingw/lib/gcc/mingw32/../../../include/stdlib.h:346: error: syntax error before \"wchar_t\"\r\n",
       "/mingw/lib/gcc/mingw32/../../../include/stdlib.h:348: error: syntax error before \"size_t\"\r\n",
       "/mingw/lib/gcc/mingw32/../../../include/stdlib.h:349: error: syntax error before \"mbstowcs\"\r\n",
       "/mingw/lib/gcc/mingw32/../../../include/stdlib.h:350: error: syntax error before '*' token\r\n",
       "/mingw/lib/gcc/mingw32/../../../include/stdlib.h:357: error: syntax error before \"size_t\"\r\n",
       "/mingw/lib/gcc/mingw32/../../../include/stdlib.h:369: error: syntax error before \"size_t\"\r\n",
       "/mingw/lib/gcc/mingw32/../../../include/stdlib.h:370: error: syntax error before ')' token\r\n",
       "/mingw/lib/gcc/mingw32/../../../include/stdlib.h:371: error: syntax error before \"size_t\"\r\n",
       "/mingw/lib/gcc/mingw32/../../../include/stdlib.h:372: error: syntax error before ')' token\r\n",
       "/mingw/lib/gcc/mingw32/../../../include/stdlib.h:418: error: syntax error before \"size_t\"\r\n",
       "/mingw/lib/gcc/mingw32/../../../include/stdlib.h:423: error: syntax error before '*' token\r\n",
       "/mingw/lib/gcc/mingw32/../../../include/stdlib.h:423: error: syntax error before \"wchar_t\"\r\n",
       "/mingw/lib/gcc/mingw32/../../../include/stdlib.h:424: error: syntax error before '*' token\r\n",
       "/mingw/lib/gcc/mingw32/../../../include/stdlib.h:424: error: syntax error before \"wchar_t\"\r\n",
       "/mingw/lib/gcc/mingw32/../../../include/stdlib.h:425: error: syntax error before '*' token\r\n",
       "/mingw/lib/gcc/mingw32/../../../include/stdlib.h:425: error: syntax error before \"wchar_t\"\r\n",
       "/mingw/lib/gcc/mingw32/../../../include/stdlib.h:431: error: syntax error before '*' token\r\n",
       "/mingw/lib/gcc/mingw32/../../../include/stdlib.h:432: error: syntax error before '*' token\r\n",
       "/mingw/lib/gcc/mingw32/../../../include/stdlib.h:432: error: syntax error before \"wchar_t\"\r\n",
       "/mingw/lib/gcc/mingw32/../../../include/stdlib.h:433: error: syntax error before '*' token\r\n",
       "/mingw/lib/gcc/mingw32/../../../include/stdlib.h:433: error: syntax error before \"wchar_t\"\r\n",
       "/mingw/lib/gcc/mingw32/../../../include/stdlib.h:520: error: syntax error before '*' token\r\n",
       "/mingw/lib/gcc/mingw32/../../../include/stdlib.h:523: error: syntax error before '*' token\r\n",
       "/mingw/lib/gcc/mingw32/../../../include/stdlib.h:523: error: syntax error before \"wchar_t\"\r\n",
       "/mingw/lib/gcc/mingw32/../../../include/stdlib.h:524: error: syntax error before '*' token\r\n",
       "/mingw/lib/gcc/mingw32/../../../include/stdlib.h:524: error: syntax error before \"wchar_t\"\r\n",
       "/mingw/lib/gcc/mingw32/../../../include/stdlib.h:534: error: syntax error before '*' token\r\n",
       "/mingw/lib/gcc/mingw32/../../../include/stdlib.h: In function `wtoll':\r\n",
       "/mingw/lib/gcc/mingw32/../../../include/stdlib.h:535: error: `_w' undeclared (first use in this function)\r\n",
       "/mingw/lib/gcc/mingw32/../../../include/stdlib.h: At top level:\r\n",
       "/mingw/lib/gcc/mingw32/../../../include/stdlib.h:536: error: syntax error before '*' token\r\n",
       "/mingw/lib/gcc/mingw32/../../../include/stdlib.h:536: error: syntax error before \"wchar_t\"\r\n",
       "/mingw/lib/gcc/mingw32/../../../include/stdlib.h: In function `lltow':\r\n",
       "/mingw/lib/gcc/mingw32/../../../include/stdlib.h:537: error: `_n' undeclared (first use in this function)\r\n",
       "/mingw/lib/gcc/mingw32/../../../include/stdlib.h:537: error: `_w' undeclared (first use in this function)\r\n",
       "/mingw/lib/gcc/mingw32/../../../include/stdlib.h:537: error: `_i' undeclared (first use in this function)\r\n",
       "/mingw/lib/gcc/mingw32/../../../include/stdlib.h: At top level:\r\n",
       "/mingw/lib/gcc/mingw32/../../../include/stdlib.h:538: error: syntax error before '*' token\r\n",
       "/mingw/lib/gcc/mingw32/../../../include/stdlib.h:538: error: syntax error before \"wchar_t\"\r\n",
       "/mingw/lib/gcc/mingw32/../../../include/stdlib.h: In function `ulltow':\r\n",
       "/mingw/lib/gcc/mingw32/../../../include/stdlib.h:539: error: `_n' undeclared (first use in this function)\r\n",
       "/mingw/lib/gcc/mingw32/../../../include/stdlib.h:539: error: `_w' undeclared (first use in this function)\r\n",
       "/mingw/lib/gcc/mingw32/../../../include/stdlib.h:539: error: `_i' undeclared (first use in this function)\r\n",
       "C:/Users/scios/AppData/Local/Temp/gazonk_6460_1.c: At top level:\r\n",
       "C:/Users/scios/AppData/Local/Temp/gazonk_6460_1.c:3207: error: syntax error before \"va_list\"\r\n",
       "C:/Users/scios/AppData/Local/Temp/gazonk_6460_1.c:3446: error: syntax error before \"va_list\"\r\n",
       "C:/Users/scios/AppData/Local/Temp/gazonk_6460_1.c:3447: error: syntax error before \"va_list\"\r\n",
       "C:/Users/scios/AppData/Local/Temp/gazonk_6460_1.c:3451: error: syntax error before \"size_t\"\r\n",
       "C:/Users/scios/AppData/Local/Temp/gazonk_6460_1.c:3451: error: syntax error before ')' token\r\n",
       "In file included from /mingw/lib/gcc/mingw32/../../../include/unistd.h:12,\r\n",
       "                 from C:/Users/scios/AppData/Local/Temp/gazonk_6460_1.c:3809:\r\n",
       "/mingw/lib/gcc/mingw32/../../../include/io.h:131: error: syntax error before \"wchar_t\"\r\n",
       "/mingw/lib/gcc/mingw32/../../../include/io.h:140: error: syntax error before \"wchar_t\"\r\n",
       "/mingw/lib/gcc/mingw32/../../../include/io.h:390: error: syntax error before '*' token\r\n",
       "/mingw/lib/gcc/mingw32/../../../include/io.h:391: error: syntax error before '*' token\r\n",
       "/mingw/lib/gcc/mingw32/../../../include/io.h:392: error: syntax error before '*' token\r\n",
       "/mingw/lib/gcc/mingw32/../../../include/io.h:394: error: syntax error before '*' token\r\n",
       "/mingw/lib/gcc/mingw32/../../../include/io.h:400: error: syntax error before '*' token\r\n",
       "/mingw/lib/gcc/mingw32/../../../include/io.h:401: error: syntax error before '*' token\r\n",
       "/mingw/lib/gcc/mingw32/../../../include/io.h:402: error: syntax error before '*' token\r\n",
       "/mingw/lib/gcc/mingw32/../../../include/io.h:403: error: syntax error before '*' token\r\n",
       "/mingw/lib/gcc/mingw32/../../../include/io.h:403: error: syntax error before '*' token\r\n",
       "/mingw/lib/gcc/mingw32/../../../include/io.h:405: error: syntax error before '*' token\r\n",
       "C:/Users/scios/AppData/Local/Temp/gazonk_6460_1.c:3888: error: syntax error before \"va_list\"\r\n",
       "C:/Users/scios/AppData/Local/Temp/gazonk_6460_1.c:4646: error: syntax error before \"va_list\"\r\n",
       "C:/Users/scios/AppData/Local/Temp/gazonk_6460_1.c:4649: error: syntax error before \"va_list\"\r\n",
       "C:/Users/scios/AppData/Local/Temp/gazonk_6460_1.c:5125: error: syntax error before \"size_t\"\r\n",
       "C:/Users/scios/AppData/Local/Temp/gazonk_6460_1.c:5126: error: syntax error before \"size_t\"\r\n",
       "C:/Users/scios/AppData/Local/Temp/gazonk_6460_1.c:5127: error: syntax error before \"size_t\"\r\n",
       "C:/Users/scios/AppData/Local/Temp/gazonk_6460_1.c: In function `LnkTLI1':\r\n",
       "C:/Users/scios/AppData/Local/Temp/gazonk_6460_1.c:5281: error: `va_list' undeclared (first use in this function)\r\n",
       "C:/Users/scios/AppData/Local/Temp/gazonk_6460_1.c:5281: error: syntax error before \"ap\"\r\n",
       "C:/Users/scios/AppData/Local/Temp/gazonk_6460_1.c:5281: error: `ap' undeclared (first use in this function)\r\n",
       "\n"
      ]
     },
     "metadata": {},
     "output_type": "display_data"
    }
   ],
   "source": [
    "H(2+3*%i)"
   ]
  },
  {
   "cell_type": "code",
   "execution_count": 49,
   "metadata": {
    "collapsed": false
   },
   "outputs": [
    {
     "data": {
      "text/plain": [
       "    There are 2 exposed and 0 unexposed library operations named \n",
       "      normalize having 1 argument(s) but none was determined to be \n",
       "      applicable. Use HyperDoc Browse, or issue\n",
       "                            )display op normalize\n",
       "      to learn more about the available operations. Perhaps \n",
       "      package-calling the operation or using coercions on the arguments\n",
       "      will allow you to apply the operation.\n",
       " \n",
       "   Cannot find a definition or applicable library operation named \n",
       "      normalize with argument type(s) \n",
       "                                    Void\n",
       "      \n",
       "      Perhaps you should use \"@\" to indicate the required return type, \n",
       "      or \"$\" to specify which version of the function you need.\n"
      ]
     },
     "metadata": {},
     "output_type": "display_data"
    }
   ],
   "source": [
    "normalize(%)"
   ]
  },
  {
   "cell_type": "code",
   "execution_count": 50,
   "metadata": {
    "collapsed": false,
    "scrolled": true
   },
   "outputs": [
    {
     "data": {
      "text/plain": [
       " C:/Users/scios/AppData/Local/Temp/gazonk_6460_2.c:268:20: stdarg.h: No such file or directory\r\n",
       "In file included from C:/Users/scios/AppData/Local/Temp/gazonk_6460_2.c:272:\r\n",
       "/mingw/lib/gcc/mingw32/../../../include/stdio.h:26:20: stddef.h: No such file or directory\r\n",
       "In file included from C:/Users/scios/AppData/Local/Temp/gazonk_6460_2.c:272:\r\n",
       "/mingw/lib/gcc/mingw32/../../../include/stdio.h:191: error: syntax error before \"size_t\"\r\n",
       "/mingw/lib/gcc/mingw32/../../../include/stdio.h:207: error: syntax error before \"size_t\"\r\n",
       "/mingw/lib/gcc/mingw32/../../../include/stdio.h:208: error: syntax error before \"__gnuc_va_list\"\r\n",
       "/mingw/lib/gcc/mingw32/../../../include/stdio.h:209: error: syntax error before \"__gnuc_va_list\"\r\n",
       "/mingw/lib/gcc/mingw32/../../../include/stdio.h:210: error: syntax error before \"__gnuc_va_list\"\r\n",
       "/mingw/lib/gcc/mingw32/../../../include/stdio.h:211: error: syntax error before \"size_t\"\r\n",
       "/mingw/lib/gcc/mingw32/../../../include/stdio.h:296: error: syntax error before \"__gnuc_va_list\"\r\n",
       "/mingw/lib/gcc/mingw32/../../../include/stdio.h:297: error: syntax error before \"__gnuc_va_list\"\r\n",
       "/mingw/lib/gcc/mingw32/../../../include/stdio.h:298: error: syntax error before \"__gnuc_va_list\"\r\n",
       "/mingw/lib/gcc/mingw32/../../../include/stdio.h:311: error: syntax error before \"__gnuc_va_list\"\r\n",
       "/mingw/lib/gcc/mingw32/../../../include/stdio.h:312: error: syntax error before \"__gnuc_va_list\"\r\n",
       "/mingw/lib/gcc/mingw32/../../../include/stdio.h:313: error: syntax error before \"__gnuc_va_list\"\r\n",
       "/mingw/lib/gcc/mingw32/../../../include/stdio.h:319: error: syntax error before \"size_t\"\r\n",
       "/mingw/lib/gcc/mingw32/../../../include/stdio.h:320: error: syntax error before \"size_t\"\r\n",
       "/mingw/lib/gcc/mingw32/../../../include/stdio.h:321: error: syntax error before \"__gnuc_va_list\"\r\n",
       "/mingw/lib/gcc/mingw32/../../../include/stdio.h:331: error: syntax error before \"size_t\"\r\n",
       "/mingw/lib/gcc/mingw32/../../../include/stdio.h:332: error: syntax error before \"size_t\"\r\n",
       "/mingw/lib/gcc/mingw32/../../../include/stdio.h:334: error: syntax error before \"__gnuc_va_list\"\r\n",
       "/mingw/lib/gcc/mingw32/../../../include/stdio.h:336: error: syntax error before \"__gnuc_va_list\"\r\n",
       "/mingw/lib/gcc/mingw32/../../../include/stdio.h:338: error: syntax error before \"__gnuc_va_list\"\r\n",
       "/mingw/lib/gcc/mingw32/../../../include/stdio.h:412: error: syntax error before \"fread\"\r\n",
       "/mingw/lib/gcc/mingw32/../../../include/stdio.h:413: error: syntax error before \"fwrite\"\r\n",
       "In file included from C:/Users/scios/AppData/Local/Temp/gazonk_6460_2.c:272:\r\n",
       "/mingw/lib/gcc/mingw32/../../../include/stdio.h:563: error: syntax error before '*' token\r\n",
       "/mingw/lib/gcc/mingw32/../../../include/stdio.h:564: error: syntax error before '*' token\r\n",
       "/mingw/lib/gcc/mingw32/../../../include/stdio.h:565: error: syntax error before '*' token\r\n",
       "/mingw/lib/gcc/mingw32/../../../include/stdio.h:566: error: syntax error before '*' token\r\n",
       "/mingw/lib/gcc/mingw32/../../../include/stdio.h:567: error: syntax error before '*' token\r\n",
       "/mingw/lib/gcc/mingw32/../../../include/stdio.h:568: error: syntax error before '*' token\r\n",
       "/mingw/lib/gcc/mingw32/../../../include/stdio.h:569: error: syntax error before '*' token\r\n",
       "/mingw/lib/gcc/mingw32/../../../include/stdio.h:570: error: syntax error before '*' token\r\n",
       "/mingw/lib/gcc/mingw32/../../../include/stdio.h:571: error: syntax error before '*' token\r\n",
       "/mingw/lib/gcc/mingw32/../../../include/stdio.h:572: error: syntax error before '*' token\r\n",
       "/mingw/lib/gcc/mingw32/../../../include/stdio.h:573: error: syntax error before \"fgetwc\"\r\n",
       "/mingw/lib/gcc/mingw32/../../../include/stdio.h:574: error: syntax error before \"fputwc\"\r\n",
       "/mingw/lib/gcc/mingw32/../../../include/stdio.h:575: error: syntax error before \"ungetwc\"\r\n",
       "/mingw/lib/gcc/mingw32/../../../include/stdio.h:579: error: syntax error before '*' token\r\n",
       "/mingw/lib/gcc/mingw32/../../../include/stdio.h:580: error: syntax error before '*' token\r\n",
       "/mingw/lib/gcc/mingw32/../../../include/stdio.h:584: error: syntax error before '*' token\r\n",
       "/mingw/lib/gcc/mingw32/../../../include/stdio.h:584: error: syntax error before '*' token\r\n",
       "/mingw/lib/gcc/mingw32/../../../include/stdio.h:585: error: syntax error before '*' token\r\n",
       "/mingw/lib/gcc/mingw32/../../../include/stdio.h:586: error: syntax error before \"getwc\"\r\n",
       "/mingw/lib/gcc/mingw32/../../../include/stdio.h:587: error: syntax error before \"getwchar\"\r\n",
       "/mingw/lib/gcc/mingw32/../../../include/stdio.h:588: error: syntax error before '*' token\r\n",
       "/mingw/lib/gcc/mingw32/../../../include/stdio.h:589: error: syntax error before \"putwc\"\r\n",
       "/mingw/lib/gcc/mingw32/../../../include/stdio.h:590: error: syntax error before '*' token\r\n",
       "/mingw/lib/gcc/mingw32/../../../include/stdio.h:591: error: syntax error before \"putwchar\"\r\n",
       "/mingw/lib/gcc/mingw32/../../../include/stdio.h:592: error: syntax error before '*' token\r\n",
       "/mingw/lib/gcc/mingw32/../../../include/stdio.h:593: error: syntax error before '*' token\r\n",
       "/mingw/lib/gcc/mingw32/../../../include/stdio.h:594: error: syntax error before '*' token\r\n",
       "/mingw/lib/gcc/mingw32/../../../include/stdio.h:595: error: syntax error before '*' token\r\n",
       "/mingw/lib/gcc/mingw32/../../../include/stdio.h:596: error: syntax error before '*' token\r\n",
       "/mingw/lib/gcc/mingw32/../../../include/stdio.h:596: error: syntax error before '*' token\r\n",
       "/mingw/lib/gcc/mingw32/../../../include/stdio.h:597: error: syntax error before '*' token\r\n",
       "/mingw/lib/gcc/mingw32/../../../include/stdio.h:597: error: syntax error before '*' token\r\n",
       "/mingw/lib/gcc/mingw32/../../../include/stdio.h:598: error: syntax error before '*' token\r\n",
       "/mingw/lib/gcc/mingw32/../../../include/stdio.h:599: error: syntax error before '*' token\r\n",
       "/mingw/lib/gcc/mingw32/../../../include/stdio.h:600: error: syntax error before '*' token\r\n",
       "/mingw/lib/gcc/mingw32/../../../include/stdio.h:601: error: syntax error before '*' token\r\n",
       "/mingw/lib/gcc/mingw32/../../../include/stdio.h:605: error: syntax error before '*' token\r\n",
       "/mingw/lib/gcc/mingw32/../../../include/stdio.h:606: error: syntax error before '*' token\r\n",
       "/mingw/lib/gcc/mingw32/../../../include/stdio.h:609: error: syntax error before '*' token\r\n",
       "/mingw/lib/gcc/mingw32/../../../include/stdio.h: In function `vsnwprintf':\r\n",
       "/mingw/lib/gcc/mingw32/../../../include/stdio.h:610: error: `s' undeclared (first use in this function)\r\n",
       "/mingw/lib/gcc/mingw32/../../../include/stdio.h:610: error: (Each undeclared identifier is reported only once\r\n",
       "/mingw/lib/gcc/mingw32/../../../include/stdio.h:610: error: for each function it appears in.)\r\n",
       "/mingw/lib/gcc/mingw32/../../../include/stdio.h:610: error: `n' undeclared (first use in this function)\r\n",
       "/mingw/lib/gcc/mingw32/../../../include/stdio.h:610: error: `format' undeclared (first use in this function)\r\n",
       "/mingw/lib/gcc/mingw32/../../../include/stdio.h:610: error: `arg' undeclared (first use in this function)\r\n",
       "/mingw/lib/gcc/mingw32/../../../include/stdio.h: At top level:\r\n",
       "/mingw/lib/gcc/mingw32/../../../include/stdio.h:612: error: syntax error before '*' token\r\n",
       "/mingw/lib/gcc/mingw32/../../../include/stdio.h:614: error: syntax error before '*' token\r\n",
       "/mingw/lib/gcc/mingw32/../../../include/stdio.h:615: error: syntax error before '*' token\r\n",
       "/mingw/lib/gcc/mingw32/../../../include/stdio.h:625: error: syntax error before '*' token\r\n",
       "/mingw/lib/gcc/mingw32/../../../include/stdio.h:632: error: syntax error before \"_fgetwchar\"\r\n",
       "/mingw/lib/gcc/mingw32/../../../include/stdio.h:633: error: syntax error before \"_fputwchar\"\r\n",
       "/mingw/lib/gcc/mingw32/../../../include/stdio.h:638: error: syntax error before \"fgetwchar\"\r\n",
       "/mingw/lib/gcc/mingw32/../../../include/stdio.h:639: error: syntax error before \"fputwchar\"\r\n",
       "C:/Users/scios/AppData/Local/Temp/gazonk_6460_2.c:1984: error: syntax error before \"size_t\"\r\n",
       "In file included from C:/Users/scios/AppData/Local/Temp/gazonk_6460_2.c:3193:\r\n",
       "/mingw/lib/gcc/mingw32/../../../include/stdlib.h:79: error: syntax error before '*' token\r\n",
       "/mingw/lib/gcc/mingw32/../../../include/stdlib.h:150: error: syntax error before '*' token\r\n",
       "/mingw/lib/gcc/mingw32/../../../include/stdlib.h:262: error: syntax error before '*' token\r\n",
       "/mingw/lib/gcc/mingw32/../../../include/stdlib.h:307: error: syntax error before '*' token\r\n",
       "/mingw/lib/gcc/mingw32/../../../include/stdlib.h:308: error: syntax error before '*' token\r\n",
       "/mingw/lib/gcc/mingw32/../../../include/stdlib.h:309: error: syntax error before '*' token\r\n",
       "/mingw/lib/gcc/mingw32/../../../include/stdlib.h:326: error: syntax error before '*' token\r\n",
       "/mingw/lib/gcc/mingw32/../../../include/stdlib.h:327: error: syntax error before '*' token\r\n",
       "/mingw/lib/gcc/mingw32/../../../include/stdlib.h:328: error: syntax error before '*' token\r\n",
       "/mingw/lib/gcc/mingw32/../../../include/stdlib.h:330: error: syntax error before '*' token\r\n",
       "/mingw/lib/gcc/mingw32/../../../include/stdlib.h:331: error: syntax error before '*' token\r\n",
       "/mingw/lib/gcc/mingw32/../../../include/stdlib.h:334: error: syntax error before '*' token\r\n",
       "/mingw/lib/gcc/mingw32/../../../include/stdlib.h:334: error: syntax error before '*' token\r\n",
       "/mingw/lib/gcc/mingw32/../../../include/stdlib.h:335: error: syntax error before '*' token\r\n",
       "/mingw/lib/gcc/mingw32/../../../include/stdlib.h:336: error: syntax error before '*' token\r\n",
       "/mingw/lib/gcc/mingw32/../../../include/stdlib.h:337: error: syntax error before '*' token\r\n",
       "/mingw/lib/gcc/mingw32/../../../include/stdlib.h:338: error: syntax error before '*' token\r\n",
       "/mingw/lib/gcc/mingw32/../../../include/stdlib.h:339: error: syntax error before '*' token\r\n",
       "/mingw/lib/gcc/mingw32/../../../include/stdlib.h:340: error: syntax error before '*' token\r\n",
       "/mingw/lib/gcc/mingw32/../../../include/stdlib.h:340: error: syntax error before '*' token\r\n",
       "/mingw/lib/gcc/mingw32/../../../include/stdlib.h:345: error: syntax error before \"wcstombs\"\r\n",
       "/mingw/lib/gcc/mingw32/../../../include/stdlib.h:346: error: syntax error before \"wchar_t\"\r\n",
       "/mingw/lib/gcc/mingw32/../../../include/stdlib.h:348: error: syntax error before \"size_t\"\r\n",
       "/mingw/lib/gcc/mingw32/../../../include/stdlib.h:349: error: syntax error before \"mbstowcs\"\r\n",
       "/mingw/lib/gcc/mingw32/../../../include/stdlib.h:350: error: syntax error before '*' token\r\n",
       "/mingw/lib/gcc/mingw32/../../../include/stdlib.h:357: error: syntax error before \"size_t\"\r\n",
       "/mingw/lib/gcc/mingw32/../../../include/stdlib.h:369: error: syntax error before \"size_t\"\r\n",
       "/mingw/lib/gcc/mingw32/../../../include/stdlib.h:370: error: syntax error before ')' token\r\n",
       "/mingw/lib/gcc/mingw32/../../../include/stdlib.h:371: error: syntax error before \"size_t\"\r\n",
       "/mingw/lib/gcc/mingw32/../../../include/stdlib.h:372: error: syntax error before ')' token\r\n",
       "/mingw/lib/gcc/mingw32/../../../include/stdlib.h:418: error: syntax error before \"size_t\"\r\n",
       "/mingw/lib/gcc/mingw32/../../../include/stdlib.h:423: error: syntax error before '*' token\r\n",
       "/mingw/lib/gcc/mingw32/../../../include/stdlib.h:423: error: syntax error before \"wchar_t\"\r\n",
       "/mingw/lib/gcc/mingw32/../../../include/stdlib.h:424: error: syntax error before '*' token\r\n",
       "/mingw/lib/gcc/mingw32/../../../include/stdlib.h:424: error: syntax error before \"wchar_t\"\r\n",
       "/mingw/lib/gcc/mingw32/../../../include/stdlib.h:425: error: syntax error before '*' token\r\n",
       "/mingw/lib/gcc/mingw32/../../../include/stdlib.h:425: error: syntax error before \"wchar_t\"\r\n",
       "/mingw/lib/gcc/mingw32/../../../include/stdlib.h:431: error: syntax error before '*' token\r\n",
       "/mingw/lib/gcc/mingw32/../../../include/stdlib.h:432: error: syntax error before '*' token\r\n",
       "/mingw/lib/gcc/mingw32/../../../include/stdlib.h:432: error: syntax error before \"wchar_t\"\r\n",
       "/mingw/lib/gcc/mingw32/../../../include/stdlib.h:433: error: syntax error before '*' token\r\n",
       "/mingw/lib/gcc/mingw32/../../../include/stdlib.h:433: error: syntax error before \"wchar_t\"\r\n",
       "/mingw/lib/gcc/mingw32/../../../include/stdlib.h:520: error: syntax error before '*' token\r\n",
       "/mingw/lib/gcc/mingw32/../../../include/stdlib.h:523: error: syntax error before '*' token\r\n",
       "/mingw/lib/gcc/mingw32/../../../include/stdlib.h:523: error: syntax error before \"wchar_t\"\r\n",
       "/mingw/lib/gcc/mingw32/../../../include/stdlib.h:524: error: syntax error before '*' token\r\n",
       "/mingw/lib/gcc/mingw32/../../../include/stdlib.h:524: error: syntax error before \"wchar_t\"\r\n",
       "/mingw/lib/gcc/mingw32/../../../include/stdlib.h:534: error: syntax error before '*' token\r\n",
       "/mingw/lib/gcc/mingw32/../../../include/stdlib.h: In function `wtoll':\r\n",
       "/mingw/lib/gcc/mingw32/../../../include/stdlib.h:535: error: `_w' undeclared (first use in this function)\r\n",
       "/mingw/lib/gcc/mingw32/../../../include/stdlib.h: At top level:\r\n",
       "/mingw/lib/gcc/mingw32/../../../include/stdlib.h:536: error: syntax error before '*' token\r\n",
       "/mingw/lib/gcc/mingw32/../../../include/stdlib.h:536: error: syntax error before \"wchar_t\"\r\n",
       "/mingw/lib/gcc/mingw32/../../../include/stdlib.h: In function `lltow':\r\n",
       "/mingw/lib/gcc/mingw32/../../../include/stdlib.h:537: error: `_n' undeclared (first use in this function)\r\n",
       "/mingw/lib/gcc/mingw32/../../../include/stdlib.h:537: error: `_w' undeclared (first use in this function)\r\n",
       "/mingw/lib/gcc/mingw32/../../../include/stdlib.h:537: error: `_i' undeclared (first use in this function)\r\n",
       "/mingw/lib/gcc/mingw32/../../../include/stdlib.h: At top level:\r\n",
       "/mingw/lib/gcc/mingw32/../../../include/stdlib.h:538: error: syntax error before '*' token\r\n",
       "/mingw/lib/gcc/mingw32/../../../include/stdlib.h:538: error: syntax error before \"wchar_t\"\r\n",
       "/mingw/lib/gcc/mingw32/../../../include/stdlib.h: In function `ulltow':\r\n",
       "/mingw/lib/gcc/mingw32/../../../include/stdlib.h:539: error: `_n' undeclared (first use in this function)\r\n",
       "/mingw/lib/gcc/mingw32/../../../include/stdlib.h:539: error: `_w' undeclared (first use in this function)\r\n",
       "/mingw/lib/gcc/mingw32/../../../include/stdlib.h:539: error: `_i' undeclared (first use in this function)\r\n",
       "C:/Users/scios/AppData/Local/Temp/gazonk_6460_2.c: At top level:\r\n",
       "C:/Users/scios/AppData/Local/Temp/gazonk_6460_2.c:3207: error: syntax error before \"va_list\"\r\n",
       "C:/Users/scios/AppData/Local/Temp/gazonk_6460_2.c:3446: error: syntax error before \"va_list\"\r\n",
       "C:/Users/scios/AppData/Local/Temp/gazonk_6460_2.c:3447: error: syntax error before \"va_list\"\r\n",
       "C:/Users/scios/AppData/Local/Temp/gazonk_6460_2.c:3451: error: syntax error before \"size_t\"\r\n",
       "C:/Users/scios/AppData/Local/Temp/gazonk_6460_2.c:3451: error: syntax error before ')' token\r\n",
       "In file included from /mingw/lib/gcc/mingw32/../../../include/unistd.h:12,\r\n",
       "                 from C:/Users/scios/AppData/Local/Temp/gazonk_6460_2.c:3809:\r\n",
       "/mingw/lib/gcc/mingw32/../../../include/io.h:131: error: syntax error before \"wchar_t\"\r\n",
       "/mingw/lib/gcc/mingw32/../../../include/io.h:140: error: syntax error before \"wchar_t\"\r\n",
       "/mingw/lib/gcc/mingw32/../../../include/io.h:390: error: syntax error before '*' token\r\n",
       "/mingw/lib/gcc/mingw32/../../../include/io.h:391: error: syntax error before '*' token\r\n",
       "/mingw/lib/gcc/mingw32/../../../include/io.h:392: error: syntax error before '*' token\r\n",
       "/mingw/lib/gcc/mingw32/../../../include/io.h:394: error: syntax error before '*' token\r\n",
       "/mingw/lib/gcc/mingw32/../../../include/io.h:400: error: syntax error before '*' token\r\n",
       "/mingw/lib/gcc/mingw32/../../../include/io.h:401: error: syntax error before '*' token\r\n",
       "/mingw/lib/gcc/mingw32/../../../include/io.h:402: error: syntax error before '*' token\r\n",
       "/mingw/lib/gcc/mingw32/../../../include/io.h:403: error: syntax error before '*' token\r\n",
       "/mingw/lib/gcc/mingw32/../../../include/io.h:403: error: syntax error before '*' token\r\n",
       "/mingw/lib/gcc/mingw32/../../../include/io.h:405: error: syntax error before '*' token\r\n",
       "C:/Users/scios/AppData/Local/Temp/gazonk_6460_2.c:3888: error: syntax error before \"va_list\"\r\n",
       "C:/Users/scios/AppData/Local/Temp/gazonk_6460_2.c:4646: error: syntax error before \"va_list\"\r\n",
       "C:/Users/scios/AppData/Local/Temp/gazonk_6460_2.c:4649: error: syntax error before \"va_list\"\r\n",
       "C:/Users/scios/AppData/Local/Temp/gazonk_6460_2.c:5125: error: syntax error before \"size_t\"\r\n",
       "C:/Users/scios/AppData/Local/Temp/gazonk_6460_2.c:5126: error: syntax error before \"size_t\"\r\n",
       "C:/Users/scios/AppData/Local/Temp/gazonk_6460_2.c:5127: error: syntax error before \"size_t\"\r\n",
       "C:/Users/scios/AppData/Local/Temp/gazonk_6460_2.c: In function `LnkTLI7':\r\n",
       "C:/Users/scios/AppData/Local/Temp/gazonk_6460_2.c:5305: error: `va_list' undeclared (first use in this function)\r\n",
       "C:/Users/scios/AppData/Local/Temp/gazonk_6460_2.c:5305: error: syntax error before \"ap\"\r\n",
       "C:/Users/scios/AppData/Local/Temp/gazonk_6460_2.c:5305: error: `ap' undeclared (first use in this function)\r\n",
       "\n"
      ]
     },
     "metadata": {},
     "output_type": "display_data"
    }
   ],
   "source": [
    "H(4)"
   ]
  },
  {
   "cell_type": "code",
   "execution_count": 51,
   "metadata": {
    "collapsed": true
   },
   "outputs": [
    {
     "data": {
      "text/plain": [
       " C:/Users/scios/AppData/Local/Temp/gazonk_6460_3.c:268:20: stdarg.h: No such file or directory\r\n",
       "In file included from C:/Users/scios/AppData/Local/Temp/gazonk_6460_3.c:272:\r\n",
       "/mingw/lib/gcc/mingw32/../../../include/stdio.h:26:20: stddef.h: No such file or directory\r\n",
       "In file included from C:/Users/scios/AppData/Local/Temp/gazonk_6460_3.c:272:\r\n",
       "/mingw/lib/gcc/mingw32/../../../include/stdio.h:191: error: syntax error before \"size_t\"\r\n",
       "/mingw/lib/gcc/mingw32/../../../include/stdio.h:207: error: syntax error before \"size_t\"\r\n",
       "/mingw/lib/gcc/mingw32/../../../include/stdio.h:208: error: syntax error before \"__gnuc_va_list\"\r\n",
       "/mingw/lib/gcc/mingw32/../../../include/stdio.h:209: error: syntax error before \"__gnuc_va_list\"\r\n",
       "/mingw/lib/gcc/mingw32/../../../include/stdio.h:210: error: syntax error before \"__gnuc_va_list\"\r\n",
       "/mingw/lib/gcc/mingw32/../../../include/stdio.h:211: error: syntax error before \"size_t\"\r\n",
       "/mingw/lib/gcc/mingw32/../../../include/stdio.h:296: error: syntax error before \"__gnuc_va_list\"\r\n",
       "/mingw/lib/gcc/mingw32/../../../include/stdio.h:297: error: syntax error before \"__gnuc_va_list\"\r\n",
       "/mingw/lib/gcc/mingw32/../../../include/stdio.h:298: error: syntax error before \"__gnuc_va_list\"\r\n",
       "/mingw/lib/gcc/mingw32/../../../include/stdio.h:311: error: syntax error before \"__gnuc_va_list\"\r\n",
       "/mingw/lib/gcc/mingw32/../../../include/stdio.h:312: error: syntax error before \"__gnuc_va_list\"\r\n",
       "/mingw/lib/gcc/mingw32/../../../include/stdio.h:313: error: syntax error before \"__gnuc_va_list\"\r\n",
       "/mingw/lib/gcc/mingw32/../../../include/stdio.h:319: error: syntax error before \"size_t\"\r\n",
       "/mingw/lib/gcc/mingw32/../../../include/stdio.h:320: error: syntax error before \"size_t\"\r\n",
       "/mingw/lib/gcc/mingw32/../../../include/stdio.h:321: error: syntax error before \"__gnuc_va_list\"\r\n",
       "/mingw/lib/gcc/mingw32/../../../include/stdio.h:331: error: syntax error before \"size_t\"\r\n",
       "/mingw/lib/gcc/mingw32/../../../include/stdio.h:332: error: syntax error before \"size_t\"\r\n",
       "/mingw/lib/gcc/mingw32/../../../include/stdio.h:334: error: syntax error before \"__gnuc_va_list\"\r\n",
       "/mingw/lib/gcc/mingw32/../../../include/stdio.h:336: error: syntax error before \"__gnuc_va_list\"\r\n",
       "/mingw/lib/gcc/mingw32/../../../include/stdio.h:338: error: syntax error before \"__gnuc_va_list\"\r\n",
       "/mingw/lib/gcc/mingw32/../../../include/stdio.h:412: error: syntax error before \"fread\"\r\n",
       "/mingw/lib/gcc/mingw32/../../../include/stdio.h:413: error: syntax error before \"fwrite\"\r\n",
       "In file included from C:/Users/scios/AppData/Local/Temp/gazonk_6460_3.c:272:\r\n",
       "/mingw/lib/gcc/mingw32/../../../include/stdio.h:563: error: syntax error before '*' token\r\n",
       "/mingw/lib/gcc/mingw32/../../../include/stdio.h:564: error: syntax error before '*' token\r\n",
       "/mingw/lib/gcc/mingw32/../../../include/stdio.h:565: error: syntax error before '*' token\r\n",
       "/mingw/lib/gcc/mingw32/../../../include/stdio.h:566: error: syntax error before '*' token\r\n",
       "/mingw/lib/gcc/mingw32/../../../include/stdio.h:567: error: syntax error before '*' token\r\n",
       "/mingw/lib/gcc/mingw32/../../../include/stdio.h:568: error: syntax error before '*' token\r\n",
       "/mingw/lib/gcc/mingw32/../../../include/stdio.h:569: error: syntax error before '*' token\r\n",
       "/mingw/lib/gcc/mingw32/../../../include/stdio.h:570: error: syntax error before '*' token\r\n",
       "/mingw/lib/gcc/mingw32/../../../include/stdio.h:571: error: syntax error before '*' token\r\n",
       "/mingw/lib/gcc/mingw32/../../../include/stdio.h:572: error: syntax error before '*' token\r\n",
       "/mingw/lib/gcc/mingw32/../../../include/stdio.h:573: error: syntax error before \"fgetwc\"\r\n",
       "/mingw/lib/gcc/mingw32/../../../include/stdio.h:574: error: syntax error before \"fputwc\"\r\n",
       "/mingw/lib/gcc/mingw32/../../../include/stdio.h:575: error: syntax error before \"ungetwc\"\r\n",
       "/mingw/lib/gcc/mingw32/../../../include/stdio.h:579: error: syntax error before '*' token\r\n",
       "/mingw/lib/gcc/mingw32/../../../include/stdio.h:580: error: syntax error before '*' token\r\n",
       "/mingw/lib/gcc/mingw32/../../../include/stdio.h:584: error: syntax error before '*' token\r\n",
       "/mingw/lib/gcc/mingw32/../../../include/stdio.h:584: error: syntax error before '*' token\r\n",
       "/mingw/lib/gcc/mingw32/../../../include/stdio.h:585: error: syntax error before '*' token\r\n",
       "/mingw/lib/gcc/mingw32/../../../include/stdio.h:586: error: syntax error before \"getwc\"\r\n",
       "/mingw/lib/gcc/mingw32/../../../include/stdio.h:587: error: syntax error before \"getwchar\"\r\n",
       "/mingw/lib/gcc/mingw32/../../../include/stdio.h:588: error: syntax error before '*' token\r\n",
       "/mingw/lib/gcc/mingw32/../../../include/stdio.h:589: error: syntax error before \"putwc\"\r\n",
       "/mingw/lib/gcc/mingw32/../../../include/stdio.h:590: error: syntax error before '*' token\r\n",
       "/mingw/lib/gcc/mingw32/../../../include/stdio.h:591: error: syntax error before \"putwchar\"\r\n",
       "/mingw/lib/gcc/mingw32/../../../include/stdio.h:592: error: syntax error before '*' token\r\n",
       "/mingw/lib/gcc/mingw32/../../../include/stdio.h:593: error: syntax error before '*' token\r\n",
       "/mingw/lib/gcc/mingw32/../../../include/stdio.h:594: error: syntax error before '*' token\r\n",
       "/mingw/lib/gcc/mingw32/../../../include/stdio.h:595: error: syntax error before '*' token\r\n",
       "/mingw/lib/gcc/mingw32/../../../include/stdio.h:596: error: syntax error before '*' token\r\n",
       "/mingw/lib/gcc/mingw32/../../../include/stdio.h:596: error: syntax error before '*' token\r\n",
       "/mingw/lib/gcc/mingw32/../../../include/stdio.h:597: error: syntax error before '*' token\r\n",
       "/mingw/lib/gcc/mingw32/../../../include/stdio.h:597: error: syntax error before '*' token\r\n",
       "/mingw/lib/gcc/mingw32/../../../include/stdio.h:598: error: syntax error before '*' token\r\n",
       "/mingw/lib/gcc/mingw32/../../../include/stdio.h:599: error: syntax error before '*' token\r\n",
       "/mingw/lib/gcc/mingw32/../../../include/stdio.h:600: error: syntax error before '*' token\r\n",
       "/mingw/lib/gcc/mingw32/../../../include/stdio.h:601: error: syntax error before '*' token\r\n",
       "/mingw/lib/gcc/mingw32/../../../include/stdio.h:605: error: syntax error before '*' token\r\n",
       "/mingw/lib/gcc/mingw32/../../../include/stdio.h:606: error: syntax error before '*' token\r\n",
       "/mingw/lib/gcc/mingw32/../../../include/stdio.h:609: error: syntax error before '*' token\r\n",
       "/mingw/lib/gcc/mingw32/../../../include/stdio.h: In function `vsnwprintf':\r\n",
       "/mingw/lib/gcc/mingw32/../../../include/stdio.h:610: error: `s' undeclared (first use in this function)\r\n",
       "/mingw/lib/gcc/mingw32/../../../include/stdio.h:610: error: (Each undeclared identifier is reported only once\r\n",
       "/mingw/lib/gcc/mingw32/../../../include/stdio.h:610: error: for each function it appears in.)\r\n",
       "/mingw/lib/gcc/mingw32/../../../include/stdio.h:610: error: `n' undeclared (first use in this function)\r\n",
       "/mingw/lib/gcc/mingw32/../../../include/stdio.h:610: error: `format' undeclared (first use in this function)\r\n",
       "/mingw/lib/gcc/mingw32/../../../include/stdio.h:610: error: `arg' undeclared (first use in this function)\r\n",
       "/mingw/lib/gcc/mingw32/../../../include/stdio.h: At top level:\r\n",
       "/mingw/lib/gcc/mingw32/../../../include/stdio.h:612: error: syntax error before '*' token\r\n",
       "/mingw/lib/gcc/mingw32/../../../include/stdio.h:614: error: syntax error before '*' token\r\n",
       "/mingw/lib/gcc/mingw32/../../../include/stdio.h:615: error: syntax error before '*' token\r\n",
       "/mingw/lib/gcc/mingw32/../../../include/stdio.h:625: error: syntax error before '*' token\r\n",
       "/mingw/lib/gcc/mingw32/../../../include/stdio.h:632: error: syntax error before \"_fgetwchar\"\r\n",
       "/mingw/lib/gcc/mingw32/../../../include/stdio.h:633: error: syntax error before \"_fputwchar\"\r\n",
       "/mingw/lib/gcc/mingw32/../../../include/stdio.h:638: error: syntax error before \"fgetwchar\"\r\n",
       "/mingw/lib/gcc/mingw32/../../../include/stdio.h:639: error: syntax error before \"fputwchar\"\r\n",
       "C:/Users/scios/AppData/Local/Temp/gazonk_6460_3.c:1984: error: syntax error before \"size_t\"\r\n",
       "In file included from C:/Users/scios/AppData/Local/Temp/gazonk_6460_3.c:3193:\r\n",
       "/mingw/lib/gcc/mingw32/../../../include/stdlib.h:79: error: syntax error before '*' token\r\n",
       "/mingw/lib/gcc/mingw32/../../../include/stdlib.h:150: error: syntax error before '*' token\r\n",
       "/mingw/lib/gcc/mingw32/../../../include/stdlib.h:262: error: syntax error before '*' token\r\n",
       "/mingw/lib/gcc/mingw32/../../../include/stdlib.h:307: error: syntax error before '*' token\r\n",
       "/mingw/lib/gcc/mingw32/../../../include/stdlib.h:308: error: syntax error before '*' token\r\n",
       "/mingw/lib/gcc/mingw32/../../../include/stdlib.h:309: error: syntax error before '*' token\r\n",
       "/mingw/lib/gcc/mingw32/../../../include/stdlib.h:326: error: syntax error before '*' token\r\n",
       "/mingw/lib/gcc/mingw32/../../../include/stdlib.h:327: error: syntax error before '*' token\r\n",
       "/mingw/lib/gcc/mingw32/../../../include/stdlib.h:328: error: syntax error before '*' token\r\n",
       "/mingw/lib/gcc/mingw32/../../../include/stdlib.h:330: error: syntax error before '*' token\r\n",
       "/mingw/lib/gcc/mingw32/../../../include/stdlib.h:331: error: syntax error before '*' token\r\n",
       "/mingw/lib/gcc/mingw32/../../../include/stdlib.h:334: error: syntax error before '*' token\r\n",
       "/mingw/lib/gcc/mingw32/../../../include/stdlib.h:334: error: syntax error before '*' token\r\n",
       "/mingw/lib/gcc/mingw32/../../../include/stdlib.h:335: error: syntax error before '*' token\r\n",
       "/mingw/lib/gcc/mingw32/../../../include/stdlib.h:336: error: syntax error before '*' token\r\n",
       "/mingw/lib/gcc/mingw32/../../../include/stdlib.h:337: error: syntax error before '*' token\r\n",
       "/mingw/lib/gcc/mingw32/../../../include/stdlib.h:338: error: syntax error before '*' token\r\n",
       "/mingw/lib/gcc/mingw32/../../../include/stdlib.h:339: error: syntax error before '*' token\r\n",
       "/mingw/lib/gcc/mingw32/../../../include/stdlib.h:340: error: syntax error before '*' token\r\n",
       "/mingw/lib/gcc/mingw32/../../../include/stdlib.h:340: error: syntax error before '*' token\r\n",
       "/mingw/lib/gcc/mingw32/../../../include/stdlib.h:345: error: syntax error before \"wcstombs\"\r\n",
       "/mingw/lib/gcc/mingw32/../../../include/stdlib.h:346: error: syntax error before \"wchar_t\"\r\n",
       "/mingw/lib/gcc/mingw32/../../../include/stdlib.h:348: error: syntax error before \"size_t\"\r\n",
       "/mingw/lib/gcc/mingw32/../../../include/stdlib.h:349: error: syntax error before \"mbstowcs\"\r\n",
       "/mingw/lib/gcc/mingw32/../../../include/stdlib.h:350: error: syntax error before '*' token\r\n",
       "/mingw/lib/gcc/mingw32/../../../include/stdlib.h:357: error: syntax error before \"size_t\"\r\n",
       "/mingw/lib/gcc/mingw32/../../../include/stdlib.h:369: error: syntax error before \"size_t\"\r\n",
       "/mingw/lib/gcc/mingw32/../../../include/stdlib.h:370: error: syntax error before ')' token\r\n",
       "/mingw/lib/gcc/mingw32/../../../include/stdlib.h:371: error: syntax error before \"size_t\"\r\n",
       "/mingw/lib/gcc/mingw32/../../../include/stdlib.h:372: error: syntax error before ')' token\r\n",
       "/mingw/lib/gcc/mingw32/../../../include/stdlib.h:418: error: syntax error before \"size_t\"\r\n",
       "/mingw/lib/gcc/mingw32/../../../include/stdlib.h:423: error: syntax error before '*' token\r\n",
       "/mingw/lib/gcc/mingw32/../../../include/stdlib.h:423: error: syntax error before \"wchar_t\"\r\n",
       "/mingw/lib/gcc/mingw32/../../../include/stdlib.h:424: error: syntax error before '*' token\r\n",
       "/mingw/lib/gcc/mingw32/../../../include/stdlib.h:424: error: syntax error before \"wchar_t\"\r\n",
       "/mingw/lib/gcc/mingw32/../../../include/stdlib.h:425: error: syntax error before '*' token\r\n",
       "/mingw/lib/gcc/mingw32/../../../include/stdlib.h:425: error: syntax error before \"wchar_t\"\r\n",
       "/mingw/lib/gcc/mingw32/../../../include/stdlib.h:431: error: syntax error before '*' token\r\n",
       "/mingw/lib/gcc/mingw32/../../../include/stdlib.h:432: error: syntax error before '*' token\r\n",
       "/mingw/lib/gcc/mingw32/../../../include/stdlib.h:432: error: syntax error before \"wchar_t\"\r\n",
       "/mingw/lib/gcc/mingw32/../../../include/stdlib.h:433: error: syntax error before '*' token\r\n",
       "/mingw/lib/gcc/mingw32/../../../include/stdlib.h:433: error: syntax error before \"wchar_t\"\r\n",
       "/mingw/lib/gcc/mingw32/../../../include/stdlib.h:520: error: syntax error before '*' token\r\n",
       "/mingw/lib/gcc/mingw32/../../../include/stdlib.h:523: error: syntax error before '*' token\r\n",
       "/mingw/lib/gcc/mingw32/../../../include/stdlib.h:523: error: syntax error before \"wchar_t\"\r\n",
       "/mingw/lib/gcc/mingw32/../../../include/stdlib.h:524: error: syntax error before '*' token\r\n",
       "/mingw/lib/gcc/mingw32/../../../include/stdlib.h:524: error: syntax error before \"wchar_t\"\r\n",
       "/mingw/lib/gcc/mingw32/../../../include/stdlib.h:534: error: syntax error before '*' token\r\n",
       "/mingw/lib/gcc/mingw32/../../../include/stdlib.h: In function `wtoll':\r\n",
       "/mingw/lib/gcc/mingw32/../../../include/stdlib.h:535: error: `_w' undeclared (first use in this function)\r\n",
       "/mingw/lib/gcc/mingw32/../../../include/stdlib.h: At top level:\r\n",
       "/mingw/lib/gcc/mingw32/../../../include/stdlib.h:536: error: syntax error before '*' token\r\n",
       "/mingw/lib/gcc/mingw32/../../../include/stdlib.h:536: error: syntax error before \"wchar_t\"\r\n",
       "/mingw/lib/gcc/mingw32/../../../include/stdlib.h: In function `lltow':\r\n",
       "/mingw/lib/gcc/mingw32/../../../include/stdlib.h:537: error: `_n' undeclared (first use in this function)\r\n",
       "/mingw/lib/gcc/mingw32/../../../include/stdlib.h:537: error: `_w' undeclared (first use in this function)\r\n",
       "/mingw/lib/gcc/mingw32/../../../include/stdlib.h:537: error: `_i' undeclared (first use in this function)\r\n",
       "/mingw/lib/gcc/mingw32/../../../include/stdlib.h: At top level:\r\n",
       "/mingw/lib/gcc/mingw32/../../../include/stdlib.h:538: error: syntax error before '*' token\r\n",
       "/mingw/lib/gcc/mingw32/../../../include/stdlib.h:538: error: syntax error before \"wchar_t\"\r\n",
       "/mingw/lib/gcc/mingw32/../../../include/stdlib.h: In function `ulltow':\r\n",
       "/mingw/lib/gcc/mingw32/../../../include/stdlib.h:539: error: `_n' undeclared (first use in this function)\r\n",
       "/mingw/lib/gcc/mingw32/../../../include/stdlib.h:539: error: `_w' undeclared (first use in this function)\r\n",
       "/mingw/lib/gcc/mingw32/../../../include/stdlib.h:539: error: `_i' undeclared (first use in this function)\r\n",
       "C:/Users/scios/AppData/Local/Temp/gazonk_6460_3.c: At top level:\r\n",
       "C:/Users/scios/AppData/Local/Temp/gazonk_6460_3.c:3207: error: syntax error before \"va_list\"\r\n",
       "C:/Users/scios/AppData/Local/Temp/gazonk_6460_3.c:3446: error: syntax error before \"va_list\"\r\n",
       "C:/Users/scios/AppData/Local/Temp/gazonk_6460_3.c:3447: error: syntax error before \"va_list\"\r\n",
       "C:/Users/scios/AppData/Local/Temp/gazonk_6460_3.c:3451: error: syntax error before \"size_t\"\r\n",
       "C:/Users/scios/AppData/Local/Temp/gazonk_6460_3.c:3451: error: syntax error before ')' token\r\n",
       "In file included from /mingw/lib/gcc/mingw32/../../../include/unistd.h:12,\r\n",
       "                 from C:/Users/scios/AppData/Local/Temp/gazonk_6460_3.c:3809:\r\n",
       "/mingw/lib/gcc/mingw32/../../../include/io.h:131: error: syntax error before \"wchar_t\"\r\n",
       "/mingw/lib/gcc/mingw32/../../../include/io.h:140: error: syntax error before \"wchar_t\"\r\n",
       "/mingw/lib/gcc/mingw32/../../../include/io.h:390: error: syntax error before '*' token\r\n",
       "/mingw/lib/gcc/mingw32/../../../include/io.h:391: error: syntax error before '*' token\r\n",
       "/mingw/lib/gcc/mingw32/../../../include/io.h:392: error: syntax error before '*' token\r\n",
       "/mingw/lib/gcc/mingw32/../../../include/io.h:394: error: syntax error before '*' token\r\n",
       "/mingw/lib/gcc/mingw32/../../../include/io.h:400: error: syntax error before '*' token\r\n",
       "/mingw/lib/gcc/mingw32/../../../include/io.h:401: error: syntax error before '*' token\r\n",
       "/mingw/lib/gcc/mingw32/../../../include/io.h:402: error: syntax error before '*' token\r\n",
       "/mingw/lib/gcc/mingw32/../../../include/io.h:403: error: syntax error before '*' token\r\n",
       "/mingw/lib/gcc/mingw32/../../../include/io.h:403: error: syntax error before '*' token\r\n",
       "/mingw/lib/gcc/mingw32/../../../include/io.h:405: error: syntax error before '*' token\r\n",
       "C:/Users/scios/AppData/Local/Temp/gazonk_6460_3.c:3888: error: syntax error before \"va_list\"\r\n",
       "C:/Users/scios/AppData/Local/Temp/gazonk_6460_3.c:4646: error: syntax error before \"va_list\"\r\n",
       "C:/Users/scios/AppData/Local/Temp/gazonk_6460_3.c:4649: error: syntax error before \"va_list\"\r\n",
       "C:/Users/scios/AppData/Local/Temp/gazonk_6460_3.c:5125: error: syntax error before \"size_t\"\r\n",
       "C:/Users/scios/AppData/Local/Temp/gazonk_6460_3.c:5126: error: syntax error before \"size_t\"\r\n",
       "C:/Users/scios/AppData/Local/Temp/gazonk_6460_3.c:5127: error: syntax error before \"size_t\"\r\n",
       "C:/Users/scios/AppData/Local/Temp/gazonk_6460_3.c: In function `LnkTLI10':\r\n",
       "C:/Users/scios/AppData/Local/Temp/gazonk_6460_3.c:5317: error: `va_list' undeclared (first use in this function)\r\n",
       "C:/Users/scios/AppData/Local/Temp/gazonk_6460_3.c:5317: error: syntax error before \"ap\"\r\n",
       "C:/Users/scios/AppData/Local/Temp/gazonk_6460_3.c:5317: error: `ap' undeclared (first use in this function)\r\n",
       "\n"
      ]
     },
     "metadata": {},
     "output_type": "display_data"
    }
   ],
   "source": [
    "H(2*pi%)\n",
    "-- lol, % is TeX comment ... ;)"
   ]
  },
  {
   "cell_type": "code",
   "execution_count": 52,
   "metadata": {
    "collapsed": true
   },
   "outputs": [
    {
     "data": {
      "text/plain": [
       " C:/Users/scios/AppData/Local/Temp/gazonk_6460_4.c:268:20: stdarg.h: No such file or directory\r\n",
       "In file included from C:/Users/scios/AppData/Local/Temp/gazonk_6460_4.c:272:\r\n",
       "/mingw/lib/gcc/mingw32/../../../include/stdio.h:26:20: stddef.h: No such file or directory\r\n",
       "In file included from C:/Users/scios/AppData/Local/Temp/gazonk_6460_4.c:272:\r\n",
       "/mingw/lib/gcc/mingw32/../../../include/stdio.h:191: error: syntax error before \"size_t\"\r\n",
       "/mingw/lib/gcc/mingw32/../../../include/stdio.h:207: error: syntax error before \"size_t\"\r\n",
       "/mingw/lib/gcc/mingw32/../../../include/stdio.h:208: error: syntax error before \"__gnuc_va_list\"\r\n",
       "/mingw/lib/gcc/mingw32/../../../include/stdio.h:209: error: syntax error before \"__gnuc_va_list\"\r\n",
       "/mingw/lib/gcc/mingw32/../../../include/stdio.h:210: error: syntax error before \"__gnuc_va_list\"\r\n",
       "/mingw/lib/gcc/mingw32/../../../include/stdio.h:211: error: syntax error before \"size_t\"\r\n",
       "/mingw/lib/gcc/mingw32/../../../include/stdio.h:296: error: syntax error before \"__gnuc_va_list\"\r\n",
       "/mingw/lib/gcc/mingw32/../../../include/stdio.h:297: error: syntax error before \"__gnuc_va_list\"\r\n",
       "/mingw/lib/gcc/mingw32/../../../include/stdio.h:298: error: syntax error before \"__gnuc_va_list\"\r\n",
       "/mingw/lib/gcc/mingw32/../../../include/stdio.h:311: error: syntax error before \"__gnuc_va_list\"\r\n",
       "/mingw/lib/gcc/mingw32/../../../include/stdio.h:312: error: syntax error before \"__gnuc_va_list\"\r\n",
       "/mingw/lib/gcc/mingw32/../../../include/stdio.h:313: error: syntax error before \"__gnuc_va_list\"\r\n",
       "/mingw/lib/gcc/mingw32/../../../include/stdio.h:319: error: syntax error before \"size_t\"\r\n",
       "/mingw/lib/gcc/mingw32/../../../include/stdio.h:320: error: syntax error before \"size_t\"\r\n",
       "/mingw/lib/gcc/mingw32/../../../include/stdio.h:321: error: syntax error before \"__gnuc_va_list\"\r\n",
       "/mingw/lib/gcc/mingw32/../../../include/stdio.h:331: error: syntax error before \"size_t\"\r\n",
       "/mingw/lib/gcc/mingw32/../../../include/stdio.h:332: error: syntax error before \"size_t\"\r\n",
       "/mingw/lib/gcc/mingw32/../../../include/stdio.h:334: error: syntax error before \"__gnuc_va_list\"\r\n",
       "/mingw/lib/gcc/mingw32/../../../include/stdio.h:336: error: syntax error before \"__gnuc_va_list\"\r\n",
       "/mingw/lib/gcc/mingw32/../../../include/stdio.h:338: error: syntax error before \"__gnuc_va_list\"\r\n",
       "/mingw/lib/gcc/mingw32/../../../include/stdio.h:412: error: syntax error before \"fread\"\r\n",
       "/mingw/lib/gcc/mingw32/../../../include/stdio.h:413: error: syntax error before \"fwrite\"\r\n",
       "In file included from C:/Users/scios/AppData/Local/Temp/gazonk_6460_4.c:272:\r\n",
       "/mingw/lib/gcc/mingw32/../../../include/stdio.h:563: error: syntax error before '*' token\r\n",
       "/mingw/lib/gcc/mingw32/../../../include/stdio.h:564: error: syntax error before '*' token\r\n",
       "/mingw/lib/gcc/mingw32/../../../include/stdio.h:565: error: syntax error before '*' token\r\n",
       "/mingw/lib/gcc/mingw32/../../../include/stdio.h:566: error: syntax error before '*' token\r\n",
       "/mingw/lib/gcc/mingw32/../../../include/stdio.h:567: error: syntax error before '*' token\r\n",
       "/mingw/lib/gcc/mingw32/../../../include/stdio.h:568: error: syntax error before '*' token\r\n",
       "/mingw/lib/gcc/mingw32/../../../include/stdio.h:569: error: syntax error before '*' token\r\n",
       "/mingw/lib/gcc/mingw32/../../../include/stdio.h:570: error: syntax error before '*' token\r\n",
       "/mingw/lib/gcc/mingw32/../../../include/stdio.h:571: error: syntax error before '*' token\r\n",
       "/mingw/lib/gcc/mingw32/../../../include/stdio.h:572: error: syntax error before '*' token\r\n",
       "/mingw/lib/gcc/mingw32/../../../include/stdio.h:573: error: syntax error before \"fgetwc\"\r\n",
       "/mingw/lib/gcc/mingw32/../../../include/stdio.h:574: error: syntax error before \"fputwc\"\r\n",
       "/mingw/lib/gcc/mingw32/../../../include/stdio.h:575: error: syntax error before \"ungetwc\"\r\n",
       "/mingw/lib/gcc/mingw32/../../../include/stdio.h:579: error: syntax error before '*' token\r\n",
       "/mingw/lib/gcc/mingw32/../../../include/stdio.h:580: error: syntax error before '*' token\r\n",
       "/mingw/lib/gcc/mingw32/../../../include/stdio.h:584: error: syntax error before '*' token\r\n",
       "/mingw/lib/gcc/mingw32/../../../include/stdio.h:584: error: syntax error before '*' token\r\n",
       "/mingw/lib/gcc/mingw32/../../../include/stdio.h:585: error: syntax error before '*' token\r\n",
       "/mingw/lib/gcc/mingw32/../../../include/stdio.h:586: error: syntax error before \"getwc\"\r\n",
       "/mingw/lib/gcc/mingw32/../../../include/stdio.h:587: error: syntax error before \"getwchar\"\r\n",
       "/mingw/lib/gcc/mingw32/../../../include/stdio.h:588: error: syntax error before '*' token\r\n",
       "/mingw/lib/gcc/mingw32/../../../include/stdio.h:589: error: syntax error before \"putwc\"\r\n",
       "/mingw/lib/gcc/mingw32/../../../include/stdio.h:590: error: syntax error before '*' token\r\n",
       "/mingw/lib/gcc/mingw32/../../../include/stdio.h:591: error: syntax error before \"putwchar\"\r\n",
       "/mingw/lib/gcc/mingw32/../../../include/stdio.h:592: error: syntax error before '*' token\r\n",
       "/mingw/lib/gcc/mingw32/../../../include/stdio.h:593: error: syntax error before '*' token\r\n",
       "/mingw/lib/gcc/mingw32/../../../include/stdio.h:594: error: syntax error before '*' token\r\n",
       "/mingw/lib/gcc/mingw32/../../../include/stdio.h:595: error: syntax error before '*' token\r\n",
       "/mingw/lib/gcc/mingw32/../../../include/stdio.h:596: error: syntax error before '*' token\r\n",
       "/mingw/lib/gcc/mingw32/../../../include/stdio.h:596: error: syntax error before '*' token\r\n",
       "/mingw/lib/gcc/mingw32/../../../include/stdio.h:597: error: syntax error before '*' token\r\n",
       "/mingw/lib/gcc/mingw32/../../../include/stdio.h:597: error: syntax error before '*' token\r\n",
       "/mingw/lib/gcc/mingw32/../../../include/stdio.h:598: error: syntax error before '*' token\r\n",
       "/mingw/lib/gcc/mingw32/../../../include/stdio.h:599: error: syntax error before '*' token\r\n",
       "/mingw/lib/gcc/mingw32/../../../include/stdio.h:600: error: syntax error before '*' token\r\n",
       "/mingw/lib/gcc/mingw32/../../../include/stdio.h:601: error: syntax error before '*' token\r\n",
       "/mingw/lib/gcc/mingw32/../../../include/stdio.h:605: error: syntax error before '*' token\r\n",
       "/mingw/lib/gcc/mingw32/../../../include/stdio.h:606: error: syntax error before '*' token\r\n",
       "/mingw/lib/gcc/mingw32/../../../include/stdio.h:609: error: syntax error before '*' token\r\n",
       "/mingw/lib/gcc/mingw32/../../../include/stdio.h: In function `vsnwprintf':\r\n",
       "/mingw/lib/gcc/mingw32/../../../include/stdio.h:610: error: `s' undeclared (first use in this function)\r\n",
       "/mingw/lib/gcc/mingw32/../../../include/stdio.h:610: error: (Each undeclared identifier is reported only once\r\n",
       "/mingw/lib/gcc/mingw32/../../../include/stdio.h:610: error: for each function it appears in.)\r\n",
       "/mingw/lib/gcc/mingw32/../../../include/stdio.h:610: error: `n' undeclared (first use in this function)\r\n",
       "/mingw/lib/gcc/mingw32/../../../include/stdio.h:610: error: `format' undeclared (first use in this function)\r\n",
       "/mingw/lib/gcc/mingw32/../../../include/stdio.h:610: error: `arg' undeclared (first use in this function)\r\n",
       "/mingw/lib/gcc/mingw32/../../../include/stdio.h: At top level:\r\n",
       "/mingw/lib/gcc/mingw32/../../../include/stdio.h:612: error: syntax error before '*' token\r\n",
       "/mingw/lib/gcc/mingw32/../../../include/stdio.h:614: error: syntax error before '*' token\r\n",
       "/mingw/lib/gcc/mingw32/../../../include/stdio.h:615: error: syntax error before '*' token\r\n",
       "/mingw/lib/gcc/mingw32/../../../include/stdio.h:625: error: syntax error before '*' token\r\n",
       "/mingw/lib/gcc/mingw32/../../../include/stdio.h:632: error: syntax error before \"_fgetwchar\"\r\n",
       "/mingw/lib/gcc/mingw32/../../../include/stdio.h:633: error: syntax error before \"_fputwchar\"\r\n",
       "/mingw/lib/gcc/mingw32/../../../include/stdio.h:638: error: syntax error before \"fgetwchar\"\r\n",
       "/mingw/lib/gcc/mingw32/../../../include/stdio.h:639: error: syntax error before \"fputwchar\"\r\n",
       "C:/Users/scios/AppData/Local/Temp/gazonk_6460_4.c:1984: error: syntax error before \"size_t\"\r\n",
       "In file included from C:/Users/scios/AppData/Local/Temp/gazonk_6460_4.c:3193:\r\n",
       "/mingw/lib/gcc/mingw32/../../../include/stdlib.h:79: error: syntax error before '*' token\r\n",
       "/mingw/lib/gcc/mingw32/../../../include/stdlib.h:150: error: syntax error before '*' token\r\n",
       "/mingw/lib/gcc/mingw32/../../../include/stdlib.h:262: error: syntax error before '*' token\r\n",
       "/mingw/lib/gcc/mingw32/../../../include/stdlib.h:307: error: syntax error before '*' token\r\n",
       "/mingw/lib/gcc/mingw32/../../../include/stdlib.h:308: error: syntax error before '*' token\r\n",
       "/mingw/lib/gcc/mingw32/../../../include/stdlib.h:309: error: syntax error before '*' token\r\n",
       "/mingw/lib/gcc/mingw32/../../../include/stdlib.h:326: error: syntax error before '*' token\r\n",
       "/mingw/lib/gcc/mingw32/../../../include/stdlib.h:327: error: syntax error before '*' token\r\n",
       "/mingw/lib/gcc/mingw32/../../../include/stdlib.h:328: error: syntax error before '*' token\r\n",
       "/mingw/lib/gcc/mingw32/../../../include/stdlib.h:330: error: syntax error before '*' token\r\n",
       "/mingw/lib/gcc/mingw32/../../../include/stdlib.h:331: error: syntax error before '*' token\r\n",
       "/mingw/lib/gcc/mingw32/../../../include/stdlib.h:334: error: syntax error before '*' token\r\n",
       "/mingw/lib/gcc/mingw32/../../../include/stdlib.h:334: error: syntax error before '*' token\r\n",
       "/mingw/lib/gcc/mingw32/../../../include/stdlib.h:335: error: syntax error before '*' token\r\n",
       "/mingw/lib/gcc/mingw32/../../../include/stdlib.h:336: error: syntax error before '*' token\r\n",
       "/mingw/lib/gcc/mingw32/../../../include/stdlib.h:337: error: syntax error before '*' token\r\n",
       "/mingw/lib/gcc/mingw32/../../../include/stdlib.h:338: error: syntax error before '*' token\r\n",
       "/mingw/lib/gcc/mingw32/../../../include/stdlib.h:339: error: syntax error before '*' token\r\n",
       "/mingw/lib/gcc/mingw32/../../../include/stdlib.h:340: error: syntax error before '*' token\r\n",
       "/mingw/lib/gcc/mingw32/../../../include/stdlib.h:340: error: syntax error before '*' token\r\n",
       "/mingw/lib/gcc/mingw32/../../../include/stdlib.h:345: error: syntax error before \"wcstombs\"\r\n",
       "/mingw/lib/gcc/mingw32/../../../include/stdlib.h:346: error: syntax error before \"wchar_t\"\r\n",
       "/mingw/lib/gcc/mingw32/../../../include/stdlib.h:348: error: syntax error before \"size_t\"\r\n",
       "/mingw/lib/gcc/mingw32/../../../include/stdlib.h:349: error: syntax error before \"mbstowcs\"\r\n",
       "/mingw/lib/gcc/mingw32/../../../include/stdlib.h:350: error: syntax error before '*' token\r\n",
       "/mingw/lib/gcc/mingw32/../../../include/stdlib.h:357: error: syntax error before \"size_t\"\r\n",
       "/mingw/lib/gcc/mingw32/../../../include/stdlib.h:369: error: syntax error before \"size_t\"\r\n",
       "/mingw/lib/gcc/mingw32/../../../include/stdlib.h:370: error: syntax error before ')' token\r\n",
       "/mingw/lib/gcc/mingw32/../../../include/stdlib.h:371: error: syntax error before \"size_t\"\r\n",
       "/mingw/lib/gcc/mingw32/../../../include/stdlib.h:372: error: syntax error before ')' token\r\n",
       "/mingw/lib/gcc/mingw32/../../../include/stdlib.h:418: error: syntax error before \"size_t\"\r\n",
       "/mingw/lib/gcc/mingw32/../../../include/stdlib.h:423: error: syntax error before '*' token\r\n",
       "/mingw/lib/gcc/mingw32/../../../include/stdlib.h:423: error: syntax error before \"wchar_t\"\r\n",
       "/mingw/lib/gcc/mingw32/../../../include/stdlib.h:424: error: syntax error before '*' token\r\n",
       "/mingw/lib/gcc/mingw32/../../../include/stdlib.h:424: error: syntax error before \"wchar_t\"\r\n",
       "/mingw/lib/gcc/mingw32/../../../include/stdlib.h:425: error: syntax error before '*' token\r\n",
       "/mingw/lib/gcc/mingw32/../../../include/stdlib.h:425: error: syntax error before \"wchar_t\"\r\n",
       "/mingw/lib/gcc/mingw32/../../../include/stdlib.h:431: error: syntax error before '*' token\r\n",
       "/mingw/lib/gcc/mingw32/../../../include/stdlib.h:432: error: syntax error before '*' token\r\n",
       "/mingw/lib/gcc/mingw32/../../../include/stdlib.h:432: error: syntax error before \"wchar_t\"\r\n",
       "/mingw/lib/gcc/mingw32/../../../include/stdlib.h:433: error: syntax error before '*' token\r\n",
       "/mingw/lib/gcc/mingw32/../../../include/stdlib.h:433: error: syntax error before \"wchar_t\"\r\n",
       "/mingw/lib/gcc/mingw32/../../../include/stdlib.h:520: error: syntax error before '*' token\r\n",
       "/mingw/lib/gcc/mingw32/../../../include/stdlib.h:523: error: syntax error before '*' token\r\n",
       "/mingw/lib/gcc/mingw32/../../../include/stdlib.h:523: error: syntax error before \"wchar_t\"\r\n",
       "/mingw/lib/gcc/mingw32/../../../include/stdlib.h:524: error: syntax error before '*' token\r\n",
       "/mingw/lib/gcc/mingw32/../../../include/stdlib.h:524: error: syntax error before \"wchar_t\"\r\n",
       "/mingw/lib/gcc/mingw32/../../../include/stdlib.h:534: error: syntax error before '*' token\r\n",
       "/mingw/lib/gcc/mingw32/../../../include/stdlib.h: In function `wtoll':\r\n",
       "/mingw/lib/gcc/mingw32/../../../include/stdlib.h:535: error: `_w' undeclared (first use in this function)\r\n",
       "/mingw/lib/gcc/mingw32/../../../include/stdlib.h: At top level:\r\n",
       "/mingw/lib/gcc/mingw32/../../../include/stdlib.h:536: error: syntax error before '*' token\r\n",
       "/mingw/lib/gcc/mingw32/../../../include/stdlib.h:536: error: syntax error before \"wchar_t\"\r\n",
       "/mingw/lib/gcc/mingw32/../../../include/stdlib.h: In function `lltow':\r\n",
       "/mingw/lib/gcc/mingw32/../../../include/stdlib.h:537: error: `_n' undeclared (first use in this function)\r\n",
       "/mingw/lib/gcc/mingw32/../../../include/stdlib.h:537: error: `_w' undeclared (first use in this function)\r\n",
       "/mingw/lib/gcc/mingw32/../../../include/stdlib.h:537: error: `_i' undeclared (first use in this function)\r\n",
       "/mingw/lib/gcc/mingw32/../../../include/stdlib.h: At top level:\r\n",
       "/mingw/lib/gcc/mingw32/../../../include/stdlib.h:538: error: syntax error before '*' token\r\n",
       "/mingw/lib/gcc/mingw32/../../../include/stdlib.h:538: error: syntax error before \"wchar_t\"\r\n",
       "/mingw/lib/gcc/mingw32/../../../include/stdlib.h: In function `ulltow':\r\n",
       "/mingw/lib/gcc/mingw32/../../../include/stdlib.h:539: error: `_n' undeclared (first use in this function)\r\n",
       "/mingw/lib/gcc/mingw32/../../../include/stdlib.h:539: error: `_w' undeclared (first use in this function)\r\n",
       "/mingw/lib/gcc/mingw32/../../../include/stdlib.h:539: error: `_i' undeclared (first use in this function)\r\n",
       "C:/Users/scios/AppData/Local/Temp/gazonk_6460_4.c: At top level:\r\n",
       "C:/Users/scios/AppData/Local/Temp/gazonk_6460_4.c:3207: error: syntax error before \"va_list\"\r\n",
       "C:/Users/scios/AppData/Local/Temp/gazonk_6460_4.c:3446: error: syntax error before \"va_list\"\r\n",
       "C:/Users/scios/AppData/Local/Temp/gazonk_6460_4.c:3447: error: syntax error before \"va_list\"\r\n",
       "C:/Users/scios/AppData/Local/Temp/gazonk_6460_4.c:3451: error: syntax error before \"size_t\"\r\n",
       "C:/Users/scios/AppData/Local/Temp/gazonk_6460_4.c:3451: error: syntax error before ')' token\r\n",
       "In file included from /mingw/lib/gcc/mingw32/../../../include/unistd.h:12,\r\n",
       "                 from C:/Users/scios/AppData/Local/Temp/gazonk_6460_4.c:3809:\r\n",
       "/mingw/lib/gcc/mingw32/../../../include/io.h:131: error: syntax error before \"wchar_t\"\r\n",
       "/mingw/lib/gcc/mingw32/../../../include/io.h:140: error: syntax error before \"wchar_t\"\r\n",
       "/mingw/lib/gcc/mingw32/../../../include/io.h:390: error: syntax error before '*' token\r\n",
       "/mingw/lib/gcc/mingw32/../../../include/io.h:391: error: syntax error before '*' token\r\n",
       "/mingw/lib/gcc/mingw32/../../../include/io.h:392: error: syntax error before '*' token\r\n",
       "/mingw/lib/gcc/mingw32/../../../include/io.h:394: error: syntax error before '*' token\r\n",
       "/mingw/lib/gcc/mingw32/../../../include/io.h:400: error: syntax error before '*' token\r\n",
       "/mingw/lib/gcc/mingw32/../../../include/io.h:401: error: syntax error before '*' token\r\n",
       "/mingw/lib/gcc/mingw32/../../../include/io.h:402: error: syntax error before '*' token\r\n",
       "/mingw/lib/gcc/mingw32/../../../include/io.h:403: error: syntax error before '*' token\r\n",
       "/mingw/lib/gcc/mingw32/../../../include/io.h:403: error: syntax error before '*' token\r\n",
       "/mingw/lib/gcc/mingw32/../../../include/io.h:405: error: syntax error before '*' token\r\n",
       "C:/Users/scios/AppData/Local/Temp/gazonk_6460_4.c:3888: error: syntax error before \"va_list\"\r\n",
       "C:/Users/scios/AppData/Local/Temp/gazonk_6460_4.c:4646: error: syntax error before \"va_list\"\r\n",
       "C:/Users/scios/AppData/Local/Temp/gazonk_6460_4.c:4649: error: syntax error before \"va_list\"\r\n",
       "C:/Users/scios/AppData/Local/Temp/gazonk_6460_4.c:5125: error: syntax error before \"size_t\"\r\n",
       "C:/Users/scios/AppData/Local/Temp/gazonk_6460_4.c:5126: error: syntax error before \"size_t\"\r\n",
       "C:/Users/scios/AppData/Local/Temp/gazonk_6460_4.c:5127: error: syntax error before \"size_t\"\r\n",
       "C:/Users/scios/AppData/Local/Temp/gazonk_6460_4.c: In function `LnkTLI7':\r\n",
       "C:/Users/scios/AppData/Local/Temp/gazonk_6460_4.c:5305: error: `va_list' undeclared (first use in this function)\r\n",
       "C:/Users/scios/AppData/Local/Temp/gazonk_6460_4.c:5305: error: syntax error before \"ap\"\r\n",
       "C:/Users/scios/AppData/Local/Temp/gazonk_6460_4.c:5305: error: `ap' undeclared (first use in this function)\r\n",
       "\n"
      ]
     },
     "metadata": {},
     "output_type": "display_data"
    }
   ],
   "source": [
    "H(0)"
   ]
  },
  {
   "cell_type": "code",
   "execution_count": 53,
   "metadata": {
    "collapsed": true
   },
   "outputs": [
    {
     "data": {
      "text/plain": [
       " C:/Users/scios/AppData/Local/Temp/gazonk_6460_5.c:268:20: stdarg.h: No such file or directory\r\n",
       "In file included from C:/Users/scios/AppData/Local/Temp/gazonk_6460_5.c:272:\r\n",
       "/mingw/lib/gcc/mingw32/../../../include/stdio.h:26:20: stddef.h: No such file or directory\r\n",
       "In file included from C:/Users/scios/AppData/Local/Temp/gazonk_6460_5.c:272:\r\n",
       "/mingw/lib/gcc/mingw32/../../../include/stdio.h:191: error: syntax error before \"size_t\"\r\n",
       "/mingw/lib/gcc/mingw32/../../../include/stdio.h:207: error: syntax error before \"size_t\"\r\n",
       "/mingw/lib/gcc/mingw32/../../../include/stdio.h:208: error: syntax error before \"__gnuc_va_list\"\r\n",
       "/mingw/lib/gcc/mingw32/../../../include/stdio.h:209: error: syntax error before \"__gnuc_va_list\"\r\n",
       "/mingw/lib/gcc/mingw32/../../../include/stdio.h:210: error: syntax error before \"__gnuc_va_list\"\r\n",
       "/mingw/lib/gcc/mingw32/../../../include/stdio.h:211: error: syntax error before \"size_t\"\r\n",
       "/mingw/lib/gcc/mingw32/../../../include/stdio.h:296: error: syntax error before \"__gnuc_va_list\"\r\n",
       "/mingw/lib/gcc/mingw32/../../../include/stdio.h:297: error: syntax error before \"__gnuc_va_list\"\r\n",
       "/mingw/lib/gcc/mingw32/../../../include/stdio.h:298: error: syntax error before \"__gnuc_va_list\"\r\n",
       "/mingw/lib/gcc/mingw32/../../../include/stdio.h:311: error: syntax error before \"__gnuc_va_list\"\r\n",
       "/mingw/lib/gcc/mingw32/../../../include/stdio.h:312: error: syntax error before \"__gnuc_va_list\"\r\n",
       "/mingw/lib/gcc/mingw32/../../../include/stdio.h:313: error: syntax error before \"__gnuc_va_list\"\r\n",
       "/mingw/lib/gcc/mingw32/../../../include/stdio.h:319: error: syntax error before \"size_t\"\r\n",
       "/mingw/lib/gcc/mingw32/../../../include/stdio.h:320: error: syntax error before \"size_t\"\r\n",
       "/mingw/lib/gcc/mingw32/../../../include/stdio.h:321: error: syntax error before \"__gnuc_va_list\"\r\n",
       "/mingw/lib/gcc/mingw32/../../../include/stdio.h:331: error: syntax error before \"size_t\"\r\n",
       "/mingw/lib/gcc/mingw32/../../../include/stdio.h:332: error: syntax error before \"size_t\"\r\n",
       "/mingw/lib/gcc/mingw32/../../../include/stdio.h:334: error: syntax error before \"__gnuc_va_list\"\r\n",
       "/mingw/lib/gcc/mingw32/../../../include/stdio.h:336: error: syntax error before \"__gnuc_va_list\"\r\n",
       "/mingw/lib/gcc/mingw32/../../../include/stdio.h:338: error: syntax error before \"__gnuc_va_list\"\r\n",
       "/mingw/lib/gcc/mingw32/../../../include/stdio.h:412: error: syntax error before \"fread\"\r\n",
       "/mingw/lib/gcc/mingw32/../../../include/stdio.h:413: error: syntax error before \"fwrite\"\r\n",
       "In file included from C:/Users/scios/AppData/Local/Temp/gazonk_6460_5.c:272:\r\n",
       "/mingw/lib/gcc/mingw32/../../../include/stdio.h:563: error: syntax error before '*' token\r\n",
       "/mingw/lib/gcc/mingw32/../../../include/stdio.h:564: error: syntax error before '*' token\r\n",
       "/mingw/lib/gcc/mingw32/../../../include/stdio.h:565: error: syntax error before '*' token\r\n",
       "/mingw/lib/gcc/mingw32/../../../include/stdio.h:566: error: syntax error before '*' token\r\n",
       "/mingw/lib/gcc/mingw32/../../../include/stdio.h:567: error: syntax error before '*' token\r\n",
       "/mingw/lib/gcc/mingw32/../../../include/stdio.h:568: error: syntax error before '*' token\r\n",
       "/mingw/lib/gcc/mingw32/../../../include/stdio.h:569: error: syntax error before '*' token\r\n",
       "/mingw/lib/gcc/mingw32/../../../include/stdio.h:570: error: syntax error before '*' token\r\n",
       "/mingw/lib/gcc/mingw32/../../../include/stdio.h:571: error: syntax error before '*' token\r\n",
       "/mingw/lib/gcc/mingw32/../../../include/stdio.h:572: error: syntax error before '*' token\r\n",
       "/mingw/lib/gcc/mingw32/../../../include/stdio.h:573: error: syntax error before \"fgetwc\"\r\n",
       "/mingw/lib/gcc/mingw32/../../../include/stdio.h:574: error: syntax error before \"fputwc\"\r\n",
       "/mingw/lib/gcc/mingw32/../../../include/stdio.h:575: error: syntax error before \"ungetwc\"\r\n",
       "/mingw/lib/gcc/mingw32/../../../include/stdio.h:579: error: syntax error before '*' token\r\n",
       "/mingw/lib/gcc/mingw32/../../../include/stdio.h:580: error: syntax error before '*' token\r\n",
       "/mingw/lib/gcc/mingw32/../../../include/stdio.h:584: error: syntax error before '*' token\r\n",
       "/mingw/lib/gcc/mingw32/../../../include/stdio.h:584: error: syntax error before '*' token\r\n",
       "/mingw/lib/gcc/mingw32/../../../include/stdio.h:585: error: syntax error before '*' token\r\n",
       "/mingw/lib/gcc/mingw32/../../../include/stdio.h:586: error: syntax error before \"getwc\"\r\n",
       "/mingw/lib/gcc/mingw32/../../../include/stdio.h:587: error: syntax error before \"getwchar\"\r\n",
       "/mingw/lib/gcc/mingw32/../../../include/stdio.h:588: error: syntax error before '*' token\r\n",
       "/mingw/lib/gcc/mingw32/../../../include/stdio.h:589: error: syntax error before \"putwc\"\r\n",
       "/mingw/lib/gcc/mingw32/../../../include/stdio.h:590: error: syntax error before '*' token\r\n",
       "/mingw/lib/gcc/mingw32/../../../include/stdio.h:591: error: syntax error before \"putwchar\"\r\n",
       "/mingw/lib/gcc/mingw32/../../../include/stdio.h:592: error: syntax error before '*' token\r\n",
       "/mingw/lib/gcc/mingw32/../../../include/stdio.h:593: error: syntax error before '*' token\r\n",
       "/mingw/lib/gcc/mingw32/../../../include/stdio.h:594: error: syntax error before '*' token\r\n",
       "/mingw/lib/gcc/mingw32/../../../include/stdio.h:595: error: syntax error before '*' token\r\n",
       "/mingw/lib/gcc/mingw32/../../../include/stdio.h:596: error: syntax error before '*' token\r\n",
       "/mingw/lib/gcc/mingw32/../../../include/stdio.h:596: error: syntax error before '*' token\r\n",
       "/mingw/lib/gcc/mingw32/../../../include/stdio.h:597: error: syntax error before '*' token\r\n",
       "/mingw/lib/gcc/mingw32/../../../include/stdio.h:597: error: syntax error before '*' token\r\n",
       "/mingw/lib/gcc/mingw32/../../../include/stdio.h:598: error: syntax error before '*' token\r\n",
       "/mingw/lib/gcc/mingw32/../../../include/stdio.h:599: error: syntax error before '*' token\r\n",
       "/mingw/lib/gcc/mingw32/../../../include/stdio.h:600: error: syntax error before '*' token\r\n",
       "/mingw/lib/gcc/mingw32/../../../include/stdio.h:601: error: syntax error before '*' token\r\n",
       "/mingw/lib/gcc/mingw32/../../../include/stdio.h:605: error: syntax error before '*' token\r\n",
       "/mingw/lib/gcc/mingw32/../../../include/stdio.h:606: error: syntax error before '*' token\r\n",
       "/mingw/lib/gcc/mingw32/../../../include/stdio.h:609: error: syntax error before '*' token\r\n",
       "/mingw/lib/gcc/mingw32/../../../include/stdio.h: In function `vsnwprintf':\r\n",
       "/mingw/lib/gcc/mingw32/../../../include/stdio.h:610: error: `s' undeclared (first use in this function)\r\n",
       "/mingw/lib/gcc/mingw32/../../../include/stdio.h:610: error: (Each undeclared identifier is reported only once\r\n",
       "/mingw/lib/gcc/mingw32/../../../include/stdio.h:610: error: for each function it appears in.)\r\n",
       "/mingw/lib/gcc/mingw32/../../../include/stdio.h:610: error: `n' undeclared (first use in this function)\r\n",
       "/mingw/lib/gcc/mingw32/../../../include/stdio.h:610: error: `format' undeclared (first use in this function)\r\n",
       "/mingw/lib/gcc/mingw32/../../../include/stdio.h:610: error: `arg' undeclared (first use in this function)\r\n",
       "/mingw/lib/gcc/mingw32/../../../include/stdio.h: At top level:\r\n",
       "/mingw/lib/gcc/mingw32/../../../include/stdio.h:612: error: syntax error before '*' token\r\n",
       "/mingw/lib/gcc/mingw32/../../../include/stdio.h:614: error: syntax error before '*' token\r\n",
       "/mingw/lib/gcc/mingw32/../../../include/stdio.h:615: error: syntax error before '*' token\r\n",
       "/mingw/lib/gcc/mingw32/../../../include/stdio.h:625: error: syntax error before '*' token\r\n",
       "/mingw/lib/gcc/mingw32/../../../include/stdio.h:632: error: syntax error before \"_fgetwchar\"\r\n",
       "/mingw/lib/gcc/mingw32/../../../include/stdio.h:633: error: syntax error before \"_fputwchar\"\r\n",
       "/mingw/lib/gcc/mingw32/../../../include/stdio.h:638: error: syntax error before \"fgetwchar\"\r\n",
       "/mingw/lib/gcc/mingw32/../../../include/stdio.h:639: error: syntax error before \"fputwchar\"\r\n",
       "C:/Users/scios/AppData/Local/Temp/gazonk_6460_5.c:1984: error: syntax error before \"size_t\"\r\n",
       "In file included from C:/Users/scios/AppData/Local/Temp/gazonk_6460_5.c:3193:\r\n",
       "/mingw/lib/gcc/mingw32/../../../include/stdlib.h:79: error: syntax error before '*' token\r\n",
       "/mingw/lib/gcc/mingw32/../../../include/stdlib.h:150: error: syntax error before '*' token\r\n",
       "/mingw/lib/gcc/mingw32/../../../include/stdlib.h:262: error: syntax error before '*' token\r\n",
       "/mingw/lib/gcc/mingw32/../../../include/stdlib.h:307: error: syntax error before '*' token\r\n",
       "/mingw/lib/gcc/mingw32/../../../include/stdlib.h:308: error: syntax error before '*' token\r\n",
       "/mingw/lib/gcc/mingw32/../../../include/stdlib.h:309: error: syntax error before '*' token\r\n",
       "/mingw/lib/gcc/mingw32/../../../include/stdlib.h:326: error: syntax error before '*' token\r\n",
       "/mingw/lib/gcc/mingw32/../../../include/stdlib.h:327: error: syntax error before '*' token\r\n",
       "/mingw/lib/gcc/mingw32/../../../include/stdlib.h:328: error: syntax error before '*' token\r\n",
       "/mingw/lib/gcc/mingw32/../../../include/stdlib.h:330: error: syntax error before '*' token\r\n",
       "/mingw/lib/gcc/mingw32/../../../include/stdlib.h:331: error: syntax error before '*' token\r\n",
       "/mingw/lib/gcc/mingw32/../../../include/stdlib.h:334: error: syntax error before '*' token\r\n",
       "/mingw/lib/gcc/mingw32/../../../include/stdlib.h:334: error: syntax error before '*' token\r\n",
       "/mingw/lib/gcc/mingw32/../../../include/stdlib.h:335: error: syntax error before '*' token\r\n",
       "/mingw/lib/gcc/mingw32/../../../include/stdlib.h:336: error: syntax error before '*' token\r\n",
       "/mingw/lib/gcc/mingw32/../../../include/stdlib.h:337: error: syntax error before '*' token\r\n",
       "/mingw/lib/gcc/mingw32/../../../include/stdlib.h:338: error: syntax error before '*' token\r\n",
       "/mingw/lib/gcc/mingw32/../../../include/stdlib.h:339: error: syntax error before '*' token\r\n",
       "/mingw/lib/gcc/mingw32/../../../include/stdlib.h:340: error: syntax error before '*' token\r\n",
       "/mingw/lib/gcc/mingw32/../../../include/stdlib.h:340: error: syntax error before '*' token\r\n",
       "/mingw/lib/gcc/mingw32/../../../include/stdlib.h:345: error: syntax error before \"wcstombs\"\r\n",
       "/mingw/lib/gcc/mingw32/../../../include/stdlib.h:346: error: syntax error before \"wchar_t\"\r\n",
       "/mingw/lib/gcc/mingw32/../../../include/stdlib.h:348: error: syntax error before \"size_t\"\r\n",
       "/mingw/lib/gcc/mingw32/../../../include/stdlib.h:349: error: syntax error before \"mbstowcs\"\r\n",
       "/mingw/lib/gcc/mingw32/../../../include/stdlib.h:350: error: syntax error before '*' token\r\n",
       "/mingw/lib/gcc/mingw32/../../../include/stdlib.h:357: error: syntax error before \"size_t\"\r\n",
       "/mingw/lib/gcc/mingw32/../../../include/stdlib.h:369: error: syntax error before \"size_t\"\r\n",
       "/mingw/lib/gcc/mingw32/../../../include/stdlib.h:370: error: syntax error before ')' token\r\n",
       "/mingw/lib/gcc/mingw32/../../../include/stdlib.h:371: error: syntax error before \"size_t\"\r\n",
       "/mingw/lib/gcc/mingw32/../../../include/stdlib.h:372: error: syntax error before ')' token\r\n",
       "/mingw/lib/gcc/mingw32/../../../include/stdlib.h:418: error: syntax error before \"size_t\"\r\n",
       "/mingw/lib/gcc/mingw32/../../../include/stdlib.h:423: error: syntax error before '*' token\r\n",
       "/mingw/lib/gcc/mingw32/../../../include/stdlib.h:423: error: syntax error before \"wchar_t\"\r\n",
       "/mingw/lib/gcc/mingw32/../../../include/stdlib.h:424: error: syntax error before '*' token\r\n",
       "/mingw/lib/gcc/mingw32/../../../include/stdlib.h:424: error: syntax error before \"wchar_t\"\r\n",
       "/mingw/lib/gcc/mingw32/../../../include/stdlib.h:425: error: syntax error before '*' token\r\n",
       "/mingw/lib/gcc/mingw32/../../../include/stdlib.h:425: error: syntax error before \"wchar_t\"\r\n",
       "/mingw/lib/gcc/mingw32/../../../include/stdlib.h:431: error: syntax error before '*' token\r\n",
       "/mingw/lib/gcc/mingw32/../../../include/stdlib.h:432: error: syntax error before '*' token\r\n",
       "/mingw/lib/gcc/mingw32/../../../include/stdlib.h:432: error: syntax error before \"wchar_t\"\r\n",
       "/mingw/lib/gcc/mingw32/../../../include/stdlib.h:433: error: syntax error before '*' token\r\n",
       "/mingw/lib/gcc/mingw32/../../../include/stdlib.h:433: error: syntax error before \"wchar_t\"\r\n",
       "/mingw/lib/gcc/mingw32/../../../include/stdlib.h:520: error: syntax error before '*' token\r\n",
       "/mingw/lib/gcc/mingw32/../../../include/stdlib.h:523: error: syntax error before '*' token\r\n",
       "/mingw/lib/gcc/mingw32/../../../include/stdlib.h:523: error: syntax error before \"wchar_t\"\r\n",
       "/mingw/lib/gcc/mingw32/../../../include/stdlib.h:524: error: syntax error before '*' token\r\n",
       "/mingw/lib/gcc/mingw32/../../../include/stdlib.h:524: error: syntax error before \"wchar_t\"\r\n",
       "/mingw/lib/gcc/mingw32/../../../include/stdlib.h:534: error: syntax error before '*' token\r\n",
       "/mingw/lib/gcc/mingw32/../../../include/stdlib.h: In function `wtoll':\r\n",
       "/mingw/lib/gcc/mingw32/../../../include/stdlib.h:535: error: `_w' undeclared (first use in this function)\r\n",
       "/mingw/lib/gcc/mingw32/../../../include/stdlib.h: At top level:\r\n",
       "/mingw/lib/gcc/mingw32/../../../include/stdlib.h:536: error: syntax error before '*' token\r\n",
       "/mingw/lib/gcc/mingw32/../../../include/stdlib.h:536: error: syntax error before \"wchar_t\"\r\n",
       "/mingw/lib/gcc/mingw32/../../../include/stdlib.h: In function `lltow':\r\n",
       "/mingw/lib/gcc/mingw32/../../../include/stdlib.h:537: error: `_n' undeclared (first use in this function)\r\n",
       "/mingw/lib/gcc/mingw32/../../../include/stdlib.h:537: error: `_w' undeclared (first use in this function)\r\n",
       "/mingw/lib/gcc/mingw32/../../../include/stdlib.h:537: error: `_i' undeclared (first use in this function)\r\n",
       "/mingw/lib/gcc/mingw32/../../../include/stdlib.h: At top level:\r\n",
       "/mingw/lib/gcc/mingw32/../../../include/stdlib.h:538: error: syntax error before '*' token\r\n",
       "/mingw/lib/gcc/mingw32/../../../include/stdlib.h:538: error: syntax error before \"wchar_t\"\r\n",
       "/mingw/lib/gcc/mingw32/../../../include/stdlib.h: In function `ulltow':\r\n",
       "/mingw/lib/gcc/mingw32/../../../include/stdlib.h:539: error: `_n' undeclared (first use in this function)\r\n",
       "/mingw/lib/gcc/mingw32/../../../include/stdlib.h:539: error: `_w' undeclared (first use in this function)\r\n",
       "/mingw/lib/gcc/mingw32/../../../include/stdlib.h:539: error: `_i' undeclared (first use in this function)\r\n",
       "C:/Users/scios/AppData/Local/Temp/gazonk_6460_5.c: At top level:\r\n",
       "C:/Users/scios/AppData/Local/Temp/gazonk_6460_5.c:3207: error: syntax error before \"va_list\"\r\n",
       "C:/Users/scios/AppData/Local/Temp/gazonk_6460_5.c:3446: error: syntax error before \"va_list\"\r\n",
       "C:/Users/scios/AppData/Local/Temp/gazonk_6460_5.c:3447: error: syntax error before \"va_list\"\r\n",
       "C:/Users/scios/AppData/Local/Temp/gazonk_6460_5.c:3451: error: syntax error before \"size_t\"\r\n",
       "C:/Users/scios/AppData/Local/Temp/gazonk_6460_5.c:3451: error: syntax error before ')' token\r\n",
       "In file included from /mingw/lib/gcc/mingw32/../../../include/unistd.h:12,\r\n",
       "                 from C:/Users/scios/AppData/Local/Temp/gazonk_6460_5.c:3809:\r\n",
       "/mingw/lib/gcc/mingw32/../../../include/io.h:131: error: syntax error before \"wchar_t\"\r\n",
       "/mingw/lib/gcc/mingw32/../../../include/io.h:140: error: syntax error before \"wchar_t\"\r\n",
       "/mingw/lib/gcc/mingw32/../../../include/io.h:390: error: syntax error before '*' token\r\n",
       "/mingw/lib/gcc/mingw32/../../../include/io.h:391: error: syntax error before '*' token\r\n",
       "/mingw/lib/gcc/mingw32/../../../include/io.h:392: error: syntax error before '*' token\r\n",
       "/mingw/lib/gcc/mingw32/../../../include/io.h:394: error: syntax error before '*' token\r\n",
       "/mingw/lib/gcc/mingw32/../../../include/io.h:400: error: syntax error before '*' token\r\n",
       "/mingw/lib/gcc/mingw32/../../../include/io.h:401: error: syntax error before '*' token\r\n",
       "/mingw/lib/gcc/mingw32/../../../include/io.h:402: error: syntax error before '*' token\r\n",
       "/mingw/lib/gcc/mingw32/../../../include/io.h:403: error: syntax error before '*' token\r\n",
       "/mingw/lib/gcc/mingw32/../../../include/io.h:403: error: syntax error before '*' token\r\n",
       "/mingw/lib/gcc/mingw32/../../../include/io.h:405: error: syntax error before '*' token\r\n",
       "C:/Users/scios/AppData/Local/Temp/gazonk_6460_5.c:3888: error: syntax error before \"va_list\"\r\n",
       "C:/Users/scios/AppData/Local/Temp/gazonk_6460_5.c:4646: error: syntax error before \"va_list\"\r\n",
       "C:/Users/scios/AppData/Local/Temp/gazonk_6460_5.c:4649: error: syntax error before \"va_list\"\r\n",
       "C:/Users/scios/AppData/Local/Temp/gazonk_6460_5.c:5125: error: syntax error before \"size_t\"\r\n",
       "C:/Users/scios/AppData/Local/Temp/gazonk_6460_5.c:5126: error: syntax error before \"size_t\"\r\n",
       "C:/Users/scios/AppData/Local/Temp/gazonk_6460_5.c:5127: error: syntax error before \"size_t\"\r\n",
       "C:/Users/scios/AppData/Local/Temp/gazonk_6460_5.c: In function `LnkTLI7':\r\n",
       "C:/Users/scios/AppData/Local/Temp/gazonk_6460_5.c:5304: error: `va_list' undeclared (first use in this function)\r\n",
       "C:/Users/scios/AppData/Local/Temp/gazonk_6460_5.c:5304: error: syntax error before \"ap\"\r\n",
       "C:/Users/scios/AppData/Local/Temp/gazonk_6460_5.c:5304: error: `ap' undeclared (first use in this function)\r\n",
       "\n"
      ]
     },
     "metadata": {},
     "output_type": "display_data"
    }
   ],
   "source": [
    "H(2*%pi)"
   ]
  },
  {
   "cell_type": "code",
   "execution_count": 54,
   "metadata": {
    "collapsed": false
   },
   "outputs": [
    {
     "data": {
      "text/latex": [
       "$$\\def\\sp{^}\\def\\sb{_}\\def\\leqno(#1){}$$$$\\require{color}$$$$\n",
       "{\\color{black} \\normalsize \n",
       "\\sin \n",
       "\\left(\n",
       "{{y+x}} \n",
       "\\right)\n",
       "\\leqno(32)\n",
       "} \\\\[0.5ex] {\\color{blue} \\scriptsize \\text{Expression Integer}} \\\\\n",
       "$$"
      ],
      "text/plain": [
       " \n",
       "   (32)  sin(y + x)\n",
       "$$\n",
       "\\sin \n",
       "\\left(\n",
       "{{y+x}} \n",
       "\\right)\n",
       "\\leqno(32)\n",
       "$$\n",
       "\n",
       "                                                     Type: Expression Integer\n"
      ]
     },
     "metadata": {},
     "output_type": "display_data"
    }
   ],
   "source": [
    "sin(x+y)"
   ]
  },
  {
   "cell_type": "code",
   "execution_count": 55,
   "metadata": {
    "collapsed": false
   },
   "outputs": [
    {
     "data": {
      "text/plain": [
       "    Value is ...  x\n",
       "                                                                   Type: Void\n"
      ]
     },
     "metadata": {},
     "output_type": "display_data"
    }
   ],
   "source": [
    "output(\"Value is ... \",x)"
   ]
  },
  {
   "cell_type": "code",
   "execution_count": 56,
   "metadata": {
    "collapsed": false
   },
   "outputs": [
    {
     "data": {
      "text/latex": [
       "$$\\def\\sp{^}\\def\\sb{_}\\def\\leqno(#1){}$$$$\\require{color}$$$$\n",
       "{\\color{black} \\normalsize Value\\ is\\, \\hbar^2} \\\\[0.5ex] {\\color{blue} \\scriptsize \\text{Void}} \\\\\n",
       "$$"
      ],
      "text/plain": [
       "    $$Value\\ is\\, \\hbar^2$$,x\n",
       "                                                                   Type: Void\n"
      ]
     },
     "metadata": {},
     "output_type": "display_data"
    }
   ],
   "source": [
    "output(\"$$Value\\ is\\, \\hbar^2$$,x\")"
   ]
  },
  {
   "cell_type": "code",
   "execution_count": 57,
   "metadata": {
    "collapsed": false
   },
   "outputs": [
    {
     "data": {
      "text/latex": [
       "$$\\def\\sp{^}\\def\\sb{_}\\def\\leqno(#1){}$$$$\\require{color}$$$$\n",
       "{\\color{black} \\normalsize \n",
       "\\left[\n",
       "\\mbox{\\tt \"x \\sp 2\"} \n",
       "\\right]\n",
       "\\leqno(35)\n",
       "} \\\\[0.5ex] {\\color{blue} \\scriptsize \\text{List String}} \\\\\n",
       "$$"
      ],
      "text/plain": [
       " \n",
       "   (35)  [\"x \\sp 2\"]\n",
       "$$\n",
       "\\left[\n",
       "\\mbox{\\tt \"x \\sp 2\"} \n",
       "\\right]\n",
       "\\leqno(35)\n",
       "$$\n",
       "\n",
       "                                                            Type: List String\n"
      ]
     },
     "metadata": {},
     "output_type": "display_data"
    }
   ],
   "source": [
    "tex(x^2)"
   ]
  },
  {
   "cell_type": "code",
   "execution_count": 58,
   "metadata": {
    "collapsed": false
   },
   "outputs": [
    {
     "data": {
      "text/latex": [
       "$$\\def\\sp{^}\\def\\sb{_}\\def\\leqno(#1){}$$$$\\require{color}$$$$\n",
       "{\\color{black} \\normalsize \n",
       "\\left[\n",
       "a, \\: b, \\: c, \\: 0, \\: 1, \\: 2 \n",
       "\\right]\n",
       "\\leqno(36)\n",
       "} \\\\[0.5ex] {\\color{blue} \\scriptsize \\text{List Polynomial Integer}} \\\\\n",
       "$$"
      ],
      "text/plain": [
       " \n",
       "   (36)  [a,b,c,0,1,2]\n",
       "$$\n",
       "\\left[\n",
       "a, \\: b, \\: c, \\: 0, \\: 1, \\: 2 \n",
       "\\right]\n",
       "\\leqno(36)\n",
       "$$\n",
       "\n",
       "                                                Type: List Polynomial Integer\n"
      ]
     },
     "metadata": {},
     "output_type": "display_data"
    }
   ],
   "source": [
    "[a,b,c,0,1,2]"
   ]
  },
  {
   "cell_type": "code",
   "execution_count": 59,
   "metadata": {
    "collapsed": false
   },
   "outputs": [
    {
     "data": {
      "text/latex": [
       "$$\\def\\sp{^}\\def\\sb{_}\\def\\leqno(#1){}$$$$\\require{color}$$$$\n",
       "{\\color{black} \\normalsize \n",
       "z+y+x \n",
       "\\leqno(37)\n",
       "} \\\\[0.5ex] {\\color{blue} \\scriptsize \\text{Polynomial Integer}} \\\\\n",
       "$$"
      ],
      "text/plain": [
       " \n",
       "   (37)  z + y + x\n",
       "$$\n",
       "z+y+x \n",
       "\\leqno(37)\n",
       "$$\n",
       "\n",
       "                                                     Type: Polynomial Integer\n"
      ]
     },
     "metadata": {},
     "output_type": "display_data"
    }
   ],
   "source": [
    "x;y;z;x+y+z"
   ]
  },
  {
   "cell_type": "code",
   "execution_count": 60,
   "metadata": {
    "collapsed": false
   },
   "outputs": [
    {
     "data": {
      "text/latex": [
       "$$\\def\\sp{^}\\def\\sb{_}\\def\\leqno(#1){}$$$$\\require{color}$$$$\n",
       "{\\color{black} \\normalsize \n",
       "z+y+x \n",
       "\\leqno(41)\n",
       "} \\\\[0.5ex] {\\color{blue} \\scriptsize \\text{Variable x}} \\\\\n",
       "$$"
      ],
      "text/plain": [
       " \n",
       "                                                             Type: Variable x\n",
       "\n",
       "                                                             Type: Variable y\n",
       "\n",
       "                                                             Type: Variable z\n",
       "\n",
       "   (41)  z + y + x\n",
       "$$\n",
       "z+y+x \n",
       "\\leqno(41)\n",
       "$$\n",
       "\n",
       "                                                     Type: Polynomial Integer\n"
      ]
     },
     "metadata": {},
     "output_type": "display_data"
    }
   ],
   "source": [
    "x;\n",
    "y;\n",
    "z;\n",
    "x+y+z"
   ]
  },
  {
   "cell_type": "code",
   "execution_count": 61,
   "metadata": {
    "collapsed": false
   },
   "outputs": [
    {
     "data": {
      "text/latex": [
       "$$\\def\\sp{^}\\def\\sb{_}\\def\\leqno(#1){}$$$$\\require{color}$$$$\n",
       "{\\color{black} \\normalsize \n",
       "a \\  m \n",
       "\\leqno(44)\n",
       "} \\\\[0.5ex] {\\color{blue} \\scriptsize \\text{Polynomial Integer}} \\\\\n",
       "$$"
      ],
      "text/plain": [
       " \n",
       "                                                     Type: Polynomial Integer\n",
       "\n",
       "                                            Type: Fraction Polynomial Integer\n",
       "\n",
       "   (44)  a m\n",
       "$$\n",
       "a \\  m \n",
       "\\leqno(44)\n",
       "$$\n",
       "\n",
       "                                                     Type: Polynomial Integer\n"
      ]
     },
     "metadata": {},
     "output_type": "display_data"
    }
   ],
   "source": [
    "F:=m*a ;\n",
    "a:=v/t;\n",
    "F"
   ]
  },
  {
   "cell_type": "code",
   "execution_count": 62,
   "metadata": {
    "collapsed": false
   },
   "outputs": [
    {
     "data": {
      "text/latex": [
       "$$\\def\\sp{^}\\def\\sb{_}\\def\\leqno(#1){}$$$$\\require{color}$$$$\n",
       "{\\color{black} \\normalsize \n",
       "{a \\  m \\  t} \\over v \n",
       "\\leqno(45)\n",
       "} \\\\[0.5ex] {\\color{blue} \\scriptsize \\text{Fraction Polynomial Integer}} \\\\\n",
       "$$"
      ],
      "text/plain": [
       " \n",
       "         a m t\n",
       "   (45)  -----\n",
       "           v\n",
       "$$\n",
       "{a \\  m \\  t} \\over v \n",
       "\\leqno(45)\n",
       "$$\n",
       "\n",
       "                                            Type: Fraction Polynomial Integer\n"
      ]
     },
     "metadata": {},
     "output_type": "display_data"
    }
   ],
   "source": [
    "F/a"
   ]
  },
  {
   "cell_type": "code",
   "execution_count": 63,
   "metadata": {
    "collapsed": false
   },
   "outputs": [
    {
     "data": {
      "text/latex": [
       "$$\\def\\sp{^}\\def\\sb{_}\\def\\leqno(#1){}$$$$\\require{color}$$$$\n",
       "{\\color{black} \\normalsize \n",
       "{{t \\  v \\  {x \\sp 2}}+{b \\  {t \\sp 2} \\  x}+{c \\  {t \\sp 2}}} \\over {{{t \\sp \n",
       "2} \\  {x \\sp 2}} -{v \\sp 2}} \n",
       "\\leqno(46)\n",
       "} \\\\[0.5ex] {\\color{blue} \\scriptsize \\text{Fraction Polynomial Integer}} \\\\\n",
       "$$"
      ],
      "text/plain": [
       " \n",
       "              2      2       2\n",
       "         t v x  + b t x + c t\n",
       "   (46)  ---------------------\n",
       "                2 2    2\n",
       "               t x  - v\n",
       "$$\n",
       "{{t \\  v \\  {x \\sp 2}}+{b \\  {t \\sp 2} \\  x}+{c \\  {t \\sp 2}}} \\over {{{t \\sp \n",
       "2} \\  {x \\sp 2}} -{v \\sp 2}} \n",
       "\\leqno(46)\n",
       "$$\n",
       "\n",
       "                                            Type: Fraction Polynomial Integer\n"
      ]
     },
     "metadata": {},
     "output_type": "display_data"
    }
   ],
   "source": [
    "(a*x^2+b*x+c)/((x-a)*(x+a))"
   ]
  },
  {
   "cell_type": "code",
   "execution_count": 64,
   "metadata": {
    "collapsed": false
   },
   "outputs": [
    {
     "data": {
      "text/latex": [
       "$$\\def\\sp{^}\\def\\sb{_}\\def\\leqno(#1){}$$$$\\require{color}$$$$\n",
       "{\\color{black} \\normalsize \n",
       "{x \\sp 2}+t -{23444} \n",
       "\\leqno(47)\n",
       "} \\\\[0.5ex] {\\color{blue} \\scriptsize \\text{Polynomial Integer}} \\\\\n",
       "$$"
      ],
      "text/plain": [
       " \n",
       "          2\n",
       "   (47)  x  + t - 23444\n",
       "$$\n",
       "{x \\sp 2}+t -{23444} \n",
       "\\leqno(47)\n",
       "$$\n",
       "\n",
       "                                                     Type: Polynomial Integer\n"
      ]
     },
     "metadata": {},
     "output_type": "display_data"
    }
   ],
   "source": [
    "t+x^2-23444"
   ]
  },
  {
   "cell_type": "code",
   "execution_count": 65,
   "metadata": {
    "collapsed": false
   },
   "outputs": [
    {
     "data": {
      "text/latex": [
       "$$\\def\\sp{^}\\def\\sb{_}\\def\\leqno(#1){}$$$$\\require{color}$$$$\n",
       "{\\color{black} \\normalsize \n",
       "x+2 \n",
       "\\leqno(48)\n",
       "} \\\\[0.5ex] {\\color{blue} \\scriptsize \\text{Polynomial Integer}} \\\\\n",
       "$$"
      ],
      "text/plain": [
       " \n",
       "   (48)  x + 2\n",
       "$$\n",
       "x+2 \n",
       "\\leqno(48)\n",
       "$$\n",
       "\n",
       "                                                     Type: Polynomial Integer\n"
      ]
     },
     "metadata": {},
     "output_type": "display_data"
    }
   ],
   "source": [
    "x+2"
   ]
  },
  {
   "cell_type": "code",
   "execution_count": 66,
   "metadata": {
    "collapsed": false
   },
   "outputs": [
    {
     "data": {
      "text/latex": [
       "$$\\def\\sp{^}\\def\\sb{_}\\def\\leqno(#1){}$$$$\\require{color}$$$$\n",
       "{\\color{black} \\normalsize \n",
       "{{t \\  v \\  {x \\sp 2}}+{b \\  {t \\sp 2} \\  x}+{c \\  {t \\sp 2}}} \\over {{{t \\sp \n",
       "2} \\  {x \\sp 2}} -{v \\sp 2}} \n",
       "\\leqno(49)\n",
       "} \\\\[0.5ex] {\\color{blue} \\scriptsize \\text{Fraction Polynomial Integer}} \\\\\n",
       "$$"
      ],
      "text/plain": [
       " \n",
       "              2      2       2\n",
       "         t v x  + b t x + c t\n",
       "   (49)  ---------------------\n",
       "                2 2    2\n",
       "               t x  - v\n",
       "$$\n",
       "{{t \\  v \\  {x \\sp 2}}+{b \\  {t \\sp 2} \\  x}+{c \\  {t \\sp 2}}} \\over {{{t \\sp \n",
       "2} \\  {x \\sp 2}} -{v \\sp 2}} \n",
       "\\leqno(49)\n",
       "$$\n",
       "\n",
       "                                            Type: Fraction Polynomial Integer\n"
      ]
     },
     "metadata": {},
     "output_type": "display_data"
    }
   ],
   "source": [
    "(a*x^2+b*x+c)/((x-a)*(x+a))"
   ]
  },
  {
   "cell_type": "code",
   "execution_count": 67,
   "metadata": {
    "collapsed": false
   },
   "outputs": [
    {
     "data": {
      "text/latex": [
       "$$\\def\\sp{^}\\def\\sb{_}\\def\\leqno(#1){}$$$$\\require{color}$$$$\n",
       "{\\color{black} \\normalsize \n",
       "{{t \\  v \\  {x \\sp 2}}+{b \\  {t \\sp 2} \\  x}+{c \\  {t \\sp 2}}} \\over {{{t \\sp \n",
       "2} \\  {x \\sp 2}} -{v \\sp 2}} \n",
       "\\leqno(50)\n",
       "} \\\\[0.5ex] {\\color{blue} \\scriptsize \\text{Fraction Polynomial Integer}} \\\\\n",
       "$$"
      ],
      "text/plain": [
       " \n",
       "              2      2       2\n",
       "         t v x  + b t x + c t\n",
       "   (50)  ---------------------\n",
       "                2 2    2\n",
       "               t x  - v\n",
       "$$\n",
       "{{t \\  v \\  {x \\sp 2}}+{b \\  {t \\sp 2} \\  x}+{c \\  {t \\sp 2}}} \\over {{{t \\sp \n",
       "2} \\  {x \\sp 2}} -{v \\sp 2}} \n",
       "\\leqno(50)\n",
       "$$\n",
       "\n",
       "                                            Type: Fraction Polynomial Integer\n"
      ]
     },
     "metadata": {},
     "output_type": "display_data"
    }
   ],
   "source": [
    "%"
   ]
  },
  {
   "cell_type": "code",
   "execution_count": 68,
   "metadata": {
    "collapsed": false
   },
   "outputs": [
    {
     "data": {
      "text/latex": [
       "$$\\def\\sp{^}\\def\\sb{_}\\def\\leqno(#1){}$$$$\\require{color}$$$$\n",
       "{\\color{black} \\normalsize \n",
       "286959 \n",
       "\\leqno(51)\n",
       "} \\\\[0.5ex] {\\color{blue} \\scriptsize \\text{PositiveInteger}} \\\\\n",
       "$$"
      ],
      "text/plain": [
       " \n",
       "   (51)  286959\n",
       "$$\n",
       "286959 \n",
       "\\leqno(51)\n",
       "$$\n",
       "\n",
       "                                                        Type: PositiveInteger\n"
      ]
     },
     "metadata": {},
     "output_type": "display_data"
    }
   ],
   "source": [
    "123*2333"
   ]
  },
  {
   "cell_type": "code",
   "execution_count": 69,
   "metadata": {
    "collapsed": false
   },
   "outputs": [
    {
     "data": {
      "text/latex": [
       "$$\\def\\sp{^}\\def\\sb{_}\\def\\leqno(#1){}$$$$\\require{color}$$$$\n",
       "{\\color{black} \\normalsize \n",
       "12 \n",
       "\\leqno(52)\n",
       "} \\\\[0.5ex] {\\color{blue} \\scriptsize \\text{PositiveInteger}} \\\\\n",
       "$$"
      ],
      "text/plain": [
       " \n",
       "   (52)  12\n",
       "$$\n",
       "12 \n",
       "\\leqno(52)\n",
       "$$\n",
       "\n",
       "                                                        Type: PositiveInteger\n"
      ]
     },
     "metadata": {},
     "output_type": "display_data"
    }
   ],
   "source": [
    "12"
   ]
  },
  {
   "cell_type": "code",
   "execution_count": 70,
   "metadata": {
    "collapsed": false
   },
   "outputs": [
    {
     "data": {
      "text/latex": [
       "$$\\def\\sp{^}\\def\\sb{_}\\def\\leqno(#1){}$$$$\\require{color}$$$$\n",
       "{\\color{black} \\normalsize \n",
       "{3 \\  \\pi} \\over 7 \n",
       "\\leqno(53)\n",
       "} \\\\[0.5ex] {\\color{blue} \\scriptsize \\text{Pi}} \\\\\n",
       "$$"
      ],
      "text/plain": [
       " \n",
       "         3%pi\n",
       "   (53)  ----\n",
       "           7\n",
       "$$\n",
       "{3 \\  \\pi} \\over 7 \n",
       "\\leqno(53)\n",
       "$$\n",
       "\n",
       "                                                                     Type: Pi\n"
      ]
     },
     "metadata": {},
     "output_type": "display_data"
    }
   ],
   "source": [
    "3/7*%pi"
   ]
  },
  {
   "cell_type": "code",
   "execution_count": 71,
   "metadata": {
    "collapsed": false
   },
   "outputs": [
    {
     "data": {
      "text/latex": [
       "$$\\def\\sp{^}\\def\\sb{_}\\def\\leqno(#1){}$$$$\\require{color}$$$$\n",
       "{\\color{black} \\normalsize \n",
       "{x \\sp n}+{\\sin \n",
       "\\left(\n",
       "{{x \\over 2}} \n",
       "\\right)}\n",
       "\\leqno(54)\n",
       "} \\\\[0.5ex] {\\color{blue} \\scriptsize \\text{Expression Integer}} \\\\\n",
       "$$"
      ],
      "text/plain": [
       " \n",
       "          n       x\n",
       "   (54)  x  + sin(-)\n",
       "                  2\n",
       "$$\n",
       "{x \\sp n}+{\\sin \n",
       "\\left(\n",
       "{{x \\over 2}} \n",
       "\\right)}\n",
       "\\leqno(54)\n",
       "$$\n",
       "\n",
       "                                                     Type: Expression Integer\n"
      ]
     },
     "metadata": {},
     "output_type": "display_data"
    }
   ],
   "source": [
    "sin(x/2)+x^n"
   ]
  },
  {
   "cell_type": "code",
   "execution_count": 72,
   "metadata": {
    "collapsed": false
   },
   "outputs": [
    {
     "data": {
      "text/latex": [
       "$$\\def\\sp{^}\\def\\sb{_}\\def\\leqno(#1){}$$$$\\require{color}$$$$\n",
       "{\\color{black} \\normalsize \n",
       "2 \\sp {2 \\sp n} \n",
       "\\leqno(55)\n",
       "} \\\\[0.5ex] {\\color{blue} \\scriptsize \\text{Expression Integer}} \\\\\n",
       "$$"
      ],
      "text/plain": [
       " \n",
       "           n\n",
       "          2\n",
       "   (55)  2\n",
       "$$\n",
       "2 \\sp {2 \\sp n} \n",
       "\\leqno(55)\n",
       "$$\n",
       "\n",
       "                                                     Type: Expression Integer\n"
      ]
     },
     "metadata": {},
     "output_type": "display_data"
    }
   ],
   "source": [
    "2^2^n"
   ]
  },
  {
   "cell_type": "code",
   "execution_count": 73,
   "metadata": {
    "collapsed": false
   },
   "outputs": [
    {
     "data": {
      "text/latex": [
       "$$\\def\\sp{^}\\def\\sb{_}\\def\\leqno(#1){}$$$$\\require{color}$$$$\n",
       "{\\color{black} \\normalsize \n",
       "2 \\over 3 \n",
       "\\leqno(56)\n",
       "} \\\\[0.5ex] {\\color{blue} \\scriptsize \\text{Fraction Integer}} \\\\\n",
       "$$"
      ],
      "text/plain": [
       " \n",
       "         2\n",
       "   (56)  -\n",
       "         3\n",
       "$$\n",
       "2 \\over 3 \n",
       "\\leqno(56)\n",
       "$$\n",
       "\n",
       "                                                       Type: Fraction Integer\n"
      ]
     },
     "metadata": {},
     "output_type": "display_data"
    }
   ],
   "source": [
    "2/3"
   ]
  },
  {
   "cell_type": "code",
   "execution_count": 74,
   "metadata": {
    "collapsed": false
   },
   "outputs": [
    {
     "data": {
      "text/latex": [
       "$$\\def\\sp{^}\\def\\sb{_}\\def\\leqno(#1){}$$$$\\require{color}$$$$\n",
       "{\\color{black} \\normalsize \n",
       "{{t \\  v \\  {x \\sp 2}}+{b \\  {t \\sp 2} \\  x}+{c \\  {t \\sp 2}}} \\over {{{t \\sp \n",
       "2} \\  {x \\sp 2}} -{v \\sp 2}} \n",
       "\\leqno(57)\n",
       "} \\\\[0.5ex] {\\color{blue} \\scriptsize \\text{Fraction Polynomial Integer}} \\\\\n",
       "$$"
      ],
      "text/plain": [
       " \n",
       "              2      2       2\n",
       "         t v x  + b t x + c t\n",
       "   (57)  ---------------------\n",
       "                2 2    2\n",
       "               t x  - v\n",
       "$$\n",
       "{{t \\  v \\  {x \\sp 2}}+{b \\  {t \\sp 2} \\  x}+{c \\  {t \\sp 2}}} \\over {{{t \\sp \n",
       "2} \\  {x \\sp 2}} -{v \\sp 2}} \n",
       "\\leqno(57)\n",
       "$$\n",
       "\n",
       "                                            Type: Fraction Polynomial Integer\n"
      ]
     },
     "metadata": {},
     "output_type": "display_data"
    }
   ],
   "source": [
    "(a*x^2+b*x+c)/((x-a)*(x+a))"
   ]
  },
  {
   "cell_type": "code",
   "execution_count": 75,
   "metadata": {
    "collapsed": false
   },
   "outputs": [
    {
     "data": {
      "text/latex": [
       "$$\\def\\sp{^}\\def\\sb{_}\\def\\leqno(#1){}$$$$\\require{color}$$$$\n",
       "{\\color{black} \\normalsize \n",
       "\\sin \n",
       "\\left(\n",
       "{{{v+{{\\left( c+{2 \\  b} \n",
       "\\right)}\n",
       "\\  t}} \\over t}} \n",
       "\\right)\n",
       "\\leqno(58)\n",
       "} \\\\[0.5ex] {\\color{blue} \\scriptsize \\text{Expression Integer}} \\\\\n",
       "$$"
      ],
      "text/plain": [
       " \n",
       "             v + (c + 2b)t\n",
       "   (58)  sin(-------------)\n",
       "                   t\n",
       "$$\n",
       "\\sin \n",
       "\\left(\n",
       "{{{v+{{\\left( c+{2 \\  b} \n",
       "\\right)}\n",
       "\\  t}} \\over t}} \n",
       "\\right)\n",
       "\\leqno(58)\n",
       "$$\n",
       "\n",
       "                                                     Type: Expression Integer\n"
      ]
     },
     "metadata": {},
     "output_type": "display_data"
    }
   ],
   "source": [
    "sinCosExpandRules(sin (a+2* b+c))"
   ]
  },
  {
   "cell_type": "code",
   "execution_count": 76,
   "metadata": {
    "collapsed": false
   },
   "outputs": [
    {
     "data": {
      "text/latex": [
       "$$\\def\\sp{^}\\def\\sb{_}\\def\\leqno(#1){}$$$$\\require{color}$$$$\n",
       "{\\color{black} \\normalsize \n",
       "{\\sin \n",
       "\\left(\n",
       "{{x -{c \\sp 2}}} \n",
       "\\right)}+y\n",
       "\\leqno(59)\n",
       "} \\\\[0.5ex] {\\color{blue} \\scriptsize \\text{Expression Integer}} \\\\\n",
       "$$"
      ],
      "text/plain": [
       " \n",
       "                  2\n",
       "   (59)  sin(x - c ) + y\n",
       "$$\n",
       "{\\sin \n",
       "\\left(\n",
       "{{x -{c \\sp 2}}} \n",
       "\\right)}+y\n",
       "\\leqno(59)\n",
       "$$\n",
       "\n",
       "                                                     Type: Expression Integer\n"
      ]
     },
     "metadata": {},
     "output_type": "display_data"
    }
   ],
   "source": [
    "sin(x-c^2)+y"
   ]
  },
  {
   "cell_type": "code",
   "execution_count": 77,
   "metadata": {
    "collapsed": false
   },
   "outputs": [
    {
     "data": {
      "text/latex": [
       "$$\\def\\sp{^}\\def\\sb{_}\\def\\leqno(#1){}$$$$\\require{color}$$$$\n",
       "{\\color{black} \\normalsize \n",
       "v \\over {b \\  t} \n",
       "\\leqno(60)\n",
       "} \\\\[0.5ex] {\\color{blue} \\scriptsize \\text{Fraction Polynomial Integer}} \\\\\n",
       "$$"
      ],
      "text/plain": [
       " \n",
       "          v\n",
       "   (60)  ---\n",
       "         b t\n",
       "$$\n",
       "v \\over {b \\  t} \n",
       "\\leqno(60)\n",
       "$$\n",
       "\n",
       "                                            Type: Fraction Polynomial Integer\n"
      ]
     },
     "metadata": {},
     "output_type": "display_data"
    }
   ],
   "source": [
    "a/b"
   ]
  },
  {
   "cell_type": "code",
   "execution_count": null,
   "metadata": {
    "collapsed": true
   },
   "outputs": [],
   "source": []
  }
 ],
 "metadata": {
  "kernelspec": {
   "display_name": "FriCAS",
   "language": "fricas",
   "name": "fricas"
  },
  "language_info": {
   "mimetype": "text/plain",
   "name": "spad"
  }
 },
 "nbformat": 4,
 "nbformat_minor": 0
}
