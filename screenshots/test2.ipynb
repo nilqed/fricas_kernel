{
 "cells": [
  {
   "cell_type": "code",
   "execution_count": 1,
   "metadata": {
    "collapsed": false
   },
   "outputs": [
    {
     "data": {
      "text/plain": [
       " \n",
       "Value = \"Wednesday August 5, 2009 at 19:05:50 \"\n"
      ]
     },
     "metadata": {},
     "output_type": "display_data"
    }
   ],
   "source": [
    ")version"
   ]
  },
  {
   "cell_type": "code",
   "execution_count": 2,
   "metadata": {
    "collapsed": false
   },
   "outputs": [
    {
     "data": {
      "text/plain": [
       " \n",
       "         5     4      3      2\n",
       "   (1)  x  + 5x  + 10x  + 10x  + 5x + 1\n",
       "                                                     Type: Polynomial Integer\n"
      ]
     },
     "metadata": {},
     "output_type": "display_data"
    }
   ],
   "source": [
    "(1+x)^5"
   ]
  },
  {
   "cell_type": "code",
   "execution_count": 3,
   "metadata": {
    "collapsed": false
   },
   "outputs": [
    {
     "data": {
      "text/plain": [
       " \n"
      ]
     },
     "metadata": {},
     "output_type": "display_data"
    }
   ],
   "source": [
    ")set output tex on"
   ]
  },
  {
   "cell_type": "code",
   "execution_count": 4,
   "metadata": {
    "collapsed": false
   },
   "outputs": [
    {
     "data": {
      "text/latex": [
       "\\(\\def\\sp{^}\\def\\sb{_}\\def\\leqno(#1){}\\)\\(\\def\\erf\\{\\mathrm{erf}}\\def\\sinh{\\mathrm{sinh}}\\)\\(\\def\\zag#1#2{{{ \\left.{#1}\\right|}\\over{\\left|{#2}\\right.}}}\\)\\(\\require{color}\\)$$\n",
       "{\\color{black} \\normalsize \n",
       "{x \\sp 5}+{5 \\  {x \\sp 4}}+{{10} \\  {x \\sp 3}}+{{10} \\  {x \\sp 2}}+{5 \\  x}+1 \n",
       "\\leqno(2)\n",
       "} \\\\[0.9ex] {\\color{blue} \\scriptsize \\text{Polynomial Integer}} \\\\\n",
       "$$"
      ],
      "text/plain": [
       " \n",
       "         5     4      3      2\n",
       "   (2)  x  + 5x  + 10x  + 10x  + 5x + 1\n",
       "$$\n",
       "{x \\sp 5}+{5 \\  {x \\sp 4}}+{{10} \\  {x \\sp 3}}+{{10} \\  {x \\sp 2}}+{5 \\  x}+1 \n",
       "\\leqno(2)\n",
       "$$\n",
       "\n",
       "                                                     Type: Polynomial Integer\n"
      ]
     },
     "metadata": {},
     "output_type": "display_data"
    }
   ],
   "source": [
    "(1+x)^5"
   ]
  },
  {
   "cell_type": "code",
   "execution_count": 5,
   "metadata": {
    "collapsed": false
   },
   "outputs": [
    {
     "data": {
      "text/latex": [
       "\\(\\def\\sp{^}\\def\\sb{_}\\def\\leqno(#1){}\\)\\(\\def\\erf\\{\\mathrm{erf}}\\def\\sinh{\\mathrm{sinh}}\\)\\(\\def\\zag#1#2{{{ \\left.{#1}\\right|}\\over{\\left|{#2}\\right.}}}\\)\\(\\require{color}\\)$$\n",
       "{\\color{black} \\normalsize \n",
       "{x \\sp 4}+{2 \\  {x \\sp 2}}+1 \n",
       "\\leqno(3)\n",
       "} \\\\[0.9ex] {\\color{blue} \\scriptsize \\text{Polynomial Integer}} \\\\\n",
       "\n",
       "{\\color{black} \\normalsize \n",
       "{x \\sp 6}+{3 \\  {x \\sp 4}}+{3 \\  {x \\sp 2}}+1 \n",
       "\\leqno(4)\n",
       "} \\\\[0.9ex] {\\color{blue} \\scriptsize \\text{Polynomial Integer}} \\\\\n",
       "\n",
       "{\\color{black} \\normalsize \n",
       "{x \\sp 8}+{4 \\  {x \\sp 6}}+{6 \\  {x \\sp 4}}+{4 \\  {x \\sp 2}}+1 \n",
       "\\leqno(5)\n",
       "} \\\\[0.9ex] {\\color{blue} \\scriptsize \\text{Polynomial Integer}} \\\\\n",
       "\n",
       "{\\color{black} \\normalsize \n",
       "{x \\sp {10}}+{5 \\  {x \\sp 8}}+{{10} \\  {x \\sp 6}}+{{10} \\  {x \\sp 4}}+{5 \\  \n",
       "{x \\sp 2}}+1 \n",
       "\\leqno(6)\n",
       "} \\\\[0.9ex] {\\color{blue} \\scriptsize \\text{Polynomial Integer}} \\\\\n",
       "\n",
       "{\\color{black} \\normalsize \n",
       "35 \n",
       "\\leqno(7)\n",
       "} \\\\[0.9ex] {\\color{blue} \\scriptsize \\text{PositiveInteger}} \\\\\n",
       "$$"
      ],
      "text/plain": [
       " \n",
       "         4     2\n",
       "   (3)  x  + 2x  + 1\n",
       "$$\n",
       "{x \\sp 4}+{2 \\  {x \\sp 2}}+1 \n",
       "\\leqno(3)\n",
       "$$\n",
       "\n",
       "                                                     Type: Polynomial Integer\n",
       "\n",
       "         6     4     2\n",
       "   (4)  x  + 3x  + 3x  + 1\n",
       "$$\n",
       "{x \\sp 6}+{3 \\  {x \\sp 4}}+{3 \\  {x \\sp 2}}+1 \n",
       "\\leqno(4)\n",
       "$$\n",
       "\n",
       "                                                     Type: Polynomial Integer\n",
       "\n",
       "         8     6     4     2\n",
       "   (5)  x  + 4x  + 6x  + 4x  + 1\n",
       "$$\n",
       "{x \\sp 8}+{4 \\  {x \\sp 6}}+{6 \\  {x \\sp 4}}+{4 \\  {x \\sp 2}}+1 \n",
       "\\leqno(5)\n",
       "$$\n",
       "\n",
       "                                                     Type: Polynomial Integer\n",
       "\n",
       "         10     8      6      4     2\n",
       "   (6)  x   + 5x  + 10x  + 10x  + 5x  + 1\n",
       "$$\n",
       "{x \\sp {10}}+{5 \\  {x \\sp 8}}+{{10} \\  {x \\sp 6}}+{{10} \\  {x \\sp 4}}+{5 \\  \n",
       "{x \\sp 2}}+1 \n",
       "\\leqno(6)\n",
       "$$\n",
       "\n",
       "                                                     Type: Polynomial Integer\n",
       "\n",
       "   (7)  35\n",
       "$$\n",
       "35 \n",
       "\\leqno(7)\n",
       "$$\n",
       "\n",
       "                                                        Type: PositiveInteger\n"
      ]
     },
     "metadata": {},
     "output_type": "display_data"
    }
   ],
   "source": [
    "(1+x^2)^2\n",
    "(1+x^2)^3\n",
    "(1+x^2)^4\n",
    "(1+x^2)^5\n",
    "binomial(7,3)"
   ]
  },
  {
   "cell_type": "code",
   "execution_count": 6,
   "metadata": {
    "collapsed": false
   },
   "outputs": [
    {
     "data": {
      "text/latex": [
       "\\(\\def\\sp{^}\\def\\sb{_}\\def\\leqno(#1){}\\)\\(\\def\\erf\\{\\mathrm{erf}}\\def\\sinh{\\mathrm{sinh}}\\)\\(\\def\\zag#1#2{{{ \\left.{#1}\\right|}\\over{\\left|{#2}\\right.}}}\\)\\(\\require{color}\\)$$\n",
       "{\\color{black} \\normalsize \n",
       "35 \n",
       "\\leqno(8)\n",
       "} \\\\[0.9ex] {\\color{blue} \\scriptsize \\text{PositiveInteger}} \\\\\n",
       "$$"
      ],
      "text/plain": [
       " \n",
       "   (8)  35\n",
       "$$\n",
       "35 \n",
       "\\leqno(8)\n",
       "$$\n",
       "\n",
       "                                                        Type: PositiveInteger\n"
      ]
     },
     "metadata": {},
     "output_type": "display_data"
    }
   ],
   "source": [
    "%"
   ]
  },
  {
   "cell_type": "code",
   "execution_count": 7,
   "metadata": {
    "collapsed": false
   },
   "outputs": [
    {
     "data": {
      "text/latex": [
       "\\(\\def\\sp{^}\\def\\sb{_}\\def\\leqno(#1){}\\)\\(\\def\\erf\\{\\mathrm{erf}}\\def\\sinh{\\mathrm{sinh}}\\)\\(\\def\\zag#1#2{{{ \\left.{#1}\\right|}\\over{\\left|{#2}\\right.}}}\\)\\(\\require{color}\\)$$\n",
       "{\\color{black} \\normalsize \n",
       "c+b+a \n",
       "\\leqno(9)\n",
       "} \\\\[0.9ex] {\\color{blue} \\scriptsize \\text{Polynomial Integer}} \\\\\n",
       "$$"
      ],
      "text/plain": [
       " \n",
       "   (9)  c + b + a\n",
       "$$\n",
       "c+b+a \n",
       "\\leqno(9)\n",
       "$$\n",
       "\n",
       "                                                     Type: Polynomial Integer\n"
      ]
     },
     "metadata": {},
     "output_type": "display_data"
    }
   ],
   "source": [
    "a+b+c"
   ]
  },
  {
   "cell_type": "code",
   "execution_count": 8,
   "metadata": {
    "collapsed": false
   },
   "outputs": [
    {
     "data": {
      "text/latex": [
       "\\(\\def\\sp{^}\\def\\sb{_}\\def\\leqno(#1){}\\)\\(\\def\\erf\\{\\mathrm{erf}}\\def\\sinh{\\mathrm{sinh}}\\)\\(\\def\\zag#1#2{{{ \\left.{#1}\\right|}\\over{\\left|{#2}\\right.}}}\\)\\(\\require{color}\\)$$\n",
       "{\\color{black} \\normalsize \n",
       "{c \\sp 4}+{{\\left( {4 \\  b}+{4 \\  a} \n",
       "\\right)}\n",
       "\\  {c \\sp 3}}+{{\\left( {6 \\  {b \\sp 2}}+{{12} \\  a \\  b}+{6 \\  {a \\sp 2}} \n",
       "\\right)}\n",
       "\\  {c \\sp 2}}+{{\\left( {4 \\  {b \\sp 3}}+{{12} \\  a \\  {b \\sp 2}}+{{12} \\  {a \n",
       "\\sp 2} \\  b}+{4 \\  {a \\sp 3}} \n",
       "\\right)}\n",
       "\\  c}+{b \\sp 4}+{4 \\  a \\  {b \\sp 3}}+{6 \\  {a \\sp 2} \\  {b \\sp 2}}+{4 \\  {a \n",
       "\\sp 3} \\  b}+{a \\sp 4} \n",
       "\\leqno(10)\n",
       "} \\\\[0.9ex] {\\color{blue} \\scriptsize \\text{Polynomial Integer}} \\\\\n",
       "$$"
      ],
      "text/plain": [
       " \n",
       "   (10)\n",
       "      4             3      2             2  2      3        2      2      3\n",
       "     c  + (4b + 4a)c  + (6b  + 12a b + 6a )c  + (4b  + 12a b  + 12a b + 4a )c\n",
       "   + \n",
       "      4       3     2 2     3     4\n",
       "     b  + 4a b  + 6a b  + 4a b + a\n",
       "$$\n",
       "{c \\sp 4}+{{\\left( {4 \\  b}+{4 \\  a} \n",
       "\\right)}\n",
       "\\  {c \\sp 3}}+{{\\left( {6 \\  {b \\sp 2}}+{{12} \\  a \\  b}+{6 \\  {a \\sp 2}} \n",
       "\\right)}\n",
       "\\  {c \\sp 2}}+{{\\left( {4 \\  {b \\sp 3}}+{{12} \\  a \\  {b \\sp 2}}+{{12} \\  {a \n",
       "\\sp 2} \\  b}+{4 \\  {a \\sp 3}} \n",
       "\\right)}\n",
       "\\  c}+{b \\sp 4}+{4 \\  a \\  {b \\sp 3}}+{6 \\  {a \\sp 2} \\  {b \\sp 2}}+{4 \\  {a \n",
       "\\sp 3} \\  b}+{a \\sp 4} \n",
       "\\leqno(10)\n",
       "$$\n",
       "\n",
       "                                                     Type: Polynomial Integer\n"
      ]
     },
     "metadata": {},
     "output_type": "display_data"
    }
   ],
   "source": [
    "%^4"
   ]
  },
  {
   "cell_type": "code",
   "execution_count": 9,
   "metadata": {
    "collapsed": false
   },
   "outputs": [
    {
     "data": {
      "text/latex": [
       "\\(\\def\\sp{^}\\def\\sb{_}\\def\\leqno(#1){}\\)\\(\\def\\erf\\{\\mathrm{erf}}\\def\\sinh{\\mathrm{sinh}}\\)\\(\\def\\zag#1#2{{{ \\left.{#1}\\right|}\\over{\\left|{#2}\\right.}}}\\)\\(\\require{color}\\)$$\n",
       "{\\color{black} \\normalsize \n",
       "1 \\over {{x \\sp 2}+1} \n",
       "\\leqno(11)\n",
       "} \\\\[0.9ex] {\\color{blue} \\scriptsize \\text{Fraction Polynomial Integer}} \\\\\n",
       "$$"
      ],
      "text/plain": [
       " \n",
       "            1\n",
       "   (11)  ------\n",
       "          2\n",
       "         x  + 1\n",
       "$$\n",
       "1 \\over {{x \\sp 2}+1} \n",
       "\\leqno(11)\n",
       "$$\n",
       "\n",
       "                                            Type: Fraction Polynomial Integer\n"
      ]
     },
     "metadata": {},
     "output_type": "display_data"
    }
   ],
   "source": [
    "(1+x^2)^4/(1+x^2)^5"
   ]
  },
  {
   "cell_type": "code",
   "execution_count": 10,
   "metadata": {
    "collapsed": false
   },
   "outputs": [
    {
     "data": {
      "text/latex": [
       "\\(\\def\\sp{^}\\def\\sb{_}\\def\\leqno(#1){}\\)\\(\\def\\erf\\{\\mathrm{erf}}\\def\\sinh{\\mathrm{sinh}}\\)\\(\\def\\zag#1#2{{{ \\left.{#1}\\right|}\\over{\\left|{#2}\\right.}}}\\)\\(\\require{color}\\)$$\n",
       "{\\color{black} \\normalsize \n",
       "{{\\erf \n",
       "\\left(\n",
       "{x} \n",
       "\\right)}\n",
       "\\  {\\sqrt {\\pi}}} \\over 2 \n",
       "\\leqno(12)\n",
       "} \\\\[0.9ex] {\\color{blue} \\scriptsize \\text{Union(Expression Integer}} \\\\\n",
       "$$"
      ],
      "text/plain": [
       " \n",
       "                +---+\n",
       "         erf(x)\\|%pi\n",
       "   (12)  ------------\n",
       "               2\n",
       "$$\n",
       "{{\\erf \n",
       "\\left(\n",
       "{x} \n",
       "\\right)}\n",
       "\\  {\\sqrt {\\pi}}} \\over 2 \n",
       "\\leqno(12)\n",
       "$$\n",
       "\n",
       "                                          Type: Union(Expression Integer,...)\n"
      ]
     },
     "metadata": {},
     "output_type": "display_data"
    }
   ],
   "source": [
    "integrate(exp(-x^2),x)"
   ]
  },
  {
   "cell_type": "code",
   "execution_count": 11,
   "metadata": {
    "collapsed": false
   },
   "outputs": [
    {
     "data": {
      "text/latex": [
       "\\(\\def\\sp{^}\\def\\sb{_}\\def\\leqno(#1){}\\)\\(\\def\\erf\\{\\mathrm{erf}}\\def\\sinh{\\mathrm{sinh}}\\)\\(\\def\\zag#1#2{{{ \\left.{#1}\\right|}\\over{\\left|{#2}\\right.}}}\\)\\(\\require{color}\\)$$\n",
       "{\\color{black} \\normalsize \n",
       "3+ \\zag{1}{7}+ \\zag{1}{{15}}+ \\zag{1}{1}+ \\zag{1}{{292}}+ \\zag{1}{1}+ \n",
       "\\zag{1}{1}+ \\zag{1}{1}+ \\zag{1}{2}+ \\zag{1}{1}+ \\zag{1}{3}+\\ldots \n",
       "\\leqno(13)\n",
       "} \\\\[0.9ex] {\\color{blue} \\scriptsize \\text{ContinuedFraction Integer}} \\\\\n",
       "$$"
      ],
      "text/plain": [
       " \n",
       "   (13)\n",
       "           1 |     1  |     1 |      1  |     1 |     1 |     1 |     1 |\n",
       "     3 + +---+ + +----+ + +---+ + +-----+ + +---+ + +---+ + +---+ + +---+\n",
       "         | 7     | 15     | 1     | 292     | 1     | 1     | 1     | 2\n",
       "   + \n",
       "       1 |     1 |\n",
       "     +---+ + +---+ + ...\n",
       "     | 1     | 3\n",
       "$$\n",
       "3+ \\zag{1}{7}+ \\zag{1}{{15}}+ \\zag{1}{1}+ \\zag{1}{{292}}+ \\zag{1}{1}+ \n",
       "\\zag{1}{1}+ \\zag{1}{1}+ \\zag{1}{2}+ \\zag{1}{1}+ \\zag{1}{3}+\\ldots \n",
       "\\leqno(13)\n",
       "$$\n",
       "\n",
       "                                              Type: ContinuedFraction Integer\n"
      ]
     },
     "metadata": {},
     "output_type": "display_data"
    }
   ],
   "source": [
    "continuedFraction %pi"
   ]
  },
  {
   "cell_type": "code",
   "execution_count": 12,
   "metadata": {
    "collapsed": false
   },
   "outputs": [
    {
     "data": {
      "text/latex": [
       "\\(\\def\\sp{^}\\def\\sb{_}\\def\\leqno(#1){}\\)\\(\\def\\erf\\{\\mathrm{erf}}\\def\\sinh{\\mathrm{sinh}}\\)\\(\\def\\zag#1#2{{{ \\left.{#1}\\right|}\\over{\\left|{#2}\\right.}}}\\)\\(\\require{color}\\)$$\n",
       "{\\color{black} \\normalsize \n",
       "{x \\sp 5}+{5 \\  {x \\sp 4}}+{{10} \\  {x \\sp 3}}+{{10} \\  {x \\sp 2}}+{5 \\  x}+1 \n",
       "\\leqno(14)\n",
       "} \\\\[0.9ex] {\\color{blue} \\scriptsize \\text{Polynomial Integer}} \\\\\n",
       "$$"
      ],
      "text/plain": [
       " \n",
       "          5     4      3      2\n",
       "   (14)  x  + 5x  + 10x  + 10x  + 5x + 1\n",
       "$$\n",
       "{x \\sp 5}+{5 \\  {x \\sp 4}}+{{10} \\  {x \\sp 3}}+{{10} \\  {x \\sp 2}}+{5 \\  x}+1 \n",
       "\\leqno(14)\n",
       "$$\n",
       "\n",
       "                                                     Type: Polynomial Integer\n"
      ]
     },
     "metadata": {},
     "output_type": "display_data"
    }
   ],
   "source": [
    "(1+x)^5"
   ]
  },
  {
   "cell_type": "code",
   "execution_count": 13,
   "metadata": {
    "collapsed": false
   },
   "outputs": [
    {
     "data": {
      "text/latex": [
       "\\(\\def\\sp{^}\\def\\sb{_}\\def\\leqno(#1){}\\)\\(\\def\\erf\\{\\mathrm{erf}}\\def\\sinh{\\mathrm{sinh}}\\)\\(\\def\\zag#1#2{{{ \\left.{#1}\\right|}\\over{\\left|{#2}\\right.}}}\\)\\(\\require{color}\\)$$\n",
       "{\\color{black} \\normalsize \n",
       "3+ \\zag{1}{7}+ \\zag{1}{{15}}+ \\zag{1}{1}+ \\zag{1}{{292}}+ \\zag{1}{1}+ \n",
       "\\zag{1}{1}+ \\zag{1}{1}+ \\zag{1}{2}+ \\zag{1}{1}+ \\zag{1}{3}+\\ldots \n",
       "\\leqno(15)\n",
       "} \\\\[0.9ex] {\\color{blue} \\scriptsize \\text{ContinuedFraction Integer}} \\\\\n",
       "$$"
      ],
      "text/plain": [
       " \n",
       "   (15)\n",
       "           1 |     1  |     1 |      1  |     1 |     1 |     1 |     1 |\n",
       "     3 + +---+ + +----+ + +---+ + +-----+ + +---+ + +---+ + +---+ + +---+\n",
       "         | 7     | 15     | 1     | 292     | 1     | 1     | 1     | 2\n",
       "   + \n",
       "       1 |     1 |\n",
       "     +---+ + +---+ + ...\n",
       "     | 1     | 3\n",
       "$$\n",
       "3+ \\zag{1}{7}+ \\zag{1}{{15}}+ \\zag{1}{1}+ \\zag{1}{{292}}+ \\zag{1}{1}+ \n",
       "\\zag{1}{1}+ \\zag{1}{1}+ \\zag{1}{2}+ \\zag{1}{1}+ \\zag{1}{3}+\\ldots \n",
       "\\leqno(15)\n",
       "$$\n",
       "\n",
       "                                              Type: ContinuedFraction Integer\n"
      ]
     },
     "metadata": {},
     "output_type": "display_data"
    }
   ],
   "source": [
    "continuedFraction %pi"
   ]
  },
  {
   "cell_type": "code",
   "execution_count": 14,
   "metadata": {
    "collapsed": false
   },
   "outputs": [
    {
     "data": {
      "text/latex": [
       "\\(\\def\\sp{^}\\def\\sb{_}\\def\\leqno(#1){}\\)\\(\\def\\erf\\{\\mathrm{erf}}\\def\\sinh{\\mathrm{sinh}}\\)\\(\\def\\zag#1#2{{{ \\left.{#1}\\right|}\\over{\\left|{#2}\\right.}}}\\)\\(\\require{color}\\)$$\n",
       "{\\color{black} \\normalsize \n",
       "{-{a \\  x} -b} \\over {z -{c \\  y}} \n",
       "\\leqno(16)\n",
       "} \\\\[0.9ex] {\\color{blue} \\scriptsize \\text{Fraction Polynomial Integer}} \\\\\n",
       "$$"
      ],
      "text/plain": [
       " \n",
       "         - a x - b\n",
       "   (16)  ---------\n",
       "          z - c y\n",
       "$$\n",
       "{-{a \\  x} -b} \\over {z -{c \\  y}} \n",
       "\\leqno(16)\n",
       "$$\n",
       "\n",
       "                                            Type: Fraction Polynomial Integer\n"
      ]
     },
     "metadata": {},
     "output_type": "display_data"
    }
   ],
   "source": [
    "(a*x+b)/(c*y-z)"
   ]
  },
  {
   "cell_type": "code",
   "execution_count": 60,
   "metadata": {
    "collapsed": false
   },
   "outputs": [
    {
     "data": {
      "text/plain": [
       "  )credits      : list the people who have contributed to OpenAxiom\r\n",
       "\r\n",
       " )help <command> gives more information\r\n",
       " )quit         : exit OpenAxiom \r\n",
       "\r\n",
       " )abbreviation : query, set and remove abbreviations for constructors\r\n",
       " )cd           : set working directory\r\n",
       " )clear        : remove declarations, definitions or values\r\n",
       " )close        : throw away an interpreter client and workspace\r\n",
       " )compile      : invoke constructor compiler\r\n",
       " )display      : display Library operations and objects in your workspace\r\n",
       " )edit         : edit a file\r\n",
       " )frame        : manage interpreter workspaces\r\n",
       " )history      : manage aspects of interactive session\r\n",
       " )library      : introduce new constructors \r\n",
       " )lisp         : evaluate a LISP expression\r\n",
       " )read         : execute AXIOM commands from a file\r\n",
       " )savesystem   : save LISP image to a file\r\n",
       " )set          : view and set system variables\r\n",
       " )show         : show constructor information\r\n",
       " )spool        : log input and output to a file\r\n",
       " )synonym      : define an abbreviation for system commands\r\n",
       " )system       : issue shell commands\r\n",
       " )trace        : trace execution of functions\r\n",
       " )undo         : restore workspace to earlier state\r\n",
       " )what         : search for various things by name\r\n",
       "\r\n",
       "\n"
      ]
     },
     "metadata": {},
     "output_type": "display_data"
    }
   ],
   "source": [
    ")summary"
   ]
  },
  {
   "cell_type": "code",
   "execution_count": 16,
   "metadata": {
    "collapsed": false
   },
   "outputs": [
    {
     "data": {
      "text/latex": [
       "\\(\\def\\sp{^}\\def\\sb{_}\\def\\leqno(#1){}\\)\\(\\def\\erf\\{\\mathrm{erf}}\\def\\sinh{\\mathrm{sinh}}\\)\\(\\def\\zag#1#2{{{ \\left.{#1}\\right|}\\over{\\left|{#2}\\right.}}}\\)\\(\\require{color}\\)$$\n",
       "{\\color{black} \\normalsize \n",
       "\\left[\n",
       "\\begin{array}{cccc}\n",
       "1 & 2 & 3 & 4 \\\\ \n",
       "5 & 6 & 7 & 8 \\\\ \n",
       "0 & 3 & 2 & 5 \\\\ \n",
       "5 & 8 & 3 & 4 \n",
       "\\end{array}\n",
       "\\right]\n",
       "\\leqno(17)\n",
       "} \\\\[0.9ex] {\\color{blue} \\scriptsize \\text{Matrix Integer}} \\\\\n",
       "$$"
      ],
      "text/plain": [
       " \n",
       "         +1  2  3  4+\n",
       "         |          |\n",
       "         |5  6  7  8|\n",
       "   (17)  |          |\n",
       "         |0  3  2  5|\n",
       "         |          |\n",
       "         +5  8  3  4+\n",
       "$$\n",
       "\\left[\n",
       "\\begin{array}{cccc}\n",
       "1 & 2 & 3 & 4 \\\\ \n",
       "5 & 6 & 7 & 8 \\\\ \n",
       "0 & 3 & 2 & 5 \\\\ \n",
       "5 & 8 & 3 & 4 \n",
       "\\end{array}\n",
       "\\right]\n",
       "\\leqno(17)\n",
       "$$\n",
       "\n",
       "                                                         Type: Matrix Integer\n"
      ]
     },
     "metadata": {},
     "output_type": "display_data"
    }
   ],
   "source": [
    "M := matrix [[1,2,3,4],[5,6,7,8],[0,3,2,5],[5,8,3,4]] ; M"
   ]
  },
  {
   "cell_type": "code",
   "execution_count": 17,
   "metadata": {
    "collapsed": false
   },
   "outputs": [
    {
     "data": {
      "text/latex": [
       "\\(\\def\\sp{^}\\def\\sb{_}\\def\\leqno(#1){}\\)\\(\\def\\erf\\{\\mathrm{erf}}\\def\\sinh{\\mathrm{sinh}}\\)\\(\\def\\zag#1#2{{{ \\left.{#1}\\right|}\\over{\\left|{#2}\\right.}}}\\)\\(\\require{color}\\)$$\n",
       "{\\color{black} \\normalsize \n",
       "\\left[\n",
       "1, \\: 3, \\: 5, \\: 7 \n",
       "\\right]\n",
       "\\leqno(18)\n",
       "} \\\\[0.9ex] {\\color{blue} \\scriptsize \\text{Vector PositiveInteger}} \\\\\n",
       "$$"
      ],
      "text/plain": [
       " \n",
       "   (18)  [1,3,5,7]\n",
       "$$\n",
       "\\left[\n",
       "1, \\: 3, \\: 5, \\: 7 \n",
       "\\right]\n",
       "\\leqno(18)\n",
       "$$\n",
       "\n",
       "                                                 Type: Vector PositiveInteger\n"
      ]
     },
     "metadata": {},
     "output_type": "display_data"
    }
   ],
   "source": [
    "v := vector [1,3,5,7] ; v"
   ]
  },
  {
   "cell_type": "code",
   "execution_count": 18,
   "metadata": {
    "collapsed": false
   },
   "outputs": [
    {
     "data": {
      "text/latex": [
       "\\(\\def\\sp{^}\\def\\sb{_}\\def\\leqno(#1){}\\)\\(\\def\\erf\\{\\mathrm{erf}}\\def\\sinh{\\mathrm{sinh}}\\)\\(\\def\\zag#1#2{{{ \\left.{#1}\\right|}\\over{\\left|{#2}\\right.}}}\\)\\(\\require{color}\\)$$\n",
       "{\\color{black} \\normalsize \n",
       "\\left[\n",
       "{236970}, \\: {596498}, \\: {269400}, \\: {491702} \n",
       "\\right]\n",
       "\\leqno(19)\n",
       "} \\\\[0.9ex] {\\color{blue} \\scriptsize \\text{Vector Integer}} \\\\\n",
       "$$"
      ],
      "text/plain": [
       " \n",
       "   (19)  [236970,596498,269400,491702]\n",
       "$$\n",
       "\\left[\n",
       "{236970}, \\: {596498}, \\: {269400}, \\: {491702} \n",
       "\\right]\n",
       "\\leqno(19)\n",
       "$$\n",
       "\n",
       "                                                         Type: Vector Integer\n"
      ]
     },
     "metadata": {},
     "output_type": "display_data"
    }
   ],
   "source": [
    "M^4*v"
   ]
  },
  {
   "cell_type": "code",
   "execution_count": 19,
   "metadata": {
    "collapsed": false
   },
   "outputs": [
    {
     "data": {
      "text/latex": [
       "\\(\\def\\sp{^}\\def\\sb{_}\\def\\leqno(#1){}\\)\\(\\def\\erf\\{\\mathrm{erf}}\\def\\sinh{\\mathrm{sinh}}\\)\\(\\def\\zag#1#2{{{ \\left.{#1}\\right|}\\over{\\left|{#2}\\right.}}}\\)\\(\\require{color}\\)$$\n",
       "{\\color{black} \\normalsize \n",
       "{12}+{{17} \\  i} \n",
       "\\leqno(20)\n",
       "} \\\\[0.9ex] {\\color{blue} \\scriptsize \\text{Complex Integer}} \\\\\n",
       "$$"
      ],
      "text/plain": [
       " \n",
       "   (20)  12 + 17%i\n",
       "$$\n",
       "{12}+{{17} \\  i} \n",
       "\\leqno(20)\n",
       "$$\n",
       "\n",
       "                                                        Type: Complex Integer\n"
      ]
     },
     "metadata": {},
     "output_type": "display_data"
    }
   ],
   "source": [
    "z_0 := 12+17*%i"
   ]
  },
  {
   "cell_type": "code",
   "execution_count": 20,
   "metadata": {
    "collapsed": false
   },
   "outputs": [
    {
     "data": {
      "text/latex": [
       "\\(\\def\\sp{^}\\def\\sb{_}\\def\\leqno(#1){}\\)\\(\\def\\erf\\{\\mathrm{erf}}\\def\\sinh{\\mathrm{sinh}}\\)\\(\\def\\zag#1#2{{{ \\left.{#1}\\right|}\\over{\\left|{#2}\\right.}}}\\)\\(\\require{color}\\)$$\n",
       "{\\color{black} \\normalsize \n",
       "-{145439} -{{118320} \\  i} \n",
       "\\leqno(21)\n",
       "} \\\\[0.9ex] {\\color{blue} \\scriptsize \\text{Complex Integer}} \\\\\n",
       "$$"
      ],
      "text/plain": [
       " \n",
       "   (21)  - 145439 - 118320%i\n",
       "$$\n",
       "-{145439} -{{118320} \\  i} \n",
       "\\leqno(21)\n",
       "$$\n",
       "\n",
       "                                                        Type: Complex Integer\n"
      ]
     },
     "metadata": {},
     "output_type": "display_data"
    }
   ],
   "source": [
    "z_0^4"
   ]
  },
  {
   "cell_type": "code",
   "execution_count": 21,
   "metadata": {
    "collapsed": false
   },
   "outputs": [
    {
     "data": {
      "text/latex": [
       "\\(\\def\\sp{^}\\def\\sb{_}\\def\\leqno(#1){}\\)\\(\\def\\erf\\{\\mathrm{erf}}\\def\\sinh{\\mathrm{sinh}}\\)\\(\\def\\zag#1#2{{{ \\left.{#1}\\right|}\\over{\\left|{#2}\\right.}}}\\)\\(\\require{color}\\)$$\n",
       "{\\color{black} \\normalsize \n",
       "{1158} -{{741} \\  i} \n",
       "\\leqno(22)\n",
       "} \\\\[0.9ex] {\\color{blue} \\scriptsize \\text{Complex Integer}} \\\\\n",
       "\n",
       "{\\color{black} \\normalsize \n",
       "{26493}+{{10794} \\  i} \n",
       "\\leqno(23)\n",
       "} \\\\[0.9ex] {\\color{blue} \\scriptsize \\text{Complex Integer}} \\\\\n",
       "\n",
       "{\\color{black} \\normalsize \n",
       "\\left[\n",
       "{{12}+{{17} \\  i}}, \\: {{1158} -{{741} \\  i}}, \\: {{26493}+{{10794} \\  i}} \n",
       "\\right]\n",
       "\\leqno(24)\n",
       "} \\\\[0.9ex] {\\color{blue} \\scriptsize \\text{List Complex Integer}} \\\\\n",
       "$$"
      ],
      "text/plain": [
       " \n",
       "   (22)  1158 - 741%i\n",
       "$$\n",
       "{1158} -{{741} \\  i} \n",
       "\\leqno(22)\n",
       "$$\n",
       "\n",
       "                                                        Type: Complex Integer\n",
       "\n",
       "   (23)  26493 + 10794%i\n",
       "$$\n",
       "{26493}+{{10794} \\  i} \n",
       "\\leqno(23)\n",
       "$$\n",
       "\n",
       "                                                        Type: Complex Integer\n",
       "\n",
       "   (24)  [12 + 17%i,1158 - 741%i,26493 + 10794%i]\n",
       "$$\n",
       "\\left[\n",
       "{{12}+{{17} \\  i}}, \\: {{1158} -{{741} \\  i}}, \\: {{26493}+{{10794} \\  i}} \n",
       "\\right]\n",
       "\\leqno(24)\n",
       "$$\n",
       "\n",
       "                                                   Type: List Complex Integer\n"
      ]
     },
     "metadata": {},
     "output_type": "display_data"
    }
   ],
   "source": [
    "z_1:=z_0 * (3-%i*66)\n",
    "z_2:=z_0*z_1\n",
    "[z_0,z_1,z_2]"
   ]
  },
  {
   "cell_type": "code",
   "execution_count": 22,
   "metadata": {
    "collapsed": false
   },
   "outputs": [
    {
     "data": {
      "text/plain": [
       "    \"Hello\"\n",
       "                                                                   Type: Void\n"
      ]
     },
     "metadata": {},
     "output_type": "display_data"
    }
   ],
   "source": [
    "print \"Hello\""
   ]
  },
  {
   "cell_type": "code",
   "execution_count": 23,
   "metadata": {
    "collapsed": false
   },
   "outputs": [
    {
     "data": {
      "text/latex": [
       "\\(\\def\\sp{^}\\def\\sb{_}\\def\\leqno(#1){}\\)\\(\\def\\erf\\{\\mathrm{erf}}\\def\\sinh{\\mathrm{sinh}}\\)\\(\\def\\zag#1#2{{{ \\left.{#1}\\right|}\\over{\\left|{#2}\\right.}}}\\)\\(\\require{color}\\)$$\n",
       "{\\color{black} \\normalsize \n",
       "\\left[\n",
       "\\mbox{\\tt \"{x \\sp 2}+2\"} \n",
       "\\right]\n",
       "\\leqno(26)\n",
       "} \\\\[0.9ex] {\\color{blue} \\scriptsize \\text{List String}} \\\\\n",
       "$$"
      ],
      "text/plain": [
       " \n",
       "   (26)  [\"{x \\sp 2}+2\"]\n",
       "$$\n",
       "\\left[\n",
       "\\mbox{\\tt \"{x \\sp 2}+2\"} \n",
       "\\right]\n",
       "\\leqno(26)\n",
       "$$\n",
       "\n",
       "                                                            Type: List String\n"
      ]
     },
     "metadata": {},
     "output_type": "display_data"
    }
   ],
   "source": [
    "tex(x^2+2)"
   ]
  },
  {
   "cell_type": "code",
   "execution_count": 24,
   "metadata": {
    "collapsed": false
   },
   "outputs": [
    {
     "data": {
      "text/plain": [
       " \n"
      ]
     },
     "metadata": {},
     "output_type": "display_data"
    }
   ],
   "source": [
    "-- abc"
   ]
  },
  {
   "cell_type": "code",
   "execution_count": 25,
   "metadata": {
    "collapsed": false
   },
   "outputs": [
    {
     "data": {
      "text/latex": [
       "\\(\\def\\sp{^}\\def\\sb{_}\\def\\leqno(#1){}\\)\\(\\def\\erf\\{\\mathrm{erf}}\\def\\sinh{\\mathrm{sinh}}\\)\\(\\def\\zag#1#2{{{ \\left.{#1}\\right|}\\over{\\left|{#2}\\right.}}}\\)\\(\\require{color}\\)$$\n",
       "{\\color{black} \\normalsize \n",
       "hello \n",
       "\\leqno(27)\n",
       "} \\\\[0.9ex] {\\color{blue} \\scriptsize \\text{Variable hello}} \\\\\n",
       "$$"
      ],
      "text/plain": [
       " \n",
       "   (27)  hello\n",
       "$$\n",
       "hello \n",
       "\\leqno(27)\n",
       "$$\n",
       "\n",
       "                                                         Type: Variable hello\n"
      ]
     },
     "metadata": {},
     "output_type": "display_data"
    }
   ],
   "source": [
    "hello"
   ]
  },
  {
   "cell_type": "code",
   "execution_count": 26,
   "metadata": {
    "collapsed": false
   },
   "outputs": [
    {
     "data": {
      "image/png": "[encoded data removed]"
     },
     "metadata": {},
     "output_type": "display_data"
    }
   ],
   "source": [
    ")logo"
   ]
  },
  {
   "cell_type": "code",
   "execution_count": 27,
   "metadata": {
    "collapsed": false
   },
   "outputs": [
    {
     "data": {
      "text/latex": [
       "\\(\\def\\sp{^}\\def\\sb{_}\\def\\leqno(#1){}\\)\\(\\def\\erf\\{\\mathrm{erf}}\\def\\sinh{\\mathrm{sinh}}\\)\\(\\def\\zag#1#2{{{ \\left.{#1}\\right|}\\over{\\left|{#2}\\right.}}}\\)\\(\\require{color}\\)$$\n",
       "{\\color{black} \\normalsize \n",
       "Welcome! \n",
       "\\leqno(28)\n",
       "} \\\\[0.9ex] {\\color{blue} \\scriptsize \\text{Variable Welcome}} \\\\\n",
       "$$"
      ],
      "text/plain": [
       " \n",
       "   (28)  Welcome!\n",
       "$$\n",
       "Welcome! \n",
       "\\leqno(28)\n",
       "$$\n",
       "\n",
       "                                                      Type: Variable Welcome!\n"
      ]
     },
     "metadata": {},
     "output_type": "display_data"
    }
   ],
   "source": [
    "Welcome!"
   ]
  },
  {
   "cell_type": "code",
   "execution_count": 28,
   "metadata": {
    "collapsed": false
   },
   "outputs": [
    {
     "data": {
      "image/png": "[encoded data removed]"
     },
     "metadata": {},
     "output_type": "display_data"
    }
   ],
   "source": [
    ")plot"
   ]
  },
  {
   "cell_type": "code",
   "execution_count": 29,
   "metadata": {
    "collapsed": false
   },
   "outputs": [
    {
     "data": {
      "image/png": "[encoded data removed]"
     },
     "metadata": {},
     "output_type": "display_data"
    }
   ],
   "source": [
    ")logo"
   ]
  },
  {
   "cell_type": "code",
   "execution_count": 30,
   "metadata": {
    "collapsed": false
   },
   "outputs": [
    {
     "data": {
      "text/latex": [
       "\\(\\def\\sp{^}\\def\\sb{_}\\def\\leqno(#1){}\\)\\(\\def\\erf\\{\\mathrm{erf}}\\def\\sinh{\\mathrm{sinh}}\\)\\(\\def\\zag#1#2{{{ \\left.{#1}\\right|}\\over{\\left|{#2}\\right.}}}\\)\\(\\require{color}\\)$$\n",
       "{\\color{black} \\normalsize \n",
       "\\left[\n",
       "{\\left[ \n",
       "\\begin{array}{cc}\n",
       "1 & 1 \\\\ \n",
       "-1 & 2 \n",
       "\\end{array}\n",
       "\\right]},\n",
       "\\: {\\left[ \n",
       "\\begin{array}{cc}\n",
       "1 & 2 \\\\ \n",
       "-4 & 3 \n",
       "\\end{array}\n",
       "\\right]},\n",
       "\\: {\\left[ \n",
       "\\begin{array}{cc}\n",
       "1 & 3 \\\\ \n",
       "-9 & 4 \n",
       "\\end{array}\n",
       "\\right]}\n",
       "\\right]\n",
       "\\leqno(29)\n",
       "} \\\\[0.9ex] {\\color{blue} \\scriptsize \\text{List Matrix Integer}} \\\\\n",
       "$$"
      ],
      "text/plain": [
       " \n",
       "          + 1   1+ + 1   2+ + 1   3+\n",
       "   (29)  [|      |,|      |,|      |]\n",
       "          +- 1  2+ +- 4  3+ +- 9  4+\n",
       "$$\n",
       "\\left[\n",
       "{\\left[ \n",
       "\\begin{array}{cc}\n",
       "1 & 1 \\\\ \n",
       "-1 & 2 \n",
       "\\end{array}\n",
       "\\right]},\n",
       "\\: {\\left[ \n",
       "\\begin{array}{cc}\n",
       "1 & 2 \\\\ \n",
       "-4 & 3 \n",
       "\\end{array}\n",
       "\\right]},\n",
       "\\: {\\left[ \n",
       "\\begin{array}{cc}\n",
       "1 & 3 \\\\ \n",
       "-9 & 4 \n",
       "\\end{array}\n",
       "\\right]}\n",
       "\\right]\n",
       "\\leqno(29)\n",
       "$$\n",
       "\n",
       "                                                    Type: List Matrix Integer\n"
      ]
     },
     "metadata": {},
     "output_type": "display_data"
    }
   ],
   "source": [
    "[matrix [[1,j],[-j^2,j+1]] for j in 1..3]"
   ]
  },
  {
   "cell_type": "code",
   "execution_count": 31,
   "metadata": {
    "collapsed": false
   },
   "outputs": [
    {
     "data": {
      "text/plain": [
       " \n"
      ]
     },
     "metadata": {},
     "output_type": "display_data"
    }
   ],
   "source": [
    ")set output tex on"
   ]
  },
  {
   "cell_type": "code",
   "execution_count": 32,
   "metadata": {
    "collapsed": false
   },
   "outputs": [
    {
     "data": {
      "text/latex": [
       "\\(\\def\\sp{^}\\def\\sb{_}\\def\\leqno(#1){}\\)\\(\\def\\erf\\{\\mathrm{erf}}\\def\\sinh{\\mathrm{sinh}}\\)\\(\\def\\zag#1#2{{{ \\left.{#1}\\right|}\\over{\\left|{#2}\\right.}}}\\)\\(\\require{color}\\)$$\n",
       "{\\color{black} \\normalsize \n",
       "\\left[\n",
       "{\\left[ \n",
       "\\begin{array}{cc}\n",
       "1 & 1 \\\\ \n",
       "-1 & 2 \n",
       "\\end{array}\n",
       "\\right]},\n",
       "\\: {\\left[ \n",
       "\\begin{array}{cc}\n",
       "1 & 2 \\\\ \n",
       "-4 & 3 \n",
       "\\end{array}\n",
       "\\right]},\n",
       "\\: {\\left[ \n",
       "\\begin{array}{cc}\n",
       "1 & 3 \\\\ \n",
       "-9 & 4 \n",
       "\\end{array}\n",
       "\\right]}\n",
       "\\right]\n",
       "\\leqno(30)\n",
       "} \\\\[0.9ex] {\\color{blue} \\scriptsize \\text{List Matrix Integer}} \\\\\n",
       "$$"
      ],
      "text/plain": [
       " \n",
       "          + 1   1+ + 1   2+ + 1   3+\n",
       "   (30)  [|      |,|      |,|      |]\n",
       "          +- 1  2+ +- 4  3+ +- 9  4+\n",
       "$$\n",
       "\\left[\n",
       "{\\left[ \n",
       "\\begin{array}{cc}\n",
       "1 & 1 \\\\ \n",
       "-1 & 2 \n",
       "\\end{array}\n",
       "\\right]},\n",
       "\\: {\\left[ \n",
       "\\begin{array}{cc}\n",
       "1 & 2 \\\\ \n",
       "-4 & 3 \n",
       "\\end{array}\n",
       "\\right]},\n",
       "\\: {\\left[ \n",
       "\\begin{array}{cc}\n",
       "1 & 3 \\\\ \n",
       "-9 & 4 \n",
       "\\end{array}\n",
       "\\right]}\n",
       "\\right]\n",
       "\\leqno(30)\n",
       "$$\n",
       "\n",
       "                                                    Type: List Matrix Integer\n"
      ]
     },
     "metadata": {},
     "output_type": "display_data"
    }
   ],
   "source": [
    "[matrix [[1,j],[-j^2,j+1]] for j in 1..3]"
   ]
  },
  {
   "cell_type": "code",
   "execution_count": 33,
   "metadata": {
    "collapsed": false
   },
   "outputs": [
    {
     "data": {
      "text/latex": [
       "\\(\\def\\sp{^}\\def\\sb{_}\\def\\leqno(#1){}\\)\\(\\def\\erf\\{\\mathrm{erf}}\\def\\sinh{\\mathrm{sinh}}\\)\\(\\def\\zag#1#2{{{ \\left.{#1}\\right|}\\over{\\left|{#2}\\right.}}}\\)\\(\\require{color}\\)$$\n",
       "{\\color{black} \\normalsize \n",
       "\\left[\n",
       "{{y+{3 \\  {x \\sp 3}}+1}=0}, \\: {{y \\sp 2}=4} \n",
       "\\right]\n",
       "\\leqno(31)\n",
       "} \\\\[0.9ex] {\\color{blue} \\scriptsize \\text{List Equation Polynomial Integer}} \\\\\n",
       "$$"
      ],
      "text/plain": [
       " \n",
       "                3         2\n",
       "   (31)  [y + 3x  + 1= 0,y = 4]\n",
       "$$\n",
       "\\left[\n",
       "{{y+{3 \\  {x \\sp 3}}+1}=0}, \\: {{y \\sp 2}=4} \n",
       "\\right]\n",
       "\\leqno(31)\n",
       "$$\n",
       "\n",
       "                                       Type: List Equation Polynomial Integer\n"
      ]
     },
     "metadata": {},
     "output_type": "display_data"
    }
   ],
   "source": [
    "S:= [3* x^3 + y + 1 = 0,y^2 = 4]"
   ]
  },
  {
   "cell_type": "code",
   "execution_count": 34,
   "metadata": {
    "collapsed": false
   },
   "outputs": [
    {
     "data": {
      "text/latex": [
       "\\(\\def\\sp{^}\\def\\sb{_}\\def\\leqno(#1){}\\)\\(\\def\\erf\\{\\mathrm{erf}}\\def\\sinh{\\mathrm{sinh}}\\)\\(\\def\\zag#1#2{{{ \\left.{#1}\\right|}\\over{\\left|{#2}\\right.}}}\\)\\(\\require{color}\\)$$\n",
       "{\\color{black} \\normalsize \n",
       "\\left[\n",
       "{\\left[ {y=-2}, \\: {x={{17578796712111842452 83070414507} \\over \n",
       "{25353012004564588029 93406410752}}} \n",
       "\\right]},\n",
       "\\: {\\left[ {y=2}, \\: {x=-1} \n",
       "\\right]}\n",
       "\\right]\n",
       "\\leqno(32)\n",
       "} \\\\[0.9ex] {\\color{blue} \\scriptsize \\text{List List Equation Polynomial Fraction Integer}} \\\\\n",
       "$$"
      ],
      "text/plain": [
       " \n",
       "                     1757879671211184245283070414507\n",
       "   (32)  [[y= - 2,x= -------------------------------],[y= 2,x= - 1]]\n",
       "                     2535301200456458802993406410752\n",
       "$$\n",
       "\\left[\n",
       "{\\left[ {y=-2}, \\: {x={{17578796712111842452 83070414507} \\over \n",
       "{25353012004564588029 93406410752}}} \n",
       "\\right]},\n",
       "\\: {\\left[ {y=2}, \\: {x=-1} \n",
       "\\right]}\n",
       "\\right]\n",
       "\\leqno(32)\n",
       "$$\n",
       "\n",
       "                         Type: List List Equation Polynomial Fraction Integer\n"
      ]
     },
     "metadata": {},
     "output_type": "display_data"
    }
   ],
   "source": [
    "solve (S ,1/10^30)"
   ]
  },
  {
   "cell_type": "code",
   "execution_count": 35,
   "metadata": {
    "collapsed": false
   },
   "outputs": [
    {
     "data": {
      "text/latex": [
       "\\(\\def\\sp{^}\\def\\sb{_}\\def\\leqno(#1){}\\)\\(\\def\\erf\\{\\mathrm{erf}}\\def\\sinh{\\mathrm{sinh}}\\)\\(\\def\\zag#1#2{{{ \\left.{#1}\\right|}\\over{\\left|{#2}\\right.}}}\\)\\(\\require{color}\\)$$\n",
       "{\\color{black} \\normalsize \n",
       "\\left[\n",
       "{\\left[ {y=2}, \\: {x=-1} \n",
       "\\right]},\n",
       "\\: {\\left[ {y=2}, \\: {x={{-{\\sqrt {-3}}+1} \\over 2}} \n",
       "\\right]},\n",
       "\\: {\\left[ {y=2}, \\: {x={{{\\sqrt {-3}}+1} \\over 2}} \n",
       "\\right]},\n",
       "\\: {\\left[ {y=-2}, \\: {x={1 \\over {\\root {3} \\of {3}}}} \n",
       "\\right]},\n",
       "\\: {\\left[ {y=-2}, \\: {x={{{{\\sqrt {-1}} \\  {\\sqrt {3}}} -1} \\over {2 \\  \n",
       "{\\root {3} \\of {3}}}}} \n",
       "\\right]},\n",
       "\\: {\\left[ {y=-2}, \\: {x={{-{{\\sqrt {-1}} \\  {\\sqrt {3}}} -1} \\over {2 \\  \n",
       "{\\root {3} \\of {3}}}}} \n",
       "\\right]}\n",
       "\\right]\n",
       "\\leqno(33)\n",
       "} \\\\[0.9ex] {\\color{blue} \\scriptsize \\text{List List Equation Expression Integer}} \\\\\n",
       "$$"
      ],
      "text/plain": [
       " \n",
       "   (33)\n",
       "                               +---+                 +---+\n",
       "                            - \\|- 3  + 1            \\|- 3  + 1\n",
       "   [[y= 2,x= - 1], [y= 2,x= ------------], [y= 2,x= ----------],\n",
       "                                  2                      2\n",
       "                                  +---+ +-+                     +---+ +-+\n",
       "                 1               \\|- 1 \\|3  - 1              - \\|- 1 \\|3  - 1\n",
       "    [y= - 2,x= ----], [y= - 2,x= --------------], [y= - 2,x= ----------------]]\n",
       "               3+-+                    3+-+                         3+-+\n",
       "               \\|3                    2\\|3                         2\\|3\n",
       "$$\n",
       "\\left[\n",
       "{\\left[ {y=2}, \\: {x=-1} \n",
       "\\right]},\n",
       "\\: {\\left[ {y=2}, \\: {x={{-{\\sqrt {-3}}+1} \\over 2}} \n",
       "\\right]},\n",
       "\\: {\\left[ {y=2}, \\: {x={{{\\sqrt {-3}}+1} \\over 2}} \n",
       "\\right]},\n",
       "\\: {\\left[ {y=-2}, \\: {x={1 \\over {\\root {3} \\of {3}}}} \n",
       "\\right]},\n",
       "\\: {\\left[ {y=-2}, \\: {x={{{{\\sqrt {-1}} \\  {\\sqrt {3}}} -1} \\over {2 \\  \n",
       "{\\root {3} \\of {3}}}}} \n",
       "\\right]},\n",
       "\\: {\\left[ {y=-2}, \\: {x={{-{{\\sqrt {-1}} \\  {\\sqrt {3}}} -1} \\over {2 \\  \n",
       "{\\root {3} \\of {3}}}}} \n",
       "\\right]}\n",
       "\\right]\n",
       "\\leqno(33)\n",
       "$$\n",
       "\n",
       "                                  Type: List List Equation Expression Integer\n"
      ]
     },
     "metadata": {},
     "output_type": "display_data"
    }
   ],
   "source": [
    "radicalSolve(S)"
   ]
  },
  {
   "cell_type": "code",
   "execution_count": 36,
   "metadata": {
    "collapsed": false
   },
   "outputs": [
    {
     "data": {
      "text/latex": [
       "\\(\\def\\sp{^}\\def\\sb{_}\\def\\leqno(#1){}\\)\\(\\def\\erf\\{\\mathrm{erf}}\\def\\sinh{\\mathrm{sinh}}\\)\\(\\def\\zag#1#2{{{ \\left.{#1}\\right|}\\over{\\left|{#2}\\right.}}}\\)\\(\\require{color}\\)$$\n",
       "{\\color{black} \\normalsize \n",
       "\\left[\n",
       "{\\left[ {y=-2}, \\: {x={{17578796712111842452 83070414507} \\over \n",
       "{25353012004564588029 93406410752}}} \n",
       "\\right]},\n",
       "\\: {\\left[ {y=2}, \\: {x=-1} \n",
       "\\right]}\n",
       "\\right]\n",
       "\\leqno(34)\n",
       "} \\\\[0.9ex] {\\color{blue} \\scriptsize \\text{List List Equation Polynomial Fraction Integer}} \\\\\n",
       "$$"
      ],
      "text/plain": [
       " \n",
       "                     1757879671211184245283070414507\n",
       "   (34)  [[y= - 2,x= -------------------------------],[y= 2,x= - 1]]\n",
       "                     2535301200456458802993406410752\n",
       "$$\n",
       "\\left[\n",
       "{\\left[ {y=-2}, \\: {x={{17578796712111842452 83070414507} \\over \n",
       "{25353012004564588029 93406410752}}} \n",
       "\\right]},\n",
       "\\: {\\left[ {y=2}, \\: {x=-1} \n",
       "\\right]}\n",
       "\\right]\n",
       "\\leqno(34)\n",
       "$$\n",
       "\n",
       "                         Type: List List Equation Polynomial Fraction Integer\n"
      ]
     },
     "metadata": {},
     "output_type": "display_data"
    }
   ],
   "source": [
    "%%(-2)"
   ]
  },
  {
   "cell_type": "code",
   "execution_count": 37,
   "metadata": {
    "collapsed": false
   },
   "outputs": [
    {
     "data": {
      "text/latex": [
       "\\(\\def\\sp{^}\\def\\sb{_}\\def\\leqno(#1){}\\)\\(\\def\\erf\\{\\mathrm{erf}}\\def\\sinh{\\mathrm{sinh}}\\)\\(\\def\\zag#1#2{{{ \\left.{#1}\\right|}\\over{\\left|{#2}\\right.}}}\\)\\(\\require{color}\\)$$\n",
       "{\\color{black} \\normalsize \n",
       "{{11} \\sp {13}} \\  {{13} \\sp {11}} \\  {{17} \\sp 7} \\  {{19} \\sp 5} \\  {{23} \n",
       "\\sp 3} \\  {{29} \\sp 2} \n",
       "\\leqno(35)\n",
       "} \\\\[0.9ex] {\\color{blue} \\scriptsize \\text{Factored Integer}} \\\\\n",
       "$$"
      ],
      "text/plain": [
       " \n",
       "           13  11  7  5  3  2\n",
       "   (35)  11  13  17 19 23 29\n",
       "$$\n",
       "{{11} \\sp {13}} \\  {{13} \\sp {11}} \\  {{17} \\sp 7} \\  {{19} \\sp 5} \\  {{23} \n",
       "\\sp 3} \\  {{29} \\sp 2} \n",
       "\\leqno(35)\n",
       "$$\n",
       "\n",
       "                                                       Type: Factored Integer\n"
      ]
     },
     "metadata": {},
     "output_type": "display_data"
    }
   ],
   "source": [
    "factor 643238070748569023720594412551704344145570763243"
   ]
  },
  {
   "cell_type": "code",
   "execution_count": 38,
   "metadata": {
    "collapsed": false
   },
   "outputs": [
    {
     "data": {
      "text/latex": [
       "\\(\\def\\sp{^}\\def\\sb{_}\\def\\leqno(#1){}\\)\\(\\def\\erf\\{\\mathrm{erf}}\\def\\sinh{\\mathrm{sinh}}\\)\\(\\def\\zag#1#2{{{ \\left.{#1}\\right|}\\over{\\left|{#2}\\right.}}}\\)\\(\\require{color}\\)$$\n",
       "{\\color{black} \\normalsize \n",
       "MCMXCII \n",
       "\\leqno(36)\n",
       "} \\\\[0.9ex] {\\color{blue} \\scriptsize \\text{RomanNumeral}} \\\\\n",
       "\n",
       "{\\color{black} \\normalsize \n",
       "MMXV \n",
       "\\leqno(37)\n",
       "} \\\\[0.9ex] {\\color{blue} \\scriptsize \\text{RomanNumeral}} \\\\\n",
       "$$"
      ],
      "text/plain": [
       " \n",
       "   (36)  MCMXCII\n",
       "$$\n",
       "MCMXCII \n",
       "\\leqno(36)\n",
       "$$\n",
       "\n",
       "                                                           Type: RomanNumeral\n",
       "\n",
       "   (37)  MMXV\n",
       "$$\n",
       "MMXV \n",
       "\\leqno(37)\n",
       "$$\n",
       "\n",
       "                                                           Type: RomanNumeral\n"
      ]
     },
     "metadata": {},
     "output_type": "display_data"
    }
   ],
   "source": [
    "roman (1992)\n",
    "roman (2015)"
   ]
  },
  {
   "cell_type": "code",
   "execution_count": 39,
   "metadata": {
    "collapsed": false
   },
   "outputs": [
    {
     "data": {
      "text/plain": [
       "                                                                    Type: Void\n",
       "                                                                   Type: Void\n"
      ]
     },
     "metadata": {},
     "output_type": "display_data"
    }
   ],
   "source": [
    "p(0) == 1\n",
    "p(n) == ((2*n -1) *x*p(n -1) - (n -1) * p(n -2) )/n"
   ]
  },
  {
   "cell_type": "code",
   "execution_count": 43,
   "metadata": {
    "collapsed": false
   },
   "outputs": [
    {
     "data": {
      "text/latex": [
       "\\(\\def\\sp{^}\\def\\sb{_}\\def\\leqno(#1){}\\)\\(\\def\\erf\\{\\mathrm{erf}}\\def\\sinh{\\mathrm{sinh}}\\)\\(\\def\\zag#1#2{{{ \\left.{#1}\\right|}\\over{\\left|{#2}\\right.}}}\\)\\(\\require{color}\\)$$\n",
       "{\\color{black} \\normalsize \n",
       "\\begin{array}{l}\n",
       "{p \\  0 \\  == \\  1} \\\\ \n",
       "{p \\  n \\  == \\  {{{{\\left( {2 \\  n} -1 \n",
       "\\right)}\n",
       "\\  x \\  {p \n",
       "\\left(\n",
       "{{n -1}} \n",
       "\\right)}}\n",
       "-{{\\left( n -1 \n",
       "\\right)}\n",
       "\\  {p \n",
       "\\left(\n",
       "{{n -2}} \n",
       "\\right)}}}\n",
       "\\over n}} \n",
       "\\end{array}\n",
       "\\leqno(40)\n",
       "} \\\\[0.9ex] {\\color{blue} \\scriptsize \\text{FunctionCalled p}} \\\\\n",
       "$$"
      ],
      "text/plain": [
       " \n",
       "$$\n",
       "\\begin{array}{l}\n",
       "{p \\  0 \\  == \\  1} \\\\ \n",
       "{p \\  n \\  == \\  {{{{\\left( {2 \\  n} -1 \n",
       "\\right)}\n",
       "\\  x \\  {p \n",
       "\\left(\n",
       "{{n -1}} \n",
       "\\right)}}\n",
       "-{{\\left( n -1 \n",
       "\\right)}\n",
       "\\  {p \n",
       "\\left(\n",
       "{{n -2}} \n",
       "\\right)}}}\n",
       "\\over n}} \n",
       "\\end{array}\n",
       "\\leqno(40)\n",
       "$$\n",
       "\n",
       "   (40)\n",
       "   p 0 == 1\n",
       "          (2n - 1)x p(n - 1) - (n - 1)p(n - 2)\n",
       "   p n == ------------------------------------\n",
       "                            n\n",
       "                                                       Type: FunctionCalled p\n"
      ]
     },
     "metadata": {},
     "output_type": "display_data"
    }
   ],
   "source": [
    "p"
   ]
  },
  {
   "cell_type": "code",
   "execution_count": 45,
   "metadata": {
    "collapsed": false
   },
   "outputs": [
    {
     "data": {
      "text/latex": [
       "\\(\\def\\sp{^}\\def\\sb{_}\\def\\leqno(#1){}\\)\\(\\def\\erf\\{\\mathrm{erf}}\\def\\sinh{\\mathrm{sinh}}\\)\\(\\def\\zag#1#2{{{ \\left.{#1}\\right|}\\over{\\left|{#2}\\right.}}}\\)\\(\\require{color}\\)$$\n",
       "{\\color{black} \\normalsize \n",
       "1 \n",
       "\\leqno(41)\n",
       "} \\\\[0.9ex] {\\color{blue} \\scriptsize \\text{Polynomial Fraction Integer}} \\\\\n",
       "$$"
      ],
      "text/plain": [
       " \n",
       "   (41)  1\n",
       "$$\n",
       "1 \n",
       "\\leqno(41)\n",
       "$$\n",
       "\n",
       "                                            Type: Polynomial Fraction Integer\n"
      ]
     },
     "metadata": {},
     "output_type": "display_data"
    }
   ],
   "source": [
    "p(0)"
   ]
  },
  {
   "cell_type": "code",
   "execution_count": 51,
   "metadata": {
    "collapsed": false
   },
   "outputs": [
    {
     "data": {
      "text/latex": [
       "\\(\\def\\sp{^}\\def\\sb{_}\\def\\leqno(#1){}\\)\\(\\def\\erf\\{\\mathrm{erf}}\\def\\sinh{\\mathrm{sinh}}\\)\\(\\def\\zag#1#2{{{ \\left.{#1}\\right|}\\over{\\left|{#2}\\right.}}}\\)\\(\\require{color}\\)$$\n",
       "{\\color{black} \\normalsize \n",
       "\\left[\n",
       "{{y+{3 \\  {x \\sp 3}}+1}=0}, \\: {{y \\sp 2}=4} \n",
       "\\right]\n",
       "\\leqno(46)\n",
       "} \\\\[0.9ex] {\\color{blue} \\scriptsize \\text{List Equation Polynomial Integer}} \\\\\n",
       "$$"
      ],
      "text/plain": [
       " \n",
       "                3         2\n",
       "   (46)  [y + 3x  + 1= 0,y = 4]\n",
       "$$\n",
       "\\left[\n",
       "{{y+{3 \\  {x \\sp 3}}+1}=0}, \\: {{y \\sp 2}=4} \n",
       "\\right]\n",
       "\\leqno(46)\n",
       "$$\n",
       "\n",
       "                                       Type: List Equation Polynomial Integer\n"
      ]
     },
     "metadata": {},
     "output_type": "display_data"
    }
   ],
   "source": [
    "S := [3* x^3 + y + 1 = 0,y^2 = 4]"
   ]
  },
  {
   "cell_type": "code",
   "execution_count": 52,
   "metadata": {
    "collapsed": false
   },
   "outputs": [
    {
     "data": {
      "text/latex": [
       "\\(\\def\\sp{^}\\def\\sb{_}\\def\\leqno(#1){}\\)\\(\\def\\erf\\{\\mathrm{erf}}\\def\\sinh{\\mathrm{sinh}}\\)\\(\\def\\zag#1#2{{{ \\left.{#1}\\right|}\\over{\\left|{#2}\\right.}}}\\)\\(\\require{color}\\)$$\n",
       "{\\color{black} \\normalsize \n",
       "\\left[\n",
       "{\\left[ {y=-2}, \\: {x={{17578796712111842452 83070414507} \\over \n",
       "{25353012004564588029 93406410752}}} \n",
       "\\right]},\n",
       "\\: {\\left[ {y=2}, \\: {x=-1} \n",
       "\\right]}\n",
       "\\right]\n",
       "\\leqno(47)\n",
       "} \\\\[0.9ex] {\\color{blue} \\scriptsize \\text{List List Equation Polynomial Fraction Integer}} \\\\\n",
       "$$"
      ],
      "text/plain": [
       " \n",
       "                     1757879671211184245283070414507\n",
       "   (47)  [[y= - 2,x= -------------------------------],[y= 2,x= - 1]]\n",
       "                     2535301200456458802993406410752\n",
       "$$\n",
       "\\left[\n",
       "{\\left[ {y=-2}, \\: {x={{17578796712111842452 83070414507} \\over \n",
       "{25353012004564588029 93406410752}}} \n",
       "\\right]},\n",
       "\\: {\\left[ {y=2}, \\: {x=-1} \n",
       "\\right]}\n",
       "\\right]\n",
       "\\leqno(47)\n",
       "$$\n",
       "\n",
       "                         Type: List List Equation Polynomial Fraction Integer\n"
      ]
     },
     "metadata": {},
     "output_type": "display_data"
    }
   ],
   "source": [
    "solve (S ,1/10^30)"
   ]
  },
  {
   "cell_type": "code",
   "execution_count": 53,
   "metadata": {
    "collapsed": false
   },
   "outputs": [
    {
     "data": {
      "text/latex": [
       "\\(\\def\\sp{^}\\def\\sb{_}\\def\\leqno(#1){}\\)\\(\\def\\erf\\{\\mathrm{erf}}\\def\\sinh{\\mathrm{sinh}}\\)\\(\\def\\zag#1#2{{{ \\left.{#1}\\right|}\\over{\\left|{#2}\\right.}}}\\)\\(\\require{color}\\)$$\n",
       "{\\color{black} \\normalsize \n",
       "\\left[\n",
       "\\begin{array}{cccc}\n",
       "-{1 \\over {x -2}} & -{1 \\over {x -3}} & -{1 \\over {x -4}} & -{1 \\over {x -5}} \\\\ \n",
       "-{1 \\over {x -3}} & -{1 \\over {x -4}} & -{1 \\over {x -5}} & -{1 \\over {x -6}} \\\\ \n",
       "-{1 \\over {x -4}} & -{1 \\over {x -5}} & -{1 \\over {x -6}} & -{1 \\over {x -7}} \\\\ \n",
       "-{1 \\over {x -5}} & -{1 \\over {x -6}} & -{1 \\over {x -7}} & -{1 \\over {x -8}} \n",
       "\\end{array}\n",
       "\\right]\n",
       "\\leqno(48)\n",
       "} \\\\[0.9ex] {\\color{blue} \\scriptsize \\text{Matrix Fraction Polynomial Integer}} \\\\\n",
       "$$"
      ],
      "text/plain": [
       " \n",
       "         +    1        1        1        1  +\n",
       "         |- -----  - -----  - -----  - -----|\n",
       "         |  x - 2    x - 3    x - 4    x - 5|\n",
       "         |                                  |\n",
       "         |    1        1        1        1  |\n",
       "         |- -----  - -----  - -----  - -----|\n",
       "         |  x - 3    x - 4    x - 5    x - 6|\n",
       "   (48)  |                                  |\n",
       "         |    1        1        1        1  |\n",
       "         |- -----  - -----  - -----  - -----|\n",
       "         |  x - 4    x - 5    x - 6    x - 7|\n",
       "         |                                  |\n",
       "         |    1        1        1        1  |\n",
       "         |- -----  - -----  - -----  - -----|\n",
       "         +  x - 5    x - 6    x - 7    x - 8+\n",
       "$$\n",
       "\\left[\n",
       "\\begin{array}{cccc}\n",
       "-{1 \\over {x -2}} & -{1 \\over {x -3}} & -{1 \\over {x -4}} & -{1 \\over {x -5}} \\\\ \n",
       "-{1 \\over {x -3}} & -{1 \\over {x -4}} & -{1 \\over {x -5}} & -{1 \\over {x -6}} \\\\ \n",
       "-{1 \\over {x -4}} & -{1 \\over {x -5}} & -{1 \\over {x -6}} & -{1 \\over {x -7}} \\\\ \n",
       "-{1 \\over {x -5}} & -{1 \\over {x -6}} & -{1 \\over {x -7}} & -{1 \\over {x -8}} \n",
       "\\end{array}\n",
       "\\right]\n",
       "\\leqno(48)\n",
       "$$\n",
       "\n",
       "                                     Type: Matrix Fraction Polynomial Integer\n"
      ]
     },
     "metadata": {},
     "output_type": "display_data"
    }
   ],
   "source": [
    "matrix ([[1/( i + j - x) for i in 1..4] for j in 1..4])"
   ]
  },
  {
   "cell_type": "code",
   "execution_count": 54,
   "metadata": {
    "collapsed": false
   },
   "outputs": [
    {
     "data": {
      "text/latex": [
       "\\(\\def\\sp{^}\\def\\sb{_}\\def\\leqno(#1){}\\)\\(\\def\\erf\\{\\mathrm{erf}}\\def\\sinh{\\mathrm{sinh}}\\)\\(\\def\\zag#1#2{{{ \\left.{#1}\\right|}\\over{\\left|{#2}\\right.}}}\\)\\(\\require{color}\\)$$\n",
       "{\\color{black} \\normalsize \n",
       "\\left[\n",
       "\\begin{array}{ccc}\n",
       "1 & 1 & 1 \\\\ \n",
       "x & y & z \\\\ \n",
       "{x \\sp 2} & {y \\sp 2} & {z \\sp 2} \n",
       "\\end{array}\n",
       "\\right]\n",
       "\\leqno(49)\n",
       "} \\\\[0.9ex] {\\color{blue} \\scriptsize \\text{Matrix Polynomial Integer}} \\\\\n",
       "$$"
      ],
      "text/plain": [
       " \n",
       "         +1   1   1 +\n",
       "         |          |\n",
       "   (49)  |x   y   z |\n",
       "         |          |\n",
       "         | 2   2   2|\n",
       "         +x   y   z +\n",
       "$$\n",
       "\\left[\n",
       "\\begin{array}{ccc}\n",
       "1 & 1 & 1 \\\\ \n",
       "x & y & z \\\\ \n",
       "{x \\sp 2} & {y \\sp 2} & {z \\sp 2} \n",
       "\\end{array}\n",
       "\\right]\n",
       "\\leqno(49)\n",
       "$$\n",
       "\n",
       "                                              Type: Matrix Polynomial Integer\n"
      ]
     },
     "metadata": {},
     "output_type": "display_data"
    }
   ],
   "source": [
    "vm := matrix [[1 ,1 ,1] , [x,y,z], [x*x,y*y,z*z]]"
   ]
  },
  {
   "cell_type": "code",
   "execution_count": 55,
   "metadata": {
    "collapsed": false
   },
   "outputs": [
    {
     "data": {
      "text/latex": [
       "\\(\\def\\sp{^}\\def\\sb{_}\\def\\leqno(#1){}\\)\\(\\def\\erf\\{\\mathrm{erf}}\\def\\sinh{\\mathrm{sinh}}\\)\\(\\def\\zag#1#2{{{ \\left.{#1}\\right|}\\over{\\left|{#2}\\right.}}}\\)\\(\\require{color}\\)$$\n",
       "{\\color{black} \\normalsize \n",
       "{\\csc \n",
       "\\left(\n",
       "{{a \\  x}} \n",
       "\\right)}\n",
       "\\over {\\csch \n",
       "\\left(\n",
       "{{b \\  x}} \n",
       "\\right)}\n",
       "\\leqno(50)\n",
       "} \\\\[0.9ex] {\\color{blue} \\scriptsize \\text{Expression Integer}} \\\\\n",
       "$$"
      ],
      "text/plain": [
       " \n",
       "          csc(a x)\n",
       "   (50)  ---------\n",
       "         csch(b x)\n",
       "$$\n",
       "{\\csc \n",
       "\\left(\n",
       "{{a \\  x}} \n",
       "\\right)}\n",
       "\\over {\\csch \n",
       "\\left(\n",
       "{{b \\  x}} \n",
       "\\right)}\n",
       "\\leqno(50)\n",
       "$$\n",
       "\n",
       "                                                     Type: Expression Integer\n"
      ]
     },
     "metadata": {},
     "output_type": "display_data"
    }
   ],
   "source": [
    "g := csc (a*x) / csch(b*x)"
   ]
  },
  {
   "cell_type": "code",
   "execution_count": 56,
   "metadata": {
    "collapsed": false
   },
   "outputs": [
    {
     "data": {
      "text/latex": [
       "\\(\\def\\sp{^}\\def\\sb{_}\\def\\leqno(#1){}\\)\\(\\def\\erf\\{\\mathrm{erf}}\\def\\sinh{\\mathrm{sinh}}\\)\\(\\def\\zag#1#2{{{ \\left.{#1}\\right|}\\over{\\left|{#2}\\right.}}}\\)\\(\\require{color}\\)$$\n",
       "{\\color{black} \\normalsize \n",
       "b \\over a \n",
       "\\leqno(51)\n",
       "} \\\\[0.9ex] {\\color{blue} \\scriptsize \\text{Union(OrderedCompletion Expression Integer}} \\\\\n",
       "$$"
      ],
      "text/plain": [
       " \n",
       "         b\n",
       "   (51)  -\n",
       "         a\n",
       "$$\n",
       "b \\over a \n",
       "\\leqno(51)\n",
       "$$\n",
       "\n",
       "                        Type: Union(OrderedCompletion Expression Integer,...)\n"
      ]
     },
     "metadata": {},
     "output_type": "display_data"
    }
   ],
   "source": [
    "limit (g,x=0)"
   ]
  },
  {
   "cell_type": "code",
   "execution_count": 57,
   "metadata": {
    "collapsed": false
   },
   "outputs": [
    {
     "data": {
      "text/latex": [
       "\\(\\def\\sp{^}\\def\\sb{_}\\def\\leqno(#1){}\\)\\(\\def\\erf\\{\\mathrm{erf}}\\def\\sinh{\\mathrm{sinh}}\\)\\(\\def\\zag#1#2{{{ \\left.{#1}\\right|}\\over{\\left|{#2}\\right.}}}\\)\\(\\require{color}\\)$$\n",
       "{\\color{black} \\normalsize \n",
       "{{x+k} \\over x} \\sp x \n",
       "\\leqno(52)\n",
       "} \\\\[0.9ex] {\\color{blue} \\scriptsize \\text{Expression Integer}} \\\\\n",
       "$$"
      ],
      "text/plain": [
       " \n",
       "          x + k x\n",
       "   (52)  (-----)\n",
       "            x\n",
       "$$\n",
       "{{x+k} \\over x} \\sp x \n",
       "\\leqno(52)\n",
       "$$\n",
       "\n",
       "                                                     Type: Expression Integer\n"
      ]
     },
     "metadata": {},
     "output_type": "display_data"
    }
   ],
   "source": [
    "h := (1 + k/x)^x"
   ]
  },
  {
   "cell_type": "code",
   "execution_count": 59,
   "metadata": {
    "collapsed": false
   },
   "outputs": [
    {
     "data": {
      "text/latex": [
       "\\(\\def\\sp{^}\\def\\sb{_}\\def\\leqno(#1){}\\)\\(\\def\\erf\\{\\mathrm{erf}}\\def\\sinh{\\mathrm{sinh}}\\)\\(\\def\\zag#1#2{{{ \\left.{#1}\\right|}\\over{\\left|{#2}\\right.}}}\\)\\(\\require{color}\\)$$\n",
       "{\\color{black} \\normalsize \n",
       "e \\sp k \n",
       "\\leqno(53)\n",
       "} \\\\[0.9ex] {\\color{blue} \\scriptsize \\text{Union(OrderedCompletion Expression Integer}} \\\\\n",
       "$$"
      ],
      "text/plain": [
       " \n",
       "           k\n",
       "   (53)  %e\n",
       "$$\n",
       "e \\sp k \n",
       "\\leqno(53)\n",
       "$$\n",
       "\n",
       "                        Type: Union(OrderedCompletion Expression Integer,...)\n"
      ]
     },
     "metadata": {},
     "output_type": "display_data"
    }
   ],
   "source": [
    "limit (h,x=%plusInfinity)"
   ]
  },
  {
   "cell_type": "code",
   "execution_count": 61,
   "metadata": {
    "collapsed": false
   },
   "outputs": [
    {
     "data": {
      "text/plain": [
       "                    Current Values of  output  Variables                    \n",
       "\n",
       "Variable     Description                                Current Value\n",
       "-----------------------------------------------------------------------------\n",
       "abbreviate   abbreviate type names                      off \n",
       "algebra      display output in algebraic form           On:CONSOLE \n",
       "characters   choose special output character set        plain \n",
       "fortran      create output in FORTRAN format            Off:CONSOLE \n",
       "fraction     how fractions are formatted                vertical \n",
       "length       line length of output displays             77 \n",
       "openmath     create output in OpenMath style            Off:CONSOLE \n",
       "script       display output in SCRIPT formula format    Off:CONSOLE \n",
       "scripts      show subscripts,... linearly               off \n",
       "showeditor   view output of )show in editor             off \n",
       "tex          create output in TeX style                 On:CONSOLE \n",
       "mathml       create output in MathML style              Off:CONSOLE \n",
       "\n"
      ]
     },
     "metadata": {},
     "output_type": "display_data"
    }
   ],
   "source": [
    ")set output"
   ]
  },
  {
   "cell_type": "code",
   "execution_count": 65,
   "metadata": {
    "collapsed": false
   },
   "outputs": [
    {
     "data": {
      "text/plain": [
       " OpenAxiom is distributed under terms of the Modified BSD license.\r\n",
       "OpenAxiom is an evolution of Axiom which  was released under this license \r\n",
       "as of September 3, 2002.\r\n",
       "\r\n",
       "Copyrights remain with the original copyright holders.\r\n",
       "Use of this material is by permission and/or license.\r\n",
       "Individual files contain reference to these applicable copyrights.\r\n",
       "The copyright and license statements are collected here for reference.\r\n",
       "\r\n",
       "Portions Copyright (C) 2007- Gabriel Dos Reis\r\n",
       "All modifications applied to the build-improvements branch of Axiom,\r\n",
       "and to the OpenAxiom project are covered by this copyright and\r\n",
       "the BSD-type License reproduced below.\r\n",
       "\r\n",
       "Portions Copyright (c) 2003-2007 The Axiom Team\r\n",
       "\r\n",
       "The Axiom Team is the collective name for the people who have\r\n",
       "contributed to the Axiom project. Where no other copyright statement\r\n",
       "is noted in a file this copyright will apply. \r\n",
       "\r\n",
       "Portions Copyright (c) 1991-2002, The Numerical ALgorithms Group Ltd.\r\n",
       "All rights reserved.\r\n",
       "\r\n",
       "Redistribution and use in source and binary forms, with or without\r\n",
       "modification, are permitted provided that the following conditions are\r\n",
       "met:\r\n",
       "\r\n",
       "    - Redistributions of source code must retain the above copyright\r\n",
       "      notice, this list of conditions and the following disclaimer.\r\n",
       "\r\n",
       "    - Redistributions in binary form must reproduce the above copyright\r\n",
       "      notice, this list of conditions and the following disclaimer in\r\n",
       "      the documentation and/or other materials provided with the\r\n",
       "      distribution.\r\n",
       "\r\n",
       "    - Neither the name of The Numerical ALgorithms Group Ltd. nor the\r\n",
       "      names of its contributors may be used to endorse or promote products\r\n",
       "      derived from this software without specific prior written permission.\r\n",
       "\r\n",
       "THIS SOFTWARE IS PROVIDED BY THE COPYRIGHT HOLDERS AND CONTRIBUTORS \"AS\r\n",
       "IS\" AND ANY EXPRESS OR IMPLIED WARRANTIES, INCLUDING, BUT NOT LIMITED\r\n",
       "TO, THE IMPLIED WARRANTIES OF MERCHANTABILITY AND FITNESS FOR A\r\n",
       "PARTICULAR PURPOSE ARE DISCLAIMED. IN NO EVENT SHALL THE COPYRIGHT OWNER\r\n",
       "OR CONTRIBUTORS BE LIABLE FOR ANY DIRECT, INDIRECT, INCIDENTAL, SPECIAL,\r\n",
       "EXEMPLARY, OR CONSEQUENTIAL DAMAGES (INCLUDING, BUT NOT LIMITED TO,\r\n",
       "PROCUREMENT OF SUBSTITUTE GOODS OR SERVICES; LOSS OF USE, DATA, OR\r\n",
       "PROFITS; OR BUSINESS INTERRUPTION) HOWEVER CAUSED AND ON ANY THEORY OF\r\n",
       "LIABILITY, WHETHER IN CONTRACT, STRICT LIABILITY, OR TORT (INCLUDING\r\n",
       "NEGLIGENCE OR OTHERWISE) ARISING IN ANY WAY OUT OF THE USE OF THIS\r\n",
       "SOFTWARE, EVEN IF ADVISED OF THE POSSIBILITY OF SUCH DAMAGE.\r\n",
       "\n"
      ]
     },
     "metadata": {},
     "output_type": "display_data"
    }
   ],
   "source": [
    ")copyright"
   ]
  },
  {
   "cell_type": "code",
   "execution_count": null,
   "metadata": {
    "collapsed": true
   },
   "outputs": [],
   "source": []
  }
 ],
 "metadata": {
  "kernelspec": {
   "display_name": "FriCAS",
   "language": "fricas",
   "name": "fricas"
  },
  "language_info": {
   "mimetype": "text/plain",
   "name": "spad"
  }
 },
 "nbformat": 4,
 "nbformat_minor": 0
}
